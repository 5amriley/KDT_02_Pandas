{
 "cells": [
  {
   "cell_type": "markdown",
   "id": "5f74ef6c-3d5e-4546-a620-199d7139cd13",
   "metadata": {},
   "source": [
    "## [ 접근자 Accessor ]\n",
    "- Series/DataFrame의 데이터가 날짜시간, 문자열(object), 범주형(category) 등일 때, 그 데이터타입과 관련된 전용함수들을 사용할 수 있도록 해주는 속성\n",
    "- Series.str.문자열메서드명()\n",
    "- Series.dt.날짜시간속성명()"
   ]
  },
  {
   "cell_type": "markdown",
   "id": "8b6c6906-8723-40bb-b958-886d326ae1ee",
   "metadata": {},
   "source": [
    "(1) 모듈 로딩"
   ]
  },
  {
   "cell_type": "code",
   "execution_count": 1,
   "id": "55c63b42-2ed0-4cb7-9fdb-43f3635ab2d7",
   "metadata": {},
   "outputs": [],
   "source": [
    "import pandas as pd"
   ]
  },
  {
   "cell_type": "markdown",
   "id": "f3de3450-2692-47bf-b580-88b88a591fbb",
   "metadata": {},
   "source": [
    "(2) 데이터 준비"
   ]
  },
  {
   "cell_type": "code",
   "execution_count": 2,
   "id": "ba13f667-abc9-477e-b166-dad556dff515",
   "metadata": {},
   "outputs": [],
   "source": [
    "data1 = [['홍 길동', '이 나영', '마 징가', '베 토벤'],\n",
    "        [10, 21, 73, 89],\n",
    "        ['2000/01/23', '2020/11/8', '1999/5/4', '1987/12/24']]"
   ]
  },
  {
   "cell_type": "code",
   "execution_count": 3,
   "id": "f23ed52b-a645-429d-82e4-3803dd8ff622",
   "metadata": {},
   "outputs": [],
   "source": [
    "data2 = {'name':['홍 길동', '이 나영', '마 징가', '베 토벤'],\n",
    "        'age':[10, 21, 73, 89],\n",
    "        'reg_date':['2000/01/23', '2020/11/8', '1999/5/4', '1987/12/24']}"
   ]
  },
  {
   "cell_type": "markdown",
   "id": "6c32f6e4-ee5c-43ab-b3b7-dad7f499d290",
   "metadata": {},
   "source": [
    "(3) 데이터 저장"
   ]
  },
  {
   "cell_type": "code",
   "execution_count": 4,
   "id": "bc4831d4-a58d-4202-b7c7-f1b3013edaad",
   "metadata": {},
   "outputs": [
    {
     "data": {
      "text/html": [
       "<div>\n",
       "<style scoped>\n",
       "    .dataframe tbody tr th:only-of-type {\n",
       "        vertical-align: middle;\n",
       "    }\n",
       "\n",
       "    .dataframe tbody tr th {\n",
       "        vertical-align: top;\n",
       "    }\n",
       "\n",
       "    .dataframe thead th {\n",
       "        text-align: right;\n",
       "    }\n",
       "</style>\n",
       "<table border=\"1\" class=\"dataframe\">\n",
       "  <thead>\n",
       "    <tr style=\"text-align: right;\">\n",
       "      <th></th>\n",
       "      <th>0</th>\n",
       "      <th>1</th>\n",
       "      <th>2</th>\n",
       "      <th>3</th>\n",
       "    </tr>\n",
       "  </thead>\n",
       "  <tbody>\n",
       "    <tr>\n",
       "      <th>0</th>\n",
       "      <td>홍 길동</td>\n",
       "      <td>이 나영</td>\n",
       "      <td>마 징가</td>\n",
       "      <td>베 토벤</td>\n",
       "    </tr>\n",
       "    <tr>\n",
       "      <th>1</th>\n",
       "      <td>10</td>\n",
       "      <td>21</td>\n",
       "      <td>73</td>\n",
       "      <td>89</td>\n",
       "    </tr>\n",
       "    <tr>\n",
       "      <th>2</th>\n",
       "      <td>2000/01/23</td>\n",
       "      <td>2020/11/8</td>\n",
       "      <td>1999/5/4</td>\n",
       "      <td>1987/12/24</td>\n",
       "    </tr>\n",
       "  </tbody>\n",
       "</table>\n",
       "</div>"
      ],
      "text/plain": [
       "            0          1         2           3\n",
       "0        홍 길동       이 나영      마 징가        베 토벤\n",
       "1          10         21        73          89\n",
       "2  2000/01/23  2020/11/8  1999/5/4  1987/12/24"
      ]
     },
     "execution_count": 4,
     "metadata": {},
     "output_type": "execute_result"
    }
   ],
   "source": [
    "df1 = pd.DataFrame(data1)\n",
    "df1"
   ]
  },
  {
   "cell_type": "code",
   "execution_count": 5,
   "id": "db2d1fe1-ea64-45cf-b087-33b3371199cb",
   "metadata": {},
   "outputs": [
    {
     "data": {
      "text/html": [
       "<div>\n",
       "<style scoped>\n",
       "    .dataframe tbody tr th:only-of-type {\n",
       "        vertical-align: middle;\n",
       "    }\n",
       "\n",
       "    .dataframe tbody tr th {\n",
       "        vertical-align: top;\n",
       "    }\n",
       "\n",
       "    .dataframe thead th {\n",
       "        text-align: right;\n",
       "    }\n",
       "</style>\n",
       "<table border=\"1\" class=\"dataframe\">\n",
       "  <thead>\n",
       "    <tr style=\"text-align: right;\">\n",
       "      <th></th>\n",
       "      <th>name</th>\n",
       "      <th>age</th>\n",
       "      <th>reg_date</th>\n",
       "    </tr>\n",
       "  </thead>\n",
       "  <tbody>\n",
       "    <tr>\n",
       "      <th>0</th>\n",
       "      <td>홍 길동</td>\n",
       "      <td>10</td>\n",
       "      <td>2000/01/23</td>\n",
       "    </tr>\n",
       "    <tr>\n",
       "      <th>1</th>\n",
       "      <td>이 나영</td>\n",
       "      <td>21</td>\n",
       "      <td>2020/11/8</td>\n",
       "    </tr>\n",
       "    <tr>\n",
       "      <th>2</th>\n",
       "      <td>마 징가</td>\n",
       "      <td>73</td>\n",
       "      <td>1999/5/4</td>\n",
       "    </tr>\n",
       "    <tr>\n",
       "      <th>3</th>\n",
       "      <td>베 토벤</td>\n",
       "      <td>89</td>\n",
       "      <td>1987/12/24</td>\n",
       "    </tr>\n",
       "  </tbody>\n",
       "</table>\n",
       "</div>"
      ],
      "text/plain": [
       "   name  age    reg_date\n",
       "0  홍 길동   10  2000/01/23\n",
       "1  이 나영   21   2020/11/8\n",
       "2  마 징가   73    1999/5/4\n",
       "3  베 토벤   89  1987/12/24"
      ]
     },
     "execution_count": 5,
     "metadata": {},
     "output_type": "execute_result"
    }
   ],
   "source": [
    "df2 = pd.DataFrame(data2)\n",
    "df2"
   ]
  },
  {
   "cell_type": "markdown",
   "id": "c1ffcd5d-dc17-42f3-b886-740ea6b6cbdc",
   "metadata": {},
   "source": [
    "(4) 데이터 정보 확인"
   ]
  },
  {
   "cell_type": "code",
   "execution_count": 6,
   "id": "bc0db1eb-dce5-43d8-9cfd-f6677663f116",
   "metadata": {},
   "outputs": [
    {
     "name": "stdout",
     "output_type": "stream",
     "text": [
      "<class 'pandas.core.frame.DataFrame'>\n",
      "RangeIndex: 3 entries, 0 to 2\n",
      "Data columns (total 4 columns):\n",
      " #   Column  Non-Null Count  Dtype \n",
      "---  ------  --------------  ----- \n",
      " 0   0       3 non-null      object\n",
      " 1   1       3 non-null      object\n",
      " 2   2       3 non-null      object\n",
      " 3   3       3 non-null      object\n",
      "dtypes: object(4)\n",
      "memory usage: 224.0+ bytes\n"
     ]
    }
   ],
   "source": [
    "# 데이터의 전체 기본 정보 => info()\n",
    "df1.info()"
   ]
  },
  {
   "cell_type": "markdown",
   "id": "f3c09c0d-9f27-4389-8988-c13a84f48b9e",
   "metadata": {},
   "source": [
    "(5) 데이터 전처리"
   ]
  },
  {
   "cell_type": "markdown",
   "id": "26f24aea-be9a-4e39-ae02-b9ab40eb75e5",
   "metadata": {},
   "source": [
    "(5-1) 행 <=> 열 전치"
   ]
  },
  {
   "cell_type": "code",
   "execution_count": 7,
   "id": "8820d720-db5c-4c79-a33c-0ce2af0161af",
   "metadata": {},
   "outputs": [
    {
     "data": {
      "text/html": [
       "<div>\n",
       "<style scoped>\n",
       "    .dataframe tbody tr th:only-of-type {\n",
       "        vertical-align: middle;\n",
       "    }\n",
       "\n",
       "    .dataframe tbody tr th {\n",
       "        vertical-align: top;\n",
       "    }\n",
       "\n",
       "    .dataframe thead th {\n",
       "        text-align: right;\n",
       "    }\n",
       "</style>\n",
       "<table border=\"1\" class=\"dataframe\">\n",
       "  <thead>\n",
       "    <tr style=\"text-align: right;\">\n",
       "      <th></th>\n",
       "      <th>0</th>\n",
       "      <th>1</th>\n",
       "      <th>2</th>\n",
       "    </tr>\n",
       "  </thead>\n",
       "  <tbody>\n",
       "    <tr>\n",
       "      <th>0</th>\n",
       "      <td>홍 길동</td>\n",
       "      <td>10</td>\n",
       "      <td>2000/01/23</td>\n",
       "    </tr>\n",
       "    <tr>\n",
       "      <th>1</th>\n",
       "      <td>이 나영</td>\n",
       "      <td>21</td>\n",
       "      <td>2020/11/8</td>\n",
       "    </tr>\n",
       "    <tr>\n",
       "      <th>2</th>\n",
       "      <td>마 징가</td>\n",
       "      <td>73</td>\n",
       "      <td>1999/5/4</td>\n",
       "    </tr>\n",
       "    <tr>\n",
       "      <th>3</th>\n",
       "      <td>베 토벤</td>\n",
       "      <td>89</td>\n",
       "      <td>1987/12/24</td>\n",
       "    </tr>\n",
       "  </tbody>\n",
       "</table>\n",
       "</div>"
      ],
      "text/plain": [
       "      0   1           2\n",
       "0  홍 길동  10  2000/01/23\n",
       "1  이 나영  21   2020/11/8\n",
       "2  마 징가  73    1999/5/4\n",
       "3  베 토벤  89  1987/12/24"
      ]
     },
     "execution_count": 7,
     "metadata": {},
     "output_type": "execute_result"
    }
   ],
   "source": [
    "df1.T"
   ]
  },
  {
   "cell_type": "code",
   "execution_count": 8,
   "id": "effa2e95-91e6-40a0-a71b-6d2ac4c98147",
   "metadata": {},
   "outputs": [
    {
     "data": {
      "text/html": [
       "<div>\n",
       "<style scoped>\n",
       "    .dataframe tbody tr th:only-of-type {\n",
       "        vertical-align: middle;\n",
       "    }\n",
       "\n",
       "    .dataframe tbody tr th {\n",
       "        vertical-align: top;\n",
       "    }\n",
       "\n",
       "    .dataframe thead th {\n",
       "        text-align: right;\n",
       "    }\n",
       "</style>\n",
       "<table border=\"1\" class=\"dataframe\">\n",
       "  <thead>\n",
       "    <tr style=\"text-align: right;\">\n",
       "      <th></th>\n",
       "      <th>0</th>\n",
       "      <th>1</th>\n",
       "      <th>2</th>\n",
       "    </tr>\n",
       "  </thead>\n",
       "  <tbody>\n",
       "    <tr>\n",
       "      <th>0</th>\n",
       "      <td>홍 길동</td>\n",
       "      <td>10</td>\n",
       "      <td>2000/01/23</td>\n",
       "    </tr>\n",
       "    <tr>\n",
       "      <th>1</th>\n",
       "      <td>이 나영</td>\n",
       "      <td>21</td>\n",
       "      <td>2020/11/8</td>\n",
       "    </tr>\n",
       "    <tr>\n",
       "      <th>2</th>\n",
       "      <td>마 징가</td>\n",
       "      <td>73</td>\n",
       "      <td>1999/5/4</td>\n",
       "    </tr>\n",
       "    <tr>\n",
       "      <th>3</th>\n",
       "      <td>베 토벤</td>\n",
       "      <td>89</td>\n",
       "      <td>1987/12/24</td>\n",
       "    </tr>\n",
       "  </tbody>\n",
       "</table>\n",
       "</div>"
      ],
      "text/plain": [
       "      0   1           2\n",
       "0  홍 길동  10  2000/01/23\n",
       "1  이 나영  21   2020/11/8\n",
       "2  마 징가  73    1999/5/4\n",
       "3  베 토벤  89  1987/12/24"
      ]
     },
     "execution_count": 8,
     "metadata": {},
     "output_type": "execute_result"
    }
   ],
   "source": [
    "df1 = df1.transpose()\n",
    "df1"
   ]
  },
  {
   "cell_type": "markdown",
   "id": "c22df7c7-2984-471d-83dc-dfd33b67803b",
   "metadata": {},
   "source": [
    "(5-2) 실제 데이터와 타입 확인 후 형변환"
   ]
  },
  {
   "cell_type": "code",
   "execution_count": 9,
   "id": "bc55a2bc-0e48-4147-975f-ef08c943dc75",
   "metadata": {},
   "outputs": [
    {
     "data": {
      "text/html": [
       "<div>\n",
       "<style scoped>\n",
       "    .dataframe tbody tr th:only-of-type {\n",
       "        vertical-align: middle;\n",
       "    }\n",
       "\n",
       "    .dataframe tbody tr th {\n",
       "        vertical-align: top;\n",
       "    }\n",
       "\n",
       "    .dataframe thead th {\n",
       "        text-align: right;\n",
       "    }\n",
       "</style>\n",
       "<table border=\"1\" class=\"dataframe\">\n",
       "  <thead>\n",
       "    <tr style=\"text-align: right;\">\n",
       "      <th></th>\n",
       "      <th>0</th>\n",
       "      <th>1</th>\n",
       "      <th>2</th>\n",
       "    </tr>\n",
       "  </thead>\n",
       "  <tbody>\n",
       "    <tr>\n",
       "      <th>0</th>\n",
       "      <td>홍 길동</td>\n",
       "      <td>10</td>\n",
       "      <td>2000/01/23</td>\n",
       "    </tr>\n",
       "    <tr>\n",
       "      <th>1</th>\n",
       "      <td>이 나영</td>\n",
       "      <td>21</td>\n",
       "      <td>2020/11/8</td>\n",
       "    </tr>\n",
       "    <tr>\n",
       "      <th>2</th>\n",
       "      <td>마 징가</td>\n",
       "      <td>73</td>\n",
       "      <td>1999/5/4</td>\n",
       "    </tr>\n",
       "    <tr>\n",
       "      <th>3</th>\n",
       "      <td>베 토벤</td>\n",
       "      <td>89</td>\n",
       "      <td>1987/12/24</td>\n",
       "    </tr>\n",
       "  </tbody>\n",
       "</table>\n",
       "</div>"
      ],
      "text/plain": [
       "      0   1           2\n",
       "0  홍 길동  10  2000/01/23\n",
       "1  이 나영  21   2020/11/8\n",
       "2  마 징가  73    1999/5/4\n",
       "3  베 토벤  89  1987/12/24"
      ]
     },
     "execution_count": 9,
     "metadata": {},
     "output_type": "execute_result"
    }
   ],
   "source": [
    "df1.head()"
   ]
  },
  {
   "cell_type": "code",
   "execution_count": 10,
   "id": "1a0d229c-e7fe-44b4-8b9e-23bd1c586dce",
   "metadata": {},
   "outputs": [],
   "source": [
    "# 1번 컬럼 : object => 정수\n",
    "df1[1] = df1[1].astype('uint8')"
   ]
  },
  {
   "cell_type": "code",
   "execution_count": 11,
   "id": "e168b3c3-0103-4eb1-9d53-9a5445b78ae3",
   "metadata": {},
   "outputs": [
    {
     "data": {
      "text/plain": [
       "0    object\n",
       "1     uint8\n",
       "2    object\n",
       "dtype: object"
      ]
     },
     "execution_count": 11,
     "metadata": {},
     "output_type": "execute_result"
    }
   ],
   "source": [
    "df1.dtypes"
   ]
  },
  {
   "cell_type": "code",
   "execution_count": 12,
   "id": "2fb53c7c-765d-4330-9709-99fa88fb5010",
   "metadata": {},
   "outputs": [],
   "source": [
    "# 2번 컬럼 : object -> datetime64[ns]\n",
    "df1[2] = df1[2].astype('datetime64[ns]')"
   ]
  },
  {
   "cell_type": "code",
   "execution_count": 13,
   "id": "0c029541-ae33-4cc0-81ae-0f2e2b830aef",
   "metadata": {},
   "outputs": [
    {
     "data": {
      "text/plain": [
       "0            object\n",
       "1             uint8\n",
       "2    datetime64[ns]\n",
       "dtype: object"
      ]
     },
     "execution_count": 13,
     "metadata": {},
     "output_type": "execute_result"
    }
   ],
   "source": [
    "df1.dtypes"
   ]
  },
  {
   "cell_type": "markdown",
   "id": "4168a963-8047-4afb-831c-2b26eafc5561",
   "metadata": {},
   "source": [
    "(5-3) 0번 컬럼의 이름을 성과 이름으로 분리"
   ]
  },
  {
   "cell_type": "code",
   "execution_count": 14,
   "id": "ee9d4841-ea2c-4f6d-b036-a2205ff475a9",
   "metadata": {},
   "outputs": [
    {
     "data": {
      "text/plain": [
       "0    홍 길동\n",
       "1    이 나영\n",
       "2    마 징가\n",
       "3    베 토벤\n",
       "Name: 0, dtype: object"
      ]
     },
     "execution_count": 14,
     "metadata": {},
     "output_type": "execute_result"
    }
   ],
   "source": [
    "# 0번 컬럼만 추출 -> Series\n",
    "nameSR = df1[0]\n",
    "nameSR"
   ]
  },
  {
   "cell_type": "code",
   "execution_count": 15,
   "id": "fe72f811-7ece-4efd-ba92-b3d906015a6f",
   "metadata": {},
   "outputs": [
    {
     "data": {
      "text/plain": [
       "'이 나영'"
      ]
     },
     "execution_count": 15,
     "metadata": {},
     "output_type": "execute_result"
    }
   ],
   "source": [
    "nameSR[1]"
   ]
  },
  {
   "cell_type": "code",
   "execution_count": 16,
   "id": "4e969844-9def-4b54-b6d5-d87e4f8e7266",
   "metadata": {},
   "outputs": [
    {
     "data": {
      "text/plain": [
       "str"
      ]
     },
     "execution_count": 16,
     "metadata": {},
     "output_type": "execute_result"
    }
   ],
   "source": [
    "type(nameSR[1])"
   ]
  },
  {
   "cell_type": "code",
   "execution_count": 17,
   "id": "ee73e2df-6c6a-45f3-b160-2784d3ce8d52",
   "metadata": {},
   "outputs": [
    {
     "data": {
      "text/plain": [
       "['이', '나영']"
      ]
     },
     "execution_count": 17,
     "metadata": {},
     "output_type": "execute_result"
    }
   ],
   "source": [
    "# '이 나영' 데이터를 추출 -> 성, 이름으로 분리\n",
    "nameSR[1].split()"
   ]
  },
  {
   "cell_type": "code",
   "execution_count": 18,
   "id": "b18e51fe-7e1e-486f-a2b6-d05c65df3754",
   "metadata": {},
   "outputs": [
    {
     "name": "stdout",
     "output_type": "stream",
     "text": [
      "홍 길동\n",
      "이 나영\n",
      "마 징가\n",
      "베 토벤\n"
     ]
    }
   ],
   "source": [
    "for idx in range(nameSR.shape[0]):\n",
    "    print(nameSR[idx])"
   ]
  },
  {
   "cell_type": "code",
   "execution_count": 19,
   "id": "70da4ff5-f8a7-4273-abb7-5db651906c16",
   "metadata": {},
   "outputs": [
    {
     "data": {
      "text/plain": [
       "0    [홍, 길동]\n",
       "1    [이, 나영]\n",
       "2    [마, 징가]\n",
       "3    [베, 토벤]\n",
       "Name: 0, dtype: object"
      ]
     },
     "execution_count": 19,
     "metadata": {},
     "output_type": "execute_result"
    }
   ],
   "source": [
    "nameSR.str.split()"
   ]
  },
  {
   "cell_type": "code",
   "execution_count": 20,
   "id": "ff6f4135-9695-4232-a41c-8dae5236ac5a",
   "metadata": {},
   "outputs": [
    {
     "data": {
      "text/html": [
       "<div>\n",
       "<style scoped>\n",
       "    .dataframe tbody tr th:only-of-type {\n",
       "        vertical-align: middle;\n",
       "    }\n",
       "\n",
       "    .dataframe tbody tr th {\n",
       "        vertical-align: top;\n",
       "    }\n",
       "\n",
       "    .dataframe thead th {\n",
       "        text-align: right;\n",
       "    }\n",
       "</style>\n",
       "<table border=\"1\" class=\"dataframe\">\n",
       "  <thead>\n",
       "    <tr style=\"text-align: right;\">\n",
       "      <th></th>\n",
       "      <th>0</th>\n",
       "      <th>1</th>\n",
       "    </tr>\n",
       "  </thead>\n",
       "  <tbody>\n",
       "    <tr>\n",
       "      <th>0</th>\n",
       "      <td>홍</td>\n",
       "      <td>길동</td>\n",
       "    </tr>\n",
       "    <tr>\n",
       "      <th>1</th>\n",
       "      <td>이</td>\n",
       "      <td>나영</td>\n",
       "    </tr>\n",
       "    <tr>\n",
       "      <th>2</th>\n",
       "      <td>마</td>\n",
       "      <td>징가</td>\n",
       "    </tr>\n",
       "    <tr>\n",
       "      <th>3</th>\n",
       "      <td>베</td>\n",
       "      <td>토벤</td>\n",
       "    </tr>\n",
       "  </tbody>\n",
       "</table>\n",
       "</div>"
      ],
      "text/plain": [
       "   0   1\n",
       "0  홍  길동\n",
       "1  이  나영\n",
       "2  마  징가\n",
       "3  베  토벤"
      ]
     },
     "execution_count": 20,
     "metadata": {},
     "output_type": "execute_result"
    }
   ],
   "source": [
    "nameSR.str.split(expand=True)"
   ]
  },
  {
   "cell_type": "code",
   "execution_count": 21,
   "id": "aba2c7bf-251e-40bc-9e4f-617fb4e5bbce",
   "metadata": {},
   "outputs": [
    {
     "data": {
      "text/html": [
       "<div>\n",
       "<style scoped>\n",
       "    .dataframe tbody tr th:only-of-type {\n",
       "        vertical-align: middle;\n",
       "    }\n",
       "\n",
       "    .dataframe tbody tr th {\n",
       "        vertical-align: top;\n",
       "    }\n",
       "\n",
       "    .dataframe thead th {\n",
       "        text-align: right;\n",
       "    }\n",
       "</style>\n",
       "<table border=\"1\" class=\"dataframe\">\n",
       "  <thead>\n",
       "    <tr style=\"text-align: right;\">\n",
       "      <th></th>\n",
       "      <th>0</th>\n",
       "      <th>1</th>\n",
       "      <th>2</th>\n",
       "    </tr>\n",
       "  </thead>\n",
       "  <tbody>\n",
       "    <tr>\n",
       "      <th>0</th>\n",
       "      <td>홍 길동</td>\n",
       "      <td>10</td>\n",
       "      <td>2000-01-23</td>\n",
       "    </tr>\n",
       "    <tr>\n",
       "      <th>1</th>\n",
       "      <td>이 나영</td>\n",
       "      <td>21</td>\n",
       "      <td>2020-11-08</td>\n",
       "    </tr>\n",
       "    <tr>\n",
       "      <th>2</th>\n",
       "      <td>마 징가</td>\n",
       "      <td>73</td>\n",
       "      <td>1999-05-04</td>\n",
       "    </tr>\n",
       "    <tr>\n",
       "      <th>3</th>\n",
       "      <td>베 토벤</td>\n",
       "      <td>89</td>\n",
       "      <td>1987-12-24</td>\n",
       "    </tr>\n",
       "  </tbody>\n",
       "</table>\n",
       "</div>"
      ],
      "text/plain": [
       "      0   1          2\n",
       "0  홍 길동  10 2000-01-23\n",
       "1  이 나영  21 2020-11-08\n",
       "2  마 징가  73 1999-05-04\n",
       "3  베 토벤  89 1987-12-24"
      ]
     },
     "execution_count": 21,
     "metadata": {},
     "output_type": "execute_result"
    }
   ],
   "source": [
    "df1"
   ]
  },
  {
   "cell_type": "code",
   "execution_count": 22,
   "id": "7ee95b9d-704d-44ac-93a7-cff04ad3bd79",
   "metadata": {},
   "outputs": [
    {
     "data": {
      "text/html": [
       "<div>\n",
       "<style scoped>\n",
       "    .dataframe tbody tr th:only-of-type {\n",
       "        vertical-align: middle;\n",
       "    }\n",
       "\n",
       "    .dataframe tbody tr th {\n",
       "        vertical-align: top;\n",
       "    }\n",
       "\n",
       "    .dataframe thead th {\n",
       "        text-align: right;\n",
       "    }\n",
       "</style>\n",
       "<table border=\"1\" class=\"dataframe\">\n",
       "  <thead>\n",
       "    <tr style=\"text-align: right;\">\n",
       "      <th></th>\n",
       "      <th>0</th>\n",
       "      <th>1</th>\n",
       "    </tr>\n",
       "  </thead>\n",
       "  <tbody>\n",
       "    <tr>\n",
       "      <th>0</th>\n",
       "      <td>홍</td>\n",
       "      <td>길동</td>\n",
       "    </tr>\n",
       "    <tr>\n",
       "      <th>1</th>\n",
       "      <td>이</td>\n",
       "      <td>나영</td>\n",
       "    </tr>\n",
       "    <tr>\n",
       "      <th>2</th>\n",
       "      <td>마</td>\n",
       "      <td>징가</td>\n",
       "    </tr>\n",
       "    <tr>\n",
       "      <th>3</th>\n",
       "      <td>베</td>\n",
       "      <td>토벤</td>\n",
       "    </tr>\n",
       "  </tbody>\n",
       "</table>\n",
       "</div>"
      ],
      "text/plain": [
       "   0   1\n",
       "0  홍  길동\n",
       "1  이  나영\n",
       "2  마  징가\n",
       "3  베  토벤"
      ]
     },
     "execution_count": 22,
     "metadata": {},
     "output_type": "execute_result"
    }
   ],
   "source": [
    "namesDF = nameSR.str.split(expand=True)\n",
    "namesDF"
   ]
  },
  {
   "cell_type": "markdown",
   "id": "e03b0beb-df3f-41ed-b615-31b329ee4d13",
   "metadata": {},
   "source": [
    "(5-4) 두 개의 DataFrame을 컬럼 방향으로 엮음"
   ]
  },
  {
   "cell_type": "code",
   "execution_count": 23,
   "id": "fc3bf1da-4089-4bd2-8cfb-0db1dd89d320",
   "metadata": {},
   "outputs": [
    {
     "data": {
      "text/html": [
       "<div>\n",
       "<style scoped>\n",
       "    .dataframe tbody tr th:only-of-type {\n",
       "        vertical-align: middle;\n",
       "    }\n",
       "\n",
       "    .dataframe tbody tr th {\n",
       "        vertical-align: top;\n",
       "    }\n",
       "\n",
       "    .dataframe thead th {\n",
       "        text-align: right;\n",
       "    }\n",
       "</style>\n",
       "<table border=\"1\" class=\"dataframe\">\n",
       "  <thead>\n",
       "    <tr style=\"text-align: right;\">\n",
       "      <th></th>\n",
       "      <th>0</th>\n",
       "      <th>1</th>\n",
       "      <th>2</th>\n",
       "      <th>3</th>\n",
       "      <th>4</th>\n",
       "    </tr>\n",
       "  </thead>\n",
       "  <tbody>\n",
       "    <tr>\n",
       "      <th>0</th>\n",
       "      <td>홍 길동</td>\n",
       "      <td>10</td>\n",
       "      <td>2000-01-23</td>\n",
       "      <td>홍</td>\n",
       "      <td>길동</td>\n",
       "    </tr>\n",
       "    <tr>\n",
       "      <th>1</th>\n",
       "      <td>이 나영</td>\n",
       "      <td>21</td>\n",
       "      <td>2020-11-08</td>\n",
       "      <td>이</td>\n",
       "      <td>나영</td>\n",
       "    </tr>\n",
       "    <tr>\n",
       "      <th>2</th>\n",
       "      <td>마 징가</td>\n",
       "      <td>73</td>\n",
       "      <td>1999-05-04</td>\n",
       "      <td>마</td>\n",
       "      <td>징가</td>\n",
       "    </tr>\n",
       "    <tr>\n",
       "      <th>3</th>\n",
       "      <td>베 토벤</td>\n",
       "      <td>89</td>\n",
       "      <td>1987-12-24</td>\n",
       "      <td>베</td>\n",
       "      <td>토벤</td>\n",
       "    </tr>\n",
       "  </tbody>\n",
       "</table>\n",
       "</div>"
      ],
      "text/plain": [
       "      0   1          2  3   4\n",
       "0  홍 길동  10 2000-01-23  홍  길동\n",
       "1  이 나영  21 2020-11-08  이  나영\n",
       "2  마 징가  73 1999-05-04  마  징가\n",
       "3  베 토벤  89 1987-12-24  베  토벤"
      ]
     },
     "execution_count": 23,
     "metadata": {},
     "output_type": "execute_result"
    }
   ],
   "source": [
    "# 기본적으로, 아래쪽으로 합쳐친다.\n",
    "pd.concat([df1, namesDF], axis='columns', ignore_index=True)   # 열방향으로 추가되게 한다."
   ]
  },
  {
   "cell_type": "markdown",
   "id": "0fbd6142-d82c-4b5b-8c28-02e1231bb018",
   "metadata": {},
   "source": [
    "(5-5) 2번 컬럼에서 년, 월, 일을 분리"
   ]
  },
  {
   "cell_type": "code",
   "execution_count": 24,
   "id": "b37c1d88-48cb-487f-8214-3d2099c8f21e",
   "metadata": {},
   "outputs": [
    {
     "data": {
      "text/plain": [
       "0   2000-01-23\n",
       "1   2020-11-08\n",
       "2   1999-05-04\n",
       "3   1987-12-24\n",
       "Name: 2, dtype: datetime64[ns]"
      ]
     },
     "execution_count": 24,
     "metadata": {},
     "output_type": "execute_result"
    }
   ],
   "source": [
    "df1[2]"
   ]
  },
  {
   "cell_type": "code",
   "execution_count": 25,
   "id": "9499d7ab-f5e1-440d-abf7-dcbca8519737",
   "metadata": {},
   "outputs": [],
   "source": [
    "yearSR = df1[2].dt.year"
   ]
  },
  {
   "cell_type": "code",
   "execution_count": 26,
   "id": "86bade61-6726-449e-a213-3f34388499dd",
   "metadata": {},
   "outputs": [],
   "source": [
    "monthSR = df1[2].dt.month"
   ]
  },
  {
   "cell_type": "code",
   "execution_count": 27,
   "id": "7340fd6f-2149-4f70-8e43-82c3a61ebfa3",
   "metadata": {},
   "outputs": [],
   "source": [
    "daySR = df1[2].dt.day"
   ]
  },
  {
   "cell_type": "code",
   "execution_count": 28,
   "id": "93d685d3-3ffb-4123-a819-f8bcee8e7b74",
   "metadata": {},
   "outputs": [
    {
     "data": {
      "text/html": [
       "<div>\n",
       "<style scoped>\n",
       "    .dataframe tbody tr th:only-of-type {\n",
       "        vertical-align: middle;\n",
       "    }\n",
       "\n",
       "    .dataframe tbody tr th {\n",
       "        vertical-align: top;\n",
       "    }\n",
       "\n",
       "    .dataframe thead th {\n",
       "        text-align: right;\n",
       "    }\n",
       "</style>\n",
       "<table border=\"1\" class=\"dataframe\">\n",
       "  <thead>\n",
       "    <tr style=\"text-align: right;\">\n",
       "      <th></th>\n",
       "      <th>0</th>\n",
       "      <th>1</th>\n",
       "      <th>2</th>\n",
       "      <th>2</th>\n",
       "    </tr>\n",
       "  </thead>\n",
       "  <tbody>\n",
       "    <tr>\n",
       "      <th>0</th>\n",
       "      <td>홍 길동</td>\n",
       "      <td>10</td>\n",
       "      <td>2000-01-23</td>\n",
       "      <td>2000</td>\n",
       "    </tr>\n",
       "    <tr>\n",
       "      <th>1</th>\n",
       "      <td>이 나영</td>\n",
       "      <td>21</td>\n",
       "      <td>2020-11-08</td>\n",
       "      <td>2020</td>\n",
       "    </tr>\n",
       "    <tr>\n",
       "      <th>2</th>\n",
       "      <td>마 징가</td>\n",
       "      <td>73</td>\n",
       "      <td>1999-05-04</td>\n",
       "      <td>1999</td>\n",
       "    </tr>\n",
       "    <tr>\n",
       "      <th>3</th>\n",
       "      <td>베 토벤</td>\n",
       "      <td>89</td>\n",
       "      <td>1987-12-24</td>\n",
       "      <td>1987</td>\n",
       "    </tr>\n",
       "  </tbody>\n",
       "</table>\n",
       "</div>"
      ],
      "text/plain": [
       "      0   1          2     2\n",
       "0  홍 길동  10 2000-01-23  2000\n",
       "1  이 나영  21 2020-11-08  2020\n",
       "2  마 징가  73 1999-05-04  1999\n",
       "3  베 토벤  89 1987-12-24  1987"
      ]
     },
     "execution_count": 28,
     "metadata": {},
     "output_type": "execute_result"
    }
   ],
   "source": [
    "pd.concat([df1, yearSR], axis=1)"
   ]
  },
  {
   "cell_type": "code",
   "execution_count": 29,
   "id": "c24cb5ff-74e2-4a2c-9ae5-ae90f3e75a56",
   "metadata": {},
   "outputs": [
    {
     "data": {
      "text/html": [
       "<div>\n",
       "<style scoped>\n",
       "    .dataframe tbody tr th:only-of-type {\n",
       "        vertical-align: middle;\n",
       "    }\n",
       "\n",
       "    .dataframe tbody tr th {\n",
       "        vertical-align: top;\n",
       "    }\n",
       "\n",
       "    .dataframe thead th {\n",
       "        text-align: right;\n",
       "    }\n",
       "</style>\n",
       "<table border=\"1\" class=\"dataframe\">\n",
       "  <thead>\n",
       "    <tr style=\"text-align: right;\">\n",
       "      <th></th>\n",
       "      <th>0</th>\n",
       "      <th>1</th>\n",
       "      <th>2</th>\n",
       "      <th>3</th>\n",
       "      <th>4</th>\n",
       "      <th>5</th>\n",
       "    </tr>\n",
       "  </thead>\n",
       "  <tbody>\n",
       "    <tr>\n",
       "      <th>0</th>\n",
       "      <td>홍 길동</td>\n",
       "      <td>10</td>\n",
       "      <td>2000-01-23</td>\n",
       "      <td>2000</td>\n",
       "      <td>1</td>\n",
       "      <td>23</td>\n",
       "    </tr>\n",
       "    <tr>\n",
       "      <th>1</th>\n",
       "      <td>이 나영</td>\n",
       "      <td>21</td>\n",
       "      <td>2020-11-08</td>\n",
       "      <td>2020</td>\n",
       "      <td>11</td>\n",
       "      <td>8</td>\n",
       "    </tr>\n",
       "    <tr>\n",
       "      <th>2</th>\n",
       "      <td>마 징가</td>\n",
       "      <td>73</td>\n",
       "      <td>1999-05-04</td>\n",
       "      <td>1999</td>\n",
       "      <td>5</td>\n",
       "      <td>4</td>\n",
       "    </tr>\n",
       "    <tr>\n",
       "      <th>3</th>\n",
       "      <td>베 토벤</td>\n",
       "      <td>89</td>\n",
       "      <td>1987-12-24</td>\n",
       "      <td>1987</td>\n",
       "      <td>12</td>\n",
       "      <td>24</td>\n",
       "    </tr>\n",
       "  </tbody>\n",
       "</table>\n",
       "</div>"
      ],
      "text/plain": [
       "      0   1          2     3   4   5\n",
       "0  홍 길동  10 2000-01-23  2000   1  23\n",
       "1  이 나영  21 2020-11-08  2020  11   8\n",
       "2  마 징가  73 1999-05-04  1999   5   4\n",
       "3  베 토벤  89 1987-12-24  1987  12  24"
      ]
     },
     "execution_count": 29,
     "metadata": {},
     "output_type": "execute_result"
    }
   ],
   "source": [
    "pd.concat([df1, yearSR, monthSR, daySR], axis=1, ignore_index=True)"
   ]
  },
  {
   "cell_type": "markdown",
   "id": "3e032792-37fe-48a8-b57f-1c0542264839",
   "metadata": {},
   "source": [
    "(5-6) 현재 DataFrame을 파일로 저장하기 => pandas.to_XXX(\"파일경로+파일명\")"
   ]
  },
  {
   "cell_type": "code",
   "execution_count": 31,
   "id": "9cf58082-4a66-48e7-b939-68e80e61fe7b",
   "metadata": {},
   "outputs": [],
   "source": [
    "# CSV => 데이터와 데이터의 구분자\n",
    "filename='./backup.csv'   # 'backup.csv'"
   ]
  },
  {
   "cell_type": "code",
   "execution_count": 42,
   "id": "043045a5-6d80-4977-b1cc-b0a815d9cfe0",
   "metadata": {},
   "outputs": [],
   "source": [
    "df1.to_csv(filename, sep=' ', header=False, index=False)"
   ]
  },
  {
   "cell_type": "code",
   "execution_count": 45,
   "id": "419d6274-7f23-49ea-ab0f-8a01fbdc73b4",
   "metadata": {},
   "outputs": [
    {
     "data": {
      "text/html": [
       "<div>\n",
       "<style scoped>\n",
       "    .dataframe tbody tr th:only-of-type {\n",
       "        vertical-align: middle;\n",
       "    }\n",
       "\n",
       "    .dataframe tbody tr th {\n",
       "        vertical-align: top;\n",
       "    }\n",
       "\n",
       "    .dataframe thead th {\n",
       "        text-align: right;\n",
       "    }\n",
       "</style>\n",
       "<table border=\"1\" class=\"dataframe\">\n",
       "  <thead>\n",
       "    <tr style=\"text-align: right;\">\n",
       "      <th></th>\n",
       "      <th>0</th>\n",
       "      <th>1</th>\n",
       "      <th>2</th>\n",
       "    </tr>\n",
       "  </thead>\n",
       "  <tbody>\n",
       "    <tr>\n",
       "      <th>0</th>\n",
       "      <td>홍 길동</td>\n",
       "      <td>10</td>\n",
       "      <td>2000-01-23</td>\n",
       "    </tr>\n",
       "    <tr>\n",
       "      <th>1</th>\n",
       "      <td>이 나영</td>\n",
       "      <td>21</td>\n",
       "      <td>2020-11-08</td>\n",
       "    </tr>\n",
       "    <tr>\n",
       "      <th>2</th>\n",
       "      <td>마 징가</td>\n",
       "      <td>73</td>\n",
       "      <td>1999-05-04</td>\n",
       "    </tr>\n",
       "    <tr>\n",
       "      <th>3</th>\n",
       "      <td>베 토벤</td>\n",
       "      <td>89</td>\n",
       "      <td>1987-12-24</td>\n",
       "    </tr>\n",
       "  </tbody>\n",
       "</table>\n",
       "</div>"
      ],
      "text/plain": [
       "      0   1           2\n",
       "0  홍 길동  10  2000-01-23\n",
       "1  이 나영  21  2020-11-08\n",
       "2  마 징가  73  1999-05-04\n",
       "3  베 토벤  89  1987-12-24"
      ]
     },
     "execution_count": 45,
     "metadata": {},
     "output_type": "execute_result"
    }
   ],
   "source": [
    "pd.read_csv(filename, header = None, sep=' ')"
   ]
  },
  {
   "cell_type": "code",
   "execution_count": null,
   "id": "f88cb8af-0528-41f5-acc3-328e24236a9b",
   "metadata": {},
   "outputs": [],
   "source": []
  }
 ],
 "metadata": {
  "kernelspec": {
   "display_name": "Python 3 (ipykernel)",
   "language": "python",
   "name": "python3"
  },
  "language_info": {
   "codemirror_mode": {
    "name": "ipython",
    "version": 3
   },
   "file_extension": ".py",
   "mimetype": "text/x-python",
   "name": "python",
   "nbconvert_exporter": "python",
   "pygments_lexer": "ipython3",
   "version": "3.8.18"
  }
 },
 "nbformat": 4,
 "nbformat_minor": 5
}
