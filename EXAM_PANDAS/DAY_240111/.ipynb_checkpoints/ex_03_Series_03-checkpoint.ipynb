{
 "cells": [
  {
   "cell_type": "markdown",
   "id": "cce5345a-02c8-423a-833e-eb5e4d690852",
   "metadata": {},
   "source": [
    "#### [ Series 객체 원소 인덱싱 & 슬라이싱]"
   ]
  },
  {
   "cell_type": "markdown",
   "id": "d66e3778-b732-457c-a7ae-0a23cb4c0b79",
   "metadata": {},
   "source": [
    "#### (1) 모듈 로딩"
   ]
  },
  {
   "cell_type": "code",
   "execution_count": 5,
   "id": "5e420717-e8f8-4f98-b93d-d261809f6ec2",
   "metadata": {},
   "outputs": [],
   "source": [
    "import pandas as pd"
   ]
  },
  {
   "cell_type": "code",
   "execution_count": 6,
   "id": "f0e14e36-35f6-420f-9004-1597d1dff1b4",
   "metadata": {},
   "outputs": [],
   "source": [
    "sr1 = pd.Series(['홍길동', 12, '도적'], index=['name', 'age', 'job'])"
   ]
  },
  {
   "cell_type": "code",
   "execution_count": 7,
   "id": "8110b5b1-e385-4724-96dc-5c041e082db7",
   "metadata": {},
   "outputs": [
    {
     "data": {
      "text/plain": [
       "(12, 12, Index(['name', 'age', 'job'], dtype='object'))"
      ]
     },
     "execution_count": 7,
     "metadata": {},
     "output_type": "execute_result"
    }
   ],
   "source": [
    "sr1['age'], sr1[1], sr1.index"
   ]
  },
  {
   "cell_type": "code",
   "execution_count": 8,
   "id": "32133d16-1bd1-45a5-b856-291acfdddbdb",
   "metadata": {},
   "outputs": [
    {
     "data": {
      "text/plain": [
       "('홍길동', '도적', '홍길동', '도적')"
      ]
     },
     "execution_count": 8,
     "metadata": {},
     "output_type": "execute_result"
    }
   ],
   "source": [
    "# 이름과 직업 데이터 읽기\n",
    "sr1['name'], sr1['job'], sr1[0], sr1[2]"
   ]
  },
  {
   "cell_type": "code",
   "execution_count": 9,
   "id": "2859085d-0427-49e8-b796-4d1daf741641",
   "metadata": {},
   "outputs": [],
   "source": [
    "a = [1, 2, 3]"
   ]
  },
  {
   "cell_type": "code",
   "execution_count": 10,
   "id": "e6565c97-8b2d-4277-ab0b-d574f9a68879",
   "metadata": {},
   "outputs": [
    {
     "data": {
      "text/plain": [
       "([1, 2, 3], list)"
      ]
     },
     "execution_count": 10,
     "metadata": {},
     "output_type": "execute_result"
    }
   ],
   "source": [
    "a, type(a)"
   ]
  },
  {
   "cell_type": "code",
   "execution_count": 11,
   "id": "8a6da045-fb60-42f0-9e94-941dddb0f972",
   "metadata": {},
   "outputs": [
    {
     "data": {
      "text/plain": [
       "([1], list)"
      ]
     },
     "execution_count": 11,
     "metadata": {},
     "output_type": "execute_result"
    }
   ],
   "source": [
    "a[:1], type(a[:1])"
   ]
  },
  {
   "cell_type": "code",
   "execution_count": null,
   "id": "62b3b602-6778-4cff-876f-74b5b5e6e059",
   "metadata": {},
   "outputs": [],
   "source": []
  }
 ],
 "metadata": {
  "kernelspec": {
   "display_name": "Python 3 (ipykernel)",
   "language": "python",
   "name": "python3"
  },
  "language_info": {
   "codemirror_mode": {
    "name": "ipython",
    "version": 3
   },
   "file_extension": ".py",
   "mimetype": "text/x-python",
   "name": "python",
   "nbconvert_exporter": "python",
   "pygments_lexer": "ipython3",
   "version": "3.8.18"
  }
 },
 "nbformat": 4,
 "nbformat_minor": 5
}
