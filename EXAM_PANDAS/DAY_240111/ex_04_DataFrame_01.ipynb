{
 "cells": [
  {
   "cell_type": "markdown",
   "id": "630c59d7-0e86-40e0-ba69-af9e1710978f",
   "metadata": {},
   "source": [
    "# [ DataFrame 살펴보기 ]\n",
    "* 데이터를 테이블로, 즉, 표 형태로 저장하는 자료구조\n",
    "* 구성 : 행 + 열\n",
    "* 생성 : pandas.DataFrame() 생성자 메서드"
   ]
  },
  {
   "cell_type": "markdown",
   "id": "f472c666-7a6e-49d5-b2fd-61d7ae93e0ec",
   "metadata": {},
   "source": [
    "(1) 모듈 로딩 --------------------------------------------------"
   ]
  },
  {
   "cell_type": "code",
   "execution_count": 1,
   "id": "31fe184b-051c-48a2-b4c3-9f01123b199e",
   "metadata": {},
   "outputs": [],
   "source": [
    "from pandas import DataFrame"
   ]
  },
  {
   "cell_type": "markdown",
   "id": "1b5e1e11-bdaf-4255-bfd6-37cfcfffb946",
   "metadata": {},
   "source": [
    "(2) 데이터 준비 --------------------------------------------------"
   ]
  },
  {
   "cell_type": "code",
   "execution_count": 2,
   "id": "2f974e89-b153-4217-bbc2-6a978c56d26a",
   "metadata": {},
   "outputs": [],
   "source": [
    "data = [[11, 22, 33], [44, 55, 66], [77, 88, 99]]"
   ]
  },
  {
   "cell_type": "markdown",
   "id": "18c0df19-aae5-44ea-b414-3e79b25aed99",
   "metadata": {},
   "source": [
    "(3) DataFrame 으로 저장 (DataFrame 객체 생성)"
   ]
  },
  {
   "cell_type": "code",
   "execution_count": 3,
   "id": "a9f7f5ae-044e-481d-b46f-cbe0f91dd576",
   "metadata": {},
   "outputs": [
    {
     "data": {
      "text/html": [
       "<div>\n",
       "<style scoped>\n",
       "    .dataframe tbody tr th:only-of-type {\n",
       "        vertical-align: middle;\n",
       "    }\n",
       "\n",
       "    .dataframe tbody tr th {\n",
       "        vertical-align: top;\n",
       "    }\n",
       "\n",
       "    .dataframe thead th {\n",
       "        text-align: right;\n",
       "    }\n",
       "</style>\n",
       "<table border=\"1\" class=\"dataframe\">\n",
       "  <thead>\n",
       "    <tr style=\"text-align: right;\">\n",
       "      <th></th>\n",
       "      <th>0</th>\n",
       "      <th>1</th>\n",
       "      <th>2</th>\n",
       "    </tr>\n",
       "  </thead>\n",
       "  <tbody>\n",
       "    <tr>\n",
       "      <th>0</th>\n",
       "      <td>11</td>\n",
       "      <td>22</td>\n",
       "      <td>33</td>\n",
       "    </tr>\n",
       "    <tr>\n",
       "      <th>1</th>\n",
       "      <td>44</td>\n",
       "      <td>55</td>\n",
       "      <td>66</td>\n",
       "    </tr>\n",
       "    <tr>\n",
       "      <th>2</th>\n",
       "      <td>77</td>\n",
       "      <td>88</td>\n",
       "      <td>99</td>\n",
       "    </tr>\n",
       "  </tbody>\n",
       "</table>\n",
       "</div>"
      ],
      "text/plain": [
       "    0   1   2\n",
       "0  11  22  33\n",
       "1  44  55  66\n",
       "2  77  88  99"
      ]
     },
     "execution_count": 3,
     "metadata": {},
     "output_type": "execute_result"
    }
   ],
   "source": [
    "df1 = DataFrame(data)\n",
    "df1"
   ]
  },
  {
   "cell_type": "markdown",
   "id": "7accd745-1d5b-48ba-901c-158bafef0095",
   "metadata": {},
   "source": [
    "(4) DataFrame 의 속성 읽기 => 객체변수명, 속성명"
   ]
  },
  {
   "cell_type": "code",
   "execution_count": 4,
   "id": "f57e7ada-052f-4a4c-8c96-2a211d917724",
   "metadata": {},
   "outputs": [
    {
     "data": {
      "text/plain": [
       "RangeIndex(start=0, stop=3, step=1)"
      ]
     },
     "execution_count": 4,
     "metadata": {},
     "output_type": "execute_result"
    }
   ],
   "source": [
    "df1.index"
   ]
  },
  {
   "cell_type": "code",
   "execution_count": 5,
   "id": "5815b7cb-f69d-45b1-a0c3-612798ec6856",
   "metadata": {},
   "outputs": [
    {
     "data": {
      "text/plain": [
       "RangeIndex(start=0, stop=3, step=1)"
      ]
     },
     "execution_count": 5,
     "metadata": {},
     "output_type": "execute_result"
    }
   ],
   "source": [
    "df1.columns"
   ]
  },
  {
   "cell_type": "code",
   "execution_count": 6,
   "id": "88e3cd34-5401-46e9-bef0-97533b251d3a",
   "metadata": {},
   "outputs": [
    {
     "data": {
      "text/plain": [
       "array([[11, 22, 33],\n",
       "       [44, 55, 66],\n",
       "       [77, 88, 99]], dtype=int64)"
      ]
     },
     "execution_count": 6,
     "metadata": {},
     "output_type": "execute_result"
    }
   ],
   "source": [
    "df1.values"
   ]
  },
  {
   "cell_type": "code",
   "execution_count": 7,
   "id": "e58f6c5c-edc9-4405-a766-3c28e85e01db",
   "metadata": {},
   "outputs": [
    {
     "data": {
      "text/plain": [
       "(3, 3)"
      ]
     },
     "execution_count": 7,
     "metadata": {},
     "output_type": "execute_result"
    }
   ],
   "source": [
    "# 표의 형태\n",
    "df1.shape"
   ]
  },
  {
   "cell_type": "code",
   "execution_count": 8,
   "id": "a39ce4e2-d5bb-4dee-b599-ad462d57b776",
   "metadata": {},
   "outputs": [
    {
     "data": {
      "text/plain": [
       "2"
      ]
     },
     "execution_count": 8,
     "metadata": {},
     "output_type": "execute_result"
    }
   ],
   "source": [
    "# 데이터의 차원 정보\n",
    "df1.ndim"
   ]
  },
  {
   "cell_type": "code",
   "execution_count": 9,
   "id": "62e1a223-6909-460f-9582-c73ea7bcc264",
   "metadata": {},
   "outputs": [
    {
     "data": {
      "text/plain": [
       "0    int64\n",
       "1    int64\n",
       "2    int64\n",
       "dtype: object"
      ]
     },
     "execution_count": 9,
     "metadata": {},
     "output_type": "execute_result"
    }
   ],
   "source": [
    "# 컬럼별 데이터 타입\n",
    "df1.dtypes"
   ]
  },
  {
   "cell_type": "markdown",
   "id": "8a4243e2-774b-4db4-ac1d-bed87afe6220",
   "metadata": {},
   "source": [
    "(5) 원소 읽기 => 행과 열 지정 => 1개 원소"
   ]
  },
  {
   "cell_type": "markdown",
   "id": "dc89da92-78fd-4759-981f-2189c17b6a0e",
   "metadata": {},
   "source": [
    "- 컬럼(열, column) 읽기 => 객체변수명(인덱스)"
   ]
  },
  {
   "cell_type": "code",
   "execution_count": 10,
   "id": "12162776-ded1-4910-8dae-7395514f10f0",
   "metadata": {},
   "outputs": [
    {
     "data": {
      "text/html": [
       "<div>\n",
       "<style scoped>\n",
       "    .dataframe tbody tr th:only-of-type {\n",
       "        vertical-align: middle;\n",
       "    }\n",
       "\n",
       "    .dataframe tbody tr th {\n",
       "        vertical-align: top;\n",
       "    }\n",
       "\n",
       "    .dataframe thead th {\n",
       "        text-align: right;\n",
       "    }\n",
       "</style>\n",
       "<table border=\"1\" class=\"dataframe\">\n",
       "  <thead>\n",
       "    <tr style=\"text-align: right;\">\n",
       "      <th></th>\n",
       "      <th>0</th>\n",
       "      <th>1</th>\n",
       "      <th>2</th>\n",
       "    </tr>\n",
       "  </thead>\n",
       "  <tbody>\n",
       "    <tr>\n",
       "      <th>0</th>\n",
       "      <td>11</td>\n",
       "      <td>22</td>\n",
       "      <td>33</td>\n",
       "    </tr>\n",
       "    <tr>\n",
       "      <th>1</th>\n",
       "      <td>44</td>\n",
       "      <td>55</td>\n",
       "      <td>66</td>\n",
       "    </tr>\n",
       "    <tr>\n",
       "      <th>2</th>\n",
       "      <td>77</td>\n",
       "      <td>88</td>\n",
       "      <td>99</td>\n",
       "    </tr>\n",
       "  </tbody>\n",
       "</table>\n",
       "</div>"
      ],
      "text/plain": [
       "    0   1   2\n",
       "0  11  22  33\n",
       "1  44  55  66\n",
       "2  77  88  99"
      ]
     },
     "execution_count": 10,
     "metadata": {},
     "output_type": "execute_result"
    }
   ],
   "source": [
    "df1"
   ]
  },
  {
   "cell_type": "code",
   "execution_count": 11,
   "id": "9dac3334-6060-403e-b766-35a51db299f3",
   "metadata": {},
   "outputs": [
    {
     "data": {
      "text/plain": [
       "0    11\n",
       "1    44\n",
       "2    77\n",
       "Name: 0, dtype: int64"
      ]
     },
     "execution_count": 11,
     "metadata": {},
     "output_type": "execute_result"
    }
   ],
   "source": [
    "df1[0]"
   ]
  },
  {
   "cell_type": "code",
   "execution_count": 12,
   "id": "62bdfa58-335e-488f-9722-535dc6f80c93",
   "metadata": {},
   "outputs": [],
   "source": [
    "# df1[-1] # 사용 불가"
   ]
  },
  {
   "cell_type": "code",
   "execution_count": 13,
   "id": "983aea1d-4bb8-4d98-ab20-da1098e6b4ee",
   "metadata": {},
   "outputs": [
    {
     "data": {
      "text/html": [
       "<div>\n",
       "<style scoped>\n",
       "    .dataframe tbody tr th:only-of-type {\n",
       "        vertical-align: middle;\n",
       "    }\n",
       "\n",
       "    .dataframe tbody tr th {\n",
       "        vertical-align: top;\n",
       "    }\n",
       "\n",
       "    .dataframe thead th {\n",
       "        text-align: right;\n",
       "    }\n",
       "</style>\n",
       "<table border=\"1\" class=\"dataframe\">\n",
       "  <thead>\n",
       "    <tr style=\"text-align: right;\">\n",
       "      <th></th>\n",
       "      <th>A</th>\n",
       "      <th>B</th>\n",
       "      <th>C</th>\n",
       "    </tr>\n",
       "  </thead>\n",
       "  <tbody>\n",
       "    <tr>\n",
       "      <th>0</th>\n",
       "      <td>11</td>\n",
       "      <td>22</td>\n",
       "      <td>33</td>\n",
       "    </tr>\n",
       "    <tr>\n",
       "      <th>1</th>\n",
       "      <td>44</td>\n",
       "      <td>55</td>\n",
       "      <td>66</td>\n",
       "    </tr>\n",
       "    <tr>\n",
       "      <th>2</th>\n",
       "      <td>77</td>\n",
       "      <td>88</td>\n",
       "      <td>99</td>\n",
       "    </tr>\n",
       "  </tbody>\n",
       "</table>\n",
       "</div>"
      ],
      "text/plain": [
       "    A   B   C\n",
       "0  11  22  33\n",
       "1  44  55  66\n",
       "2  77  88  99"
      ]
     },
     "execution_count": 13,
     "metadata": {},
     "output_type": "execute_result"
    }
   ],
   "source": [
    "# 컬럼변경 ======================================\n",
    "df1.columns = ['A', 'B', 'C']\n",
    "df1"
   ]
  },
  {
   "cell_type": "code",
   "execution_count": 14,
   "id": "bd334009-83a6-475e-bb62-9710a3ff2b07",
   "metadata": {},
   "outputs": [
    {
     "data": {
      "text/plain": [
       "0    11\n",
       "1    44\n",
       "2    77\n",
       "Name: A, dtype: int64"
      ]
     },
     "execution_count": 14,
     "metadata": {},
     "output_type": "execute_result"
    }
   ],
   "source": [
    "df1['A']"
   ]
  },
  {
   "cell_type": "code",
   "execution_count": 15,
   "id": "9af7b25d-95d8-4484-80d1-295856c8e401",
   "metadata": {},
   "outputs": [
    {
     "data": {
      "text/plain": [
       "0    11\n",
       "1    44\n",
       "2    77\n",
       "Name: A, dtype: int64"
      ]
     },
     "execution_count": 15,
     "metadata": {},
     "output_type": "execute_result"
    }
   ],
   "source": [
    "df1.A"
   ]
  },
  {
   "cell_type": "code",
   "execution_count": 16,
   "id": "01e390d3-96a7-422e-be12-8818bab658c7",
   "metadata": {},
   "outputs": [],
   "source": [
    "# columns 는 라벨 인덱스로 바꾼다면 숫자 인덱스는 더 이상 못 쓴다.\n",
    "# df1[0]"
   ]
  },
  {
   "cell_type": "code",
   "execution_count": 17,
   "id": "5a19b210-4428-4ac6-baf8-b71ea6763254",
   "metadata": {},
   "outputs": [],
   "source": [
    "df1.columns = [0, 1, 2]"
   ]
  },
  {
   "cell_type": "code",
   "execution_count": 18,
   "id": "3425078e-9dc8-479b-aea9-43db65ae428a",
   "metadata": {},
   "outputs": [
    {
     "data": {
      "text/plain": [
       "0    11\n",
       "1    44\n",
       "2    77\n",
       "Name: 0, dtype: int64"
      ]
     },
     "execution_count": 18,
     "metadata": {},
     "output_type": "execute_result"
    }
   ],
   "source": [
    "df1[0]"
   ]
  },
  {
   "cell_type": "code",
   "execution_count": 19,
   "id": "76e07733-68bc-4f2e-8e85-6ab5f9c77fb7",
   "metadata": {},
   "outputs": [],
   "source": [
    "# df1.0   # 숫자 인덱스의 경우 점찍어서 접근하는 문법 불가능"
   ]
  },
  {
   "cell_type": "markdown",
   "id": "a7194ccc-7a63-4141-838e-9931914b0487",
   "metadata": {},
   "source": [
    "행으로는 어떻게 읽을까? 이미 대괄호 [] 방식 => 열 읽기 로 지정해버렸는데?"
   ]
  },
  {
   "cell_type": "markdown",
   "id": "65421af6-d81b-468b-9cbf-4c173eb4197a",
   "metadata": {},
   "source": [
    "하나의 열은 같은 종류의 값들만 들어있지만,  \n",
    "행 하나는 그 자체로 하나의 완벽한 데이터.  \n",
    "그래서 행 하나를 엔티티, 레코드, 인스턴스 라고 부른다.  \n",
    "열 하나는 속성, 필드, 특성, 피쳐 라고 부른다."
   ]
  },
  {
   "cell_type": "markdown",
   "id": "ea34ba72-01e3-478f-aaea-ed4e7769b4c9",
   "metadata": {},
   "source": [
    "- 로우(열, row) 읽기 => 방법 2가지\n",
    "    * 위치    인덱스로 읽기 : 객체변수명.iloc[인덱스]\n",
    "    * 레이블 인덱스로 읽기 : 객체변수명.loc[인덱스]"
   ]
  },
  {
   "cell_type": "code",
   "execution_count": 23,
   "id": "9ac79425-74b5-4a30-9455-6c7bb328b65d",
   "metadata": {},
   "outputs": [],
   "source": [
    "df1.index = ['one', 'two', 'three']"
   ]
  },
  {
   "cell_type": "code",
   "execution_count": 24,
   "id": "e3b1b8ae-9332-443a-a9da-42cbdc4e6d58",
   "metadata": {},
   "outputs": [
    {
     "data": {
      "text/html": [
       "<div>\n",
       "<style scoped>\n",
       "    .dataframe tbody tr th:only-of-type {\n",
       "        vertical-align: middle;\n",
       "    }\n",
       "\n",
       "    .dataframe tbody tr th {\n",
       "        vertical-align: top;\n",
       "    }\n",
       "\n",
       "    .dataframe thead th {\n",
       "        text-align: right;\n",
       "    }\n",
       "</style>\n",
       "<table border=\"1\" class=\"dataframe\">\n",
       "  <thead>\n",
       "    <tr style=\"text-align: right;\">\n",
       "      <th></th>\n",
       "      <th>0</th>\n",
       "      <th>1</th>\n",
       "      <th>2</th>\n",
       "    </tr>\n",
       "  </thead>\n",
       "  <tbody>\n",
       "    <tr>\n",
       "      <th>one</th>\n",
       "      <td>11</td>\n",
       "      <td>22</td>\n",
       "      <td>33</td>\n",
       "    </tr>\n",
       "    <tr>\n",
       "      <th>two</th>\n",
       "      <td>44</td>\n",
       "      <td>55</td>\n",
       "      <td>66</td>\n",
       "    </tr>\n",
       "    <tr>\n",
       "      <th>three</th>\n",
       "      <td>77</td>\n",
       "      <td>88</td>\n",
       "      <td>99</td>\n",
       "    </tr>\n",
       "  </tbody>\n",
       "</table>\n",
       "</div>"
      ],
      "text/plain": [
       "        0   1   2\n",
       "one    11  22  33\n",
       "two    44  55  66\n",
       "three  77  88  99"
      ]
     },
     "execution_count": 24,
     "metadata": {},
     "output_type": "execute_result"
    }
   ],
   "source": [
    "df1"
   ]
  },
  {
   "cell_type": "code",
   "execution_count": 25,
   "id": "f6a8b523-3e3d-4720-8606-50bbccfb5868",
   "metadata": {},
   "outputs": [
    {
     "data": {
      "text/plain": [
       "0    11\n",
       "1    22\n",
       "2    33\n",
       "Name: one, dtype: int64"
      ]
     },
     "execution_count": 25,
     "metadata": {},
     "output_type": "execute_result"
    }
   ],
   "source": [
    "df1.loc['one']"
   ]
  },
  {
   "cell_type": "code",
   "execution_count": 26,
   "id": "2eda49c7-f004-4c59-8741-6097f434b461",
   "metadata": {},
   "outputs": [
    {
     "data": {
      "text/plain": [
       "0    11\n",
       "1    22\n",
       "2    33\n",
       "Name: one, dtype: int64"
      ]
     },
     "execution_count": 26,
     "metadata": {},
     "output_type": "execute_result"
    }
   ],
   "source": [
    "df1.iloc[0]"
   ]
  },
  {
   "cell_type": "code",
   "execution_count": 27,
   "id": "c0b63823-1ca2-4952-afa3-ab1dba08eef7",
   "metadata": {},
   "outputs": [
    {
     "data": {
      "text/plain": [
       "pandas.core.series.Series"
      ]
     },
     "execution_count": 27,
     "metadata": {},
     "output_type": "execute_result"
    }
   ],
   "source": [
    "zero = df1.iloc[0]\n",
    "type(zero)"
   ]
  },
  {
   "cell_type": "markdown",
   "id": "e3a85f34-78c1-4195-870b-ea7d094518b3",
   "metadata": {},
   "source": [
    "(6) 모든 원소를 한번에 한개씩만 출력"
   ]
  },
  {
   "cell_type": "code",
   "execution_count": 28,
   "id": "172372f8-9d82-4756-9f2c-e2fd84be104a",
   "metadata": {},
   "outputs": [
    {
     "data": {
      "text/html": [
       "<div>\n",
       "<style scoped>\n",
       "    .dataframe tbody tr th:only-of-type {\n",
       "        vertical-align: middle;\n",
       "    }\n",
       "\n",
       "    .dataframe tbody tr th {\n",
       "        vertical-align: top;\n",
       "    }\n",
       "\n",
       "    .dataframe thead th {\n",
       "        text-align: right;\n",
       "    }\n",
       "</style>\n",
       "<table border=\"1\" class=\"dataframe\">\n",
       "  <thead>\n",
       "    <tr style=\"text-align: right;\">\n",
       "      <th></th>\n",
       "      <th>0</th>\n",
       "      <th>1</th>\n",
       "      <th>2</th>\n",
       "    </tr>\n",
       "  </thead>\n",
       "  <tbody>\n",
       "    <tr>\n",
       "      <th>one</th>\n",
       "      <td>11</td>\n",
       "      <td>22</td>\n",
       "      <td>33</td>\n",
       "    </tr>\n",
       "    <tr>\n",
       "      <th>two</th>\n",
       "      <td>44</td>\n",
       "      <td>55</td>\n",
       "      <td>66</td>\n",
       "    </tr>\n",
       "    <tr>\n",
       "      <th>three</th>\n",
       "      <td>77</td>\n",
       "      <td>88</td>\n",
       "      <td>99</td>\n",
       "    </tr>\n",
       "  </tbody>\n",
       "</table>\n",
       "</div>"
      ],
      "text/plain": [
       "        0   1   2\n",
       "one    11  22  33\n",
       "two    44  55  66\n",
       "three  77  88  99"
      ]
     },
     "execution_count": 28,
     "metadata": {},
     "output_type": "execute_result"
    }
   ],
   "source": [
    "df1"
   ]
  },
  {
   "cell_type": "code",
   "execution_count": 29,
   "id": "4ec6c54a-7ed3-45a6-b527-5316e9a725d7",
   "metadata": {},
   "outputs": [
    {
     "name": "stdout",
     "output_type": "stream",
     "text": [
      "0    11\n",
      "1    22\n",
      "2    33\n",
      "Name: one, dtype: int64\n"
     ]
    }
   ],
   "source": [
    "print(zero)"
   ]
  },
  {
   "cell_type": "code",
   "execution_count": 30,
   "id": "92620691-805d-4bdb-8e07-e36ba1d82862",
   "metadata": {},
   "outputs": [
    {
     "name": "stdout",
     "output_type": "stream",
     "text": [
      "11\n",
      "22\n",
      "33\n",
      "44\n",
      "55\n",
      "66\n",
      "77\n",
      "88\n",
      "99\n"
     ]
    }
   ],
   "source": [
    "# 각 원소 차례로 출력 (내 코드)\n",
    "for i in range(df1.shape[0]):\n",
    "    row = df1.iloc[i]\n",
    "    for e in row:\n",
    "        print(e)"
   ]
  },
  {
   "cell_type": "markdown",
   "id": "31f2bd0c-b067-4a5e-a4e4-70ffa129896f",
   "metadata": {},
   "source": [
    "- 객체변수명.iloc[ 행인덱스, 열인덱스 ]"
   ]
  },
  {
   "cell_type": "code",
   "execution_count": 31,
   "id": "c28ac786-75ea-432b-a354-721be9dddc3e",
   "metadata": {},
   "outputs": [
    {
     "data": {
      "text/plain": [
       "(11, 33, 44, 66)"
      ]
     },
     "execution_count": 31,
     "metadata": {},
     "output_type": "execute_result"
    }
   ],
   "source": [
    "df1.iloc[0, 0], df1.iloc[0, 2], df1.iloc[1, 0], df1.iloc[1, 2]"
   ]
  },
  {
   "cell_type": "code",
   "execution_count": 32,
   "id": "4ba00943-4fa7-4b13-887b-c45b7ca599d8",
   "metadata": {},
   "outputs": [
    {
     "data": {
      "text/plain": [
       "(11, 33, 44, 66)"
      ]
     },
     "execution_count": 32,
     "metadata": {},
     "output_type": "execute_result"
    }
   ],
   "source": [
    "df1.loc['one', 0], df1.loc['one', 2], df1.loc['two', 0], df1.loc['two', 2]"
   ]
  },
  {
   "cell_type": "code",
   "execution_count": 33,
   "id": "82df34e6-c9f0-4830-8b87-22872a5c4612",
   "metadata": {},
   "outputs": [
    {
     "data": {
      "text/html": [
       "<div>\n",
       "<style scoped>\n",
       "    .dataframe tbody tr th:only-of-type {\n",
       "        vertical-align: middle;\n",
       "    }\n",
       "\n",
       "    .dataframe tbody tr th {\n",
       "        vertical-align: top;\n",
       "    }\n",
       "\n",
       "    .dataframe thead th {\n",
       "        text-align: right;\n",
       "    }\n",
       "</style>\n",
       "<table border=\"1\" class=\"dataframe\">\n",
       "  <thead>\n",
       "    <tr style=\"text-align: right;\">\n",
       "      <th></th>\n",
       "      <th>A</th>\n",
       "      <th>B</th>\n",
       "      <th>C</th>\n",
       "    </tr>\n",
       "  </thead>\n",
       "  <tbody>\n",
       "    <tr>\n",
       "      <th>one</th>\n",
       "      <td>11</td>\n",
       "      <td>22</td>\n",
       "      <td>33</td>\n",
       "    </tr>\n",
       "    <tr>\n",
       "      <th>two</th>\n",
       "      <td>44</td>\n",
       "      <td>55</td>\n",
       "      <td>66</td>\n",
       "    </tr>\n",
       "    <tr>\n",
       "      <th>three</th>\n",
       "      <td>77</td>\n",
       "      <td>88</td>\n",
       "      <td>99</td>\n",
       "    </tr>\n",
       "  </tbody>\n",
       "</table>\n",
       "</div>"
      ],
      "text/plain": [
       "        A   B   C\n",
       "one    11  22  33\n",
       "two    44  55  66\n",
       "three  77  88  99"
      ]
     },
     "execution_count": 33,
     "metadata": {},
     "output_type": "execute_result"
    }
   ],
   "source": [
    "# 컬럼명 변경 => 객체변수명.columns = 새로운컬럼명\n",
    "df1.columns = ['A', 'B', 'C']\n",
    "df1"
   ]
  },
  {
   "cell_type": "code",
   "execution_count": 34,
   "id": "48403bdd-2f06-40a1-ad0d-5f78de41cc06",
   "metadata": {},
   "outputs": [
    {
     "data": {
      "text/plain": [
       "(22, 66)"
      ]
     },
     "execution_count": 34,
     "metadata": {},
     "output_type": "execute_result"
    }
   ],
   "source": [
    "df1.loc['one', 'B'], df1.loc['two', 'C']"
   ]
  },
  {
   "cell_type": "code",
   "execution_count": 35,
   "id": "a1e1afcd-7dba-4bbd-a772-db16075fe82b",
   "metadata": {},
   "outputs": [
    {
     "data": {
      "text/plain": [
       "(22, 66)"
      ]
     },
     "execution_count": 35,
     "metadata": {},
     "output_type": "execute_result"
    }
   ],
   "source": [
    "df1.iloc[0, 1], df1.iloc[1, 2]"
   ]
  },
  {
   "cell_type": "markdown",
   "id": "bb2c9049-2f24-468b-8857-a25350efbdb2",
   "metadata": {},
   "source": [
    "iloc 는 문자를 넣을 수 없다. Naver.  \n",
    "iloc 는 무조건 정수만 들어가야 한다. (라벨이 설정되든 말든)"
   ]
  },
  {
   "cell_type": "markdown",
   "id": "9d758fac-ef05-4036-adf9-dd3dc1379389",
   "metadata": {},
   "source": [
    "loc 는 정수를 쓸 수 있다. (라벨이 설정되지 않은 행 or 열이라면)"
   ]
  },
  {
   "cell_type": "code",
   "execution_count": 36,
   "id": "5beabda7-fb33-488a-8d2e-72b7db1e8374",
   "metadata": {},
   "outputs": [
    {
     "data": {
      "text/plain": [
       "(22, 66)"
      ]
     },
     "execution_count": 36,
     "metadata": {},
     "output_type": "execute_result"
    }
   ],
   "source": [
    "df1.iloc[0][1], df1.iloc[1][2]"
   ]
  },
  {
   "cell_type": "code",
   "execution_count": 37,
   "id": "98a33fe8-7469-4812-bff4-b9a84ae5ee5b",
   "metadata": {},
   "outputs": [
    {
     "data": {
      "text/plain": [
       "(22, 33)"
      ]
     },
     "execution_count": 37,
     "metadata": {},
     "output_type": "execute_result"
    }
   ],
   "source": [
    "df1.loc['one']['B'], df1.loc['one']['C']"
   ]
  },
  {
   "cell_type": "code",
   "execution_count": 38,
   "id": "1d4c1a40-d11e-4078-ba45-1941d4c3c7ee",
   "metadata": {},
   "outputs": [
    {
     "data": {
      "text/plain": [
       "A    11\n",
       "B    22\n",
       "C    33\n",
       "Name: one, dtype: int64"
      ]
     },
     "execution_count": 38,
     "metadata": {},
     "output_type": "execute_result"
    }
   ],
   "source": [
    "zero = df1.iloc[0]\n",
    "zero   # 열 속성값이 Series 의 인덱스가 된다."
   ]
  },
  {
   "cell_type": "code",
   "execution_count": 39,
   "id": "adfb4bd1-9827-40d5-8071-4e5188078f49",
   "metadata": {},
   "outputs": [
    {
     "data": {
      "text/plain": [
       "one      22\n",
       "two      55\n",
       "three    88\n",
       "Name: B, dtype: int64"
      ]
     },
     "execution_count": 39,
     "metadata": {},
     "output_type": "execute_result"
    }
   ],
   "source": [
    "b = df1['B']\n",
    "b   # 행 인덱스가 Series 의 인덱스가 된다."
   ]
  },
  {
   "cell_type": "code",
   "execution_count": 40,
   "id": "a9af18ec-c993-4af5-b14d-782f61a2a6e1",
   "metadata": {},
   "outputs": [
    {
     "data": {
      "text/plain": [
       "(3, 3)"
      ]
     },
     "execution_count": 40,
     "metadata": {},
     "output_type": "execute_result"
    }
   ],
   "source": [
    "df1.shape"
   ]
  },
  {
   "cell_type": "code",
   "execution_count": 41,
   "id": "6bbe1820-dc81-43c3-a6be-7848e5a365a6",
   "metadata": {},
   "outputs": [
    {
     "data": {
      "text/plain": [
       "(Index(['one', 'two', 'three'], dtype='object'),\n",
       " Index(['A', 'B', 'C'], dtype='object'))"
      ]
     },
     "execution_count": 41,
     "metadata": {},
     "output_type": "execute_result"
    }
   ],
   "source": [
    "df1.index, df1.columns"
   ]
  },
  {
   "cell_type": "markdown",
   "id": "00349b40-d69c-405b-ada4-ac2c6437e5a4",
   "metadata": {},
   "source": [
    "- iloc 를 활용한 모든 원소 출력 => 행과 열의 번호"
   ]
  },
  {
   "cell_type": "code",
   "execution_count": 42,
   "id": "2833f577-33db-4fa7-9bcc-d77a0024f4fb",
   "metadata": {},
   "outputs": [
    {
     "name": "stdout",
     "output_type": "stream",
     "text": [
      "11\n",
      "22\n",
      "33\n",
      "44\n",
      "55\n",
      "66\n",
      "77\n",
      "88\n",
      "99\n"
     ]
    }
   ],
   "source": [
    "for row in range(df1.shape[0]):\n",
    "    for col in range(df1.shape[1]):\n",
    "        print(df1.iloc[row, col])"
   ]
  },
  {
   "cell_type": "markdown",
   "id": "b3afb3b8-3bcb-42f3-bd0d-90f0a7ec3418",
   "metadata": {},
   "source": [
    " - loc 를 활용한 모든 원소 출력 => 행 레이블/이름과 열 레이블/이름"
   ]
  },
  {
   "cell_type": "code",
   "execution_count": 43,
   "id": "7989134e-2d73-467c-ac07-ad1455370b19",
   "metadata": {},
   "outputs": [
    {
     "name": "stdout",
     "output_type": "stream",
     "text": [
      "11\n",
      "22\n",
      "33\n",
      "44\n",
      "55\n",
      "66\n",
      "77\n",
      "88\n",
      "99\n"
     ]
    }
   ],
   "source": [
    "for r in df1.index:\n",
    "    for c in df1.columns:\n",
    "        print(df1.loc[r, c])"
   ]
  },
  {
   "cell_type": "markdown",
   "id": "8b9739ed-32ea-443d-9a6c-cae3ee1a0bbe",
   "metadata": {},
   "source": [
    "#### [ 문제 ] one, three 행을 선택 후 저장하기"
   ]
  },
  {
   "cell_type": "code",
   "execution_count": 50,
   "id": "4ddfdc28-7bc8-4cbf-bf5b-9e5840e4c6c0",
   "metadata": {},
   "outputs": [
    {
     "data": {
      "text/plain": [
       "(pandas.core.frame.DataFrame,\n",
       "         A   B   C\n",
       " one    11  22  33\n",
       " three  77  88  99)"
      ]
     },
     "execution_count": 50,
     "metadata": {},
     "output_type": "execute_result"
    }
   ],
   "source": [
    "onethreeDF = df1.loc[['one', 'three']]\n",
    "type(onethreeDF), onethreeDF"
   ]
  },
  {
   "cell_type": "code",
   "execution_count": 53,
   "id": "c4413997-37f2-425e-be92-40197510aac2",
   "metadata": {},
   "outputs": [
    {
     "data": {
      "text/html": [
       "<div>\n",
       "<style scoped>\n",
       "    .dataframe tbody tr th:only-of-type {\n",
       "        vertical-align: middle;\n",
       "    }\n",
       "\n",
       "    .dataframe tbody tr th {\n",
       "        vertical-align: top;\n",
       "    }\n",
       "\n",
       "    .dataframe thead th {\n",
       "        text-align: right;\n",
       "    }\n",
       "</style>\n",
       "<table border=\"1\" class=\"dataframe\">\n",
       "  <thead>\n",
       "    <tr style=\"text-align: right;\">\n",
       "      <th></th>\n",
       "      <th>A</th>\n",
       "      <th>B</th>\n",
       "      <th>C</th>\n",
       "    </tr>\n",
       "  </thead>\n",
       "  <tbody>\n",
       "    <tr>\n",
       "      <th>one</th>\n",
       "      <td>11</td>\n",
       "      <td>22</td>\n",
       "      <td>33</td>\n",
       "    </tr>\n",
       "  </tbody>\n",
       "</table>\n",
       "</div>"
      ],
      "text/plain": [
       "      A   B   C\n",
       "one  11  22  33"
      ]
     },
     "execution_count": 53,
     "metadata": {},
     "output_type": "execute_result"
    }
   ],
   "source": [
    "df1.loc[['one']]   # 인수로 리스트를 넘기면 반환값은 DataFrame"
   ]
  },
  {
   "cell_type": "code",
   "execution_count": null,
   "id": "1ceb9b25-313c-4905-a155-cbf8d41c0249",
   "metadata": {},
   "outputs": [],
   "source": []
  }
 ],
 "metadata": {
  "kernelspec": {
   "display_name": "Python 3 (ipykernel)",
   "language": "python",
   "name": "python3"
  },
  "language_info": {
   "codemirror_mode": {
    "name": "ipython",
    "version": 3
   },
   "file_extension": ".py",
   "mimetype": "text/x-python",
   "name": "python",
   "nbconvert_exporter": "python",
   "pygments_lexer": "ipython3",
   "version": "3.8.18"
  }
 },
 "nbformat": 4,
 "nbformat_minor": 5
}
