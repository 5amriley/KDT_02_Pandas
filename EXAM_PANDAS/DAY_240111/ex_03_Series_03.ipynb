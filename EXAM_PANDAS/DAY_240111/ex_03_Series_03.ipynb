{
 "cells": [
  {
   "cell_type": "markdown",
   "id": "cce5345a-02c8-423a-833e-eb5e4d690852",
   "metadata": {},
   "source": [
    "#### [ Series 객체 원소 인덱싱 & 슬라이싱]"
   ]
  },
  {
   "cell_type": "markdown",
   "id": "d66e3778-b732-457c-a7ae-0a23cb4c0b79",
   "metadata": {},
   "source": [
    "#### (1) 모듈 로딩"
   ]
  },
  {
   "cell_type": "code",
   "execution_count": 5,
   "id": "5e420717-e8f8-4f98-b93d-d261809f6ec2",
   "metadata": {},
   "outputs": [],
   "source": [
    "import pandas as pd"
   ]
  },
  {
   "cell_type": "code",
   "execution_count": 6,
   "id": "f0e14e36-35f6-420f-9004-1597d1dff1b4",
   "metadata": {},
   "outputs": [],
   "source": [
    "sr1 = pd.Series(['홍길동', 12, '도적'], index=['name', 'age', 'job'])"
   ]
  },
  {
   "cell_type": "code",
   "execution_count": 7,
   "id": "8110b5b1-e385-4724-96dc-5c041e082db7",
   "metadata": {},
   "outputs": [
    {
     "data": {
      "text/plain": [
       "(12, 12, Index(['name', 'age', 'job'], dtype='object'))"
      ]
     },
     "execution_count": 7,
     "metadata": {},
     "output_type": "execute_result"
    }
   ],
   "source": [
    "sr1['age'], sr1[1], sr1.index"
   ]
  },
  {
   "cell_type": "code",
   "execution_count": 8,
   "id": "32133d16-1bd1-45a5-b856-291acfdddbdb",
   "metadata": {},
   "outputs": [
    {
     "data": {
      "text/plain": [
       "('홍길동', '도적', '홍길동', '도적')"
      ]
     },
     "execution_count": 8,
     "metadata": {},
     "output_type": "execute_result"
    }
   ],
   "source": [
    "# 이름과 직업 데이터 읽기   => 원소 단위로 읽기\n",
    "sr1['name'], sr1['job'], sr1[0], sr1[2]"
   ]
  },
  {
   "cell_type": "code",
   "execution_count": 9,
   "id": "2859085d-0427-49e8-b796-4d1daf741641",
   "metadata": {},
   "outputs": [],
   "source": [
    "a = [1, 2, 3]"
   ]
  },
  {
   "cell_type": "code",
   "execution_count": 10,
   "id": "e6565c97-8b2d-4277-ab0b-d574f9a68879",
   "metadata": {},
   "outputs": [
    {
     "data": {
      "text/plain": [
       "([1, 2, 3], list)"
      ]
     },
     "execution_count": 10,
     "metadata": {},
     "output_type": "execute_result"
    }
   ],
   "source": [
    "a, type(a)"
   ]
  },
  {
   "cell_type": "code",
   "execution_count": 11,
   "id": "8a6da045-fb60-42f0-9e94-941dddb0f972",
   "metadata": {},
   "outputs": [
    {
     "data": {
      "text/plain": [
       "([1], list)"
      ]
     },
     "execution_count": 11,
     "metadata": {},
     "output_type": "execute_result"
    }
   ],
   "source": [
    "a[:1], type(a[:1])"
   ]
  },
  {
   "cell_type": "code",
   "execution_count": 15,
   "id": "62b3b602-6778-4cff-876f-74b5b5e6e059",
   "metadata": {},
   "outputs": [
    {
     "data": {
      "text/plain": [
       "(pandas.core.series.Series,\n",
       " name    홍길동\n",
       " job      도적\n",
       " dtype: object)"
      ]
     },
     "execution_count": 15,
     "metadata": {},
     "output_type": "execute_result"
    }
   ],
   "source": [
    "# 이름과 직업 데이터 읽기   => 리스트 단위로 읽기\n",
    "ret = sr1[['name', 'job']]  # => 리스트로 반환\n",
    "type(ret), ret"
   ]
  },
  {
   "cell_type": "code",
   "execution_count": 16,
   "id": "50ed9ed9-6542-4dd4-a6ec-2ff15394ff88",
   "metadata": {},
   "outputs": [
    {
     "data": {
      "text/plain": [
       "(pandas.core.series.Series,\n",
       " name    홍길동\n",
       " job      도적\n",
       " dtype: object)"
      ]
     },
     "execution_count": 16,
     "metadata": {},
     "output_type": "execute_result"
    }
   ],
   "source": [
    "ret2 = sr1[[0, 2]]\n",
    "type(ret2), ret2"
   ]
  },
  {
   "cell_type": "code",
   "execution_count": 17,
   "id": "e05caece-7e89-4288-9432-7110fbda0f14",
   "metadata": {},
   "outputs": [
    {
     "data": {
      "text/plain": [
       "name    홍길동\n",
       "age      12\n",
       "dtype: object"
      ]
     },
     "execution_count": 17,
     "metadata": {},
     "output_type": "execute_result"
    }
   ],
   "source": [
    "# 위치 인덱스로 슬라이싱 -------------------------------\n",
    "sr1[:2]"
   ]
  },
  {
   "cell_type": "markdown",
   "id": "f00f5067-e0a7-4f47-a3c4-9a22dd1e302e",
   "metadata": {},
   "source": [
    "레이블 인덱스로 슬라이싱 ---------------------------------"
   ]
  },
  {
   "cell_type": "code",
   "execution_count": 18,
   "id": "b3c14610-5ed0-4af8-8244-3d23c34793db",
   "metadata": {},
   "outputs": [
    {
     "data": {
      "text/plain": [
       "name    홍길동\n",
       "age      12\n",
       "job      도적\n",
       "dtype: object"
      ]
     },
     "execution_count": 18,
     "metadata": {},
     "output_type": "execute_result"
    }
   ],
   "source": [
    "sr1['name':'job']   # 시작 <= ~ < 끝"
   ]
  },
  {
   "cell_type": "code",
   "execution_count": 19,
   "id": "b13df84b-bef2-4b18-841d-7e9567dd1f3e",
   "metadata": {},
   "outputs": [
    {
     "data": {
      "text/plain": [
       "name    홍길동\n",
       "age      12\n",
       "dtype: object"
      ]
     },
     "execution_count": 19,
     "metadata": {},
     "output_type": "execute_result"
    }
   ],
   "source": [
    "sr1['name':'age']"
   ]
  },
  {
   "cell_type": "code",
   "execution_count": null,
   "id": "76ddf1ff-10a1-4dea-8a1c-bc2ec16bff57",
   "metadata": {},
   "outputs": [],
   "source": []
  }
 ],
 "metadata": {
  "kernelspec": {
   "display_name": "Python 3 (ipykernel)",
   "language": "python",
   "name": "python3"
  },
  "language_info": {
   "codemirror_mode": {
    "name": "ipython",
    "version": 3
   },
   "file_extension": ".py",
   "mimetype": "text/x-python",
   "name": "python",
   "nbconvert_exporter": "python",
   "pygments_lexer": "ipython3",
   "version": "3.8.18"
  }
 },
 "nbformat": 4,
 "nbformat_minor": 5
}
