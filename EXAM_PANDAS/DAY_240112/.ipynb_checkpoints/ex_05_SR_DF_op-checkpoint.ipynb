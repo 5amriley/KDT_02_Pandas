{
 "cells": [
  {
   "cell_type": "code",
   "execution_count": 4,
   "id": "3aaf9bdf-cfc4-482e-a6d7-7757ae7851e6",
   "metadata": {},
   "outputs": [],
   "source": [
    "import pandas as pd\n",
    "import numpy as np           # import math as m   => m.nan"
   ]
  },
  {
   "cell_type": "code",
   "execution_count": 5,
   "id": "c816fac5-9ef0-415f-a0a6-fc89f178a348",
   "metadata": {},
   "outputs": [],
   "source": [
    "data = [5, 7, np.nan, 9, 11]"
   ]
  },
  {
   "cell_type": "markdown",
   "id": "55d874f4-c12f-4eb1-9a0f-c9baea2ecb60",
   "metadata": {},
   "source": [
    "- (3) 데이터 저장 => 1차원 데이터로 Series에 저장"
   ]
  },
  {
   "cell_type": "code",
   "execution_count": 11,
   "id": "333cec4f-36b8-4daf-98cd-abf786114d56",
   "metadata": {},
   "outputs": [
    {
     "data": {
      "text/plain": [
       "0     5.0\n",
       "1     7.0\n",
       "2     NaN\n",
       "3     9.0\n",
       "4    11.0\n",
       "dtype: float64"
      ]
     },
     "execution_count": 11,
     "metadata": {},
     "output_type": "execute_result"
    }
   ],
   "source": [
    "sr = pd.Series(data)\n",
    "sr"
   ]
  },
  {
   "cell_type": "markdown",
   "id": "91d576e2-c4c9-4464-8468-d13907fdcf4a",
   "metadata": {},
   "source": [
    "- (4) 데이터 확인"
   ]
  },
  {
   "cell_type": "code",
   "execution_count": 8,
   "id": "27e43909-d535-4618-98b8-181b0ab28294",
   "metadata": {},
   "outputs": [
    {
     "data": {
      "text/plain": [
       "(RangeIndex(start=0, stop=5, step=1), (5,), 1, dtype('float64'))"
      ]
     },
     "execution_count": 8,
     "metadata": {},
     "output_type": "execute_result"
    }
   ],
   "source": [
    "# np.nan 때문에 dtypes 는 'float64'\n",
    "sr.index, sr.shape, sr.ndim, sr.dtypes"
   ]
  },
  {
   "cell_type": "code",
   "execution_count": 9,
   "id": "14d9d8a7-1253-4139-9f3b-6c065a0766a9",
   "metadata": {},
   "outputs": [
    {
     "data": {
      "text/plain": [
       "array([ 5.,  7., nan,  9., 11.])"
      ]
     },
     "execution_count": 9,
     "metadata": {},
     "output_type": "execute_result"
    }
   ],
   "source": [
    "sr.values"
   ]
  },
  {
   "cell_type": "markdown",
   "id": "e8e45762-9873-4e41-b98a-56c37b6a2152",
   "metadata": {},
   "source": [
    "- (5) 연산 수행 => Series 객체 - 연산자 - 숫자"
   ]
  },
  {
   "cell_type": "code",
   "execution_count": 10,
   "id": "43ce2889-dbe2-4e15-a6b5-3668bbd3dd4c",
   "metadata": {},
   "outputs": [
    {
     "data": {
      "text/plain": [
       "0    10.0\n",
       "1    12.0\n",
       "2     NaN\n",
       "3    14.0\n",
       "4    16.0\n",
       "dtype: float64"
      ]
     },
     "execution_count": 10,
     "metadata": {},
     "output_type": "execute_result"
    }
   ],
   "source": [
    "sr + 5"
   ]
  },
  {
   "cell_type": "code",
   "execution_count": 12,
   "id": "1e0090f0-edb8-4b7c-8353-1bb5982ff0a6",
   "metadata": {},
   "outputs": [
    {
     "data": {
      "text/plain": [
       "0    25.0\n",
       "1    35.0\n",
       "2     NaN\n",
       "3    45.0\n",
       "4    55.0\n",
       "dtype: float64"
      ]
     },
     "execution_count": 12,
     "metadata": {},
     "output_type": "execute_result"
    }
   ],
   "source": [
    "sr * 5"
   ]
  },
  {
   "cell_type": "code",
   "execution_count": 14,
   "id": "5fadc060-bbab-4273-9175-9cb06376ec0d",
   "metadata": {},
   "outputs": [
    {
     "data": {
      "text/plain": [
       "0    0.0\n",
       "1    2.0\n",
       "2    NaN\n",
       "3    4.0\n",
       "4    1.0\n",
       "dtype: float64"
      ]
     },
     "execution_count": 14,
     "metadata": {},
     "output_type": "execute_result"
    }
   ],
   "source": [
    "sr % 5"
   ]
  },
  {
   "cell_type": "code",
   "execution_count": 15,
   "id": "844da3db-2891-44b2-bcf7-d2d7b510fb1e",
   "metadata": {},
   "outputs": [
    {
     "data": {
      "text/plain": [
       "0    False\n",
       "1     True\n",
       "2    False\n",
       "3     True\n",
       "4     True\n",
       "dtype: bool"
      ]
     },
     "execution_count": 15,
     "metadata": {},
     "output_type": "execute_result"
    }
   ],
   "source": [
    "sr > 5"
   ]
  },
  {
   "cell_type": "code",
   "execution_count": 23,
   "id": "14fc8c38-5e8e-4ecb-93c0-9dc6913f8f38",
   "metadata": {},
   "outputs": [
    {
     "data": {
      "text/plain": [
       "0    False\n",
       "1     True\n",
       "2    False\n",
       "3     True\n",
       "4    False\n",
       "dtype: bool"
      ]
     },
     "execution_count": 23,
     "metadata": {},
     "output_type": "execute_result"
    }
   ],
   "source": [
    "# pandas 에서는 and, or 연산자가 안 된다.\n",
    "# &, | , ~ 를 써야 한다.\n",
    "(sr > 5) & (sr < 10)"
   ]
  },
  {
   "cell_type": "code",
   "execution_count": 24,
   "id": "d4e9f76a-3038-4612-a65b-7cdc2896e092",
   "metadata": {},
   "outputs": [
    {
     "data": {
      "text/plain": [
       "0     True\n",
       "1     True\n",
       "2    False\n",
       "3     True\n",
       "4     True\n",
       "dtype: bool"
      ]
     },
     "execution_count": 24,
     "metadata": {},
     "output_type": "execute_result"
    }
   ],
   "source": [
    "(sr > 5) | (sr < 10)"
   ]
  },
  {
   "cell_type": "code",
   "execution_count": 25,
   "id": "5d64f105-3dba-4463-86b9-f94be0615959",
   "metadata": {},
   "outputs": [
    {
     "data": {
      "text/plain": [
       "0     True\n",
       "1    False\n",
       "2     True\n",
       "3    False\n",
       "4    False\n",
       "dtype: bool"
      ]
     },
     "execution_count": 25,
     "metadata": {},
     "output_type": "execute_result"
    }
   ],
   "source": [
    "~(sr>5)"
   ]
  },
  {
   "cell_type": "markdown",
   "id": "c5347464-3dda-4041-adc3-706dac42ca60",
   "metadata": {},
   "source": [
    "- (5) 연산 수행 => Series 객체 - 연산자 - Series 객체"
   ]
  },
  {
   "cell_type": "code",
   "execution_count": 26,
   "id": "d3fa3da9-e08e-4f94-86b1-5b024942f497",
   "metadata": {},
   "outputs": [],
   "source": [
    "data2 = [2, 4, 6, 8, 9]\n",
    "sr2 = pd.Series(data2)"
   ]
  },
  {
   "cell_type": "code",
   "execution_count": 27,
   "id": "ed133759-fd0f-46e1-8c28-99008c8bcd7c",
   "metadata": {},
   "outputs": [
    {
     "name": "stdout",
     "output_type": "stream",
     "text": [
      "0     7.0\n",
      "1    11.0\n",
      "2     NaN\n",
      "3    17.0\n",
      "4    20.0\n",
      "dtype: float64\n",
      "\n",
      "0    3.0\n",
      "1    3.0\n",
      "2    NaN\n",
      "3    1.0\n",
      "4    2.0\n",
      "dtype: float64\n",
      "\n",
      "0    10.0\n",
      "1    28.0\n",
      "2     NaN\n",
      "3    72.0\n",
      "4    99.0\n",
      "dtype: float64\n",
      "\n",
      "0    2.500000\n",
      "1    1.750000\n",
      "2         NaN\n",
      "3    1.125000\n",
      "4    1.222222\n",
      "dtype: float64\n",
      "\n",
      "0    1.0\n",
      "1    3.0\n",
      "2    NaN\n",
      "3    1.0\n",
      "4    2.0\n",
      "dtype: float64\n"
     ]
    }
   ],
   "source": [
    "print(sr + sr2, sr - sr2, sr * sr2, sr / sr2, sr % sr2, sep='\\n\\n')"
   ]
  },
  {
   "cell_type": "code",
   "execution_count": 30,
   "id": "34afac39-11b7-43d8-9f72-b77fa5f998af",
   "metadata": {},
   "outputs": [
    {
     "name": "stdout",
     "output_type": "stream",
     "text": [
      "0     True\n",
      "1     True\n",
      "2    False\n",
      "3     True\n",
      "4     True\n",
      "dtype: bool\n",
      "\n",
      "0    False\n",
      "1    False\n",
      "2    False\n",
      "3    False\n",
      "4    False\n",
      "dtype: bool\n"
     ]
    }
   ],
   "source": [
    "print(sr > sr2, sr < sr2, sep='\\n\\n')"
   ]
  },
  {
   "cell_type": "code",
   "execution_count": 31,
   "id": "9f4a1698-5a99-48e5-90ee-b9f365b3c8c6",
   "metadata": {},
   "outputs": [
    {
     "data": {
      "text/plain": [
       "2    2\n",
       "3    4\n",
       "4    6\n",
       "5    8\n",
       "6    9\n",
       "dtype: int64"
      ]
     },
     "execution_count": 31,
     "metadata": {},
     "output_type": "execute_result"
    }
   ],
   "source": [
    "sr2.index = [2, 3, 4, 5, 6]\n",
    "sr2"
   ]
  },
  {
   "cell_type": "code",
   "execution_count": 36,
   "id": "dfa34d52-6cb1-4aed-8641-460337c94026",
   "metadata": {},
   "outputs": [
    {
     "name": "stdout",
     "output_type": "stream",
     "text": [
      "0     NaN\n",
      "1     NaN\n",
      "2     NaN\n",
      "3    13.0\n",
      "4    17.0\n",
      "5     NaN\n",
      "6     NaN\n",
      "dtype: float64\n",
      "\n",
      "0    NaN\n",
      "1    NaN\n",
      "2    NaN\n",
      "3    5.0\n",
      "4    5.0\n",
      "5    NaN\n",
      "6    NaN\n",
      "dtype: float64\n",
      "\n",
      "0     NaN\n",
      "1     NaN\n",
      "2     NaN\n",
      "3    36.0\n",
      "4    66.0\n",
      "5     NaN\n",
      "6     NaN\n",
      "dtype: float64\n",
      "\n",
      "0         NaN\n",
      "1         NaN\n",
      "2         NaN\n",
      "3    2.250000\n",
      "4    1.833333\n",
      "5         NaN\n",
      "6         NaN\n",
      "dtype: float64\n",
      "\n",
      "0    NaN\n",
      "1    NaN\n",
      "2    NaN\n",
      "3    1.0\n",
      "4    5.0\n",
      "5    NaN\n",
      "6    NaN\n",
      "dtype: float64\n"
     ]
    }
   ],
   "source": [
    "print(sr + sr2, sr - sr2, sr * sr2, sr / sr2, sr % sr2, sep='\\n\\n')"
   ]
  },
  {
   "cell_type": "code",
   "execution_count": 39,
   "id": "9b94b4da-ec5b-48d4-bb9b-e2f73abbe0e3",
   "metadata": {},
   "outputs": [
    {
     "name": "stdout",
     "output_type": "stream",
     "text": [
      "   index  0\n",
      "0      2  2\n",
      "1      3  4\n",
      "2      4  6\n",
      "3      5  8\n",
      "4      6  9\n",
      "\n",
      "0    2\n",
      "1    4\n",
      "2    6\n",
      "3    8\n",
      "4    9\n",
      "dtype: int64\n"
     ]
    }
   ],
   "source": [
    "print(sr2.reset_index(), sr2.reset_index(drop=True), sep='\\n\\n')"
   ]
  },
  {
   "cell_type": "markdown",
   "id": "fd01def1-f0b9-4665-a4fd-ede3df450430",
   "metadata": {},
   "source": [
    "- (5) Series 연산수행 => 전용 메서드"
   ]
  },
  {
   "cell_type": "code",
   "execution_count": 42,
   "id": "66455315-f9ce-48c9-8a27-acd727e6acdc",
   "metadata": {},
   "outputs": [
    {
     "name": "stdout",
     "output_type": "stream",
     "text": [
      "0    10.0\n",
      "1    12.0\n",
      "2     NaN\n",
      "3    14.0\n",
      "4    16.0\n",
      "dtype: float64\n",
      "\n",
      "0    10.0\n",
      "1    12.0\n",
      "2     5.0\n",
      "3    14.0\n",
      "4    16.0\n",
      "dtype: float64\n"
     ]
    }
   ],
   "source": [
    "print(sr.add(5), sr.add(5, fill_value=0), sep='\\n\\n')"
   ]
  },
  {
   "cell_type": "code",
   "execution_count": 49,
   "id": "dccf1546-c07e-42d0-a0c4-c07273a856b4",
   "metadata": {},
   "outputs": [],
   "source": [
    "addSR = sr.add(sr2.reset_index(drop=True), fill_value=0)\n",
    "subSR = sr.sub(sr2.reset_index(drop=True), fill_value=0)\n",
    "mulSR = sr.mul(sr2.reset_index(drop=True), fill_value=0)\n",
    "divSR = sr.div(sr2.reset_index(drop=True), fill_value=0)"
   ]
  },
  {
   "cell_type": "code",
   "execution_count": 50,
   "id": "021f196b-b2ad-46ee-b68a-985e07bc0833",
   "metadata": {},
   "outputs": [],
   "source": [
    "df = pd.DataFrame([addSR, subSR, mulSR, divSR])"
   ]
  },
  {
   "cell_type": "markdown",
   "id": "d1d094e8-1a18-4ca8-bb80-bb3acebef60a",
   "metadata": {},
   "source": [
    "- DataFrame 과 숫자 연산 수행"
   ]
  },
  {
   "cell_type": "code",
   "execution_count": 51,
   "id": "d2285eeb-59ab-4c8a-bd2c-c492757eb4e8",
   "metadata": {},
   "outputs": [
    {
     "name": "stdout",
     "output_type": "stream",
     "text": [
      "      0      1     2       3           4\n",
      "0  12.0  16.00  11.0  22.000   25.000000\n",
      "1   8.0   8.00  -1.0   6.000    7.000000\n",
      "2  15.0  33.00   5.0  77.000  104.000000\n",
      "3   7.5   6.75   5.0   6.125    6.222222\n",
      "\n",
      "     0      1     2       3          4\n",
      "0  2.0   6.00   1.0  12.000  15.000000\n",
      "1 -2.0  -2.00 -11.0  -4.000  -3.000000\n",
      "2  5.0  23.00  -5.0  67.000  94.000000\n",
      "3 -2.5  -3.25  -5.0  -3.875  -3.777778\n"
     ]
    }
   ],
   "source": [
    "print(df+5, df-5, sep='\\n\\n')"
   ]
  },
  {
   "cell_type": "code",
   "execution_count": 52,
   "id": "dbc5af60-9ce6-4008-9c2b-5ff55e1a4281",
   "metadata": {},
   "outputs": [
    {
     "name": "stdout",
     "output_type": "stream",
     "text": [
      "       0      1      2      3      4\n",
      "0   True   True   True   True   True\n",
      "1  False  False  False  False  False\n",
      "2   True   True  False   True   True\n",
      "3  False  False  False  False  False\n",
      "\n",
      "       0      1      2      3      4\n",
      "0  False  False  False  False  False\n",
      "1   True   True   True   True   True\n",
      "2  False  False   True  False  False\n",
      "3   True   True   True   True   True\n"
     ]
    }
   ],
   "source": [
    "print(df>5, df<5, sep='\\n\\n')"
   ]
  },
  {
   "cell_type": "markdown",
   "id": "44768732-b25f-4c52-885e-c2adbc1c637a",
   "metadata": {},
   "source": [
    "- DataFrame과 DataFrame 연산 수행 => 동일 위치의 원소끼리 연산 수행"
   ]
  },
  {
   "cell_type": "code",
   "execution_count": 54,
   "id": "d5d5c2ee-5261-4419-bbcc-3208fa4ae43e",
   "metadata": {},
   "outputs": [
    {
     "data": {
      "text/html": [
       "<div>\n",
       "<style scoped>\n",
       "    .dataframe tbody tr th:only-of-type {\n",
       "        vertical-align: middle;\n",
       "    }\n",
       "\n",
       "    .dataframe tbody tr th {\n",
       "        vertical-align: top;\n",
       "    }\n",
       "\n",
       "    .dataframe thead th {\n",
       "        text-align: right;\n",
       "    }\n",
       "</style>\n",
       "<table border=\"1\" class=\"dataframe\">\n",
       "  <thead>\n",
       "    <tr style=\"text-align: right;\">\n",
       "      <th></th>\n",
       "      <th>0</th>\n",
       "      <th>1</th>\n",
       "      <th>2</th>\n",
       "      <th>3</th>\n",
       "      <th>4</th>\n",
       "    </tr>\n",
       "  </thead>\n",
       "  <tbody>\n",
       "    <tr>\n",
       "      <th>0</th>\n",
       "      <td>70.0</td>\n",
       "      <td>110.0</td>\n",
       "      <td>60.0</td>\n",
       "      <td>170.00</td>\n",
       "      <td>200.000000</td>\n",
       "    </tr>\n",
       "    <tr>\n",
       "      <th>1</th>\n",
       "      <td>30.0</td>\n",
       "      <td>30.0</td>\n",
       "      <td>-60.0</td>\n",
       "      <td>10.00</td>\n",
       "      <td>20.000000</td>\n",
       "    </tr>\n",
       "    <tr>\n",
       "      <th>2</th>\n",
       "      <td>100.0</td>\n",
       "      <td>280.0</td>\n",
       "      <td>0.0</td>\n",
       "      <td>720.00</td>\n",
       "      <td>990.000000</td>\n",
       "    </tr>\n",
       "    <tr>\n",
       "      <th>3</th>\n",
       "      <td>25.0</td>\n",
       "      <td>17.5</td>\n",
       "      <td>0.0</td>\n",
       "      <td>11.25</td>\n",
       "      <td>12.222222</td>\n",
       "    </tr>\n",
       "  </tbody>\n",
       "</table>\n",
       "</div>"
      ],
      "text/plain": [
       "       0      1     2       3           4\n",
       "0   70.0  110.0  60.0  170.00  200.000000\n",
       "1   30.0   30.0 -60.0   10.00   20.000000\n",
       "2  100.0  280.0   0.0  720.00  990.000000\n",
       "3   25.0   17.5   0.0   11.25   12.222222"
      ]
     },
     "execution_count": 54,
     "metadata": {},
     "output_type": "execute_result"
    }
   ],
   "source": [
    "df2 = df*10\n",
    "df2"
   ]
  },
  {
   "cell_type": "code",
   "execution_count": 55,
   "id": "63359296-9a70-461c-a3e8-cadfb2da85bf",
   "metadata": {},
   "outputs": [
    {
     "name": "stdout",
     "output_type": "stream",
     "text": [
      "       0       1     2        3            4\n",
      "0   77.0  121.00  66.0  187.000   220.000000\n",
      "1   33.0   33.00 -66.0   11.000    22.000000\n",
      "2  110.0  308.00   0.0  792.000  1089.000000\n",
      "3   27.5   19.25   0.0   12.375    13.444444\n",
      "\n",
      "        0         1      2            3             4\n",
      "0   490.0  1210.000  360.0   2890.00000   4000.000000\n",
      "1    90.0    90.000  360.0     10.00000     40.000000\n",
      "2  1000.0  7840.000    0.0  51840.00000  98010.000000\n",
      "3    62.5    30.625    0.0     12.65625     14.938272\n"
     ]
    }
   ],
   "source": [
    "print(df+df2, df*df2, sep='\\n\\n')"
   ]
  },
  {
   "cell_type": "code",
   "execution_count": 56,
   "id": "6fb39fd0-db8d-4fe7-ad7d-92074db6cb32",
   "metadata": {},
   "outputs": [
    {
     "data": {
      "text/plain": [
       "(RangeIndex(start=0, stop=4, step=1), RangeIndex(start=0, stop=5, step=1))"
      ]
     },
     "execution_count": 56,
     "metadata": {},
     "output_type": "execute_result"
    }
   ],
   "source": [
    "df.index, df.columns"
   ]
  },
  {
   "cell_type": "code",
   "execution_count": 57,
   "id": "ed9c75b5-6784-4fbf-8f92-eda9b5d9588e",
   "metadata": {},
   "outputs": [
    {
     "data": {
      "text/plain": [
       "(RangeIndex(start=0, stop=4, step=1), RangeIndex(start=0, stop=5, step=1))"
      ]
     },
     "execution_count": 57,
     "metadata": {},
     "output_type": "execute_result"
    }
   ],
   "source": [
    "df2.index, df2.columns"
   ]
  },
  {
   "cell_type": "code",
   "execution_count": 65,
   "id": "5536cf89-2dd9-408d-bcd6-2964c4c09b9d",
   "metadata": {},
   "outputs": [],
   "source": [
    "df.index = ['add', 'sub', 'mul', 'div']"
   ]
  },
  {
   "cell_type": "code",
   "execution_count": 66,
   "id": "ec7beff2-2b4a-4614-823b-f2b8cd4e19bf",
   "metadata": {},
   "outputs": [],
   "source": [
    "df2.index = ['add', 'minus', 'mul', '/']"
   ]
  },
  {
   "cell_type": "code",
   "execution_count": 67,
   "id": "164566dc-1ea5-4219-a32f-5cbe59263257",
   "metadata": {},
   "outputs": [
    {
     "data": {
      "text/html": [
       "<div>\n",
       "<style scoped>\n",
       "    .dataframe tbody tr th:only-of-type {\n",
       "        vertical-align: middle;\n",
       "    }\n",
       "\n",
       "    .dataframe tbody tr th {\n",
       "        vertical-align: top;\n",
       "    }\n",
       "\n",
       "    .dataframe thead th {\n",
       "        text-align: right;\n",
       "    }\n",
       "</style>\n",
       "<table border=\"1\" class=\"dataframe\">\n",
       "  <thead>\n",
       "    <tr style=\"text-align: right;\">\n",
       "      <th></th>\n",
       "      <th>0</th>\n",
       "      <th>1</th>\n",
       "      <th>2</th>\n",
       "      <th>3</th>\n",
       "      <th>4</th>\n",
       "    </tr>\n",
       "  </thead>\n",
       "  <tbody>\n",
       "    <tr>\n",
       "      <th>/</th>\n",
       "      <td>NaN</td>\n",
       "      <td>NaN</td>\n",
       "      <td>NaN</td>\n",
       "      <td>NaN</td>\n",
       "      <td>NaN</td>\n",
       "    </tr>\n",
       "    <tr>\n",
       "      <th>add</th>\n",
       "      <td>77.0</td>\n",
       "      <td>121.0</td>\n",
       "      <td>66.0</td>\n",
       "      <td>187.0</td>\n",
       "      <td>220.0</td>\n",
       "    </tr>\n",
       "    <tr>\n",
       "      <th>div</th>\n",
       "      <td>NaN</td>\n",
       "      <td>NaN</td>\n",
       "      <td>NaN</td>\n",
       "      <td>NaN</td>\n",
       "      <td>NaN</td>\n",
       "    </tr>\n",
       "    <tr>\n",
       "      <th>minus</th>\n",
       "      <td>NaN</td>\n",
       "      <td>NaN</td>\n",
       "      <td>NaN</td>\n",
       "      <td>NaN</td>\n",
       "      <td>NaN</td>\n",
       "    </tr>\n",
       "    <tr>\n",
       "      <th>mul</th>\n",
       "      <td>110.0</td>\n",
       "      <td>308.0</td>\n",
       "      <td>0.0</td>\n",
       "      <td>792.0</td>\n",
       "      <td>1089.0</td>\n",
       "    </tr>\n",
       "    <tr>\n",
       "      <th>sub</th>\n",
       "      <td>NaN</td>\n",
       "      <td>NaN</td>\n",
       "      <td>NaN</td>\n",
       "      <td>NaN</td>\n",
       "      <td>NaN</td>\n",
       "    </tr>\n",
       "  </tbody>\n",
       "</table>\n",
       "</div>"
      ],
      "text/plain": [
       "           0      1     2      3       4\n",
       "/        NaN    NaN   NaN    NaN     NaN\n",
       "add     77.0  121.0  66.0  187.0   220.0\n",
       "div      NaN    NaN   NaN    NaN     NaN\n",
       "minus    NaN    NaN   NaN    NaN     NaN\n",
       "mul    110.0  308.0   0.0  792.0  1089.0\n",
       "sub      NaN    NaN   NaN    NaN     NaN"
      ]
     },
     "execution_count": 67,
     "metadata": {},
     "output_type": "execute_result"
    }
   ],
   "source": [
    "df + df2"
   ]
  },
  {
   "cell_type": "markdown",
   "id": "faeb4666-9bab-4b65-94e6-d820c71c1b33",
   "metadata": {},
   "source": [
    "- 연산 수행 메소드 활용 => 결측치(NaN) 빈칸에 대한 처리를 수행 가능\n",
    "    * fill_value 파라미터에 값 설정"
   ]
  },
  {
   "cell_type": "code",
   "execution_count": 68,
   "id": "413e8627-5858-43a4-bef6-6d068fc6c04d",
   "metadata": {},
   "outputs": [
    {
     "data": {
      "text/html": [
       "<div>\n",
       "<style scoped>\n",
       "    .dataframe tbody tr th:only-of-type {\n",
       "        vertical-align: middle;\n",
       "    }\n",
       "\n",
       "    .dataframe tbody tr th {\n",
       "        vertical-align: top;\n",
       "    }\n",
       "\n",
       "    .dataframe thead th {\n",
       "        text-align: right;\n",
       "    }\n",
       "</style>\n",
       "<table border=\"1\" class=\"dataframe\">\n",
       "  <thead>\n",
       "    <tr style=\"text-align: right;\">\n",
       "      <th></th>\n",
       "      <th>0</th>\n",
       "      <th>1</th>\n",
       "      <th>2</th>\n",
       "      <th>3</th>\n",
       "      <th>4</th>\n",
       "    </tr>\n",
       "  </thead>\n",
       "  <tbody>\n",
       "    <tr>\n",
       "      <th>/</th>\n",
       "      <td>25.0</td>\n",
       "      <td>17.50</td>\n",
       "      <td>0.0</td>\n",
       "      <td>11.250</td>\n",
       "      <td>12.222222</td>\n",
       "    </tr>\n",
       "    <tr>\n",
       "      <th>add</th>\n",
       "      <td>77.0</td>\n",
       "      <td>121.00</td>\n",
       "      <td>66.0</td>\n",
       "      <td>187.000</td>\n",
       "      <td>220.000000</td>\n",
       "    </tr>\n",
       "    <tr>\n",
       "      <th>div</th>\n",
       "      <td>2.5</td>\n",
       "      <td>1.75</td>\n",
       "      <td>0.0</td>\n",
       "      <td>1.125</td>\n",
       "      <td>1.222222</td>\n",
       "    </tr>\n",
       "    <tr>\n",
       "      <th>minus</th>\n",
       "      <td>30.0</td>\n",
       "      <td>30.00</td>\n",
       "      <td>-60.0</td>\n",
       "      <td>10.000</td>\n",
       "      <td>20.000000</td>\n",
       "    </tr>\n",
       "    <tr>\n",
       "      <th>mul</th>\n",
       "      <td>110.0</td>\n",
       "      <td>308.00</td>\n",
       "      <td>0.0</td>\n",
       "      <td>792.000</td>\n",
       "      <td>1089.000000</td>\n",
       "    </tr>\n",
       "    <tr>\n",
       "      <th>sub</th>\n",
       "      <td>3.0</td>\n",
       "      <td>3.00</td>\n",
       "      <td>-6.0</td>\n",
       "      <td>1.000</td>\n",
       "      <td>2.000000</td>\n",
       "    </tr>\n",
       "  </tbody>\n",
       "</table>\n",
       "</div>"
      ],
      "text/plain": [
       "           0       1     2        3            4\n",
       "/       25.0   17.50   0.0   11.250    12.222222\n",
       "add     77.0  121.00  66.0  187.000   220.000000\n",
       "div      2.5    1.75   0.0    1.125     1.222222\n",
       "minus   30.0   30.00 -60.0   10.000    20.000000\n",
       "mul    110.0  308.00   0.0  792.000  1089.000000\n",
       "sub      3.0    3.00  -6.0    1.000     2.000000"
      ]
     },
     "execution_count": 68,
     "metadata": {},
     "output_type": "execute_result"
    }
   ],
   "source": [
    "df.add(df2, fill_value=0)"
   ]
  },
  {
   "cell_type": "code",
   "execution_count": null,
   "id": "d3e12ef7-e586-4543-b31a-8035b543783f",
   "metadata": {},
   "outputs": [],
   "source": []
  }
 ],
 "metadata": {
  "kernelspec": {
   "display_name": "Python 3 (ipykernel)",
   "language": "python",
   "name": "python3"
  },
  "language_info": {
   "codemirror_mode": {
    "name": "ipython",
    "version": 3
   },
   "file_extension": ".py",
   "mimetype": "text/x-python",
   "name": "python",
   "nbconvert_exporter": "python",
   "pygments_lexer": "ipython3",
   "version": "3.8.18"
  }
 },
 "nbformat": 4,
 "nbformat_minor": 5
}
