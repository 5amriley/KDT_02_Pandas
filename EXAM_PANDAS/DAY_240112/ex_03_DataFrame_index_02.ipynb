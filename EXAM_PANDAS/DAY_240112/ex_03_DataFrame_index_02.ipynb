{
 "cells": [
  {
   "cell_type": "markdown",
   "id": "595b3d2e-84a6-4ba8-b63b-fac47a0ba316",
   "metadata": {},
   "source": [
    "## [ DataFrame 인덱스 다루기 ]"
   ]
  },
  {
   "cell_type": "markdown",
   "id": "639e58f4-4265-4254-a169-cd1c78f07d32",
   "metadata": {},
   "source": [
    "- (1) 새로운 인덱스 설정 컬럼 ==> 인덱스 설정"
   ]
  },
  {
   "cell_type": "markdown",
   "id": "8f9bf607-6e0f-48bb-a037-00c148179525",
   "metadata": {},
   "source": [
    "<hr> (1) 모듈 로딩 <hr>"
   ]
  },
  {
   "cell_type": "code",
   "execution_count": 18,
   "id": "74a6b207-5895-49ef-b424-9faffdccacde",
   "metadata": {},
   "outputs": [],
   "source": [
    "import pandas as pd"
   ]
  },
  {
   "cell_type": "markdown",
   "id": "83ddb942-6383-49ea-b2a6-f77c47944ed8",
   "metadata": {},
   "source": [
    "<hr> (2) 데이터 준비 <hr>"
   ]
  },
  {
   "cell_type": "code",
   "execution_count": 19,
   "id": "3a7b4260-0cf8-491b-9426-b30b8d05a107",
   "metadata": {},
   "outputs": [],
   "source": [
    "exam = {'이름' : [ '마징가', '배트맨', '홍길동','임꺽정'], \n",
    "        '국어' : [ 98, 79, 99, 100],\n",
    "        '미술' : [ 70, 99, 87, 80],\n",
    "        '수학' : [ 77, 70, 98, 72],\n",
    "        '체육' : [ 77, 93, 69, 91]}"
   ]
  },
  {
   "cell_type": "markdown",
   "id": "3ac08530-614e-4945-8cff-944e27cba2e5",
   "metadata": {},
   "source": [
    "<hr> (3) 데이터 저장 <hr>"
   ]
  },
  {
   "cell_type": "code",
   "execution_count": 20,
   "id": "3239cc66-df32-42f5-88ae-c4ab61302e90",
   "metadata": {},
   "outputs": [],
   "source": [
    "examDF = pd.DataFrame(exam)"
   ]
  },
  {
   "cell_type": "markdown",
   "id": "d4ac6b29-faa2-4e56-be23-0b99bebd0e7a",
   "metadata": {},
   "source": [
    "<hr> (4) 데이터 확인 <hr>"
   ]
  },
  {
   "cell_type": "code",
   "execution_count": 21,
   "id": "c13c6fce-1521-4f5d-bffe-1feeaa1980bb",
   "metadata": {},
   "outputs": [
    {
     "data": {
      "text/html": [
       "<div>\n",
       "<style scoped>\n",
       "    .dataframe tbody tr th:only-of-type {\n",
       "        vertical-align: middle;\n",
       "    }\n",
       "\n",
       "    .dataframe tbody tr th {\n",
       "        vertical-align: top;\n",
       "    }\n",
       "\n",
       "    .dataframe thead th {\n",
       "        text-align: right;\n",
       "    }\n",
       "</style>\n",
       "<table border=\"1\" class=\"dataframe\">\n",
       "  <thead>\n",
       "    <tr style=\"text-align: right;\">\n",
       "      <th></th>\n",
       "      <th>이름</th>\n",
       "      <th>국어</th>\n",
       "      <th>미술</th>\n",
       "      <th>수학</th>\n",
       "      <th>체육</th>\n",
       "    </tr>\n",
       "  </thead>\n",
       "  <tbody>\n",
       "    <tr>\n",
       "      <th>0</th>\n",
       "      <td>마징가</td>\n",
       "      <td>98</td>\n",
       "      <td>70</td>\n",
       "      <td>77</td>\n",
       "      <td>77</td>\n",
       "    </tr>\n",
       "    <tr>\n",
       "      <th>1</th>\n",
       "      <td>배트맨</td>\n",
       "      <td>79</td>\n",
       "      <td>99</td>\n",
       "      <td>70</td>\n",
       "      <td>93</td>\n",
       "    </tr>\n",
       "    <tr>\n",
       "      <th>2</th>\n",
       "      <td>홍길동</td>\n",
       "      <td>99</td>\n",
       "      <td>87</td>\n",
       "      <td>98</td>\n",
       "      <td>69</td>\n",
       "    </tr>\n",
       "    <tr>\n",
       "      <th>3</th>\n",
       "      <td>임꺽정</td>\n",
       "      <td>100</td>\n",
       "      <td>80</td>\n",
       "      <td>72</td>\n",
       "      <td>91</td>\n",
       "    </tr>\n",
       "  </tbody>\n",
       "</table>\n",
       "</div>"
      ],
      "text/plain": [
       "    이름   국어  미술  수학  체육\n",
       "0  마징가   98  70  77  77\n",
       "1  배트맨   79  99  70  93\n",
       "2  홍길동   99  87  98  69\n",
       "3  임꺽정  100  80  72  91"
      ]
     },
     "execution_count": 21,
     "metadata": {},
     "output_type": "execute_result"
    }
   ],
   "source": [
    "examDF"
   ]
  },
  {
   "cell_type": "markdown",
   "id": "fb17c03d-504f-4b05-8bdb-d2003cc2826e",
   "metadata": {},
   "source": [
    "- 행 데이터 추가"
   ]
  },
  {
   "cell_type": "code",
   "execution_count": 22,
   "id": "38253098-80b3-4746-9bdd-e82426eb8ccc",
   "metadata": {},
   "outputs": [],
   "source": [
    "# 마징가 98 50 60 77\n",
    "examDF.loc[4]=['마징가',98,50,60,77]"
   ]
  },
  {
   "cell_type": "code",
   "execution_count": 23,
   "id": "d3e2773b-6023-4be8-8651-82b9b0b757c4",
   "metadata": {},
   "outputs": [],
   "source": [
    "# 마징가 98 \n",
    "examDF.loc[5]=['마징가', 98,87,70,91]"
   ]
  },
  {
   "cell_type": "code",
   "execution_count": 24,
   "id": "f87c2a3d-8ff6-418e-beab-2dc6154890bc",
   "metadata": {},
   "outputs": [
    {
     "data": {
      "text/html": [
       "<div>\n",
       "<style scoped>\n",
       "    .dataframe tbody tr th:only-of-type {\n",
       "        vertical-align: middle;\n",
       "    }\n",
       "\n",
       "    .dataframe tbody tr th {\n",
       "        vertical-align: top;\n",
       "    }\n",
       "\n",
       "    .dataframe thead th {\n",
       "        text-align: right;\n",
       "    }\n",
       "</style>\n",
       "<table border=\"1\" class=\"dataframe\">\n",
       "  <thead>\n",
       "    <tr style=\"text-align: right;\">\n",
       "      <th></th>\n",
       "      <th>이름</th>\n",
       "      <th>국어</th>\n",
       "      <th>미술</th>\n",
       "      <th>수학</th>\n",
       "      <th>체육</th>\n",
       "    </tr>\n",
       "  </thead>\n",
       "  <tbody>\n",
       "    <tr>\n",
       "      <th>0</th>\n",
       "      <td>마징가</td>\n",
       "      <td>98</td>\n",
       "      <td>70</td>\n",
       "      <td>77</td>\n",
       "      <td>77</td>\n",
       "    </tr>\n",
       "    <tr>\n",
       "      <th>1</th>\n",
       "      <td>배트맨</td>\n",
       "      <td>79</td>\n",
       "      <td>99</td>\n",
       "      <td>70</td>\n",
       "      <td>93</td>\n",
       "    </tr>\n",
       "    <tr>\n",
       "      <th>2</th>\n",
       "      <td>홍길동</td>\n",
       "      <td>99</td>\n",
       "      <td>87</td>\n",
       "      <td>98</td>\n",
       "      <td>69</td>\n",
       "    </tr>\n",
       "    <tr>\n",
       "      <th>3</th>\n",
       "      <td>임꺽정</td>\n",
       "      <td>100</td>\n",
       "      <td>80</td>\n",
       "      <td>72</td>\n",
       "      <td>91</td>\n",
       "    </tr>\n",
       "    <tr>\n",
       "      <th>4</th>\n",
       "      <td>마징가</td>\n",
       "      <td>98</td>\n",
       "      <td>50</td>\n",
       "      <td>60</td>\n",
       "      <td>77</td>\n",
       "    </tr>\n",
       "    <tr>\n",
       "      <th>5</th>\n",
       "      <td>마징가</td>\n",
       "      <td>98</td>\n",
       "      <td>87</td>\n",
       "      <td>70</td>\n",
       "      <td>91</td>\n",
       "    </tr>\n",
       "  </tbody>\n",
       "</table>\n",
       "</div>"
      ],
      "text/plain": [
       "    이름   국어  미술  수학  체육\n",
       "0  마징가   98  70  77  77\n",
       "1  배트맨   79  99  70  93\n",
       "2  홍길동   99  87  98  69\n",
       "3  임꺽정  100  80  72  91\n",
       "4  마징가   98  50  60  77\n",
       "5  마징가   98  87  70  91"
      ]
     },
     "execution_count": 24,
     "metadata": {},
     "output_type": "execute_result"
    }
   ],
   "source": [
    "examDF"
   ]
  },
  {
   "cell_type": "markdown",
   "id": "5c92ed40-8659-40c6-9bef-7608ada62de0",
   "metadata": {},
   "source": [
    "멀티인덱스를 쓰는 이유 :  \n",
    "인덱스 하나만으로는 중복되지 않게 만들 수 없을 때,  \n",
    "인덱스 2개를 하나의 인덱스로 씀으로써 인덱스가 중복되지 않게 하여 값을 특정할 수 있게 하는 것"
   ]
  },
  {
   "cell_type": "code",
   "execution_count": 27,
   "id": "9d88c308-ff2f-479f-8190-1211cbfae845",
   "metadata": {},
   "outputs": [
    {
     "data": {
      "text/html": [
       "<div>\n",
       "<style scoped>\n",
       "    .dataframe tbody tr th:only-of-type {\n",
       "        vertical-align: middle;\n",
       "    }\n",
       "\n",
       "    .dataframe tbody tr th {\n",
       "        vertical-align: top;\n",
       "    }\n",
       "\n",
       "    .dataframe thead th {\n",
       "        text-align: right;\n",
       "    }\n",
       "</style>\n",
       "<table border=\"1\" class=\"dataframe\">\n",
       "  <thead>\n",
       "    <tr style=\"text-align: right;\">\n",
       "      <th></th>\n",
       "      <th></th>\n",
       "      <th></th>\n",
       "      <th>미술</th>\n",
       "      <th>체육</th>\n",
       "    </tr>\n",
       "    <tr>\n",
       "      <th>이름</th>\n",
       "      <th>국어</th>\n",
       "      <th>수학</th>\n",
       "      <th></th>\n",
       "      <th></th>\n",
       "    </tr>\n",
       "  </thead>\n",
       "  <tbody>\n",
       "    <tr>\n",
       "      <th>마징가</th>\n",
       "      <th>98</th>\n",
       "      <th>77</th>\n",
       "      <td>70</td>\n",
       "      <td>77</td>\n",
       "    </tr>\n",
       "    <tr>\n",
       "      <th>배트맨</th>\n",
       "      <th>79</th>\n",
       "      <th>70</th>\n",
       "      <td>99</td>\n",
       "      <td>93</td>\n",
       "    </tr>\n",
       "    <tr>\n",
       "      <th>홍길동</th>\n",
       "      <th>99</th>\n",
       "      <th>98</th>\n",
       "      <td>87</td>\n",
       "      <td>69</td>\n",
       "    </tr>\n",
       "    <tr>\n",
       "      <th>임꺽정</th>\n",
       "      <th>100</th>\n",
       "      <th>72</th>\n",
       "      <td>80</td>\n",
       "      <td>91</td>\n",
       "    </tr>\n",
       "    <tr>\n",
       "      <th rowspan=\"2\" valign=\"top\">마징가</th>\n",
       "      <th rowspan=\"2\" valign=\"top\">98</th>\n",
       "      <th>60</th>\n",
       "      <td>50</td>\n",
       "      <td>77</td>\n",
       "    </tr>\n",
       "    <tr>\n",
       "      <th>70</th>\n",
       "      <td>87</td>\n",
       "      <td>91</td>\n",
       "    </tr>\n",
       "  </tbody>\n",
       "</table>\n",
       "</div>"
      ],
      "text/plain": [
       "            미술  체육\n",
       "이름  국어  수학        \n",
       "마징가 98  77  70  77\n",
       "배트맨 79  70  99  93\n",
       "홍길동 99  98  87  69\n",
       "임꺽정 100 72  80  91\n",
       "마징가 98  60  50  77\n",
       "        70  87  91"
      ]
     },
     "execution_count": 27,
     "metadata": {},
     "output_type": "execute_result"
    }
   ],
   "source": [
    "# 이름, 국어, 수학을 인덱스 설정\n",
    "examDF1 = examDF.set_index(['이름', '국어', '수학'])\n",
    "examDF1"
   ]
  },
  {
   "cell_type": "code",
   "execution_count": 32,
   "id": "c92ceb40-e67d-4dd9-8291-4bd216b2c565",
   "metadata": {},
   "outputs": [
    {
     "data": {
      "text/plain": [
       "MultiIndex([('마징가',  98, 77),\n",
       "            ('배트맨',  79, 70),\n",
       "            ('홍길동',  99, 98),\n",
       "            ('임꺽정', 100, 72),\n",
       "            ('마징가',  98, 60),\n",
       "            ('마징가',  98, 70)],\n",
       "           names=['이름', '국어', '수학'])"
      ]
     },
     "execution_count": 32,
     "metadata": {},
     "output_type": "execute_result"
    }
   ],
   "source": [
    "# 인덱스 속성 확인\n",
    "examDF1.index"
   ]
  },
  {
   "cell_type": "code",
   "execution_count": 28,
   "id": "7b7a2222-f86b-43e4-8b10-7a53cea57f77",
   "metadata": {},
   "outputs": [
    {
     "data": {
      "text/plain": [
       "미술    70\n",
       "체육    77\n",
       "Name: (마징가, 98, 77), dtype: int64"
      ]
     },
     "execution_count": 28,
     "metadata": {},
     "output_type": "execute_result"
    }
   ],
   "source": [
    "examDF1.loc[('마징가', 98, 77)]"
   ]
  },
  {
   "cell_type": "code",
   "execution_count": 29,
   "id": "be4cb05c-aed5-412a-ba08-705bf51de46a",
   "metadata": {},
   "outputs": [
    {
     "data": {
      "text/plain": [
       "미술    87\n",
       "체육    91\n",
       "Name: (마징가, 98, 70), dtype: int64"
      ]
     },
     "execution_count": 29,
     "metadata": {},
     "output_type": "execute_result"
    }
   ],
   "source": [
    "examDF1.loc[('마징가', 98, 70)]"
   ]
  },
  {
   "cell_type": "code",
   "execution_count": 30,
   "id": "a6bf94ac-befa-4518-8217-4a9b8e6efd2e",
   "metadata": {},
   "outputs": [
    {
     "data": {
      "text/plain": [
       "미술    50\n",
       "체육    77\n",
       "Name: (마징가, 98, 60), dtype: int64"
      ]
     },
     "execution_count": 30,
     "metadata": {},
     "output_type": "execute_result"
    }
   ],
   "source": [
    "examDF1.loc[('마징가', 98, 60)]"
   ]
  },
  {
   "cell_type": "code",
   "execution_count": 34,
   "id": "ef40bf07-b41b-4c30-9c8a-e4ff89a04042",
   "metadata": {},
   "outputs": [],
   "source": [
    "# KeyError 발생 => ('마징가', 98, 77)\n",
    "# examDF1.loc[(98)]"
   ]
  },
  {
   "cell_type": "markdown",
   "id": "fa1df5d5-1393-4b93-b854-6ed93230364b",
   "metadata": {},
   "source": [
    "- 멀티인덱스의 일부분을 기준으로 행 선택 : xs()\n",
    "    * 예) '마징가' 98 77 => Level 0  1  2"
   ]
  },
  {
   "cell_type": "code",
   "execution_count": 36,
   "id": "874f8db7-4e14-4431-895b-24f341a9b573",
   "metadata": {},
   "outputs": [
    {
     "data": {
      "text/html": [
       "<div>\n",
       "<style scoped>\n",
       "    .dataframe tbody tr th:only-of-type {\n",
       "        vertical-align: middle;\n",
       "    }\n",
       "\n",
       "    .dataframe tbody tr th {\n",
       "        vertical-align: top;\n",
       "    }\n",
       "\n",
       "    .dataframe thead th {\n",
       "        text-align: right;\n",
       "    }\n",
       "</style>\n",
       "<table border=\"1\" class=\"dataframe\">\n",
       "  <thead>\n",
       "    <tr style=\"text-align: right;\">\n",
       "      <th></th>\n",
       "      <th></th>\n",
       "      <th>미술</th>\n",
       "      <th>체육</th>\n",
       "    </tr>\n",
       "    <tr>\n",
       "      <th>국어</th>\n",
       "      <th>수학</th>\n",
       "      <th></th>\n",
       "      <th></th>\n",
       "    </tr>\n",
       "  </thead>\n",
       "  <tbody>\n",
       "    <tr>\n",
       "      <th rowspan=\"3\" valign=\"top\">98</th>\n",
       "      <th>77</th>\n",
       "      <td>70</td>\n",
       "      <td>77</td>\n",
       "    </tr>\n",
       "    <tr>\n",
       "      <th>60</th>\n",
       "      <td>50</td>\n",
       "      <td>77</td>\n",
       "    </tr>\n",
       "    <tr>\n",
       "      <th>70</th>\n",
       "      <td>87</td>\n",
       "      <td>91</td>\n",
       "    </tr>\n",
       "  </tbody>\n",
       "</table>\n",
       "</div>"
      ],
      "text/plain": [
       "       미술  체육\n",
       "국어 수학        \n",
       "98 77  70  77\n",
       "   60  50  77\n",
       "   70  87  91"
      ]
     },
     "execution_count": 36,
     "metadata": {},
     "output_type": "execute_result"
    }
   ],
   "source": [
    "examDF1.xs('마징가', level=0)"
   ]
  },
  {
   "cell_type": "code",
   "execution_count": 37,
   "id": "faff0f40-7f0e-483b-8ad8-eed5e9439591",
   "metadata": {},
   "outputs": [
    {
     "data": {
      "text/html": [
       "<div>\n",
       "<style scoped>\n",
       "    .dataframe tbody tr th:only-of-type {\n",
       "        vertical-align: middle;\n",
       "    }\n",
       "\n",
       "    .dataframe tbody tr th {\n",
       "        vertical-align: top;\n",
       "    }\n",
       "\n",
       "    .dataframe thead th {\n",
       "        text-align: right;\n",
       "    }\n",
       "</style>\n",
       "<table border=\"1\" class=\"dataframe\">\n",
       "  <thead>\n",
       "    <tr style=\"text-align: right;\">\n",
       "      <th></th>\n",
       "      <th></th>\n",
       "      <th>미술</th>\n",
       "      <th>체육</th>\n",
       "    </tr>\n",
       "    <tr>\n",
       "      <th>이름</th>\n",
       "      <th>수학</th>\n",
       "      <th></th>\n",
       "      <th></th>\n",
       "    </tr>\n",
       "  </thead>\n",
       "  <tbody>\n",
       "    <tr>\n",
       "      <th rowspan=\"3\" valign=\"top\">마징가</th>\n",
       "      <th>77</th>\n",
       "      <td>70</td>\n",
       "      <td>77</td>\n",
       "    </tr>\n",
       "    <tr>\n",
       "      <th>60</th>\n",
       "      <td>50</td>\n",
       "      <td>77</td>\n",
       "    </tr>\n",
       "    <tr>\n",
       "      <th>70</th>\n",
       "      <td>87</td>\n",
       "      <td>91</td>\n",
       "    </tr>\n",
       "  </tbody>\n",
       "</table>\n",
       "</div>"
      ],
      "text/plain": [
       "        미술  체육\n",
       "이름  수학        \n",
       "마징가 77  70  77\n",
       "    60  50  77\n",
       "    70  87  91"
      ]
     },
     "execution_count": 37,
     "metadata": {},
     "output_type": "execute_result"
    }
   ],
   "source": [
    "examDF1.xs(98, level=1)"
   ]
  },
  {
   "cell_type": "code",
   "execution_count": 38,
   "id": "a0513f1f-28e6-4516-b325-d5eb17583b36",
   "metadata": {},
   "outputs": [
    {
     "data": {
      "text/html": [
       "<div>\n",
       "<style scoped>\n",
       "    .dataframe tbody tr th:only-of-type {\n",
       "        vertical-align: middle;\n",
       "    }\n",
       "\n",
       "    .dataframe tbody tr th {\n",
       "        vertical-align: top;\n",
       "    }\n",
       "\n",
       "    .dataframe thead th {\n",
       "        text-align: right;\n",
       "    }\n",
       "</style>\n",
       "<table border=\"1\" class=\"dataframe\">\n",
       "  <thead>\n",
       "    <tr style=\"text-align: right;\">\n",
       "      <th></th>\n",
       "      <th></th>\n",
       "      <th>미술</th>\n",
       "      <th>체육</th>\n",
       "    </tr>\n",
       "    <tr>\n",
       "      <th>이름</th>\n",
       "      <th>국어</th>\n",
       "      <th></th>\n",
       "      <th></th>\n",
       "    </tr>\n",
       "  </thead>\n",
       "  <tbody>\n",
       "    <tr>\n",
       "      <th>배트맨</th>\n",
       "      <th>79</th>\n",
       "      <td>99</td>\n",
       "      <td>93</td>\n",
       "    </tr>\n",
       "    <tr>\n",
       "      <th>마징가</th>\n",
       "      <th>98</th>\n",
       "      <td>87</td>\n",
       "      <td>91</td>\n",
       "    </tr>\n",
       "  </tbody>\n",
       "</table>\n",
       "</div>"
      ],
      "text/plain": [
       "        미술  체육\n",
       "이름  국어        \n",
       "배트맨 79  99  93\n",
       "마징가 98  87  91"
      ]
     },
     "execution_count": 38,
     "metadata": {},
     "output_type": "execute_result"
    }
   ],
   "source": [
    "examDF1.xs(70, level=2)"
   ]
  },
  {
   "cell_type": "markdown",
   "id": "b6ef8e66-7a3a-4764-a38b-fd1bc2afb751",
   "metadata": {},
   "source": [
    "- ('마징가', 98, 77), ('임꺽정', 100, 72) 2개 행을 한꺼번에 가져오기"
   ]
  },
  {
   "cell_type": "code",
   "execution_count": 40,
   "id": "42b3ad97-3daa-4922-87ab-ca2cf8b85fa2",
   "metadata": {},
   "outputs": [
    {
     "data": {
      "text/html": [
       "<div>\n",
       "<style scoped>\n",
       "    .dataframe tbody tr th:only-of-type {\n",
       "        vertical-align: middle;\n",
       "    }\n",
       "\n",
       "    .dataframe tbody tr th {\n",
       "        vertical-align: top;\n",
       "    }\n",
       "\n",
       "    .dataframe thead th {\n",
       "        text-align: right;\n",
       "    }\n",
       "</style>\n",
       "<table border=\"1\" class=\"dataframe\">\n",
       "  <thead>\n",
       "    <tr style=\"text-align: right;\">\n",
       "      <th></th>\n",
       "      <th></th>\n",
       "      <th></th>\n",
       "      <th>미술</th>\n",
       "      <th>체육</th>\n",
       "    </tr>\n",
       "    <tr>\n",
       "      <th>이름</th>\n",
       "      <th>국어</th>\n",
       "      <th>수학</th>\n",
       "      <th></th>\n",
       "      <th></th>\n",
       "    </tr>\n",
       "  </thead>\n",
       "  <tbody>\n",
       "    <tr>\n",
       "      <th>마징가</th>\n",
       "      <th>98</th>\n",
       "      <th>77</th>\n",
       "      <td>70</td>\n",
       "      <td>77</td>\n",
       "    </tr>\n",
       "    <tr>\n",
       "      <th>임꺽정</th>\n",
       "      <th>100</th>\n",
       "      <th>72</th>\n",
       "      <td>80</td>\n",
       "      <td>91</td>\n",
       "    </tr>\n",
       "  </tbody>\n",
       "</table>\n",
       "</div>"
      ],
      "text/plain": [
       "            미술  체육\n",
       "이름  국어  수학        \n",
       "마징가 98  77  70  77\n",
       "임꺽정 100 72  80  91"
      ]
     },
     "execution_count": 40,
     "metadata": {},
     "output_type": "execute_result"
    }
   ],
   "source": [
    "examDF1.loc[[('마징가', 98, 77), ('임꺽정', 100, 72)]]"
   ]
  },
  {
   "cell_type": "code",
   "execution_count": 41,
   "id": "f373e350-0d90-4a1d-afbe-1568c49ed571",
   "metadata": {},
   "outputs": [
    {
     "data": {
      "text/plain": [
       "미술    70\n",
       "체육    77\n",
       "Name: (마징가, 98, 77), dtype: int64"
      ]
     },
     "execution_count": 41,
     "metadata": {},
     "output_type": "execute_result"
    }
   ],
   "source": [
    "examDF1.loc[('마징가', 98, 77)]"
   ]
  },
  {
   "cell_type": "code",
   "execution_count": 42,
   "id": "d4b29a1e-1819-428c-b43e-02505e8b30fc",
   "metadata": {},
   "outputs": [
    {
     "data": {
      "text/html": [
       "<div>\n",
       "<style scoped>\n",
       "    .dataframe tbody tr th:only-of-type {\n",
       "        vertical-align: middle;\n",
       "    }\n",
       "\n",
       "    .dataframe tbody tr th {\n",
       "        vertical-align: top;\n",
       "    }\n",
       "\n",
       "    .dataframe thead th {\n",
       "        text-align: right;\n",
       "    }\n",
       "</style>\n",
       "<table border=\"1\" class=\"dataframe\">\n",
       "  <thead>\n",
       "    <tr style=\"text-align: right;\">\n",
       "      <th></th>\n",
       "      <th></th>\n",
       "      <th></th>\n",
       "      <th>미술</th>\n",
       "      <th>체육</th>\n",
       "    </tr>\n",
       "    <tr>\n",
       "      <th>이름</th>\n",
       "      <th>국어</th>\n",
       "      <th>수학</th>\n",
       "      <th></th>\n",
       "      <th></th>\n",
       "    </tr>\n",
       "  </thead>\n",
       "  <tbody>\n",
       "    <tr>\n",
       "      <th>마징가</th>\n",
       "      <th>98</th>\n",
       "      <th>77</th>\n",
       "      <td>70</td>\n",
       "      <td>77</td>\n",
       "    </tr>\n",
       "  </tbody>\n",
       "</table>\n",
       "</div>"
      ],
      "text/plain": [
       "           미술  체육\n",
       "이름  국어 수학        \n",
       "마징가 98 77  70  77"
      ]
     },
     "execution_count": 42,
     "metadata": {},
     "output_type": "execute_result"
    }
   ],
   "source": [
    "examDF1.loc[[('마징가', 98, 77)]]"
   ]
  },
  {
   "cell_type": "markdown",
   "id": "711f429f-9473-4796-9c39-ddaaf3c13a75",
   "metadata": {},
   "source": [
    "- (5) 인덱스 재배치 : 행/열 인덱스를 원하는 순서대로 재배치 + 존재하지 않는 행/열 추가\n",
    "    * DF.reindex()"
   ]
  },
  {
   "cell_type": "code",
   "execution_count": 43,
   "id": "136544d9-ba18-426a-a06e-431139bbf2b1",
   "metadata": {},
   "outputs": [
    {
     "name": "stdout",
     "output_type": "stream",
     "text": [
      "Index([0, 1, 2, 3, 4, 5], dtype='int64')\n",
      "\n",
      "Index(['이름', '국어', '미술', '수학', '체육'], dtype='object')\n"
     ]
    }
   ],
   "source": [
    "print(examDF.index, examDF.columns, sep='\\n\\n')"
   ]
  },
  {
   "cell_type": "markdown",
   "id": "9c8b3a88-f6ef-433b-86d7-2523da85b3c9",
   "metadata": {},
   "source": [
    "- 컬럼명 순서 변경 => '체육', '미술', '국어', '수학'"
   ]
  },
  {
   "cell_type": "code",
   "execution_count": 47,
   "id": "356e497f-ff19-492e-a1aa-145fab86d9af",
   "metadata": {},
   "outputs": [
    {
     "data": {
      "text/html": [
       "<div>\n",
       "<style scoped>\n",
       "    .dataframe tbody tr th:only-of-type {\n",
       "        vertical-align: middle;\n",
       "    }\n",
       "\n",
       "    .dataframe tbody tr th {\n",
       "        vertical-align: top;\n",
       "    }\n",
       "\n",
       "    .dataframe thead th {\n",
       "        text-align: right;\n",
       "    }\n",
       "</style>\n",
       "<table border=\"1\" class=\"dataframe\">\n",
       "  <thead>\n",
       "    <tr style=\"text-align: right;\">\n",
       "      <th></th>\n",
       "      <th>체육</th>\n",
       "      <th>미술</th>\n",
       "      <th>국어</th>\n",
       "      <th>수학</th>\n",
       "      <th>총합</th>\n",
       "    </tr>\n",
       "  </thead>\n",
       "  <tbody>\n",
       "    <tr>\n",
       "      <th>0</th>\n",
       "      <td>77</td>\n",
       "      <td>70</td>\n",
       "      <td>98</td>\n",
       "      <td>77</td>\n",
       "      <td>0</td>\n",
       "    </tr>\n",
       "    <tr>\n",
       "      <th>1</th>\n",
       "      <td>93</td>\n",
       "      <td>99</td>\n",
       "      <td>79</td>\n",
       "      <td>70</td>\n",
       "      <td>0</td>\n",
       "    </tr>\n",
       "    <tr>\n",
       "      <th>2</th>\n",
       "      <td>69</td>\n",
       "      <td>87</td>\n",
       "      <td>99</td>\n",
       "      <td>98</td>\n",
       "      <td>0</td>\n",
       "    </tr>\n",
       "    <tr>\n",
       "      <th>3</th>\n",
       "      <td>91</td>\n",
       "      <td>80</td>\n",
       "      <td>100</td>\n",
       "      <td>72</td>\n",
       "      <td>0</td>\n",
       "    </tr>\n",
       "    <tr>\n",
       "      <th>4</th>\n",
       "      <td>77</td>\n",
       "      <td>50</td>\n",
       "      <td>98</td>\n",
       "      <td>60</td>\n",
       "      <td>0</td>\n",
       "    </tr>\n",
       "    <tr>\n",
       "      <th>5</th>\n",
       "      <td>91</td>\n",
       "      <td>87</td>\n",
       "      <td>98</td>\n",
       "      <td>70</td>\n",
       "      <td>0</td>\n",
       "    </tr>\n",
       "  </tbody>\n",
       "</table>\n",
       "</div>"
      ],
      "text/plain": [
       "   체육  미술   국어  수학  총합\n",
       "0  77  70   98  77   0\n",
       "1  93  99   79  70   0\n",
       "2  69  87   99  98   0\n",
       "3  91  80  100  72   0\n",
       "4  77  50   98  60   0\n",
       "5  91  87   98  70   0"
      ]
     },
     "execution_count": 47,
     "metadata": {},
     "output_type": "execute_result"
    }
   ],
   "source": [
    "examDF.reindex(['체육', '미술', '국어', '수학', '총합'], axis='columns', fill_value=0)"
   ]
  },
  {
   "cell_type": "code",
   "execution_count": 48,
   "id": "c7767fb5-21e6-46de-ac7b-4f84196a57ef",
   "metadata": {},
   "outputs": [
    {
     "data": {
      "text/html": [
       "<div>\n",
       "<style scoped>\n",
       "    .dataframe tbody tr th:only-of-type {\n",
       "        vertical-align: middle;\n",
       "    }\n",
       "\n",
       "    .dataframe tbody tr th {\n",
       "        vertical-align: top;\n",
       "    }\n",
       "\n",
       "    .dataframe thead th {\n",
       "        text-align: right;\n",
       "    }\n",
       "</style>\n",
       "<table border=\"1\" class=\"dataframe\">\n",
       "  <thead>\n",
       "    <tr style=\"text-align: right;\">\n",
       "      <th></th>\n",
       "      <th>이름</th>\n",
       "      <th>국어</th>\n",
       "      <th>미술</th>\n",
       "      <th>수학</th>\n",
       "      <th>체육</th>\n",
       "    </tr>\n",
       "  </thead>\n",
       "  <tbody>\n",
       "    <tr>\n",
       "      <th>0</th>\n",
       "      <td>마징가</td>\n",
       "      <td>98</td>\n",
       "      <td>70</td>\n",
       "      <td>77</td>\n",
       "      <td>77</td>\n",
       "    </tr>\n",
       "    <tr>\n",
       "      <th>1</th>\n",
       "      <td>배트맨</td>\n",
       "      <td>79</td>\n",
       "      <td>99</td>\n",
       "      <td>70</td>\n",
       "      <td>93</td>\n",
       "    </tr>\n",
       "    <tr>\n",
       "      <th>2</th>\n",
       "      <td>홍길동</td>\n",
       "      <td>99</td>\n",
       "      <td>87</td>\n",
       "      <td>98</td>\n",
       "      <td>69</td>\n",
       "    </tr>\n",
       "    <tr>\n",
       "      <th>3</th>\n",
       "      <td>임꺽정</td>\n",
       "      <td>100</td>\n",
       "      <td>80</td>\n",
       "      <td>72</td>\n",
       "      <td>91</td>\n",
       "    </tr>\n",
       "    <tr>\n",
       "      <th>4</th>\n",
       "      <td>마징가</td>\n",
       "      <td>98</td>\n",
       "      <td>50</td>\n",
       "      <td>60</td>\n",
       "      <td>77</td>\n",
       "    </tr>\n",
       "    <tr>\n",
       "      <th>5</th>\n",
       "      <td>마징가</td>\n",
       "      <td>98</td>\n",
       "      <td>87</td>\n",
       "      <td>70</td>\n",
       "      <td>91</td>\n",
       "    </tr>\n",
       "  </tbody>\n",
       "</table>\n",
       "</div>"
      ],
      "text/plain": [
       "    이름   국어  미술  수학  체육\n",
       "0  마징가   98  70  77  77\n",
       "1  배트맨   79  99  70  93\n",
       "2  홍길동   99  87  98  69\n",
       "3  임꺽정  100  80  72  91\n",
       "4  마징가   98  50  60  77\n",
       "5  마징가   98  87  70  91"
      ]
     },
     "execution_count": 48,
     "metadata": {},
     "output_type": "execute_result"
    }
   ],
   "source": [
    "examDF"
   ]
  },
  {
   "cell_type": "code",
   "execution_count": 49,
   "id": "c27c9ec0-09ed-4b61-bb92-cd521b0e8e5e",
   "metadata": {},
   "outputs": [
    {
     "data": {
      "text/html": [
       "<div>\n",
       "<style scoped>\n",
       "    .dataframe tbody tr th:only-of-type {\n",
       "        vertical-align: middle;\n",
       "    }\n",
       "\n",
       "    .dataframe tbody tr th {\n",
       "        vertical-align: top;\n",
       "    }\n",
       "\n",
       "    .dataframe thead th {\n",
       "        text-align: right;\n",
       "    }\n",
       "</style>\n",
       "<table border=\"1\" class=\"dataframe\">\n",
       "  <thead>\n",
       "    <tr style=\"text-align: right;\">\n",
       "      <th></th>\n",
       "      <th>이름</th>\n",
       "      <th>국어</th>\n",
       "      <th>미술</th>\n",
       "      <th>수학</th>\n",
       "      <th>체육</th>\n",
       "    </tr>\n",
       "  </thead>\n",
       "  <tbody>\n",
       "    <tr>\n",
       "      <th>0</th>\n",
       "      <td>마징가</td>\n",
       "      <td>98</td>\n",
       "      <td>70</td>\n",
       "      <td>77</td>\n",
       "      <td>77</td>\n",
       "    </tr>\n",
       "    <tr>\n",
       "      <th>2</th>\n",
       "      <td>홍길동</td>\n",
       "      <td>99</td>\n",
       "      <td>87</td>\n",
       "      <td>98</td>\n",
       "      <td>69</td>\n",
       "    </tr>\n",
       "    <tr>\n",
       "      <th>4</th>\n",
       "      <td>마징가</td>\n",
       "      <td>98</td>\n",
       "      <td>50</td>\n",
       "      <td>60</td>\n",
       "      <td>77</td>\n",
       "    </tr>\n",
       "    <tr>\n",
       "      <th>1</th>\n",
       "      <td>배트맨</td>\n",
       "      <td>79</td>\n",
       "      <td>99</td>\n",
       "      <td>70</td>\n",
       "      <td>93</td>\n",
       "    </tr>\n",
       "    <tr>\n",
       "      <th>3</th>\n",
       "      <td>임꺽정</td>\n",
       "      <td>100</td>\n",
       "      <td>80</td>\n",
       "      <td>72</td>\n",
       "      <td>91</td>\n",
       "    </tr>\n",
       "    <tr>\n",
       "      <th>5</th>\n",
       "      <td>마징가</td>\n",
       "      <td>98</td>\n",
       "      <td>87</td>\n",
       "      <td>70</td>\n",
       "      <td>91</td>\n",
       "    </tr>\n",
       "  </tbody>\n",
       "</table>\n",
       "</div>"
      ],
      "text/plain": [
       "    이름   국어  미술  수학  체육\n",
       "0  마징가   98  70  77  77\n",
       "2  홍길동   99  87  98  69\n",
       "4  마징가   98  50  60  77\n",
       "1  배트맨   79  99  70  93\n",
       "3  임꺽정  100  80  72  91\n",
       "5  마징가   98  87  70  91"
      ]
     },
     "execution_count": 49,
     "metadata": {},
     "output_type": "execute_result"
    }
   ],
   "source": [
    "examDF.reindex([0, 2, 4, 1, 3, 5], axis='index', fill_value=0)"
   ]
  },
  {
   "cell_type": "markdown",
   "id": "4a5aa8a8-7ef8-4bfc-a6d0-d251574739df",
   "metadata": {},
   "source": [
    "- (컬럼명 순서 변경 => '체육', '미술', '국어', '수학', '총합') + (행인덱스 => 0, 2, 4, 1, 3, 5 재배치)"
   ]
  },
  {
   "cell_type": "code",
   "execution_count": 53,
   "id": "687b34bc-690f-4996-baa9-4f8a788af2c0",
   "metadata": {},
   "outputs": [
    {
     "data": {
      "text/html": [
       "<div>\n",
       "<style scoped>\n",
       "    .dataframe tbody tr th:only-of-type {\n",
       "        vertical-align: middle;\n",
       "    }\n",
       "\n",
       "    .dataframe tbody tr th {\n",
       "        vertical-align: top;\n",
       "    }\n",
       "\n",
       "    .dataframe thead th {\n",
       "        text-align: right;\n",
       "    }\n",
       "</style>\n",
       "<table border=\"1\" class=\"dataframe\">\n",
       "  <thead>\n",
       "    <tr style=\"text-align: right;\">\n",
       "      <th></th>\n",
       "      <th>체육</th>\n",
       "      <th>미술</th>\n",
       "      <th>국어</th>\n",
       "      <th>수학</th>\n",
       "      <th>총합</th>\n",
       "    </tr>\n",
       "  </thead>\n",
       "  <tbody>\n",
       "    <tr>\n",
       "      <th>0</th>\n",
       "      <td>77</td>\n",
       "      <td>70</td>\n",
       "      <td>98</td>\n",
       "      <td>77</td>\n",
       "      <td>0</td>\n",
       "    </tr>\n",
       "    <tr>\n",
       "      <th>2</th>\n",
       "      <td>69</td>\n",
       "      <td>87</td>\n",
       "      <td>99</td>\n",
       "      <td>98</td>\n",
       "      <td>0</td>\n",
       "    </tr>\n",
       "    <tr>\n",
       "      <th>4</th>\n",
       "      <td>77</td>\n",
       "      <td>50</td>\n",
       "      <td>98</td>\n",
       "      <td>60</td>\n",
       "      <td>0</td>\n",
       "    </tr>\n",
       "    <tr>\n",
       "      <th>1</th>\n",
       "      <td>93</td>\n",
       "      <td>99</td>\n",
       "      <td>79</td>\n",
       "      <td>70</td>\n",
       "      <td>0</td>\n",
       "    </tr>\n",
       "    <tr>\n",
       "      <th>3</th>\n",
       "      <td>91</td>\n",
       "      <td>80</td>\n",
       "      <td>100</td>\n",
       "      <td>72</td>\n",
       "      <td>0</td>\n",
       "    </tr>\n",
       "    <tr>\n",
       "      <th>5</th>\n",
       "      <td>91</td>\n",
       "      <td>87</td>\n",
       "      <td>98</td>\n",
       "      <td>70</td>\n",
       "      <td>0</td>\n",
       "    </tr>\n",
       "  </tbody>\n",
       "</table>\n",
       "</div>"
      ],
      "text/plain": [
       "   체육  미술   국어  수학  총합\n",
       "0  77  70   98  77   0\n",
       "2  69  87   99  98   0\n",
       "4  77  50   98  60   0\n",
       "1  93  99   79  70   0\n",
       "3  91  80  100  72   0\n",
       "5  91  87   98  70   0"
      ]
     },
     "execution_count": 53,
     "metadata": {},
     "output_type": "execute_result"
    }
   ],
   "source": [
    "examDF.reindex(index=[0, 2, 4, 1, 3, 5], columns=['체육', '미술', '국어', '수학', '총합'], fill_value=0)"
   ]
  },
  {
   "cell_type": "code",
   "execution_count": null,
   "id": "035c03c5-70e9-4235-a783-580f98820cb7",
   "metadata": {},
   "outputs": [],
   "source": []
  }
 ],
 "metadata": {
  "kernelspec": {
   "display_name": "Python 3 (ipykernel)",
   "language": "python",
   "name": "python3"
  },
  "language_info": {
   "codemirror_mode": {
    "name": "ipython",
    "version": 3
   },
   "file_extension": ".py",
   "mimetype": "text/x-python",
   "name": "python",
   "nbconvert_exporter": "python",
   "pygments_lexer": "ipython3",
   "version": "3.8.18"
  }
 },
 "nbformat": 4,
 "nbformat_minor": 5
}
