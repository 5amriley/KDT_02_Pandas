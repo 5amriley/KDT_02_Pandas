{
 "cells": [
  {
   "cell_type": "markdown",
   "id": "d81f2ee4-2703-44e8-b5b8-47503356d453",
   "metadata": {},
   "source": [
    "## [ Excel -> DataFrame 저장 ]"
   ]
  },
  {
   "cell_type": "markdown",
   "id": "69b27b47-7982-4392-86fa-dac01bc9b8c6",
   "metadata": {},
   "source": [
    "(1) 모듈 로딩 <hr>"
   ]
  },
  {
   "cell_type": "code",
   "execution_count": 1,
   "id": "a41dbbe8-9d28-4729-8975-f91528f4baed",
   "metadata": {},
   "outputs": [],
   "source": [
    "import pandas as pd"
   ]
  },
  {
   "cell_type": "markdown",
   "id": "8e1ea170-659c-488f-a1af-87ab43e69190",
   "metadata": {},
   "source": [
    "(2) 데이터 준비 <hr>"
   ]
  },
  {
   "cell_type": "code",
   "execution_count": 2,
   "id": "a4e8961e-4c28-4c1a-bfce-4d7731de4404",
   "metadata": {},
   "outputs": [],
   "source": [
    "file1 = '../../DATA/Single Worksheet.xlsx'\n",
    "file2 = '../../DATA/Multiple Worksheets.xlsx'"
   ]
  },
  {
   "cell_type": "code",
   "execution_count": 3,
   "id": "17b99ca7-c142-427c-8216-f2885fcc15f2",
   "metadata": {},
   "outputs": [
    {
     "data": {
      "text/html": [
       "<div>\n",
       "<style scoped>\n",
       "    .dataframe tbody tr th:only-of-type {\n",
       "        vertical-align: middle;\n",
       "    }\n",
       "\n",
       "    .dataframe tbody tr th {\n",
       "        vertical-align: top;\n",
       "    }\n",
       "\n",
       "    .dataframe thead th {\n",
       "        text-align: right;\n",
       "    }\n",
       "</style>\n",
       "<table border=\"1\" class=\"dataframe\">\n",
       "  <thead>\n",
       "    <tr style=\"text-align: right;\">\n",
       "      <th></th>\n",
       "      <th>First Name</th>\n",
       "      <th>Last Name</th>\n",
       "      <th>City</th>\n",
       "      <th>Gender</th>\n",
       "    </tr>\n",
       "  </thead>\n",
       "  <tbody>\n",
       "    <tr>\n",
       "      <th>0</th>\n",
       "      <td>Brandon</td>\n",
       "      <td>James</td>\n",
       "      <td>Miami</td>\n",
       "      <td>M</td>\n",
       "    </tr>\n",
       "    <tr>\n",
       "      <th>1</th>\n",
       "      <td>Sean</td>\n",
       "      <td>Hawkins</td>\n",
       "      <td>Denver</td>\n",
       "      <td>M</td>\n",
       "    </tr>\n",
       "    <tr>\n",
       "      <th>2</th>\n",
       "      <td>Judy</td>\n",
       "      <td>Day</td>\n",
       "      <td>Los Angeles</td>\n",
       "      <td>F</td>\n",
       "    </tr>\n",
       "    <tr>\n",
       "      <th>3</th>\n",
       "      <td>Ashley</td>\n",
       "      <td>Ruiz</td>\n",
       "      <td>San Francisco</td>\n",
       "      <td>F</td>\n",
       "    </tr>\n",
       "    <tr>\n",
       "      <th>4</th>\n",
       "      <td>Stephanie</td>\n",
       "      <td>Gomez</td>\n",
       "      <td>Portland</td>\n",
       "      <td>F</td>\n",
       "    </tr>\n",
       "  </tbody>\n",
       "</table>\n",
       "</div>"
      ],
      "text/plain": [
       "  First Name Last Name           City Gender\n",
       "0    Brandon     James          Miami      M\n",
       "1       Sean   Hawkins         Denver      M\n",
       "2       Judy       Day    Los Angeles      F\n",
       "3     Ashley      Ruiz  San Francisco      F\n",
       "4  Stephanie     Gomez       Portland      F"
      ]
     },
     "execution_count": 3,
     "metadata": {},
     "output_type": "execute_result"
    }
   ],
   "source": [
    "pd.read_excel(file1)"
   ]
  },
  {
   "cell_type": "code",
   "execution_count": 4,
   "id": "f31ac488-3fc0-4d49-8006-771676440596",
   "metadata": {},
   "outputs": [
    {
     "data": {
      "text/html": [
       "<div>\n",
       "<style scoped>\n",
       "    .dataframe tbody tr th:only-of-type {\n",
       "        vertical-align: middle;\n",
       "    }\n",
       "\n",
       "    .dataframe tbody tr th {\n",
       "        vertical-align: top;\n",
       "    }\n",
       "\n",
       "    .dataframe thead th {\n",
       "        text-align: right;\n",
       "    }\n",
       "</style>\n",
       "<table border=\"1\" class=\"dataframe\">\n",
       "  <thead>\n",
       "    <tr style=\"text-align: right;\">\n",
       "      <th></th>\n",
       "      <th>First Name</th>\n",
       "      <th>Last Name</th>\n",
       "      <th>City</th>\n",
       "      <th>Gender</th>\n",
       "    </tr>\n",
       "  </thead>\n",
       "  <tbody>\n",
       "    <tr>\n",
       "      <th>0</th>\n",
       "      <td>Robert</td>\n",
       "      <td>Miller</td>\n",
       "      <td>Seattle</td>\n",
       "      <td>M</td>\n",
       "    </tr>\n",
       "    <tr>\n",
       "      <th>1</th>\n",
       "      <td>Tara</td>\n",
       "      <td>Garcia</td>\n",
       "      <td>Phoenix</td>\n",
       "      <td>F</td>\n",
       "    </tr>\n",
       "    <tr>\n",
       "      <th>2</th>\n",
       "      <td>Raphael</td>\n",
       "      <td>Rodriguez</td>\n",
       "      <td>Orlando</td>\n",
       "      <td>M</td>\n",
       "    </tr>\n",
       "  </tbody>\n",
       "</table>\n",
       "</div>"
      ],
      "text/plain": [
       "  First Name  Last Name     City Gender\n",
       "0     Robert     Miller  Seattle      M\n",
       "1       Tara     Garcia  Phoenix      F\n",
       "2    Raphael  Rodriguez  Orlando      M"
      ]
     },
     "execution_count": 4,
     "metadata": {},
     "output_type": "execute_result"
    }
   ],
   "source": [
    "pd.read_excel(file2, sheet_name=2)"
   ]
  },
  {
   "cell_type": "code",
   "execution_count": 5,
   "id": "cbcd9d72-0bda-43cd-bcea-5a6235967b00",
   "metadata": {},
   "outputs": [
    {
     "data": {
      "text/html": [
       "<div>\n",
       "<style scoped>\n",
       "    .dataframe tbody tr th:only-of-type {\n",
       "        vertical-align: middle;\n",
       "    }\n",
       "\n",
       "    .dataframe tbody tr th {\n",
       "        vertical-align: top;\n",
       "    }\n",
       "\n",
       "    .dataframe thead th {\n",
       "        text-align: right;\n",
       "    }\n",
       "</style>\n",
       "<table border=\"1\" class=\"dataframe\">\n",
       "  <thead>\n",
       "    <tr style=\"text-align: right;\">\n",
       "      <th></th>\n",
       "      <th>First Name</th>\n",
       "      <th>Last Name</th>\n",
       "      <th>City</th>\n",
       "      <th>Gender</th>\n",
       "    </tr>\n",
       "  </thead>\n",
       "  <tbody>\n",
       "    <tr>\n",
       "      <th>0</th>\n",
       "      <td>Robert</td>\n",
       "      <td>Miller</td>\n",
       "      <td>Seattle</td>\n",
       "      <td>M</td>\n",
       "    </tr>\n",
       "    <tr>\n",
       "      <th>1</th>\n",
       "      <td>Tara</td>\n",
       "      <td>Garcia</td>\n",
       "      <td>Phoenix</td>\n",
       "      <td>F</td>\n",
       "    </tr>\n",
       "    <tr>\n",
       "      <th>2</th>\n",
       "      <td>Raphael</td>\n",
       "      <td>Rodriguez</td>\n",
       "      <td>Orlando</td>\n",
       "      <td>M</td>\n",
       "    </tr>\n",
       "  </tbody>\n",
       "</table>\n",
       "</div>"
      ],
      "text/plain": [
       "  First Name  Last Name     City Gender\n",
       "0     Robert     Miller  Seattle      M\n",
       "1       Tara     Garcia  Phoenix      F\n",
       "2    Raphael  Rodriguez  Orlando      M"
      ]
     },
     "execution_count": 5,
     "metadata": {},
     "output_type": "execute_result"
    }
   ],
   "source": [
    "pd.read_excel(file2, sheet_name='Data 3')"
   ]
  },
  {
   "cell_type": "code",
   "execution_count": 25,
   "id": "30e654f1-24c8-407b-ab36-d6e40ab54935",
   "metadata": {},
   "outputs": [
    {
     "data": {
      "text/plain": [
       "{'Data 1':   First Name Last Name           City Gender\n",
       " 0    Brandon     James          Miami      M\n",
       " 1       Sean   Hawkins         Denver      M\n",
       " 2       Judy       Day    Los Angeles      F\n",
       " 3     Ashley      Ruiz  San Francisco      F\n",
       " 4  Stephanie     Gomez       Portland      F,\n",
       " 'Data 2':   First Name Last Name           City Gender\n",
       " 0     Parker     Power        Raleigh      F\n",
       " 1    Preston  Prescott   Philadelphia      F\n",
       " 2    Ronaldo   Donaldo         Bangor      M\n",
       " 3      Megan   Stiller  San Francisco      M\n",
       " 4     Bustin    Jieber         Austin      F,\n",
       " 'Data 3':   First Name  Last Name     City Gender\n",
       " 0     Robert     Miller  Seattle      M\n",
       " 1       Tara     Garcia  Phoenix      F\n",
       " 2    Raphael  Rodriguez  Orlando      M}"
      ]
     },
     "execution_count": 25,
     "metadata": {},
     "output_type": "execute_result"
    }
   ],
   "source": [
    "# sheet_name = None 적용하면 모든 시트를 읽어들인다.\n",
    "# 딕셔너리를 반환한다. (키:값(df))\n",
    "dataDict = pd.read_excel(file2, sheet_name=None)\n",
    "dataDict"
   ]
  },
  {
   "cell_type": "markdown",
   "id": "2eadf70e-6a86-437c-9e4d-3cf1d7af46b5",
   "metadata": {},
   "source": [
    "## [ JSON -> DataFrame 저장 ]"
   ]
  },
  {
   "cell_type": "markdown",
   "id": "aff9dc16-7186-4942-8126-a007fd1153d1",
   "metadata": {},
   "source": [
    "(1) 데이터 준비 <hr>"
   ]
  },
  {
   "cell_type": "code",
   "execution_count": 7,
   "id": "b4488f37-a373-4d09-9ba0-07885a7ae46b",
   "metadata": {},
   "outputs": [],
   "source": [
    "file3 = '../../DATA/nobel.json'"
   ]
  },
  {
   "cell_type": "markdown",
   "id": "03a5632c-8c44-469d-855f-dafbc1aed2fd",
   "metadata": {},
   "source": [
    "(2) JSON -> DataFrame 으로 저장"
   ]
  },
  {
   "cell_type": "code",
   "execution_count": 8,
   "id": "97984f58-4b9e-45c3-8c0e-f0cc041e4944",
   "metadata": {},
   "outputs": [
    {
     "name": "stdout",
     "output_type": "stream",
     "text": [
      "<class 'pandas.core.frame.DataFrame'>\n",
      "RangeIndex: 646 entries, 0 to 645\n",
      "Data columns (total 1 columns):\n",
      " #   Column  Non-Null Count  Dtype \n",
      "---  ------  --------------  ----- \n",
      " 0   prizes  646 non-null    object\n",
      "dtypes: object(1)\n",
      "memory usage: 5.2+ KB\n"
     ]
    }
   ],
   "source": [
    "nobelDF = pd.read_json(file3)\n",
    "nobelDF.info()"
   ]
  },
  {
   "cell_type": "markdown",
   "id": "9f25d656-df2a-4640-aa24-3262abd27a23",
   "metadata": {},
   "source": [
    "(3) 데이터 확인"
   ]
  },
  {
   "cell_type": "markdown",
   "id": "64616457-d489-4daa-8466-23a759876ab9",
   "metadata": {},
   "source": [
    "print(nobelDF.head(3), nobelDF.tail(3), sep='\\n\\n')"
   ]
  },
  {
   "cell_type": "markdown",
   "id": "a435562b-616f-44b4-a051-b7cbd1eb07a3",
   "metadata": {},
   "source": [
    "(4) 데이터 추출"
   ]
  },
  {
   "cell_type": "code",
   "execution_count": 9,
   "id": "060a7a92-6d31-482e-80b4-4b76648b41ae",
   "metadata": {},
   "outputs": [
    {
     "data": {
      "text/plain": [
       "(pandas.core.series.Series,\n",
       " prizes    {'year': '2019', 'category': 'chemistry', 'lau...\n",
       " Name: 0, dtype: object)"
      ]
     },
     "execution_count": 9,
     "metadata": {},
     "output_type": "execute_result"
    }
   ],
   "source": [
    "# 행 추출 => loc[] / iloc[]\n",
    "type(nobelDF.iloc[0]), nobelDF.iloc[0]"
   ]
  },
  {
   "cell_type": "code",
   "execution_count": 10,
   "id": "6a400e99-639c-4ff4-b04f-190a3d520846",
   "metadata": {},
   "outputs": [
    {
     "data": {
      "text/plain": [
       "{'year': '2019',\n",
       " 'category': 'chemistry',\n",
       " 'laureates': [{'id': '976',\n",
       "   'firstname': 'John',\n",
       "   'surname': 'Goodenough',\n",
       "   'motivation': '\"for the development of lithium-ion batteries\"',\n",
       "   'share': '3'},\n",
       "  {'id': '977',\n",
       "   'firstname': 'M. Stanley',\n",
       "   'surname': 'Whittingham',\n",
       "   'motivation': '\"for the development of lithium-ion batteries\"',\n",
       "   'share': '3'},\n",
       "  {'id': '978',\n",
       "   'firstname': 'Akira',\n",
       "   'surname': 'Yoshino',\n",
       "   'motivation': '\"for the development of lithium-ion batteries\"',\n",
       "   'share': '3'}]}"
      ]
     },
     "execution_count": 10,
     "metadata": {},
     "output_type": "execute_result"
    }
   ],
   "source": [
    "nobelDF.iloc[0]['prizes']"
   ]
  },
  {
   "cell_type": "code",
   "execution_count": 11,
   "id": "79f0083d-5c9b-4d81-99e7-385c56000c76",
   "metadata": {},
   "outputs": [
    {
     "data": {
      "text/plain": [
       "(dict_keys(['year', 'category', 'laureates']),\n",
       " dict_items([('year', '2019'), ('category', 'chemistry'), ('laureates', [{'id': '976', 'firstname': 'John', 'surname': 'Goodenough', 'motivation': '\"for the development of lithium-ion batteries\"', 'share': '3'}, {'id': '977', 'firstname': 'M. Stanley', 'surname': 'Whittingham', 'motivation': '\"for the development of lithium-ion batteries\"', 'share': '3'}, {'id': '978', 'firstname': 'Akira', 'surname': 'Yoshino', 'motivation': '\"for the development of lithium-ion batteries\"', 'share': '3'}])]))"
      ]
     },
     "execution_count": 11,
     "metadata": {},
     "output_type": "execute_result"
    }
   ],
   "source": [
    "oneData = nobelDF.iloc[0]['prizes']\n",
    "oneData.keys(), oneData.items()"
   ]
  },
  {
   "cell_type": "code",
   "execution_count": 12,
   "id": "c61fb721-fae4-4442-99fa-84fc120f7ad7",
   "metadata": {},
   "outputs": [
    {
     "name": "stdout",
     "output_type": "stream",
     "text": [
      "[year]\n",
      "==>2019\n",
      "[category]\n",
      "==>chemistry\n",
      "[laureates]\n",
      "==>[{'id': '976', 'firstname': 'John', 'surname': 'Goodenough', 'motivation': '\"for the development of lithium-ion batteries\"', 'share': '3'}, {'id': '977', 'firstname': 'M. Stanley', 'surname': 'Whittingham', 'motivation': '\"for the development of lithium-ion batteries\"', 'share': '3'}, {'id': '978', 'firstname': 'Akira', 'surname': 'Yoshino', 'motivation': '\"for the development of lithium-ion batteries\"', 'share': '3'}]\n",
      "- id 976\n",
      "- firstname John\n",
      "- surname Goodenough\n",
      "- motivation \"for the development of lithium-ion batteries\"\n",
      "- share 3\n",
      "- id 977\n",
      "- firstname M. Stanley\n",
      "- surname Whittingham\n",
      "- motivation \"for the development of lithium-ion batteries\"\n",
      "- share 3\n",
      "- id 978\n",
      "- firstname Akira\n",
      "- surname Yoshino\n",
      "- motivation \"for the development of lithium-ion batteries\"\n",
      "- share 3\n"
     ]
    }
   ],
   "source": [
    "for k, v in oneData.items():\n",
    "    print(f'[{k}]\\n==>{v}')\n",
    "    if k == 'laureates':\n",
    "        for d in v:\n",
    "            for k1, v1 in d.items():\n",
    "                print(\"-\", k1, v1)"
   ]
  },
  {
   "cell_type": "markdown",
   "id": "50cb9b61-e86c-4862-acb2-ae42c29eaa93",
   "metadata": {},
   "source": [
    "-  json 중첩 데이터의 다중 반복문 -> 단일 리스트 형태 처리 : 평탄화 / 정규화"
   ]
  },
  {
   "cell_type": "code",
   "execution_count": 13,
   "id": "3a54c01b-d90a-42cf-a1ca-c59aabf92d2e",
   "metadata": {},
   "outputs": [
    {
     "data": {
      "text/html": [
       "<div>\n",
       "<style scoped>\n",
       "    .dataframe tbody tr th:only-of-type {\n",
       "        vertical-align: middle;\n",
       "    }\n",
       "\n",
       "    .dataframe tbody tr th {\n",
       "        vertical-align: top;\n",
       "    }\n",
       "\n",
       "    .dataframe thead th {\n",
       "        text-align: right;\n",
       "    }\n",
       "</style>\n",
       "<table border=\"1\" class=\"dataframe\">\n",
       "  <thead>\n",
       "    <tr style=\"text-align: right;\">\n",
       "      <th></th>\n",
       "      <th>id</th>\n",
       "      <th>firstname</th>\n",
       "      <th>surname</th>\n",
       "      <th>motivation</th>\n",
       "      <th>share</th>\n",
       "    </tr>\n",
       "  </thead>\n",
       "  <tbody>\n",
       "    <tr>\n",
       "      <th>0</th>\n",
       "      <td>976</td>\n",
       "      <td>John</td>\n",
       "      <td>Goodenough</td>\n",
       "      <td>\"for the development of lithium-ion batteries\"</td>\n",
       "      <td>3</td>\n",
       "    </tr>\n",
       "    <tr>\n",
       "      <th>1</th>\n",
       "      <td>977</td>\n",
       "      <td>M. Stanley</td>\n",
       "      <td>Whittingham</td>\n",
       "      <td>\"for the development of lithium-ion batteries\"</td>\n",
       "      <td>3</td>\n",
       "    </tr>\n",
       "    <tr>\n",
       "      <th>2</th>\n",
       "      <td>978</td>\n",
       "      <td>Akira</td>\n",
       "      <td>Yoshino</td>\n",
       "      <td>\"for the development of lithium-ion batteries\"</td>\n",
       "      <td>3</td>\n",
       "    </tr>\n",
       "  </tbody>\n",
       "</table>\n",
       "</div>"
      ],
      "text/plain": [
       "    id   firstname      surname  \\\n",
       "0  976        John   Goodenough   \n",
       "1  977  M. Stanley  Whittingham   \n",
       "2  978       Akira      Yoshino   \n",
       "\n",
       "                                       motivation share  \n",
       "0  \"for the development of lithium-ion batteries\"     3  \n",
       "1  \"for the development of lithium-ion batteries\"     3  \n",
       "2  \"for the development of lithium-ion batteries\"     3  "
      ]
     },
     "execution_count": 13,
     "metadata": {},
     "output_type": "execute_result"
    }
   ],
   "source": [
    "pd.json_normalize(oneData, record_path='laureates')"
   ]
  },
  {
   "cell_type": "code",
   "execution_count": 14,
   "id": "03d5cc6c-095b-47ae-b44e-536b14ee97d0",
   "metadata": {},
   "outputs": [
    {
     "data": {
      "text/html": [
       "<div>\n",
       "<style scoped>\n",
       "    .dataframe tbody tr th:only-of-type {\n",
       "        vertical-align: middle;\n",
       "    }\n",
       "\n",
       "    .dataframe tbody tr th {\n",
       "        vertical-align: top;\n",
       "    }\n",
       "\n",
       "    .dataframe thead th {\n",
       "        text-align: right;\n",
       "    }\n",
       "</style>\n",
       "<table border=\"1\" class=\"dataframe\">\n",
       "  <thead>\n",
       "    <tr style=\"text-align: right;\">\n",
       "      <th></th>\n",
       "      <th>id</th>\n",
       "      <th>firstname</th>\n",
       "      <th>surname</th>\n",
       "      <th>motivation</th>\n",
       "      <th>share</th>\n",
       "      <th>year</th>\n",
       "      <th>category</th>\n",
       "    </tr>\n",
       "  </thead>\n",
       "  <tbody>\n",
       "    <tr>\n",
       "      <th>0</th>\n",
       "      <td>976</td>\n",
       "      <td>John</td>\n",
       "      <td>Goodenough</td>\n",
       "      <td>\"for the development of lithium-ion batteries\"</td>\n",
       "      <td>3</td>\n",
       "      <td>2019</td>\n",
       "      <td>chemistry</td>\n",
       "    </tr>\n",
       "    <tr>\n",
       "      <th>1</th>\n",
       "      <td>977</td>\n",
       "      <td>M. Stanley</td>\n",
       "      <td>Whittingham</td>\n",
       "      <td>\"for the development of lithium-ion batteries\"</td>\n",
       "      <td>3</td>\n",
       "      <td>2019</td>\n",
       "      <td>chemistry</td>\n",
       "    </tr>\n",
       "    <tr>\n",
       "      <th>2</th>\n",
       "      <td>978</td>\n",
       "      <td>Akira</td>\n",
       "      <td>Yoshino</td>\n",
       "      <td>\"for the development of lithium-ion batteries\"</td>\n",
       "      <td>3</td>\n",
       "      <td>2019</td>\n",
       "      <td>chemistry</td>\n",
       "    </tr>\n",
       "  </tbody>\n",
       "</table>\n",
       "</div>"
      ],
      "text/plain": [
       "    id   firstname      surname  \\\n",
       "0  976        John   Goodenough   \n",
       "1  977  M. Stanley  Whittingham   \n",
       "2  978       Akira      Yoshino   \n",
       "\n",
       "                                       motivation share  year   category  \n",
       "0  \"for the development of lithium-ion batteries\"     3  2019  chemistry  \n",
       "1  \"for the development of lithium-ion batteries\"     3  2019  chemistry  \n",
       "2  \"for the development of lithium-ion batteries\"     3  2019  chemistry  "
      ]
     },
     "execution_count": 14,
     "metadata": {},
     "output_type": "execute_result"
    }
   ],
   "source": [
    "pd.json_normalize(oneData, record_path='laureates', meta=['year', 'category'])"
   ]
  },
  {
   "cell_type": "markdown",
   "id": "6bc3ac37-3eef-4b85-a8d3-62318faaf6f3",
   "metadata": {},
   "source": [
    "* 모든 행에 대한 평탄화 작업 진행"
   ]
  },
  {
   "cell_type": "code",
   "execution_count": 15,
   "id": "37e964fd-5f2c-4cfc-bba3-1d316433c6bf",
   "metadata": {},
   "outputs": [],
   "source": [
    "# 컬럼 읽기 => DF객체변수명['컬럼명'], DF.객체변수명.컬럼명\n",
    "# 모든 행에 record_path에 해당하는 키(key)가 존재해야 함!!\n",
    "# 'laureates'가 존재하지 않는 행에 'laureates' 추가 (record_path에 해당하는 키 추가)\n",
    "# pd.json_normalize(nobelDF.prizes, record_path='laureates')\n",
    "for data in nobelDF.prizes:\n",
    "    # print(type(data), data.keys(), end='\\n\\n')\n",
    "    # 해당 dict에 laureates 키가 없다면 추가\n",
    "    data.setdefault('laureates', [])"
   ]
  },
  {
   "cell_type": "code",
   "execution_count": 16,
   "id": "de4d20ce-69a6-4304-8bab-d841f3301c27",
   "metadata": {},
   "outputs": [
    {
     "name": "stdout",
     "output_type": "stream",
     "text": [
      "<class 'pandas.core.frame.DataFrame'>\n",
      "RangeIndex: 950 entries, 0 to 949\n",
      "Data columns (total 7 columns):\n",
      " #   Column      Non-Null Count  Dtype \n",
      "---  ------      --------------  ----- \n",
      " 0   id          950 non-null    object\n",
      " 1   firstname   950 non-null    object\n",
      " 2   surname     921 non-null    object\n",
      " 3   motivation  950 non-null    object\n",
      " 4   share       950 non-null    object\n",
      " 5   year        950 non-null    object\n",
      " 6   category    950 non-null    object\n",
      "dtypes: object(7)\n",
      "memory usage: 52.1+ KB\n"
     ]
    }
   ],
   "source": [
    "nobelDF2 = pd.json_normalize(nobelDF.prizes, record_path='laureates', meta=['year', 'category'])\n",
    "nobelDF2.info()"
   ]
  },
  {
   "cell_type": "markdown",
   "id": "552b0b25-fa11-413f-9eb8-846f50b78d63",
   "metadata": {},
   "source": [
    "## 행 추출 => loc[[n1, ... ,]] / iloc[[n1, ... ,]]\n",
    "nobelDF.iloc[4]\n",
    "nobelDF.iloc[[0, 3]]"
   ]
  },
  {
   "cell_type": "markdown",
   "id": "902c477f-b96d-4e19-9d95-52dcd10c6a5b",
   "metadata": {},
   "source": [
    "* (7) JSON의 다양한 방식의 DataFrame 저장하기 => orient 파라미터"
   ]
  },
  {
   "cell_type": "code",
   "execution_count": 17,
   "id": "42c9fcda-d316-4829-9d0f-97ed15950321",
   "metadata": {},
   "outputs": [],
   "source": [
    "# JSON 배열 : 파이썬 입장에서는 dict-like\n",
    "json_data='''\n",
    "[\n",
    "{\"id\" : \"1\",\"name\":\"sravan\",\"age\":22},\n",
    "{\"id\" : \"2\",\"name\":\"harsha\",\"age\":22},\n",
    "{\"id\" : \"3\",\"name\":\"deepika\",\"age\":21},\n",
    "{\"id\" : \"4\",\"name\":\"jyothika\",\"age\":23}\n",
    "]\n",
    "'''"
   ]
  },
  {
   "cell_type": "markdown",
   "id": "19a3ee6c-bf1b-4d03-95bc-c61b251a619b",
   "metadata": {},
   "source": [
    "- orient = 'record' 설정 => JSON 파일 데이터를 행 단위로 읽어서 DataFrame에 저장"
   ]
  },
  {
   "cell_type": "code",
   "execution_count": 18,
   "id": "48cbd4ca-da57-471a-85df-bb0a779f512b",
   "metadata": {},
   "outputs": [
    {
     "data": {
      "text/html": [
       "<div>\n",
       "<style scoped>\n",
       "    .dataframe tbody tr th:only-of-type {\n",
       "        vertical-align: middle;\n",
       "    }\n",
       "\n",
       "    .dataframe tbody tr th {\n",
       "        vertical-align: top;\n",
       "    }\n",
       "\n",
       "    .dataframe thead th {\n",
       "        text-align: right;\n",
       "    }\n",
       "</style>\n",
       "<table border=\"1\" class=\"dataframe\">\n",
       "  <thead>\n",
       "    <tr style=\"text-align: right;\">\n",
       "      <th></th>\n",
       "      <th>id</th>\n",
       "      <th>name</th>\n",
       "      <th>age</th>\n",
       "    </tr>\n",
       "  </thead>\n",
       "  <tbody>\n",
       "    <tr>\n",
       "      <th>0</th>\n",
       "      <td>1</td>\n",
       "      <td>sravan</td>\n",
       "      <td>22</td>\n",
       "    </tr>\n",
       "    <tr>\n",
       "      <th>1</th>\n",
       "      <td>2</td>\n",
       "      <td>harsha</td>\n",
       "      <td>22</td>\n",
       "    </tr>\n",
       "    <tr>\n",
       "      <th>2</th>\n",
       "      <td>3</td>\n",
       "      <td>deepika</td>\n",
       "      <td>21</td>\n",
       "    </tr>\n",
       "    <tr>\n",
       "      <th>3</th>\n",
       "      <td>4</td>\n",
       "      <td>jyothika</td>\n",
       "      <td>23</td>\n",
       "    </tr>\n",
       "  </tbody>\n",
       "</table>\n",
       "</div>"
      ],
      "text/plain": [
       "   id      name  age\n",
       "0   1    sravan   22\n",
       "1   2    harsha   22\n",
       "2   3   deepika   21\n",
       "3   4  jyothika   23"
      ]
     },
     "execution_count": 18,
     "metadata": {},
     "output_type": "execute_result"
    }
   ],
   "source": [
    "df = pd.read_json(json_data, orient='records')\n",
    "df"
   ]
  },
  {
   "cell_type": "code",
   "execution_count": 19,
   "id": "9de08dcf-1aa2-4635-ada5-17087c137219",
   "metadata": {},
   "outputs": [],
   "source": [
    "# 데이터 => 키 : 값\n",
    "# 딕셔너리 값이 딕셔너리\n",
    "json_data2 = '''\n",
    "{\n",
    "    \"student-1\" : {\"id\" : \"1\",\"name\":\"sravan\",\"age\":22},\n",
    "    \"student-2\" : {\"id\" : \"2\",\"name\":\"harsha\",\"age\":22},\n",
    "    \"student-3\" : {\"id\" : \"3\",\"name\":\"deepika\",\"age\":21},\n",
    "    \"student-4\" : {\"id\" : \"4\",\"name\":\"jyothika\",\"age\":23}\n",
    "}\n",
    "'''"
   ]
  },
  {
   "cell_type": "code",
   "execution_count": 20,
   "id": "df1f56f8-6214-47db-92d8-43c19ca64d20",
   "metadata": {},
   "outputs": [
    {
     "data": {
      "text/html": [
       "<div>\n",
       "<style scoped>\n",
       "    .dataframe tbody tr th:only-of-type {\n",
       "        vertical-align: middle;\n",
       "    }\n",
       "\n",
       "    .dataframe tbody tr th {\n",
       "        vertical-align: top;\n",
       "    }\n",
       "\n",
       "    .dataframe thead th {\n",
       "        text-align: right;\n",
       "    }\n",
       "</style>\n",
       "<table border=\"1\" class=\"dataframe\">\n",
       "  <thead>\n",
       "    <tr style=\"text-align: right;\">\n",
       "      <th></th>\n",
       "      <th>id</th>\n",
       "      <th>name</th>\n",
       "      <th>age</th>\n",
       "    </tr>\n",
       "  </thead>\n",
       "  <tbody>\n",
       "    <tr>\n",
       "      <th>student-1</th>\n",
       "      <td>1</td>\n",
       "      <td>sravan</td>\n",
       "      <td>22</td>\n",
       "    </tr>\n",
       "    <tr>\n",
       "      <th>student-2</th>\n",
       "      <td>2</td>\n",
       "      <td>harsha</td>\n",
       "      <td>22</td>\n",
       "    </tr>\n",
       "    <tr>\n",
       "      <th>student-3</th>\n",
       "      <td>3</td>\n",
       "      <td>deepika</td>\n",
       "      <td>21</td>\n",
       "    </tr>\n",
       "    <tr>\n",
       "      <th>student-4</th>\n",
       "      <td>4</td>\n",
       "      <td>jyothika</td>\n",
       "      <td>23</td>\n",
       "    </tr>\n",
       "  </tbody>\n",
       "</table>\n",
       "</div>"
      ],
      "text/plain": [
       "           id      name  age\n",
       "student-1   1    sravan   22\n",
       "student-2   2    harsha   22\n",
       "student-3   3   deepika   21\n",
       "student-4   4  jyothika   23"
      ]
     },
     "execution_count": 20,
     "metadata": {},
     "output_type": "execute_result"
    }
   ],
   "source": [
    "# 키 => 인덱스로 설정\n",
    "df = pd.read_json(json_data2, orient='index')\n",
    "df"
   ]
  },
  {
   "cell_type": "code",
   "execution_count": 21,
   "id": "57c2c713-5167-42d8-bf1e-f5d491d689af",
   "metadata": {},
   "outputs": [
    {
     "data": {
      "text/html": [
       "<div>\n",
       "<style scoped>\n",
       "    .dataframe tbody tr th:only-of-type {\n",
       "        vertical-align: middle;\n",
       "    }\n",
       "\n",
       "    .dataframe tbody tr th {\n",
       "        vertical-align: top;\n",
       "    }\n",
       "\n",
       "    .dataframe thead th {\n",
       "        text-align: right;\n",
       "    }\n",
       "</style>\n",
       "<table border=\"1\" class=\"dataframe\">\n",
       "  <thead>\n",
       "    <tr style=\"text-align: right;\">\n",
       "      <th></th>\n",
       "      <th>id</th>\n",
       "      <th>name</th>\n",
       "      <th>age</th>\n",
       "    </tr>\n",
       "  </thead>\n",
       "  <tbody>\n",
       "    <tr>\n",
       "      <th>student-1</th>\n",
       "      <td>1</td>\n",
       "      <td>sravan</td>\n",
       "      <td>22</td>\n",
       "    </tr>\n",
       "    <tr>\n",
       "      <th>student-2</th>\n",
       "      <td>2</td>\n",
       "      <td>harsha</td>\n",
       "      <td>22</td>\n",
       "    </tr>\n",
       "    <tr>\n",
       "      <th>student-3</th>\n",
       "      <td>3</td>\n",
       "      <td>deepika</td>\n",
       "      <td>21</td>\n",
       "    </tr>\n",
       "    <tr>\n",
       "      <th>student-4</th>\n",
       "      <td>4</td>\n",
       "      <td>jyothika</td>\n",
       "      <td>23</td>\n",
       "    </tr>\n",
       "  </tbody>\n",
       "</table>\n",
       "</div>"
      ],
      "text/plain": [
       "          id      name age\n",
       "student-1  1    sravan  22\n",
       "student-2  2    harsha  22\n",
       "student-3  3   deepika  21\n",
       "student-4  4  jyothika  23"
      ]
     },
     "execution_count": 21,
     "metadata": {},
     "output_type": "execute_result"
    }
   ],
   "source": [
    "# 키 => 인덱스로 설정\n",
    "df = pd.read_json(json_data2).T\n",
    "df"
   ]
  },
  {
   "cell_type": "code",
   "execution_count": 22,
   "id": "5b461f02-0fdd-450d-bf17-b9f687368ed9",
   "metadata": {},
   "outputs": [
    {
     "data": {
      "text/html": [
       "<div>\n",
       "<style scoped>\n",
       "    .dataframe tbody tr th:only-of-type {\n",
       "        vertical-align: middle;\n",
       "    }\n",
       "\n",
       "    .dataframe tbody tr th {\n",
       "        vertical-align: top;\n",
       "    }\n",
       "\n",
       "    .dataframe thead th {\n",
       "        text-align: right;\n",
       "    }\n",
       "</style>\n",
       "<table border=\"1\" class=\"dataframe\">\n",
       "  <thead>\n",
       "    <tr style=\"text-align: right;\">\n",
       "      <th></th>\n",
       "      <th>student-1</th>\n",
       "      <th>student-2</th>\n",
       "      <th>student-3</th>\n",
       "      <th>student-4</th>\n",
       "    </tr>\n",
       "  </thead>\n",
       "  <tbody>\n",
       "    <tr>\n",
       "      <th>id</th>\n",
       "      <td>1</td>\n",
       "      <td>2</td>\n",
       "      <td>3</td>\n",
       "      <td>4</td>\n",
       "    </tr>\n",
       "    <tr>\n",
       "      <th>name</th>\n",
       "      <td>sravan</td>\n",
       "      <td>harsha</td>\n",
       "      <td>deepika</td>\n",
       "      <td>jyothika</td>\n",
       "    </tr>\n",
       "    <tr>\n",
       "      <th>age</th>\n",
       "      <td>22</td>\n",
       "      <td>22</td>\n",
       "      <td>21</td>\n",
       "      <td>23</td>\n",
       "    </tr>\n",
       "  </tbody>\n",
       "</table>\n",
       "</div>"
      ],
      "text/plain": [
       "     student-1 student-2 student-3 student-4\n",
       "id           1         2         3         4\n",
       "name    sravan    harsha   deepika  jyothika\n",
       "age         22        22        21        23"
      ]
     },
     "execution_count": 22,
     "metadata": {},
     "output_type": "execute_result"
    }
   ],
   "source": [
    "df = pd.read_json(json_data2, orient='columns')\n",
    "df"
   ]
  },
  {
   "cell_type": "code",
   "execution_count": 23,
   "id": "0885cc1c-76f7-4bfa-9240-79142073715a",
   "metadata": {},
   "outputs": [],
   "source": [
    "# JSON Format \n",
    "json_data3 = '''\n",
    "[\n",
    "    [ \"1\", \"sravan\",22 ],\n",
    "    [ \"2\", \"harsha\",22 ],\n",
    "    [ \"3\", \"deepika\",21 ],\n",
    "    [ \"4\", \"jyothika\",23 ]\n",
    "]\n",
    "'''"
   ]
  },
  {
   "cell_type": "code",
   "execution_count": 24,
   "id": "02fb8830-5c89-4630-b6d5-b938b09a5a00",
   "metadata": {},
   "outputs": [
    {
     "data": {
      "text/html": [
       "<div>\n",
       "<style scoped>\n",
       "    .dataframe tbody tr th:only-of-type {\n",
       "        vertical-align: middle;\n",
       "    }\n",
       "\n",
       "    .dataframe tbody tr th {\n",
       "        vertical-align: top;\n",
       "    }\n",
       "\n",
       "    .dataframe thead th {\n",
       "        text-align: right;\n",
       "    }\n",
       "</style>\n",
       "<table border=\"1\" class=\"dataframe\">\n",
       "  <thead>\n",
       "    <tr style=\"text-align: right;\">\n",
       "      <th></th>\n",
       "      <th>0</th>\n",
       "      <th>1</th>\n",
       "      <th>2</th>\n",
       "    </tr>\n",
       "  </thead>\n",
       "  <tbody>\n",
       "    <tr>\n",
       "      <th>0</th>\n",
       "      <td>1</td>\n",
       "      <td>sravan</td>\n",
       "      <td>22</td>\n",
       "    </tr>\n",
       "    <tr>\n",
       "      <th>1</th>\n",
       "      <td>2</td>\n",
       "      <td>harsha</td>\n",
       "      <td>22</td>\n",
       "    </tr>\n",
       "    <tr>\n",
       "      <th>2</th>\n",
       "      <td>3</td>\n",
       "      <td>deepika</td>\n",
       "      <td>21</td>\n",
       "    </tr>\n",
       "    <tr>\n",
       "      <th>3</th>\n",
       "      <td>4</td>\n",
       "      <td>jyothika</td>\n",
       "      <td>23</td>\n",
       "    </tr>\n",
       "  </tbody>\n",
       "</table>\n",
       "</div>"
      ],
      "text/plain": [
       "   0         1   2\n",
       "0  1    sravan  22\n",
       "1  2    harsha  22\n",
       "2  3   deepika  21\n",
       "3  4  jyothika  23"
      ]
     },
     "execution_count": 24,
     "metadata": {},
     "output_type": "execute_result"
    }
   ],
   "source": [
    "df = pd.read_json(json_data3, orient='values')\n",
    "df"
   ]
  },
  {
   "cell_type": "code",
   "execution_count": null,
   "id": "c54fdba9-1bf3-45d6-8b6d-ef96c2c09dc9",
   "metadata": {},
   "outputs": [],
   "source": []
  }
 ],
 "metadata": {
  "kernelspec": {
   "display_name": "Python 3 (ipykernel)",
   "language": "python",
   "name": "python3"
  },
  "language_info": {
   "codemirror_mode": {
    "name": "ipython",
    "version": 3
   },
   "file_extension": ".py",
   "mimetype": "text/x-python",
   "name": "python",
   "nbconvert_exporter": "python",
   "pygments_lexer": "ipython3",
   "version": "3.8.18"
  }
 },
 "nbformat": 4,
 "nbformat_minor": 5
}
