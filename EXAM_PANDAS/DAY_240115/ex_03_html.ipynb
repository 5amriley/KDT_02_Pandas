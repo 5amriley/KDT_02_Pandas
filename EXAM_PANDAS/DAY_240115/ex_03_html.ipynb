{
 "cells": [
  {
   "cell_type": "markdown",
   "id": "af4b56fd-29c4-4ade-af5e-2362edc4c6fe",
   "metadata": {},
   "source": [
    "## [ HTML -> DataFrame 으로 저장 ]"
   ]
  },
  {
   "cell_type": "markdown",
   "id": "dec3be0a-f4f2-45a0-801c-afd0b546ed9a",
   "metadata": {},
   "source": [
    "(1) 모듈 로딩 <hr>"
   ]
  },
  {
   "cell_type": "code",
   "execution_count": 1,
   "id": "d7cba191-23f6-41c3-aaff-7030eb8c637a",
   "metadata": {},
   "outputs": [],
   "source": [
    "import pandas as pd"
   ]
  },
  {
   "cell_type": "markdown",
   "id": "23b04968-1b36-48e8-a2a2-4493a8c80c41",
   "metadata": {},
   "source": [
    "(2) 데이터 준비 <hr>"
   ]
  },
  {
   "cell_type": "code",
   "execution_count": 2,
   "id": "679ab784-372e-4af2-aef5-b83120f552d9",
   "metadata": {},
   "outputs": [],
   "source": [
    "file = '../../temp/test.html'"
   ]
  },
  {
   "cell_type": "markdown",
   "id": "d88c0aef-b8ba-48df-8d0a-93a444974332",
   "metadata": {},
   "source": [
    "(3) HTML -> DataFrame 저장"
   ]
  },
  {
   "cell_type": "code",
   "execution_count": 3,
   "id": "cdce4513-ec85-40ab-b38c-6e2d2abe3e65",
   "metadata": {},
   "outputs": [],
   "source": [
    "import lxml"
   ]
  },
  {
   "cell_type": "code",
   "execution_count": 11,
   "id": "cceb141b-7e0c-4099-b862-efc50824814e",
   "metadata": {},
   "outputs": [
    {
     "data": {
      "text/plain": [
       "[    0      1   2\n",
       " 0  번호     이름  전공\n",
       " 1   1    홍길동  의적\n",
       " 2   2    마징가  로봇\n",
       " 3   4    베트맨  박쥐\n",
       " 4   5  스파이더맨  거미,\n",
       "      0     1   2\n",
       " 0  과일명    가격  수량\n",
       " 1   사과  1000  32\n",
       " 2  바나나  3000  10\n",
       " 3   수박  5800   2]"
      ]
     },
     "execution_count": 11,
     "metadata": {},
     "output_type": "execute_result"
    }
   ],
   "source": [
    "testDF = pd.read_html(io=file, encoding='utf-8')\n",
    "testDF"
   ]
  },
  {
   "cell_type": "code",
   "execution_count": 12,
   "id": "81db1329-2673-49b5-a305-d492f2553147",
   "metadata": {},
   "outputs": [
    {
     "data": {
      "text/plain": [
       "list"
      ]
     },
     "execution_count": 12,
     "metadata": {},
     "output_type": "execute_result"
    }
   ],
   "source": [
    "type(testDF)"
   ]
  },
  {
   "cell_type": "code",
   "execution_count": 13,
   "id": "9301396d-848e-47de-acae-04eeaddefc1c",
   "metadata": {},
   "outputs": [
    {
     "data": {
      "text/plain": [
       "2"
      ]
     },
     "execution_count": 13,
     "metadata": {},
     "output_type": "execute_result"
    }
   ],
   "source": [
    "len(testDF)"
   ]
  },
  {
   "cell_type": "code",
   "execution_count": 14,
   "id": "739415f3-b9af-4510-953c-f6dd7c6eefc0",
   "metadata": {},
   "outputs": [
    {
     "data": {
      "text/plain": [
       "pandas.core.frame.DataFrame"
      ]
     },
     "execution_count": 14,
     "metadata": {},
     "output_type": "execute_result"
    }
   ],
   "source": [
    "type(testDF[0])"
   ]
  },
  {
   "cell_type": "code",
   "execution_count": 15,
   "id": "d5ed3c72-8b46-4765-92a3-888c64ca5790",
   "metadata": {},
   "outputs": [
    {
     "data": {
      "text/html": [
       "<div>\n",
       "<style scoped>\n",
       "    .dataframe tbody tr th:only-of-type {\n",
       "        vertical-align: middle;\n",
       "    }\n",
       "\n",
       "    .dataframe tbody tr th {\n",
       "        vertical-align: top;\n",
       "    }\n",
       "\n",
       "    .dataframe thead th {\n",
       "        text-align: right;\n",
       "    }\n",
       "</style>\n",
       "<table border=\"1\" class=\"dataframe\">\n",
       "  <thead>\n",
       "    <tr style=\"text-align: right;\">\n",
       "      <th></th>\n",
       "      <th>0</th>\n",
       "      <th>1</th>\n",
       "      <th>2</th>\n",
       "    </tr>\n",
       "  </thead>\n",
       "  <tbody>\n",
       "    <tr>\n",
       "      <th>0</th>\n",
       "      <td>번호</td>\n",
       "      <td>이름</td>\n",
       "      <td>전공</td>\n",
       "    </tr>\n",
       "    <tr>\n",
       "      <th>1</th>\n",
       "      <td>1</td>\n",
       "      <td>홍길동</td>\n",
       "      <td>의적</td>\n",
       "    </tr>\n",
       "    <tr>\n",
       "      <th>2</th>\n",
       "      <td>2</td>\n",
       "      <td>마징가</td>\n",
       "      <td>로봇</td>\n",
       "    </tr>\n",
       "    <tr>\n",
       "      <th>3</th>\n",
       "      <td>4</td>\n",
       "      <td>베트맨</td>\n",
       "      <td>박쥐</td>\n",
       "    </tr>\n",
       "    <tr>\n",
       "      <th>4</th>\n",
       "      <td>5</td>\n",
       "      <td>스파이더맨</td>\n",
       "      <td>거미</td>\n",
       "    </tr>\n",
       "  </tbody>\n",
       "</table>\n",
       "</div>"
      ],
      "text/plain": [
       "    0      1   2\n",
       "0  번호     이름  전공\n",
       "1   1    홍길동  의적\n",
       "2   2    마징가  로봇\n",
       "3   4    베트맨  박쥐\n",
       "4   5  스파이더맨  거미"
      ]
     },
     "execution_count": 15,
     "metadata": {},
     "output_type": "execute_result"
    }
   ],
   "source": [
    "testDF[0]"
   ]
  },
  {
   "cell_type": "code",
   "execution_count": null,
   "id": "23657ad3-fe32-4dbd-88e2-864c32a47f56",
   "metadata": {},
   "outputs": [],
   "source": []
  }
 ],
 "metadata": {
  "kernelspec": {
   "display_name": "Python 3 (ipykernel)",
   "language": "python",
   "name": "python3"
  },
  "language_info": {
   "codemirror_mode": {
    "name": "ipython",
    "version": 3
   },
   "file_extension": ".py",
   "mimetype": "text/x-python",
   "name": "python",
   "nbconvert_exporter": "python",
   "pygments_lexer": "ipython3",
   "version": "3.8.18"
  }
 },
 "nbformat": 4,
 "nbformat_minor": 5
}
