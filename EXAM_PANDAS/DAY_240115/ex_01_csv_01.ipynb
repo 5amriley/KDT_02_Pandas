{
 "cells": [
  {
   "cell_type": "markdown",
   "id": "fe92fbd3-4edd-4bd4-8154-76ad4e944f18",
   "metadata": {},
   "source": [
    "# [CSV 데이터 파일 다루기]"
   ]
  },
  {
   "cell_type": "markdown",
   "id": "e4e35dce-1384-4efb-a8b7-631207abd311",
   "metadata": {},
   "source": [
    "(1) 모듈 로딩 <hr>"
   ]
  },
  {
   "cell_type": "code",
   "execution_count": 1,
   "id": "626a5102-a9c8-4234-a337-e85d798ba599",
   "metadata": {},
   "outputs": [],
   "source": [
    "import pandas as pd"
   ]
  },
  {
   "cell_type": "markdown",
   "id": "f97cea57-1012-4af7-b22c-519d82be808e",
   "metadata": {},
   "source": [
    "(2) 데이터 준비 <hr>"
   ]
  },
  {
   "cell_type": "markdown",
   "id": "b5d669f6-e82d-4fb3-ab7d-be42a00c89d3",
   "metadata": {},
   "source": [
    "- 파일 이름 => 경로 + 파일명\n",
    "- 경로 => 2가지 종류\n",
    "    * 절대경로 : 드라이브로부터 파일까지의 전체 경로 (e.g., C:\\Uers\\data\\a.txt)\n",
    "    * 상대경로 : 현재 파일을 기준으로 경로 설정\n",
    "        - ./  : 현재 위치한 폴더      (e.g., ./a.csv, a.csv)\n",
    "        - ../ : 한 단계 위의 디렉토리 (e.g., ../Data/b.csv)"
   ]
  },
  {
   "cell_type": "code",
   "execution_count": 21,
   "id": "bb0a53f1-16c5-48c9-9167-08c52af36448",
   "metadata": {},
   "outputs": [],
   "source": [
    "file = 'test.csv'    # file = './test.csv' 동일 의미"
   ]
  },
  {
   "cell_type": "code",
   "execution_count": 10,
   "id": "8d49f939-a465-404a-be8d-07fbf53d1fdb",
   "metadata": {},
   "outputs": [],
   "source": [
    "file2 = '../../DATA/movies.csv'"
   ]
  },
  {
   "cell_type": "markdown",
   "id": "d188cd9a-0121-4218-8794-a5b4365e2ad0",
   "metadata": {},
   "source": [
    "(3) 데이터 저장 (csv -> DataFrame) <hr>"
   ]
  },
  {
   "cell_type": "code",
   "execution_count": 11,
   "id": "0ebf05cc-ece0-4195-b6ec-8ee650aac714",
   "metadata": {},
   "outputs": [],
   "source": [
    "movieDF = pd.read_csv(file2)"
   ]
  },
  {
   "cell_type": "markdown",
   "id": "e4b7b0e6-94c9-4c8b-b82d-4accb3425137",
   "metadata": {},
   "source": [
    "(4) 데이터 확인 <hr>"
   ]
  },
  {
   "cell_type": "code",
   "execution_count": 12,
   "id": "8074b027-315e-4b04-9546-d1102e561073",
   "metadata": {},
   "outputs": [
    {
     "name": "stdout",
     "output_type": "stream",
     "text": [
      "<class 'pandas.core.frame.DataFrame'>\n",
      "RangeIndex: 782 entries, 0 to 781\n",
      "Data columns (total 5 columns):\n",
      " #   Column  Non-Null Count  Dtype \n",
      "---  ------  --------------  ----- \n",
      " 0   Rank    782 non-null    int64 \n",
      " 1   Title   782 non-null    object\n",
      " 2   Studio  782 non-null    object\n",
      " 3   Gross   782 non-null    object\n",
      " 4   Year    782 non-null    int64 \n",
      "dtypes: int64(2), object(3)\n",
      "memory usage: 30.7+ KB\n"
     ]
    }
   ],
   "source": [
    "# 전체적인 데이터 정보\n",
    "movieDF.info()"
   ]
  },
  {
   "cell_type": "code",
   "execution_count": 13,
   "id": "9673e701-6265-46a2-9727-aba720cafc3b",
   "metadata": {},
   "outputs": [
    {
     "data": {
      "text/html": [
       "<div>\n",
       "<style scoped>\n",
       "    .dataframe tbody tr th:only-of-type {\n",
       "        vertical-align: middle;\n",
       "    }\n",
       "\n",
       "    .dataframe tbody tr th {\n",
       "        vertical-align: top;\n",
       "    }\n",
       "\n",
       "    .dataframe thead th {\n",
       "        text-align: right;\n",
       "    }\n",
       "</style>\n",
       "<table border=\"1\" class=\"dataframe\">\n",
       "  <thead>\n",
       "    <tr style=\"text-align: right;\">\n",
       "      <th></th>\n",
       "      <th>Rank</th>\n",
       "      <th>Title</th>\n",
       "      <th>Studio</th>\n",
       "      <th>Gross</th>\n",
       "      <th>Year</th>\n",
       "    </tr>\n",
       "  </thead>\n",
       "  <tbody>\n",
       "    <tr>\n",
       "      <th>0</th>\n",
       "      <td>1</td>\n",
       "      <td>Avengers: Endgame</td>\n",
       "      <td>Buena Vista</td>\n",
       "      <td>$2,796.30</td>\n",
       "      <td>2019</td>\n",
       "    </tr>\n",
       "    <tr>\n",
       "      <th>1</th>\n",
       "      <td>2</td>\n",
       "      <td>Avatar</td>\n",
       "      <td>Fox</td>\n",
       "      <td>$2,789.70</td>\n",
       "      <td>2009</td>\n",
       "    </tr>\n",
       "    <tr>\n",
       "      <th>2</th>\n",
       "      <td>3</td>\n",
       "      <td>Titanic</td>\n",
       "      <td>Paramount</td>\n",
       "      <td>$2,187.50</td>\n",
       "      <td>1997</td>\n",
       "    </tr>\n",
       "    <tr>\n",
       "      <th>3</th>\n",
       "      <td>4</td>\n",
       "      <td>Star Wars: The Force Awakens</td>\n",
       "      <td>Buena Vista</td>\n",
       "      <td>$2,068.20</td>\n",
       "      <td>2015</td>\n",
       "    </tr>\n",
       "    <tr>\n",
       "      <th>4</th>\n",
       "      <td>5</td>\n",
       "      <td>Avengers: Infinity War</td>\n",
       "      <td>Buena Vista</td>\n",
       "      <td>$2,048.40</td>\n",
       "      <td>2018</td>\n",
       "    </tr>\n",
       "  </tbody>\n",
       "</table>\n",
       "</div>"
      ],
      "text/plain": [
       "   Rank                         Title       Studio       Gross  Year\n",
       "0     1             Avengers: Endgame  Buena Vista  $2,796.30   2019\n",
       "1     2                        Avatar          Fox  $2,789.70   2009\n",
       "2     3                       Titanic    Paramount  $2,187.50   1997\n",
       "3     4  Star Wars: The Force Awakens  Buena Vista  $2,068.20   2015\n",
       "4     5        Avengers: Infinity War  Buena Vista  $2,048.40   2018"
      ]
     },
     "execution_count": 13,
     "metadata": {},
     "output_type": "execute_result"
    }
   ],
   "source": [
    "movieDF.head()"
   ]
  },
  {
   "cell_type": "markdown",
   "id": "9724ac4d-9b61-4d05-8990-2e752b7f70b3",
   "metadata": {},
   "source": [
    "(5) read_csv 파일 매개변수 살펴보기 <hr>"
   ]
  },
  {
   "cell_type": "markdown",
   "id": "afd8ad2b-b555-422b-ae69-e8cf51087ac2",
   "metadata": {},
   "source": [
    "* header 파라미터 : DataFrame의 컬럼명 설정하는 파라미터\n",
    "    * 기본값 : csv 파일의 첫 번째 라인의 데이터를 컬컴용로 설정\n",
    "    * Name : csv 파일의 첫 번째 라인이 컬럼명 아님 의미 => 컬럼명 미지정)\n",
    "    * 행번호 : csv 파일의 행번로 라인이 컬럼명으로 설정, 그 이전 행 번호 데이터는 사라짐!"
   ]
  },
  {
   "cell_type": "markdown",
   "id": "96d77103-81c2-4175-97ea-d2f669a685ad",
   "metadata": {},
   "source": [
    "# pd.read_csv(file2, header=0)"
   ]
  },
  {
   "cell_type": "markdown",
   "id": "2a3d342c-f057-4826-b0a3-746b54a6abf7",
   "metadata": {},
   "source": [
    "- index_col 파라미터 : 컬럼 중에서 행 인덱스로 설정, set_index()와 동일 역할"
   ]
  },
  {
   "cell_type": "code",
   "execution_count": 17,
   "id": "ef70ea47-3c30-48a2-ac98-52f9c2452cf6",
   "metadata": {},
   "outputs": [
    {
     "data": {
      "text/html": [
       "<div>\n",
       "<style scoped>\n",
       "    .dataframe tbody tr th:only-of-type {\n",
       "        vertical-align: middle;\n",
       "    }\n",
       "\n",
       "    .dataframe tbody tr th {\n",
       "        vertical-align: top;\n",
       "    }\n",
       "\n",
       "    .dataframe thead th {\n",
       "        text-align: right;\n",
       "    }\n",
       "</style>\n",
       "<table border=\"1\" class=\"dataframe\">\n",
       "  <thead>\n",
       "    <tr style=\"text-align: right;\">\n",
       "      <th></th>\n",
       "      <th>Title</th>\n",
       "      <th>Studio</th>\n",
       "      <th>Gross</th>\n",
       "      <th>Year</th>\n",
       "    </tr>\n",
       "    <tr>\n",
       "      <th>Rank</th>\n",
       "      <th></th>\n",
       "      <th></th>\n",
       "      <th></th>\n",
       "      <th></th>\n",
       "    </tr>\n",
       "  </thead>\n",
       "  <tbody>\n",
       "    <tr>\n",
       "      <th>1</th>\n",
       "      <td>Avengers: Endgame</td>\n",
       "      <td>Buena Vista</td>\n",
       "      <td>$2,796.30</td>\n",
       "      <td>2019</td>\n",
       "    </tr>\n",
       "    <tr>\n",
       "      <th>2</th>\n",
       "      <td>Avatar</td>\n",
       "      <td>Fox</td>\n",
       "      <td>$2,789.70</td>\n",
       "      <td>2009</td>\n",
       "    </tr>\n",
       "    <tr>\n",
       "      <th>3</th>\n",
       "      <td>Titanic</td>\n",
       "      <td>Paramount</td>\n",
       "      <td>$2,187.50</td>\n",
       "      <td>1997</td>\n",
       "    </tr>\n",
       "    <tr>\n",
       "      <th>4</th>\n",
       "      <td>Star Wars: The Force Awakens</td>\n",
       "      <td>Buena Vista</td>\n",
       "      <td>$2,068.20</td>\n",
       "      <td>2015</td>\n",
       "    </tr>\n",
       "    <tr>\n",
       "      <th>5</th>\n",
       "      <td>Avengers: Infinity War</td>\n",
       "      <td>Buena Vista</td>\n",
       "      <td>$2,048.40</td>\n",
       "      <td>2018</td>\n",
       "    </tr>\n",
       "    <tr>\n",
       "      <th>...</th>\n",
       "      <td>...</td>\n",
       "      <td>...</td>\n",
       "      <td>...</td>\n",
       "      <td>...</td>\n",
       "    </tr>\n",
       "    <tr>\n",
       "      <th>778</th>\n",
       "      <td>Yogi Bear</td>\n",
       "      <td>Warner Brothers</td>\n",
       "      <td>$201.60</td>\n",
       "      <td>2010</td>\n",
       "    </tr>\n",
       "    <tr>\n",
       "      <th>779</th>\n",
       "      <td>Garfield: The Movie</td>\n",
       "      <td>Fox</td>\n",
       "      <td>$200.80</td>\n",
       "      <td>2004</td>\n",
       "    </tr>\n",
       "    <tr>\n",
       "      <th>780</th>\n",
       "      <td>Cats &amp; Dogs</td>\n",
       "      <td>Warner Brothers</td>\n",
       "      <td>$200.70</td>\n",
       "      <td>2001</td>\n",
       "    </tr>\n",
       "    <tr>\n",
       "      <th>781</th>\n",
       "      <td>The Hunt for Red October</td>\n",
       "      <td>Paramount</td>\n",
       "      <td>$200.50</td>\n",
       "      <td>1990</td>\n",
       "    </tr>\n",
       "    <tr>\n",
       "      <th>782</th>\n",
       "      <td>Valkyrie</td>\n",
       "      <td>MGM</td>\n",
       "      <td>$200.30</td>\n",
       "      <td>2008</td>\n",
       "    </tr>\n",
       "  </tbody>\n",
       "</table>\n",
       "<p>782 rows × 4 columns</p>\n",
       "</div>"
      ],
      "text/plain": [
       "                             Title           Studio       Gross  Year\n",
       "Rank                                                                 \n",
       "1                Avengers: Endgame      Buena Vista  $2,796.30   2019\n",
       "2                           Avatar              Fox  $2,789.70   2009\n",
       "3                          Titanic        Paramount  $2,187.50   1997\n",
       "4     Star Wars: The Force Awakens      Buena Vista  $2,068.20   2015\n",
       "5           Avengers: Infinity War      Buena Vista  $2,048.40   2018\n",
       "...                            ...              ...         ...   ...\n",
       "778                      Yogi Bear  Warner Brothers    $201.60   2010\n",
       "779            Garfield: The Movie              Fox    $200.80   2004\n",
       "780                    Cats & Dogs  Warner Brothers    $200.70   2001\n",
       "781       The Hunt for Red October        Paramount    $200.50   1990\n",
       "782                       Valkyrie              MGM    $200.30   2008\n",
       "\n",
       "[782 rows x 4 columns]"
      ]
     },
     "execution_count": 17,
     "metadata": {},
     "output_type": "execute_result"
    }
   ],
   "source": [
    "pd.read_csv(file2, index_col='Rank')    # 단일 인덱스"
   ]
  },
  {
   "cell_type": "code",
   "execution_count": 18,
   "id": "54e84ef1-b10c-4cc4-8a13-a6345389b28b",
   "metadata": {},
   "outputs": [
    {
     "data": {
      "text/html": [
       "<div>\n",
       "<style scoped>\n",
       "    .dataframe tbody tr th:only-of-type {\n",
       "        vertical-align: middle;\n",
       "    }\n",
       "\n",
       "    .dataframe tbody tr th {\n",
       "        vertical-align: top;\n",
       "    }\n",
       "\n",
       "    .dataframe thead th {\n",
       "        text-align: right;\n",
       "    }\n",
       "</style>\n",
       "<table border=\"1\" class=\"dataframe\">\n",
       "  <thead>\n",
       "    <tr style=\"text-align: right;\">\n",
       "      <th></th>\n",
       "      <th></th>\n",
       "      <th>Studio</th>\n",
       "      <th>Gross</th>\n",
       "      <th>Year</th>\n",
       "    </tr>\n",
       "    <tr>\n",
       "      <th>Rank</th>\n",
       "      <th>Title</th>\n",
       "      <th></th>\n",
       "      <th></th>\n",
       "      <th></th>\n",
       "    </tr>\n",
       "  </thead>\n",
       "  <tbody>\n",
       "    <tr>\n",
       "      <th>1</th>\n",
       "      <th>Avengers: Endgame</th>\n",
       "      <td>Buena Vista</td>\n",
       "      <td>$2,796.30</td>\n",
       "      <td>2019</td>\n",
       "    </tr>\n",
       "    <tr>\n",
       "      <th>2</th>\n",
       "      <th>Avatar</th>\n",
       "      <td>Fox</td>\n",
       "      <td>$2,789.70</td>\n",
       "      <td>2009</td>\n",
       "    </tr>\n",
       "    <tr>\n",
       "      <th>3</th>\n",
       "      <th>Titanic</th>\n",
       "      <td>Paramount</td>\n",
       "      <td>$2,187.50</td>\n",
       "      <td>1997</td>\n",
       "    </tr>\n",
       "    <tr>\n",
       "      <th>4</th>\n",
       "      <th>Star Wars: The Force Awakens</th>\n",
       "      <td>Buena Vista</td>\n",
       "      <td>$2,068.20</td>\n",
       "      <td>2015</td>\n",
       "    </tr>\n",
       "    <tr>\n",
       "      <th>5</th>\n",
       "      <th>Avengers: Infinity War</th>\n",
       "      <td>Buena Vista</td>\n",
       "      <td>$2,048.40</td>\n",
       "      <td>2018</td>\n",
       "    </tr>\n",
       "    <tr>\n",
       "      <th>...</th>\n",
       "      <th>...</th>\n",
       "      <td>...</td>\n",
       "      <td>...</td>\n",
       "      <td>...</td>\n",
       "    </tr>\n",
       "    <tr>\n",
       "      <th>778</th>\n",
       "      <th>Yogi Bear</th>\n",
       "      <td>Warner Brothers</td>\n",
       "      <td>$201.60</td>\n",
       "      <td>2010</td>\n",
       "    </tr>\n",
       "    <tr>\n",
       "      <th>779</th>\n",
       "      <th>Garfield: The Movie</th>\n",
       "      <td>Fox</td>\n",
       "      <td>$200.80</td>\n",
       "      <td>2004</td>\n",
       "    </tr>\n",
       "    <tr>\n",
       "      <th>780</th>\n",
       "      <th>Cats &amp; Dogs</th>\n",
       "      <td>Warner Brothers</td>\n",
       "      <td>$200.70</td>\n",
       "      <td>2001</td>\n",
       "    </tr>\n",
       "    <tr>\n",
       "      <th>781</th>\n",
       "      <th>The Hunt for Red October</th>\n",
       "      <td>Paramount</td>\n",
       "      <td>$200.50</td>\n",
       "      <td>1990</td>\n",
       "    </tr>\n",
       "    <tr>\n",
       "      <th>782</th>\n",
       "      <th>Valkyrie</th>\n",
       "      <td>MGM</td>\n",
       "      <td>$200.30</td>\n",
       "      <td>2008</td>\n",
       "    </tr>\n",
       "  </tbody>\n",
       "</table>\n",
       "<p>782 rows × 3 columns</p>\n",
       "</div>"
      ],
      "text/plain": [
       "                                            Studio       Gross  Year\n",
       "Rank Title                                                          \n",
       "1    Avengers: Endgame                 Buena Vista  $2,796.30   2019\n",
       "2    Avatar                                    Fox  $2,789.70   2009\n",
       "3    Titanic                             Paramount  $2,187.50   1997\n",
       "4    Star Wars: The Force Awakens      Buena Vista  $2,068.20   2015\n",
       "5    Avengers: Infinity War            Buena Vista  $2,048.40   2018\n",
       "...                                            ...         ...   ...\n",
       "778  Yogi Bear                     Warner Brothers    $201.60   2010\n",
       "779  Garfield: The Movie                       Fox    $200.80   2004\n",
       "780  Cats & Dogs                   Warner Brothers    $200.70   2001\n",
       "781  The Hunt for Red October            Paramount    $200.50   1990\n",
       "782  Valkyrie                                  MGM    $200.30   2008\n",
       "\n",
       "[782 rows x 3 columns]"
      ]
     },
     "execution_count": 18,
     "metadata": {},
     "output_type": "execute_result"
    }
   ],
   "source": [
    "pd.read_csv(file2, index_col=['Rank', 'Title'])"
   ]
  },
  {
   "cell_type": "markdown",
   "id": "200257eb-9780-4a08-9a4b-2dfa2381133a",
   "metadata": {},
   "source": [
    "* sep/delimiter : CSV 파일에서 데이터 구분자 지정"
   ]
  },
  {
   "cell_type": "code",
   "execution_count": 20,
   "id": "9202f8af-7f90-497e-b177-38f73b54abd2",
   "metadata": {},
   "outputs": [
    {
     "data": {
      "text/html": [
       "<div>\n",
       "<style scoped>\n",
       "    .dataframe tbody tr th:only-of-type {\n",
       "        vertical-align: middle;\n",
       "    }\n",
       "\n",
       "    .dataframe tbody tr th {\n",
       "        vertical-align: top;\n",
       "    }\n",
       "\n",
       "    .dataframe thead th {\n",
       "        text-align: right;\n",
       "    }\n",
       "</style>\n",
       "<table border=\"1\" class=\"dataframe\">\n",
       "  <thead>\n",
       "    <tr style=\"text-align: right;\">\n",
       "      <th></th>\n",
       "      <th>Rank,Title,Studio,Gross,Year</th>\n",
       "    </tr>\n",
       "  </thead>\n",
       "  <tbody>\n",
       "    <tr>\n",
       "      <th>0</th>\n",
       "      <td>1,Avengers: Endgame,Buena Vista,\"$2,796.30 \",2019</td>\n",
       "    </tr>\n",
       "    <tr>\n",
       "      <th>1</th>\n",
       "      <td>2,Avatar,Fox,\"$2,789.70 \",2009</td>\n",
       "    </tr>\n",
       "    <tr>\n",
       "      <th>2</th>\n",
       "      <td>3,Titanic,Paramount,\"$2,187.50 \",1997</td>\n",
       "    </tr>\n",
       "    <tr>\n",
       "      <th>3</th>\n",
       "      <td>4,Star Wars: The Force Awakens,Buena Vista,\"$2...</td>\n",
       "    </tr>\n",
       "    <tr>\n",
       "      <th>4</th>\n",
       "      <td>5,Avengers: Infinity War,Buena Vista,\"$2,048.4...</td>\n",
       "    </tr>\n",
       "  </tbody>\n",
       "</table>\n",
       "</div>"
      ],
      "text/plain": [
       "                        Rank,Title,Studio,Gross,Year\n",
       "0  1,Avengers: Endgame,Buena Vista,\"$2,796.30 \",2019\n",
       "1                     2,Avatar,Fox,\"$2,789.70 \",2009\n",
       "2              3,Titanic,Paramount,\"$2,187.50 \",1997\n",
       "3  4,Star Wars: The Force Awakens,Buena Vista,\"$2...\n",
       "4  5,Avengers: Infinity War,Buena Vista,\"$2,048.4..."
      ]
     },
     "execution_count": 20,
     "metadata": {},
     "output_type": "execute_result"
    }
   ],
   "source": [
    "pd.read_csv(file2, sep=';').head()"
   ]
  },
  {
   "cell_type": "markdown",
   "id": "71e2ee08-1128-4aa7-aee2-6e6e5ec900da",
   "metadata": {},
   "source": [
    "* skiprows : csv 파일에서 읽어 들이지 않을 행 개수를 지정하기 (앞부분)\n",
    "* skipfooter : csv 파일에서 읽어 들이지 않을 행 개수를 지정하기 (끝부분)"
   ]
  },
  {
   "cell_type": "code",
   "execution_count": 24,
   "id": "7cac786b-090c-42b0-ad34-03a5d331416e",
   "metadata": {},
   "outputs": [],
   "source": [
    "# pd.read_csv(file, sep=';')    # ParserError"
   ]
  },
  {
   "cell_type": "code",
   "execution_count": 31,
   "id": "aa2f5db3-5f9d-4b6f-b4f5-0b4cf785627b",
   "metadata": {},
   "outputs": [
    {
     "data": {
      "text/html": [
       "<div>\n",
       "<style scoped>\n",
       "    .dataframe tbody tr th:only-of-type {\n",
       "        vertical-align: middle;\n",
       "    }\n",
       "\n",
       "    .dataframe tbody tr th {\n",
       "        vertical-align: top;\n",
       "    }\n",
       "\n",
       "    .dataframe thead th {\n",
       "        text-align: right;\n",
       "    }\n",
       "</style>\n",
       "<table border=\"1\" class=\"dataframe\">\n",
       "  <thead>\n",
       "    <tr style=\"text-align: right;\">\n",
       "      <th></th>\n",
       "      <th>1</th>\n",
       "      <th>2</th>\n",
       "      <th>3</th>\n",
       "      <th>4</th>\n",
       "    </tr>\n",
       "  </thead>\n",
       "  <tbody>\n",
       "    <tr>\n",
       "      <th>0</th>\n",
       "      <td>10</td>\n",
       "      <td>20</td>\n",
       "      <td>30</td>\n",
       "      <td>40</td>\n",
       "    </tr>\n",
       "    <tr>\n",
       "      <th>1</th>\n",
       "      <td>11</td>\n",
       "      <td>22</td>\n",
       "      <td>33</td>\n",
       "      <td>44</td>\n",
       "    </tr>\n",
       "  </tbody>\n",
       "</table>\n",
       "</div>"
      ],
      "text/plain": [
       "    1   2   3   4\n",
       "0  10  20  30  40\n",
       "1  11  22  33  44"
      ]
     },
     "execution_count": 31,
     "metadata": {},
     "output_type": "execute_result"
    }
   ],
   "source": [
    "pd.read_csv(file, sep=';', skiprows=3)"
   ]
  },
  {
   "cell_type": "code",
   "execution_count": 30,
   "id": "5d2fe91e-ba07-4745-b3d3-3cd560f765f5",
   "metadata": {},
   "outputs": [
    {
     "data": {
      "text/html": [
       "<div>\n",
       "<style scoped>\n",
       "    .dataframe tbody tr th:only-of-type {\n",
       "        vertical-align: middle;\n",
       "    }\n",
       "\n",
       "    .dataframe tbody tr th {\n",
       "        vertical-align: top;\n",
       "    }\n",
       "\n",
       "    .dataframe thead th {\n",
       "        text-align: right;\n",
       "    }\n",
       "</style>\n",
       "<table border=\"1\" class=\"dataframe\">\n",
       "  <thead>\n",
       "    <tr style=\"text-align: right;\">\n",
       "      <th></th>\n",
       "      <th>0</th>\n",
       "      <th>1</th>\n",
       "      <th>2</th>\n",
       "      <th>3</th>\n",
       "    </tr>\n",
       "  </thead>\n",
       "  <tbody>\n",
       "    <tr>\n",
       "      <th>0</th>\n",
       "      <td>1</td>\n",
       "      <td>2</td>\n",
       "      <td>3</td>\n",
       "      <td>4</td>\n",
       "    </tr>\n",
       "  </tbody>\n",
       "</table>\n",
       "</div>"
      ],
      "text/plain": [
       "   0  1  2  3\n",
       "0  1  2  3  4"
      ]
     },
     "execution_count": 30,
     "metadata": {},
     "output_type": "execute_result"
    }
   ],
   "source": [
    "pd.read_csv(file, sep=';', skiprows=3, header=None, skipfooter=2, engine='python')"
   ]
  },
  {
   "cell_type": "markdown",
   "id": "aa121414-9e44-4201-96f5-20f567ad93f0",
   "metadata": {},
   "source": [
    "- usecols : 컬럼에서 특정 컬럼만 선택해서 로딩함  \n",
    "    * usecols=[0, 2, ...]"
   ]
  },
  {
   "cell_type": "code",
   "execution_count": 37,
   "id": "cffb559f-f85b-4e8b-8ce4-59f565ab6dbf",
   "metadata": {},
   "outputs": [
    {
     "data": {
      "text/html": [
       "<div>\n",
       "<style scoped>\n",
       "    .dataframe tbody tr th:only-of-type {\n",
       "        vertical-align: middle;\n",
       "    }\n",
       "\n",
       "    .dataframe tbody tr th {\n",
       "        vertical-align: top;\n",
       "    }\n",
       "\n",
       "    .dataframe thead th {\n",
       "        text-align: right;\n",
       "    }\n",
       "</style>\n",
       "<table border=\"1\" class=\"dataframe\">\n",
       "  <thead>\n",
       "    <tr style=\"text-align: right;\">\n",
       "      <th></th>\n",
       "      <th>Rank</th>\n",
       "      <th>Year</th>\n",
       "    </tr>\n",
       "  </thead>\n",
       "  <tbody>\n",
       "    <tr>\n",
       "      <th>0</th>\n",
       "      <td>1</td>\n",
       "      <td>2019</td>\n",
       "    </tr>\n",
       "    <tr>\n",
       "      <th>1</th>\n",
       "      <td>2</td>\n",
       "      <td>2009</td>\n",
       "    </tr>\n",
       "    <tr>\n",
       "      <th>2</th>\n",
       "      <td>3</td>\n",
       "      <td>1997</td>\n",
       "    </tr>\n",
       "    <tr>\n",
       "      <th>3</th>\n",
       "      <td>4</td>\n",
       "      <td>2015</td>\n",
       "    </tr>\n",
       "    <tr>\n",
       "      <th>4</th>\n",
       "      <td>5</td>\n",
       "      <td>2018</td>\n",
       "    </tr>\n",
       "    <tr>\n",
       "      <th>...</th>\n",
       "      <td>...</td>\n",
       "      <td>...</td>\n",
       "    </tr>\n",
       "    <tr>\n",
       "      <th>777</th>\n",
       "      <td>778</td>\n",
       "      <td>2010</td>\n",
       "    </tr>\n",
       "    <tr>\n",
       "      <th>778</th>\n",
       "      <td>779</td>\n",
       "      <td>2004</td>\n",
       "    </tr>\n",
       "    <tr>\n",
       "      <th>779</th>\n",
       "      <td>780</td>\n",
       "      <td>2001</td>\n",
       "    </tr>\n",
       "    <tr>\n",
       "      <th>780</th>\n",
       "      <td>781</td>\n",
       "      <td>1990</td>\n",
       "    </tr>\n",
       "    <tr>\n",
       "      <th>781</th>\n",
       "      <td>782</td>\n",
       "      <td>2008</td>\n",
       "    </tr>\n",
       "  </tbody>\n",
       "</table>\n",
       "<p>782 rows × 2 columns</p>\n",
       "</div>"
      ],
      "text/plain": [
       "     Rank  Year\n",
       "0       1  2019\n",
       "1       2  2009\n",
       "2       3  1997\n",
       "3       4  2015\n",
       "4       5  2018\n",
       "..    ...   ...\n",
       "777   778  2010\n",
       "778   779  2004\n",
       "779   780  2001\n",
       "780   781  1990\n",
       "781   782  2008\n",
       "\n",
       "[782 rows x 2 columns]"
      ]
     },
     "execution_count": 37,
     "metadata": {},
     "output_type": "execute_result"
    }
   ],
   "source": [
    "pd.read_csv(file2, usecols=['Rank', 'Year'])"
   ]
  },
  {
   "cell_type": "code",
   "execution_count": null,
   "id": "35463ace-acd7-4f3b-addc-a04af587e542",
   "metadata": {},
   "outputs": [],
   "source": []
  }
 ],
 "metadata": {
  "kernelspec": {
   "display_name": "Python 3 (ipykernel)",
   "language": "python",
   "name": "python3"
  },
  "language_info": {
   "codemirror_mode": {
    "name": "ipython",
    "version": 3
   },
   "file_extension": ".py",
   "mimetype": "text/x-python",
   "name": "python",
   "nbconvert_exporter": "python",
   "pygments_lexer": "ipython3",
   "version": "3.8.18"
  }
 },
 "nbformat": 4,
 "nbformat_minor": 5
}
