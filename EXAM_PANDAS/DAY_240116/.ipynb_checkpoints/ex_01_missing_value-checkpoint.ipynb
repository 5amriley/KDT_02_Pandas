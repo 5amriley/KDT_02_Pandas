{
 "cells": [
  {
   "cell_type": "markdown",
   "id": "dcfaa2d6-d808-4b5e-acfa-10b37fb856d8",
   "metadata": {},
   "source": [
    "## [ 결측치 Missing Value 처리 ]  \n",
    "- 데이터 미입력 또는 데이터 저장 과정에서 지워진 데이터\n",
    "- 빈칸 의미\n",
    "- 표시 : NaN(Not a Number), NaT(Not a Time)\n",
    "- 표현 : numpy 모듈의 nan, math 모듈의 nan 사용"
   ]
  },
  {
   "cell_type": "markdown",
   "id": "d8a8dad5-7e78-4c65-84e5-e7dbf735d050",
   "metadata": {},
   "source": [
    "(1) 모듈 로딩"
   ]
  },
  {
   "cell_type": "code",
   "execution_count": 1,
   "id": "a0c07dc3-cf2d-475f-bc05-441fc3ef0c2b",
   "metadata": {},
   "outputs": [],
   "source": [
    "import pandas as pd"
   ]
  },
  {
   "cell_type": "markdown",
   "id": "cc50a6b2-6c03-4bb0-b13a-9cbd4cdd7ec9",
   "metadata": {},
   "source": [
    "(2) 데이터 준비"
   ]
  },
  {
   "cell_type": "code",
   "execution_count": 2,
   "id": "44a26184-7326-4156-89a8-43db2722fa53",
   "metadata": {},
   "outputs": [],
   "source": [
    "file = \"../../DATA/employees.csv\""
   ]
  },
  {
   "cell_type": "markdown",
   "id": "8891be2e-ddbf-45cf-a014-05b676842a7c",
   "metadata": {},
   "source": [
    "(3) 데이터 저장 : CSV -> DataFrame"
   ]
  },
  {
   "cell_type": "code",
   "execution_count": 3,
   "id": "418eba6b-9378-4a42-a94d-29c8a82ca5a5",
   "metadata": {},
   "outputs": [],
   "source": [
    "# 구분자: ,(콤마), 헤더 : 존재 (첫 번째 줄 컬럼명)\n",
    "empDF = pd.read_csv(file)"
   ]
  },
  {
   "cell_type": "markdown",
   "id": "af78c437-e842-4a4d-9e0d-f82e1923d10e",
   "metadata": {},
   "source": [
    "(4) 데이터 확인"
   ]
  },
  {
   "cell_type": "code",
   "execution_count": 4,
   "id": "2276a0eb-91d0-4207-8fc8-32ad64c644b2",
   "metadata": {},
   "outputs": [
    {
     "name": "stdout",
     "output_type": "stream",
     "text": [
      "<class 'pandas.core.frame.DataFrame'>\n",
      "RangeIndex: 1001 entries, 0 to 1000\n",
      "Data columns (total 6 columns):\n",
      " #   Column      Non-Null Count  Dtype  \n",
      "---  ------      --------------  -----  \n",
      " 0   First Name  933 non-null    object \n",
      " 1   Gender      854 non-null    object \n",
      " 2   Start Date  999 non-null    object \n",
      " 3   Salary      999 non-null    float64\n",
      " 4   Mgmt        933 non-null    object \n",
      " 5   Team        957 non-null    object \n",
      "dtypes: float64(1), object(5)\n",
      "memory usage: 47.0+ KB\n"
     ]
    }
   ],
   "source": [
    "# 데이터의 전반적인 요약정보 확인 => info() 메서드\n",
    "# - 컬럼별 결측치 여부 확인 => 실제 데이터에서 결측치 체크 & 처리\n",
    "# - 컬럼별 데이터 타입과 실제 데이터 타입 비교 => 타입 다른 경우, 타입 변환\n",
    "empDF.info()"
   ]
  },
  {
   "cell_type": "markdown",
   "id": "a2a181aa-b27f-41cb-aca6-d2907157ba1d",
   "metadata": {},
   "source": [
    "- 데이터의 컬럼별 분포 확인 => describe() : 컬럼별 기술통계값"
   ]
  },
  {
   "cell_type": "code",
   "execution_count": 5,
   "id": "8ab2e086-61bc-4ee3-aae6-fcf22ba2ff6c",
   "metadata": {},
   "outputs": [
    {
     "data": {
      "text/html": [
       "<div>\n",
       "<style scoped>\n",
       "    .dataframe tbody tr th:only-of-type {\n",
       "        vertical-align: middle;\n",
       "    }\n",
       "\n",
       "    .dataframe tbody tr th {\n",
       "        vertical-align: top;\n",
       "    }\n",
       "\n",
       "    .dataframe thead th {\n",
       "        text-align: right;\n",
       "    }\n",
       "</style>\n",
       "<table border=\"1\" class=\"dataframe\">\n",
       "  <thead>\n",
       "    <tr style=\"text-align: right;\">\n",
       "      <th></th>\n",
       "      <th>Salary</th>\n",
       "    </tr>\n",
       "  </thead>\n",
       "  <tbody>\n",
       "    <tr>\n",
       "      <th>count</th>\n",
       "      <td>999.000000</td>\n",
       "    </tr>\n",
       "    <tr>\n",
       "      <th>mean</th>\n",
       "      <td>90655.528529</td>\n",
       "    </tr>\n",
       "    <tr>\n",
       "      <th>std</th>\n",
       "      <td>32939.511615</td>\n",
       "    </tr>\n",
       "    <tr>\n",
       "      <th>min</th>\n",
       "      <td>35013.000000</td>\n",
       "    </tr>\n",
       "    <tr>\n",
       "      <th>25%</th>\n",
       "      <td>62560.000000</td>\n",
       "    </tr>\n",
       "    <tr>\n",
       "      <th>50%</th>\n",
       "      <td>90427.000000</td>\n",
       "    </tr>\n",
       "    <tr>\n",
       "      <th>75%</th>\n",
       "      <td>118744.500000</td>\n",
       "    </tr>\n",
       "    <tr>\n",
       "      <th>max</th>\n",
       "      <td>149908.000000</td>\n",
       "    </tr>\n",
       "  </tbody>\n",
       "</table>\n",
       "</div>"
      ],
      "text/plain": [
       "              Salary\n",
       "count     999.000000\n",
       "mean    90655.528529\n",
       "std     32939.511615\n",
       "min     35013.000000\n",
       "25%     62560.000000\n",
       "50%     90427.000000\n",
       "75%    118744.500000\n",
       "max    149908.000000"
      ]
     },
     "execution_count": 5,
     "metadata": {},
     "output_type": "execute_result"
    }
   ],
   "source": [
    "empDF.describe()"
   ]
  },
  {
   "cell_type": "code",
   "execution_count": 6,
   "id": "c401dc22-34cf-4297-b797-4f4357c32242",
   "metadata": {},
   "outputs": [
    {
     "name": "stdout",
     "output_type": "stream",
     "text": [
      "     Salary\n",
      "0   86676.0\n",
      "1   91462.0\n",
      "2  121160.0\n",
      "3  145988.0\n",
      "4  147183.0\n",
      "\n",
      "Salary    90427.0\n",
      "dtype: float64\n"
     ]
    }
   ],
   "source": [
    "# 최빈값 => mode(), 중앙값 => median()\n",
    "print(empDF.mode(numeric_only=True), empDF.median(numeric_only=True), sep='\\n\\n')"
   ]
  },
  {
   "cell_type": "markdown",
   "id": "ef01835f-1d96-44cc-9810-f525e2607cc4",
   "metadata": {},
   "source": [
    "(5) 데이터 전처리 - 가. 결측치 처리"
   ]
  },
  {
   "cell_type": "markdown",
   "id": "d1abb31e-27e7-4d9f-ba0d-65e009aeee00",
   "metadata": {},
   "source": [
    "- 결측치 확인 => isna(), isnull() : 원소 단위로 검사 후 결측치인 경우 True 반환"
   ]
  },
  {
   "cell_type": "code",
   "execution_count": 7,
   "id": "61791c2a-44b0-4d7c-b4c2-a52155fa5366",
   "metadata": {},
   "outputs": [
    {
     "data": {
      "text/plain": [
       "Index(['First Name', 'Gender', 'Start Date', 'Salary', 'Mgmt', 'Team'], dtype='object')"
      ]
     },
     "execution_count": 7,
     "metadata": {},
     "output_type": "execute_result"
    }
   ],
   "source": [
    "empDF.columns"
   ]
  },
  {
   "cell_type": "code",
   "execution_count": 8,
   "id": "8e677029-c734-4db5-b9f9-6289b79ee4fb",
   "metadata": {},
   "outputs": [
    {
     "name": "stdout",
     "output_type": "stream",
     "text": [
      "      First Name  Gender  Start Date  Salary   Mgmt   Team\n",
      "0          False   False       False    True  False  False\n",
      "1          False   False       False   False  False   True\n",
      "2          False   False        True   False  False  False\n",
      "3          False    True       False   False  False  False\n",
      "4          False   False       False   False  False  False\n",
      "...          ...     ...         ...     ...    ...    ...\n",
      "996        False   False       False   False  False  False\n",
      "997        False   False       False   False  False  False\n",
      "998        False   False       False   False  False  False\n",
      "999        False   False       False   False  False  False\n",
      "1000        True    True        True    True   True   True\n",
      "\n",
      "[1001 rows x 6 columns]\n",
      "\n",
      "      First Name  Gender  Start Date  Salary   Mgmt   Team\n",
      "0          False   False       False    True  False  False\n",
      "1          False   False       False   False  False   True\n",
      "2          False   False        True   False  False  False\n",
      "3          False    True       False   False  False  False\n",
      "4          False   False       False   False  False  False\n",
      "...          ...     ...         ...     ...    ...    ...\n",
      "996        False   False       False   False  False  False\n",
      "997        False   False       False   False  False  False\n",
      "998        False   False       False   False  False  False\n",
      "999        False   False       False   False  False  False\n",
      "1000        True    True        True    True   True   True\n",
      "\n",
      "[1001 rows x 6 columns]\n"
     ]
    }
   ],
   "source": [
    "# 전체 데이터의 컬럼별 결측치 체크\n",
    "print(empDF.isna(), empDF.isnull(), sep='\\n\\n')"
   ]
  },
  {
   "cell_type": "code",
   "execution_count": 9,
   "id": "0003262e-19b9-4517-9f8b-adfe0d2d17fe",
   "metadata": {},
   "outputs": [
    {
     "name": "stdout",
     "output_type": "stream",
     "text": [
      "First Name     68\n",
      "Gender        147\n",
      "Start Date      2\n",
      "Salary          2\n",
      "Mgmt           68\n",
      "Team           44\n",
      "dtype: int64\n",
      "\n",
      "First Name     68\n",
      "Gender        147\n",
      "Start Date      2\n",
      "Salary          2\n",
      "Mgmt           68\n",
      "Team           44\n",
      "dtype: int64\n"
     ]
    }
   ],
   "source": [
    "# 전체 데이터의 컬럼별 결측치 체크 => 개수 파악 => 합계\n",
    "print(empDF.isna().sum(), empDF.isnull().sum(), sep='\\n\\n')"
   ]
  },
  {
   "cell_type": "markdown",
   "id": "a45d39fc-9205-4e72-a6ef-aefe81ee3cd2",
   "metadata": {},
   "source": [
    "- 결측치 확인 => notna(), notnull() : 결측치가 아니면 True 반환"
   ]
  },
  {
   "cell_type": "code",
   "execution_count": 10,
   "id": "fec4110b-46fc-4c3b-b6a0-988b0aa56ca8",
   "metadata": {},
   "outputs": [
    {
     "name": "stdout",
     "output_type": "stream",
     "text": [
      "      First Name  Gender  Start Date  Salary   Mgmt   Team\n",
      "0           True    True        True   False   True   True\n",
      "1           True    True        True    True   True  False\n",
      "2           True    True       False    True   True   True\n",
      "3           True   False        True    True   True   True\n",
      "4           True    True        True    True   True   True\n",
      "...          ...     ...         ...     ...    ...    ...\n",
      "996         True    True        True    True   True   True\n",
      "997         True    True        True    True   True   True\n",
      "998         True    True        True    True   True   True\n",
      "999         True    True        True    True   True   True\n",
      "1000       False   False       False   False  False  False\n",
      "\n",
      "[1001 rows x 6 columns]\n",
      "\n",
      "      First Name  Gender  Start Date  Salary   Mgmt   Team\n",
      "0           True    True        True   False   True   True\n",
      "1           True    True        True    True   True  False\n",
      "2           True    True       False    True   True   True\n",
      "3           True   False        True    True   True   True\n",
      "4           True    True        True    True   True   True\n",
      "...          ...     ...         ...     ...    ...    ...\n",
      "996         True    True        True    True   True   True\n",
      "997         True    True        True    True   True   True\n",
      "998         True    True        True    True   True   True\n",
      "999         True    True        True    True   True   True\n",
      "1000       False   False       False   False  False  False\n",
      "\n",
      "[1001 rows x 6 columns]\n"
     ]
    }
   ],
   "source": [
    "print(empDF.notna(), empDF.notnull(), sep='\\n\\n')"
   ]
  },
  {
   "cell_type": "code",
   "execution_count": 11,
   "id": "0ac89791-e796-4cd1-94a4-494902e5c559",
   "metadata": {},
   "outputs": [
    {
     "name": "stdout",
     "output_type": "stream",
     "text": [
      "First Name    933\n",
      "Gender        854\n",
      "Start Date    999\n",
      "Salary        999\n",
      "Mgmt          933\n",
      "Team          957\n",
      "dtype: int64\n",
      "\n",
      "First Name    933\n",
      "Gender        854\n",
      "Start Date    999\n",
      "Salary        999\n",
      "Mgmt          933\n",
      "Team          957\n",
      "dtype: int64\n"
     ]
    }
   ],
   "source": [
    "print(empDF.notna().sum(), empDF.notnull().sum(), sep='\\n\\n')"
   ]
  },
  {
   "cell_type": "markdown",
   "id": "8609f4f9-aedb-4bae-ad68-a83c518b8d6c",
   "metadata": {},
   "source": [
    "- 결측치 처리 => (1) 삭제 : dropna()"
   ]
  },
  {
   "cell_type": "code",
   "execution_count": 12,
   "id": "e0ac427f-03c6-4b2e-be2a-9e013de91df3",
   "metadata": {},
   "outputs": [
    {
     "data": {
      "text/plain": [
       "((1001, 6), (761, 6))"
      ]
     },
     "execution_count": 12,
     "metadata": {},
     "output_type": "execute_result"
    }
   ],
   "source": [
    "# [기본] 전체 행 중 1개의 값이라도 NaN이면 삭제\n",
    "empDF2 = empDF.dropna()\n",
    "empDF.shape, empDF2.shape"
   ]
  },
  {
   "cell_type": "code",
   "execution_count": 13,
   "id": "008cee26-6ef2-48ea-90ac-4cdeaa4e6889",
   "metadata": {},
   "outputs": [
    {
     "data": {
      "text/plain": [
       "((1001, 6), (1000, 6))"
      ]
     },
     "execution_count": 13,
     "metadata": {},
     "output_type": "execute_result"
    }
   ],
   "source": [
    "# [all] 행의 모든 데이터 값이 NA면 삭제\n",
    "empDF3 = empDF.dropna(how='all')\n",
    "empDF.shape, empDF3.shape"
   ]
  },
  {
   "cell_type": "code",
   "execution_count": 14,
   "id": "ca07154d-3cd4-4e20-bcb0-b92e461e6b29",
   "metadata": {},
   "outputs": [
    {
     "data": {
      "text/plain": [
       "((1001, 6), (1000, 6))"
      ]
     },
     "execution_count": 14,
     "metadata": {},
     "output_type": "execute_result"
    }
   ],
   "source": [
    "# 특정 컬럼의 NA만 체크 후 사겢하는 방법\n",
    "# 예시) 성별에 따른 연봉 분석 => NA면 분석 불가능 컬럼을 지정\n",
    "empDF4 = empDF.dropna(subset=['Gender', 'Salary'])\n",
    "empDF.shape, empDF3.shape"
   ]
  },
  {
   "cell_type": "code",
   "execution_count": 15,
   "id": "873cf6c0-0571-48d2-9650-988045f90f86",
   "metadata": {},
   "outputs": [
    {
     "data": {
      "text/plain": [
       "((853, 6), (1001, 5))"
      ]
     },
     "execution_count": 15,
     "metadata": {},
     "output_type": "execute_result"
    }
   ],
   "source": [
    "# 컬럼별 정상데이터 즉 NA가 아닌 데이터의 개수를 지정 후\n",
    "# 해당 수만큼 저상 데이터가 없는 컬럼 삭제\n",
    "empDF5= empDF.dropna(thresh=900, axis='columns')\n",
    "empDF4.shape, empDF5.shape"
   ]
  },
  {
   "cell_type": "markdown",
   "id": "3f7089fe-960d-4f7c-874a-399b691b79d4",
   "metadata": {},
   "source": [
    "- 결측치 처리 => 대체 : fillna()"
   ]
  },
  {
   "cell_type": "code",
   "execution_count": 17,
   "id": "86a3e50a-84ac-43ca-b094-224da79ece5b",
   "metadata": {},
   "outputs": [
    {
     "data": {
      "text/html": [
       "<div>\n",
       "<style scoped>\n",
       "    .dataframe tbody tr th:only-of-type {\n",
       "        vertical-align: middle;\n",
       "    }\n",
       "\n",
       "    .dataframe tbody tr th {\n",
       "        vertical-align: top;\n",
       "    }\n",
       "\n",
       "    .dataframe thead th {\n",
       "        text-align: right;\n",
       "    }\n",
       "</style>\n",
       "<table border=\"1\" class=\"dataframe\">\n",
       "  <thead>\n",
       "    <tr style=\"text-align: right;\">\n",
       "      <th></th>\n",
       "      <th>First Name</th>\n",
       "      <th>Gender</th>\n",
       "      <th>Start Date</th>\n",
       "      <th>Salary</th>\n",
       "      <th>Mgmt</th>\n",
       "      <th>Team</th>\n",
       "    </tr>\n",
       "  </thead>\n",
       "  <tbody>\n",
       "    <tr>\n",
       "      <th>count</th>\n",
       "      <td>933</td>\n",
       "      <td>854</td>\n",
       "      <td>999</td>\n",
       "      <td>999.0</td>\n",
       "      <td>933</td>\n",
       "      <td>957</td>\n",
       "    </tr>\n",
       "    <tr>\n",
       "      <th>unique</th>\n",
       "      <td>200</td>\n",
       "      <td>2</td>\n",
       "      <td>971</td>\n",
       "      <td>NaN</td>\n",
       "      <td>2</td>\n",
       "      <td>10</td>\n",
       "    </tr>\n",
       "    <tr>\n",
       "      <th>top</th>\n",
       "      <td>Marilyn</td>\n",
       "      <td>Female</td>\n",
       "      <td>10/30/04</td>\n",
       "      <td>NaN</td>\n",
       "      <td>True</td>\n",
       "      <td>IT</td>\n",
       "    </tr>\n",
       "    <tr>\n",
       "      <th>freq</th>\n",
       "      <td>11</td>\n",
       "      <td>431</td>\n",
       "      <td>2</td>\n",
       "      <td>NaN</td>\n",
       "      <td>468</td>\n",
       "      <td>106</td>\n",
       "    </tr>\n",
       "  </tbody>\n",
       "</table>\n",
       "</div>"
      ],
      "text/plain": [
       "       First Name  Gender Start Date  Salary  Mgmt Team\n",
       "count         933     854        999   999.0   933  957\n",
       "unique        200       2        971     NaN     2   10\n",
       "top       Marilyn  Female   10/30/04     NaN  True   IT\n",
       "freq           11     431          2     NaN   468  106"
      ]
     },
     "execution_count": 17,
     "metadata": {},
     "output_type": "execute_result"
    }
   ],
   "source": [
    "# Gender 컬럼의 결측값을 무엇으로 채울지 결정\n",
    "empDF.describe(include='all').head(4)"
   ]
  },
  {
   "cell_type": "code",
   "execution_count": 25,
   "id": "87901904-6c1d-4a29-956e-7cf965513c6f",
   "metadata": {},
   "outputs": [
    {
     "data": {
      "text/plain": [
       "0    Female\n",
       "Name: Gender, dtype: object"
      ]
     },
     "execution_count": 25,
     "metadata": {},
     "output_type": "execute_result"
    }
   ],
   "source": [
    "empDF.Gender.mode()"
   ]
  },
  {
   "cell_type": "code",
   "execution_count": 21,
   "id": "5a1f1a7f-d542-49f8-be72-774fc5ec5e1d",
   "metadata": {},
   "outputs": [
    {
     "data": {
      "text/plain": [
       "0"
      ]
     },
     "execution_count": 21,
     "metadata": {},
     "output_type": "execute_result"
    }
   ],
   "source": [
    "# 컬럼의 최빈값으로 na 채우기\n",
    "genSR = empDF.Gender.fillna(empDF.Gender.mode()[0])\n",
    "genSR.isna().sum()"
   ]
  },
  {
   "cell_type": "code",
   "execution_count": 30,
   "id": "7c5111b5-803c-4315-90b7-7748d22a141b",
   "metadata": {},
   "outputs": [
    {
     "data": {
      "text/plain": [
       "0         Male\n",
       "1         Male\n",
       "2       Female\n",
       "3       Female\n",
       "4         Male\n",
       "         ...  \n",
       "996       Male\n",
       "997       Male\n",
       "998       Male\n",
       "999       Male\n",
       "1000      Male\n",
       "Name: Gender, Length: 1001, dtype: object"
      ]
     },
     "execution_count": 30,
     "metadata": {},
     "output_type": "execute_result"
    }
   ],
   "source": [
    "# NA값 이전과 이후 값으로 채우기 => method='ffill', method='bfill'\n",
    "empDF.Gender.fillna(method='ffill')"
   ]
  },
  {
   "cell_type": "code",
   "execution_count": null,
   "id": "dfc8e8eb-d9d4-407b-b321-f2075b4cd232",
   "metadata": {},
   "outputs": [],
   "source": []
  }
 ],
 "metadata": {
  "kernelspec": {
   "display_name": "Python 3 (ipykernel)",
   "language": "python",
   "name": "python3"
  },
  "language_info": {
   "codemirror_mode": {
    "name": "ipython",
    "version": 3
   },
   "file_extension": ".py",
   "mimetype": "text/x-python",
   "name": "python",
   "nbconvert_exporter": "python",
   "pygments_lexer": "ipython3",
   "version": "3.8.18"
  }
 },
 "nbformat": 4,
 "nbformat_minor": 5
}
