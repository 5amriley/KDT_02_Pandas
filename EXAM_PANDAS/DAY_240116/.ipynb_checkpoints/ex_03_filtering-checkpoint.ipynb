{
 "cells": [
  {
   "cell_type": "markdown",
   "id": "490bb19b-76c9-443f-befd-102644ce1a51",
   "metadata": {},
   "source": [
    "## [ 데이터 필터링 ]\n",
    "- 원하는 데이터를 추출하기 위해서 사용하는 방법\n",
    "- 원하는 데이터 걸러내겠다는 의미\n",
    "- 다양한 조건 검사 진행 => 비교 검사 : ==, !=, >, >=, <, <="
   ]
  },
  {
   "cell_type": "markdown",
   "id": "ae3fb156-510c-46de-9514-6533b0e532ce",
   "metadata": {},
   "source": [
    "(1) 모듈 로딩"
   ]
  },
  {
   "cell_type": "code",
   "execution_count": 1,
   "id": "ab6aee56-095a-48af-ae78-5f05efc212fb",
   "metadata": {},
   "outputs": [],
   "source": [
    "import pandas as pd\n",
    "import numpy as np"
   ]
  },
  {
   "cell_type": "markdown",
   "id": "d4a240e1-30d9-4166-b51a-94eea52f6dfa",
   "metadata": {},
   "source": [
    "(2) 데이터 준비"
   ]
  },
  {
   "cell_type": "code",
   "execution_count": 2,
   "id": "1b594c6f-3964-4220-a029-c945a55d5dc6",
   "metadata": {},
   "outputs": [],
   "source": [
    "file = '../../DATA/employees.csv'"
   ]
  },
  {
   "cell_type": "markdown",
   "id": "a92aeb68-1e0c-46a3-af7a-db9816a188f1",
   "metadata": {},
   "source": [
    "(3) 데이터 저장"
   ]
  },
  {
   "cell_type": "code",
   "execution_count": 3,
   "id": "ccf2bd84-0598-4ddb-a7a0-fa771db12e12",
   "metadata": {},
   "outputs": [],
   "source": [
    "empDF = pd.read_csv(file)"
   ]
  },
  {
   "cell_type": "markdown",
   "id": "f02fbbf3-c659-4c5c-a3da-a48f97a67cec",
   "metadata": {},
   "source": [
    "(4) 데이터 확인"
   ]
  },
  {
   "cell_type": "code",
   "execution_count": 4,
   "id": "0d3ddbb2-215f-44e6-8a7d-4f05cedaaeab",
   "metadata": {},
   "outputs": [
    {
     "name": "stdout",
     "output_type": "stream",
     "text": [
      "<class 'pandas.core.frame.DataFrame'>\n",
      "RangeIndex: 1001 entries, 0 to 1000\n",
      "Data columns (total 6 columns):\n",
      " #   Column      Non-Null Count  Dtype  \n",
      "---  ------      --------------  -----  \n",
      " 0   First Name  933 non-null    object \n",
      " 1   Gender      854 non-null    object \n",
      " 2   Start Date  999 non-null    object \n",
      " 3   Salary      999 non-null    float64\n",
      " 4   Mgmt        933 non-null    object \n",
      " 5   Team        957 non-null    object \n",
      "dtypes: float64(1), object(5)\n",
      "memory usage: 47.0+ KB\n"
     ]
    }
   ],
   "source": [
    "empDF.info()"
   ]
  },
  {
   "cell_type": "markdown",
   "id": "36a1f86c-a235-4a26-b312-a7f9030f45e6",
   "metadata": {},
   "source": [
    "(5) 데이터 필터링"
   ]
  },
  {
   "cell_type": "code",
   "execution_count": 5,
   "id": "f3e7178a-cec1-4c98-83c5-0ad0ea35d06f",
   "metadata": {},
   "outputs": [
    {
     "data": {
      "text/plain": [
       "(True, False)"
      ]
     },
     "execution_count": 5,
     "metadata": {},
     "output_type": "execute_result"
    }
   ],
   "source": [
    "'Happy' == 'Happy', 'Happy' == 'happy'"
   ]
  },
  {
   "cell_type": "markdown",
   "id": "de3aa736-9d7c-47ba-a5f1-7504366233e1",
   "metadata": {},
   "source": [
    "- [문제] 데이터에서 이름이 Maria인 데이터만 추출"
   ]
  },
  {
   "cell_type": "code",
   "execution_count": 6,
   "id": "1b3b530f-0bb4-444a-9342-91963af14ff3",
   "metadata": {},
   "outputs": [
    {
     "name": "stdout",
     "output_type": "stream",
     "text": [
      "Index(['First Name', 'Gender', 'Start Date', 'Salary', 'Mgmt', 'Team'], dtype='object')\n",
      "\n",
      "RangeIndex(start=0, stop=1001, step=1)\n"
     ]
    }
   ],
   "source": [
    "print(empDF.columns, empDF.index, sep='\\n\\n')"
   ]
  },
  {
   "cell_type": "markdown",
   "id": "d31eace9-d14d-42dd-9ca2-fbaf9b50c374",
   "metadata": {},
   "source": [
    "- bool 값으로 구성된 데이터 => 불린 인덱싱 (Boolean Indexing)"
   ]
  },
  {
   "cell_type": "code",
   "execution_count": 7,
   "id": "47832084-c338-4006-84b8-1acbdf8fe966",
   "metadata": {},
   "outputs": [
    {
     "data": {
      "text/plain": [
       "0       False\n",
       "1       False\n",
       "2        True\n",
       "3       False\n",
       "4       False\n",
       "        ...  \n",
       "996     False\n",
       "997     False\n",
       "998     False\n",
       "999     False\n",
       "1000    False\n",
       "Name: First Name, Length: 1001, dtype: bool"
      ]
     },
     "execution_count": 7,
     "metadata": {},
     "output_type": "execute_result"
    }
   ],
   "source": [
    "empDF['First Name'] == 'Maria'"
   ]
  },
  {
   "cell_type": "code",
   "execution_count": 8,
   "id": "4236803f-929a-45e0-b85b-2df8d285cbf7",
   "metadata": {},
   "outputs": [
    {
     "data": {
      "text/html": [
       "<div>\n",
       "<style scoped>\n",
       "    .dataframe tbody tr th:only-of-type {\n",
       "        vertical-align: middle;\n",
       "    }\n",
       "\n",
       "    .dataframe tbody tr th {\n",
       "        vertical-align: top;\n",
       "    }\n",
       "\n",
       "    .dataframe thead th {\n",
       "        text-align: right;\n",
       "    }\n",
       "</style>\n",
       "<table border=\"1\" class=\"dataframe\">\n",
       "  <thead>\n",
       "    <tr style=\"text-align: right;\">\n",
       "      <th></th>\n",
       "      <th>First Name</th>\n",
       "      <th>Gender</th>\n",
       "      <th>Start Date</th>\n",
       "      <th>Salary</th>\n",
       "      <th>Mgmt</th>\n",
       "      <th>Team</th>\n",
       "    </tr>\n",
       "  </thead>\n",
       "  <tbody>\n",
       "    <tr>\n",
       "      <th>2</th>\n",
       "      <td>Maria</td>\n",
       "      <td>Female</td>\n",
       "      <td>NaN</td>\n",
       "      <td>130590.0</td>\n",
       "      <td>False</td>\n",
       "      <td>Finance</td>\n",
       "    </tr>\n",
       "    <tr>\n",
       "      <th>198</th>\n",
       "      <td>Maria</td>\n",
       "      <td>Female</td>\n",
       "      <td>12/27/90</td>\n",
       "      <td>36067.0</td>\n",
       "      <td>True</td>\n",
       "      <td>Product</td>\n",
       "    </tr>\n",
       "    <tr>\n",
       "      <th>815</th>\n",
       "      <td>Maria</td>\n",
       "      <td>NaN</td>\n",
       "      <td>1/18/86</td>\n",
       "      <td>106562.0</td>\n",
       "      <td>False</td>\n",
       "      <td>HR</td>\n",
       "    </tr>\n",
       "    <tr>\n",
       "      <th>844</th>\n",
       "      <td>Maria</td>\n",
       "      <td>NaN</td>\n",
       "      <td>6/19/85</td>\n",
       "      <td>148857.0</td>\n",
       "      <td>False</td>\n",
       "      <td>Legal</td>\n",
       "    </tr>\n",
       "    <tr>\n",
       "      <th>936</th>\n",
       "      <td>Maria</td>\n",
       "      <td>Female</td>\n",
       "      <td>3/14/03</td>\n",
       "      <td>96250.0</td>\n",
       "      <td>False</td>\n",
       "      <td>Business Dev</td>\n",
       "    </tr>\n",
       "    <tr>\n",
       "      <th>984</th>\n",
       "      <td>Maria</td>\n",
       "      <td>Female</td>\n",
       "      <td>10/15/11</td>\n",
       "      <td>43455.0</td>\n",
       "      <td>False</td>\n",
       "      <td>Engineering</td>\n",
       "    </tr>\n",
       "  </tbody>\n",
       "</table>\n",
       "</div>"
      ],
      "text/plain": [
       "    First Name  Gender Start Date    Salary   Mgmt          Team\n",
       "2        Maria  Female        NaN  130590.0  False       Finance\n",
       "198      Maria  Female   12/27/90   36067.0   True       Product\n",
       "815      Maria     NaN    1/18/86  106562.0  False            HR\n",
       "844      Maria     NaN    6/19/85  148857.0  False         Legal\n",
       "936      Maria  Female    3/14/03   96250.0  False  Business Dev\n",
       "984      Maria  Female   10/15/11   43455.0  False   Engineering"
      ]
     },
     "execution_count": 8,
     "metadata": {},
     "output_type": "execute_result"
    }
   ],
   "source": [
    "empDF[empDF['First Name'] == 'Maria']"
   ]
  },
  {
   "cell_type": "code",
   "execution_count": 9,
   "id": "70c47238-857b-4890-a466-d88ff4c94eda",
   "metadata": {},
   "outputs": [
    {
     "data": {
      "text/plain": [
       "6"
      ]
     },
     "execution_count": 9,
     "metadata": {},
     "output_type": "execute_result"
    }
   ],
   "source": [
    "(empDF['First Name'] == 'Maria').sum()"
   ]
  },
  {
   "cell_type": "code",
   "execution_count": 10,
   "id": "e1072be4-87ea-48ff-9c51-b4354fa16413",
   "metadata": {},
   "outputs": [
    {
     "data": {
      "text/plain": [
       "0       False\n",
       "1       False\n",
       "2        True\n",
       "3       False\n",
       "4       False\n",
       "        ...  \n",
       "996     False\n",
       "997     False\n",
       "998     False\n",
       "999     False\n",
       "1000    False\n",
       "Name: First Name, Length: 1001, dtype: bool"
      ]
     },
     "execution_count": 10,
     "metadata": {},
     "output_type": "execute_result"
    }
   ],
   "source": [
    "mariaMask = empDF['First Name'] == 'Maria'\n",
    "mariaMask"
   ]
  },
  {
   "cell_type": "code",
   "execution_count": 11,
   "id": "62d3dbaf-7a80-43dd-8401-05d19816b748",
   "metadata": {},
   "outputs": [
    {
     "data": {
      "text/html": [
       "<div>\n",
       "<style scoped>\n",
       "    .dataframe tbody tr th:only-of-type {\n",
       "        vertical-align: middle;\n",
       "    }\n",
       "\n",
       "    .dataframe tbody tr th {\n",
       "        vertical-align: top;\n",
       "    }\n",
       "\n",
       "    .dataframe thead th {\n",
       "        text-align: right;\n",
       "    }\n",
       "</style>\n",
       "<table border=\"1\" class=\"dataframe\">\n",
       "  <thead>\n",
       "    <tr style=\"text-align: right;\">\n",
       "      <th></th>\n",
       "      <th>First Name</th>\n",
       "      <th>Gender</th>\n",
       "      <th>Start Date</th>\n",
       "      <th>Salary</th>\n",
       "      <th>Mgmt</th>\n",
       "      <th>Team</th>\n",
       "    </tr>\n",
       "  </thead>\n",
       "  <tbody>\n",
       "    <tr>\n",
       "      <th>2</th>\n",
       "      <td>Maria</td>\n",
       "      <td>Female</td>\n",
       "      <td>NaN</td>\n",
       "      <td>130590.0</td>\n",
       "      <td>False</td>\n",
       "      <td>Finance</td>\n",
       "    </tr>\n",
       "    <tr>\n",
       "      <th>198</th>\n",
       "      <td>Maria</td>\n",
       "      <td>Female</td>\n",
       "      <td>12/27/90</td>\n",
       "      <td>36067.0</td>\n",
       "      <td>True</td>\n",
       "      <td>Product</td>\n",
       "    </tr>\n",
       "    <tr>\n",
       "      <th>815</th>\n",
       "      <td>Maria</td>\n",
       "      <td>NaN</td>\n",
       "      <td>1/18/86</td>\n",
       "      <td>106562.0</td>\n",
       "      <td>False</td>\n",
       "      <td>HR</td>\n",
       "    </tr>\n",
       "    <tr>\n",
       "      <th>844</th>\n",
       "      <td>Maria</td>\n",
       "      <td>NaN</td>\n",
       "      <td>6/19/85</td>\n",
       "      <td>148857.0</td>\n",
       "      <td>False</td>\n",
       "      <td>Legal</td>\n",
       "    </tr>\n",
       "    <tr>\n",
       "      <th>936</th>\n",
       "      <td>Maria</td>\n",
       "      <td>Female</td>\n",
       "      <td>3/14/03</td>\n",
       "      <td>96250.0</td>\n",
       "      <td>False</td>\n",
       "      <td>Business Dev</td>\n",
       "    </tr>\n",
       "    <tr>\n",
       "      <th>984</th>\n",
       "      <td>Maria</td>\n",
       "      <td>Female</td>\n",
       "      <td>10/15/11</td>\n",
       "      <td>43455.0</td>\n",
       "      <td>False</td>\n",
       "      <td>Engineering</td>\n",
       "    </tr>\n",
       "  </tbody>\n",
       "</table>\n",
       "</div>"
      ],
      "text/plain": [
       "    First Name  Gender Start Date    Salary   Mgmt          Team\n",
       "2        Maria  Female        NaN  130590.0  False       Finance\n",
       "198      Maria  Female   12/27/90   36067.0   True       Product\n",
       "815      Maria     NaN    1/18/86  106562.0  False            HR\n",
       "844      Maria     NaN    6/19/85  148857.0  False         Legal\n",
       "936      Maria  Female    3/14/03   96250.0  False  Business Dev\n",
       "984      Maria  Female   10/15/11   43455.0  False   Engineering"
      ]
     },
     "execution_count": 11,
     "metadata": {},
     "output_type": "execute_result"
    }
   ],
   "source": [
    "empDF[mariaMask]"
   ]
  },
  {
   "cell_type": "markdown",
   "id": "9d6eff5b-58a8-4e7f-9af4-9795d11ba8aa",
   "metadata": {},
   "source": [
    "[문제] employees 데이터에서 연봉이 140000이상인 이름 추출"
   ]
  },
  {
   "cell_type": "code",
   "execution_count": 12,
   "id": "114f328a-d64b-4aae-a76c-f9d8f2453f18",
   "metadata": {},
   "outputs": [
    {
     "data": {
      "text/plain": [
       "0       False\n",
       "1       False\n",
       "2       False\n",
       "3       False\n",
       "4       False\n",
       "        ...  \n",
       "996     False\n",
       "997     False\n",
       "998     False\n",
       "999     False\n",
       "1000    False\n",
       "Name: Salary, Length: 1001, dtype: bool"
      ]
     },
     "execution_count": 12,
     "metadata": {},
     "output_type": "execute_result"
    }
   ],
   "source": [
    "moneyMask = empDF['Salary'] >= 140000\n",
    "moneyMask"
   ]
  },
  {
   "cell_type": "code",
   "execution_count": 13,
   "id": "9b82df2f-ce7b-4399-9d38-2172e740a956",
   "metadata": {},
   "outputs": [
    {
     "data": {
      "text/html": [
       "<div>\n",
       "<style scoped>\n",
       "    .dataframe tbody tr th:only-of-type {\n",
       "        vertical-align: middle;\n",
       "    }\n",
       "\n",
       "    .dataframe tbody tr th {\n",
       "        vertical-align: top;\n",
       "    }\n",
       "\n",
       "    .dataframe thead th {\n",
       "        text-align: right;\n",
       "    }\n",
       "</style>\n",
       "<table border=\"1\" class=\"dataframe\">\n",
       "  <thead>\n",
       "    <tr style=\"text-align: right;\">\n",
       "      <th></th>\n",
       "      <th>First Name</th>\n",
       "      <th>Gender</th>\n",
       "      <th>Start Date</th>\n",
       "      <th>Salary</th>\n",
       "      <th>Mgmt</th>\n",
       "      <th>Team</th>\n",
       "    </tr>\n",
       "  </thead>\n",
       "  <tbody>\n",
       "    <tr>\n",
       "      <th>36</th>\n",
       "      <td>Rachel</td>\n",
       "      <td>Female</td>\n",
       "      <td>2/16/09</td>\n",
       "      <td>142032.0</td>\n",
       "      <td>False</td>\n",
       "      <td>Business Dev</td>\n",
       "    </tr>\n",
       "    <tr>\n",
       "      <th>44</th>\n",
       "      <td>Cynthia</td>\n",
       "      <td>Female</td>\n",
       "      <td>11/16/88</td>\n",
       "      <td>145146.0</td>\n",
       "      <td>True</td>\n",
       "      <td>Product</td>\n",
       "    </tr>\n",
       "    <tr>\n",
       "      <th>83</th>\n",
       "      <td>Shawn</td>\n",
       "      <td>Male</td>\n",
       "      <td>9/23/05</td>\n",
       "      <td>148115.0</td>\n",
       "      <td>True</td>\n",
       "      <td>Finance</td>\n",
       "    </tr>\n",
       "    <tr>\n",
       "      <th>87</th>\n",
       "      <td>Annie</td>\n",
       "      <td>Female</td>\n",
       "      <td>1/30/93</td>\n",
       "      <td>144887.0</td>\n",
       "      <td>True</td>\n",
       "      <td>Sales</td>\n",
       "    </tr>\n",
       "    <tr>\n",
       "      <th>96</th>\n",
       "      <td>Cynthia</td>\n",
       "      <td>Female</td>\n",
       "      <td>3/21/94</td>\n",
       "      <td>142321.0</td>\n",
       "      <td>False</td>\n",
       "      <td>Finance</td>\n",
       "    </tr>\n",
       "    <tr>\n",
       "      <th>...</th>\n",
       "      <td>...</td>\n",
       "      <td>...</td>\n",
       "      <td>...</td>\n",
       "      <td>...</td>\n",
       "      <td>...</td>\n",
       "      <td>...</td>\n",
       "    </tr>\n",
       "    <tr>\n",
       "      <th>948</th>\n",
       "      <td>Ashley</td>\n",
       "      <td>Female</td>\n",
       "      <td>3/31/06</td>\n",
       "      <td>142410.0</td>\n",
       "      <td>True</td>\n",
       "      <td>Engineering</td>\n",
       "    </tr>\n",
       "    <tr>\n",
       "      <th>951</th>\n",
       "      <td>NaN</td>\n",
       "      <td>Female</td>\n",
       "      <td>9/14/10</td>\n",
       "      <td>143638.0</td>\n",
       "      <td>NaN</td>\n",
       "      <td>NaN</td>\n",
       "    </tr>\n",
       "    <tr>\n",
       "      <th>979</th>\n",
       "      <td>Ernest</td>\n",
       "      <td>Male</td>\n",
       "      <td>7/20/13</td>\n",
       "      <td>142935.0</td>\n",
       "      <td>True</td>\n",
       "      <td>Product</td>\n",
       "    </tr>\n",
       "    <tr>\n",
       "      <th>981</th>\n",
       "      <td>James</td>\n",
       "      <td>Male</td>\n",
       "      <td>1/15/93</td>\n",
       "      <td>148985.0</td>\n",
       "      <td>False</td>\n",
       "      <td>Legal</td>\n",
       "    </tr>\n",
       "    <tr>\n",
       "      <th>983</th>\n",
       "      <td>John</td>\n",
       "      <td>Male</td>\n",
       "      <td>12/23/82</td>\n",
       "      <td>146907.0</td>\n",
       "      <td>False</td>\n",
       "      <td>Engineering</td>\n",
       "    </tr>\n",
       "  </tbody>\n",
       "</table>\n",
       "<p>80 rows × 6 columns</p>\n",
       "</div>"
      ],
      "text/plain": [
       "    First Name  Gender Start Date    Salary   Mgmt          Team\n",
       "36      Rachel  Female    2/16/09  142032.0  False  Business Dev\n",
       "44     Cynthia  Female   11/16/88  145146.0   True       Product\n",
       "83       Shawn    Male    9/23/05  148115.0   True       Finance\n",
       "87       Annie  Female    1/30/93  144887.0   True         Sales\n",
       "96     Cynthia  Female    3/21/94  142321.0  False       Finance\n",
       "..         ...     ...        ...       ...    ...           ...\n",
       "948     Ashley  Female    3/31/06  142410.0   True   Engineering\n",
       "951        NaN  Female    9/14/10  143638.0    NaN           NaN\n",
       "979     Ernest    Male    7/20/13  142935.0   True       Product\n",
       "981      James    Male    1/15/93  148985.0  False         Legal\n",
       "983       John    Male   12/23/82  146907.0  False   Engineering\n",
       "\n",
       "[80 rows x 6 columns]"
      ]
     },
     "execution_count": 13,
     "metadata": {},
     "output_type": "execute_result"
    }
   ],
   "source": [
    "empDF[moneyMask]"
   ]
  },
  {
   "cell_type": "markdown",
   "id": "eaa640ea-0ff1-40b7-80a4-52fc2aaf0998",
   "metadata": {},
   "source": [
    "[문제] employees 데이터에서 성별이 '남자'이며 연봉이 140000 이상인 행 출력"
   ]
  },
  {
   "cell_type": "code",
   "execution_count": 14,
   "id": "8602adde-4d2b-475c-9e21-9f8dbb5a37d5",
   "metadata": {},
   "outputs": [
    {
     "data": {
      "text/plain": [
       "0     True\n",
       "1     True\n",
       "2    False\n",
       "3    False\n",
       "4     True\n",
       "Name: Gender, dtype: bool"
      ]
     },
     "execution_count": 14,
     "metadata": {},
     "output_type": "execute_result"
    }
   ],
   "source": [
    "(empDF['Gender'] == 'Male').head()"
   ]
  },
  {
   "cell_type": "code",
   "execution_count": 15,
   "id": "ee4ccc29-5255-416d-9432-38df8a61baf9",
   "metadata": {},
   "outputs": [
    {
     "data": {
      "text/plain": [
       "0    False\n",
       "1    False\n",
       "2    False\n",
       "3    False\n",
       "4    False\n",
       "Name: Salary, dtype: bool"
      ]
     },
     "execution_count": 15,
     "metadata": {},
     "output_type": "execute_result"
    }
   ],
   "source": [
    "(empDF['Salary'] >= 140000).head()"
   ]
  },
  {
   "cell_type": "markdown",
   "id": "819ba281-c492-4b91-afef-4db0246e9724",
   "metadata": {},
   "source": [
    "- 여러 개의 조건이 모두 True 여야만 하는 조건 => AND 조건\n",
    "    * 문법 : 조건1 & 조건2 & ... & 조건N"
   ]
  },
  {
   "cell_type": "code",
   "execution_count": 16,
   "id": "8b913c21-2a99-4dca-91cc-7386fab02e53",
   "metadata": {},
   "outputs": [
    {
     "data": {
      "text/plain": [
       "0       False\n",
       "1       False\n",
       "2       False\n",
       "3       False\n",
       "4       False\n",
       "        ...  \n",
       "996     False\n",
       "997     False\n",
       "998     False\n",
       "999     False\n",
       "1000    False\n",
       "Length: 1001, dtype: bool"
      ]
     },
     "execution_count": 16,
     "metadata": {},
     "output_type": "execute_result"
    }
   ],
   "source": [
    "(empDF['Gender'] == 'Male') & (empDF['Salary'] >= 140000)"
   ]
  },
  {
   "cell_type": "code",
   "execution_count": 17,
   "id": "3a7eb1bf-a896-4818-9e21-eed0d0383bc1",
   "metadata": {},
   "outputs": [
    {
     "data": {
      "text/html": [
       "<div>\n",
       "<style scoped>\n",
       "    .dataframe tbody tr th:only-of-type {\n",
       "        vertical-align: middle;\n",
       "    }\n",
       "\n",
       "    .dataframe tbody tr th {\n",
       "        vertical-align: top;\n",
       "    }\n",
       "\n",
       "    .dataframe thead th {\n",
       "        text-align: right;\n",
       "    }\n",
       "</style>\n",
       "<table border=\"1\" class=\"dataframe\">\n",
       "  <thead>\n",
       "    <tr style=\"text-align: right;\">\n",
       "      <th></th>\n",
       "      <th>First Name</th>\n",
       "      <th>Gender</th>\n",
       "      <th>Start Date</th>\n",
       "      <th>Salary</th>\n",
       "      <th>Mgmt</th>\n",
       "      <th>Team</th>\n",
       "    </tr>\n",
       "  </thead>\n",
       "  <tbody>\n",
       "    <tr>\n",
       "      <th>83</th>\n",
       "      <td>Shawn</td>\n",
       "      <td>Male</td>\n",
       "      <td>9/23/05</td>\n",
       "      <td>148115.0</td>\n",
       "      <td>True</td>\n",
       "      <td>Finance</td>\n",
       "    </tr>\n",
       "    <tr>\n",
       "      <th>318</th>\n",
       "      <td>Roy</td>\n",
       "      <td>Male</td>\n",
       "      <td>8/6/06</td>\n",
       "      <td>148225.0</td>\n",
       "      <td>False</td>\n",
       "      <td>Finance</td>\n",
       "    </tr>\n",
       "    <tr>\n",
       "      <th>800</th>\n",
       "      <td>Clarence</td>\n",
       "      <td>Male</td>\n",
       "      <td>8/5/89</td>\n",
       "      <td>148941.0</td>\n",
       "      <td>False</td>\n",
       "      <td>Product</td>\n",
       "    </tr>\n",
       "    <tr>\n",
       "      <th>850</th>\n",
       "      <td>Charles</td>\n",
       "      <td>Male</td>\n",
       "      <td>9/3/97</td>\n",
       "      <td>148291.0</td>\n",
       "      <td>False</td>\n",
       "      <td>NaN</td>\n",
       "    </tr>\n",
       "    <tr>\n",
       "      <th>981</th>\n",
       "      <td>James</td>\n",
       "      <td>Male</td>\n",
       "      <td>1/15/93</td>\n",
       "      <td>148985.0</td>\n",
       "      <td>False</td>\n",
       "      <td>Legal</td>\n",
       "    </tr>\n",
       "  </tbody>\n",
       "</table>\n",
       "</div>"
      ],
      "text/plain": [
       "    First Name Gender Start Date    Salary   Mgmt     Team\n",
       "83       Shawn   Male    9/23/05  148115.0   True  Finance\n",
       "318        Roy   Male     8/6/06  148225.0  False  Finance\n",
       "800   Clarence   Male     8/5/89  148941.0  False  Product\n",
       "850    Charles   Male     9/3/97  148291.0  False      NaN\n",
       "981      James   Male    1/15/93  148985.0  False    Legal"
      ]
     },
     "execution_count": 17,
     "metadata": {},
     "output_type": "execute_result"
    }
   ],
   "source": [
    "theMask = (empDF['Gender'] == 'Male') & (empDF['Salary'] >= 148000)\n",
    "empDF[theMask]"
   ]
  },
  {
   "cell_type": "markdown",
   "id": "02ee35f6-6659-4880-b3c2-c60b29829d16",
   "metadata": {},
   "source": [
    "- 여러 개의 조건 중 1개 이상이 True 이면 되는 조건 => OR 조건\n",
    "    * 문법 : 조건1 | 조건2 | ... | 조건N\n",
    "    * 연산자 : |(파이프)"
   ]
  },
  {
   "cell_type": "markdown",
   "id": "bbf88934-2f4f-45e1-b37d-889225fb3e3b",
   "metadata": {},
   "source": [
    "[문제] employees 데이터에서 입사일이 1993년 1월 1일 이전이거나 매니지먼트가 없는 사람 데이터 조회"
   ]
  },
  {
   "cell_type": "code",
   "execution_count": 18,
   "id": "1d3cbfe8-0bac-4de9-af6c-80532ed86a3c",
   "metadata": {},
   "outputs": [
    {
     "name": "stdout",
     "output_type": "stream",
     "text": [
      "<class 'pandas.core.frame.DataFrame'>\n",
      "RangeIndex: 1001 entries, 0 to 1000\n",
      "Data columns (total 6 columns):\n",
      " #   Column      Non-Null Count  Dtype  \n",
      "---  ------      --------------  -----  \n",
      " 0   First Name  933 non-null    object \n",
      " 1   Gender      854 non-null    object \n",
      " 2   Start Date  999 non-null    object \n",
      " 3   Salary      999 non-null    float64\n",
      " 4   Mgmt        933 non-null    object \n",
      " 5   Team        957 non-null    object \n",
      "dtypes: float64(1), object(5)\n",
      "memory usage: 47.0+ KB\n"
     ]
    }
   ],
   "source": [
    "empDF.info()"
   ]
  },
  {
   "cell_type": "code",
   "execution_count": 19,
   "id": "a88c7fa4-78e8-40db-8fe3-b9948803fa2a",
   "metadata": {},
   "outputs": [],
   "source": [
    "theMask2 = (empDF['Start Date'] < '1993-01-01') | (empDF['Mgmt'] == False)"
   ]
  },
  {
   "cell_type": "code",
   "execution_count": 20,
   "id": "06160d0e-22d3-4afc-9da7-592468461bf8",
   "metadata": {},
   "outputs": [
    {
     "data": {
      "text/html": [
       "<div>\n",
       "<style scoped>\n",
       "    .dataframe tbody tr th:only-of-type {\n",
       "        vertical-align: middle;\n",
       "    }\n",
       "\n",
       "    .dataframe tbody tr th {\n",
       "        vertical-align: top;\n",
       "    }\n",
       "\n",
       "    .dataframe thead th {\n",
       "        text-align: right;\n",
       "    }\n",
       "</style>\n",
       "<table border=\"1\" class=\"dataframe\">\n",
       "  <thead>\n",
       "    <tr style=\"text-align: right;\">\n",
       "      <th></th>\n",
       "      <th>First Name</th>\n",
       "      <th>Gender</th>\n",
       "      <th>Start Date</th>\n",
       "      <th>Salary</th>\n",
       "      <th>Mgmt</th>\n",
       "      <th>Team</th>\n",
       "    </tr>\n",
       "  </thead>\n",
       "  <tbody>\n",
       "    <tr>\n",
       "      <th>2</th>\n",
       "      <td>Maria</td>\n",
       "      <td>Female</td>\n",
       "      <td>NaN</td>\n",
       "      <td>130590.0</td>\n",
       "      <td>False</td>\n",
       "      <td>Finance</td>\n",
       "    </tr>\n",
       "    <tr>\n",
       "      <th>4</th>\n",
       "      <td>Larry</td>\n",
       "      <td>Male</td>\n",
       "      <td>1/24/98</td>\n",
       "      <td>101004.0</td>\n",
       "      <td>True</td>\n",
       "      <td>IT</td>\n",
       "    </tr>\n",
       "    <tr>\n",
       "      <th>5</th>\n",
       "      <td>Dennis</td>\n",
       "      <td>Male</td>\n",
       "      <td>4/18/87</td>\n",
       "      <td>115163.0</td>\n",
       "      <td>False</td>\n",
       "      <td>Legal</td>\n",
       "    </tr>\n",
       "    <tr>\n",
       "      <th>8</th>\n",
       "      <td>Angela</td>\n",
       "      <td>Female</td>\n",
       "      <td>11/22/05</td>\n",
       "      <td>95570.0</td>\n",
       "      <td>True</td>\n",
       "      <td>Engineering</td>\n",
       "    </tr>\n",
       "    <tr>\n",
       "      <th>11</th>\n",
       "      <td>Julie</td>\n",
       "      <td>Female</td>\n",
       "      <td>10/26/97</td>\n",
       "      <td>102508.0</td>\n",
       "      <td>True</td>\n",
       "      <td>Legal</td>\n",
       "    </tr>\n",
       "    <tr>\n",
       "      <th>...</th>\n",
       "      <td>...</td>\n",
       "      <td>...</td>\n",
       "      <td>...</td>\n",
       "      <td>...</td>\n",
       "      <td>...</td>\n",
       "      <td>...</td>\n",
       "    </tr>\n",
       "    <tr>\n",
       "      <th>992</th>\n",
       "      <td>Anthony</td>\n",
       "      <td>Male</td>\n",
       "      <td>10/16/11</td>\n",
       "      <td>112769.0</td>\n",
       "      <td>True</td>\n",
       "      <td>Finance</td>\n",
       "    </tr>\n",
       "    <tr>\n",
       "      <th>995</th>\n",
       "      <td>Henry</td>\n",
       "      <td>NaN</td>\n",
       "      <td>11/23/14</td>\n",
       "      <td>132483.0</td>\n",
       "      <td>False</td>\n",
       "      <td>Distribution</td>\n",
       "    </tr>\n",
       "    <tr>\n",
       "      <th>996</th>\n",
       "      <td>Phillip</td>\n",
       "      <td>Male</td>\n",
       "      <td>1/31/84</td>\n",
       "      <td>42392.0</td>\n",
       "      <td>False</td>\n",
       "      <td>Finance</td>\n",
       "    </tr>\n",
       "    <tr>\n",
       "      <th>997</th>\n",
       "      <td>Russell</td>\n",
       "      <td>Male</td>\n",
       "      <td>5/20/13</td>\n",
       "      <td>96914.0</td>\n",
       "      <td>False</td>\n",
       "      <td>Product</td>\n",
       "    </tr>\n",
       "    <tr>\n",
       "      <th>998</th>\n",
       "      <td>Larry</td>\n",
       "      <td>Male</td>\n",
       "      <td>4/20/13</td>\n",
       "      <td>60500.0</td>\n",
       "      <td>False</td>\n",
       "      <td>Business Dev</td>\n",
       "    </tr>\n",
       "  </tbody>\n",
       "</table>\n",
       "<p>640 rows × 6 columns</p>\n",
       "</div>"
      ],
      "text/plain": [
       "    First Name  Gender Start Date    Salary   Mgmt          Team\n",
       "2        Maria  Female        NaN  130590.0  False       Finance\n",
       "4        Larry    Male    1/24/98  101004.0   True            IT\n",
       "5       Dennis    Male    4/18/87  115163.0  False         Legal\n",
       "8       Angela  Female   11/22/05   95570.0   True   Engineering\n",
       "11       Julie  Female   10/26/97  102508.0   True         Legal\n",
       "..         ...     ...        ...       ...    ...           ...\n",
       "992    Anthony    Male   10/16/11  112769.0   True       Finance\n",
       "995      Henry     NaN   11/23/14  132483.0  False  Distribution\n",
       "996    Phillip    Male    1/31/84   42392.0  False       Finance\n",
       "997    Russell    Male    5/20/13   96914.0  False       Product\n",
       "998      Larry    Male    4/20/13   60500.0  False  Business Dev\n",
       "\n",
       "[640 rows x 6 columns]"
      ]
     },
     "execution_count": 20,
     "metadata": {},
     "output_type": "execute_result"
    }
   ],
   "source": [
    "empDF[theMask2]"
   ]
  },
  {
   "cell_type": "code",
   "execution_count": 28,
   "id": "99856cf0-9977-466a-a3e4-62d72a057f7c",
   "metadata": {},
   "outputs": [
    {
     "name": "stderr",
     "output_type": "stream",
     "text": [
      "C:\\Users\\kdp\\AppData\\Local\\Temp\\ipykernel_19236\\2434596865.py:1: UserWarning: Could not infer format, so each element will be parsed individually, falling back to `dateutil`. To ensure parsing is consistent and as-expected, please specify a format.\n",
      "  empDF['Start Time'] = pd.to_datetime(empDF['Start Date'])\n"
     ]
    }
   ],
   "source": [
    "empDF['Start Time'] = pd.to_datetime(empDF['Start Date'])"
   ]
  },
  {
   "cell_type": "code",
   "execution_count": 29,
   "id": "9b3f2f09-33f3-4786-9fa8-c5ff02b47e41",
   "metadata": {},
   "outputs": [
    {
     "name": "stdout",
     "output_type": "stream",
     "text": [
      "<class 'pandas.core.frame.DataFrame'>\n",
      "RangeIndex: 1001 entries, 0 to 1000\n",
      "Data columns (total 7 columns):\n",
      " #   Column      Non-Null Count  Dtype         \n",
      "---  ------      --------------  -----         \n",
      " 0   First Name  933 non-null    object        \n",
      " 1   Gender      854 non-null    object        \n",
      " 2   Start Date  999 non-null    object        \n",
      " 3   Salary      999 non-null    float64       \n",
      " 4   Mgmt        933 non-null    object        \n",
      " 5   Team        957 non-null    object        \n",
      " 6   Start Time  999 non-null    datetime64[ns]\n",
      "dtypes: datetime64[ns](1), float64(1), object(5)\n",
      "memory usage: 54.9+ KB\n"
     ]
    }
   ],
   "source": [
    "empDF.info()"
   ]
  },
  {
   "cell_type": "code",
   "execution_count": 30,
   "id": "8b50d7e2-914c-48f6-a0f7-7ca44f2e2090",
   "metadata": {},
   "outputs": [
    {
     "data": {
      "text/plain": [
       "0        True\n",
       "1       False\n",
       "2       False\n",
       "3       False\n",
       "4       False\n",
       "        ...  \n",
       "996     False\n",
       "997     False\n",
       "998     False\n",
       "999      True\n",
       "1000    False\n",
       "Name: Team, Length: 1001, dtype: bool"
      ]
     },
     "execution_count": 30,
     "metadata": {},
     "output_type": "execute_result"
    }
   ],
   "source": [
    "empDF['Team'].isin(['Sales', 'Legal', 'Marketing'])"
   ]
  },
  {
   "cell_type": "markdown",
   "id": "fe62eb4c-c8a5-449e-8150-c3807d2079d9",
   "metadata": {},
   "source": [
    "- 구간 지정 검사 불린 메서드 => DF.between(low, high)"
   ]
  },
  {
   "cell_type": "code",
   "execution_count": 31,
   "id": "ddc4fb42-b3fe-4a4b-9342-f52a2bac94ee",
   "metadata": {},
   "outputs": [
    {
     "data": {
      "text/plain": [
       "0       False\n",
       "1       False\n",
       "2       False\n",
       "3       False\n",
       "4       False\n",
       "        ...  \n",
       "996     False\n",
       "997     False\n",
       "998     False\n",
       "999     False\n",
       "1000    False\n",
       "Name: Salary, Length: 1001, dtype: bool"
      ]
     },
     "execution_count": 31,
     "metadata": {},
     "output_type": "execute_result"
    }
   ],
   "source": [
    "(empDF['Salary']>=80000) & (empDF['Salary']<90000)"
   ]
  },
  {
   "cell_type": "code",
   "execution_count": 33,
   "id": "cb311215-8c45-42ec-b90e-09601654e1fc",
   "metadata": {},
   "outputs": [
    {
     "data": {
      "text/plain": [
       "0       False\n",
       "1       False\n",
       "2       False\n",
       "3       False\n",
       "4       False\n",
       "        ...  \n",
       "996     False\n",
       "997     False\n",
       "998     False\n",
       "999     False\n",
       "1000    False\n",
       "Name: Salary, Length: 1001, dtype: bool"
      ]
     },
     "execution_count": 33,
     "metadata": {},
     "output_type": "execute_result"
    }
   ],
   "source": [
    "empDF['Salary'].between(80000, 90000)"
   ]
  },
  {
   "cell_type": "markdown",
   "id": "920268df-891e-4d3a-bcda-fd459057dd09",
   "metadata": {},
   "source": [
    "지시자 str ?"
   ]
  },
  {
   "cell_type": "code",
   "execution_count": 34,
   "id": "cbb526f7-2793-43a0-917a-816ad4f2f74f",
   "metadata": {},
   "outputs": [
    {
     "data": {
      "text/plain": [
       "0       DOUGLAS\n",
       "1        THOMAS\n",
       "2         MARIA\n",
       "3         JERRY\n",
       "4         LARRY\n",
       "         ...   \n",
       "996     PHILLIP\n",
       "997     RUSSELL\n",
       "998       LARRY\n",
       "999      ALBERT\n",
       "1000        NaN\n",
       "Name: First Name, Length: 1001, dtype: object"
      ]
     },
     "execution_count": 34,
     "metadata": {},
     "output_type": "execute_result"
    }
   ],
   "source": [
    "empDF['First Name'].str.upper()"
   ]
  },
  {
   "cell_type": "code",
   "execution_count": 36,
   "id": "8b0d4835-4b9d-403b-a657-0960407f5981",
   "metadata": {},
   "outputs": [
    {
     "data": {
      "text/plain": [
       "0    faz\n",
       "1    fuz\n",
       "2    NaN\n",
       "dtype: object"
      ]
     },
     "execution_count": 36,
     "metadata": {},
     "output_type": "execute_result"
    }
   ],
   "source": [
    "pd.Series(['foo', 'fuz', np.nan]).str.replace('foo', 'faz')"
   ]
  },
  {
   "cell_type": "code",
   "execution_count": null,
   "id": "e2a8bbbe-2d35-405a-98dd-759c16d8280e",
   "metadata": {},
   "outputs": [],
   "source": []
  }
 ],
 "metadata": {
  "kernelspec": {
   "display_name": "Python 3 (ipykernel)",
   "language": "python",
   "name": "python3"
  },
  "language_info": {
   "codemirror_mode": {
    "name": "ipython",
    "version": 3
   },
   "file_extension": ".py",
   "mimetype": "text/x-python",
   "name": "python",
   "nbconvert_exporter": "python",
   "pygments_lexer": "ipython3",
   "version": "3.8.18"
  }
 },
 "nbformat": 4,
 "nbformat_minor": 5
}
