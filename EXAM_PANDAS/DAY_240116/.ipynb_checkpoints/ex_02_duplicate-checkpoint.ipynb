{
 "cells": [
  {
   "cell_type": "markdown",
   "id": "786f9dc2-a86f-48aa-8285-334b7ea7416f",
   "metadata": {},
   "source": [
    "## [ 중복 데이터 처리 ]\n",
    "- 중복 데이터 기준 => 행(row)\n",
    "- 행 단위로 모든 컬럼의 값이 완전히 똑같은 데이터는 중복 데이터\n",
    "- 처리 => 제거"
   ]
  },
  {
   "cell_type": "markdown",
   "id": "e89b6013-8191-454b-95bd-237bfca286a8",
   "metadata": {},
   "source": [
    "(1) 모듈 로딩"
   ]
  },
  {
   "cell_type": "code",
   "execution_count": 1,
   "id": "7a5c18e7-28d3-4809-907a-956c460f6a5c",
   "metadata": {},
   "outputs": [],
   "source": [
    "import pandas as pd"
   ]
  },
  {
   "cell_type": "markdown",
   "id": "5457e339-dc91-4b50-b92a-e731b51047c3",
   "metadata": {},
   "source": [
    "(2) 데이터 준비"
   ]
  },
  {
   "cell_type": "code",
   "execution_count": 2,
   "id": "2dc9dfe6-505b-4c7d-856a-188c2109ad33",
   "metadata": {},
   "outputs": [],
   "source": [
    "file = \"../../DATA/employees.csv\""
   ]
  },
  {
   "cell_type": "markdown",
   "id": "b74aa33f-d324-46a6-8030-f66fdfc1f094",
   "metadata": {},
   "source": [
    "(3) 데이터 저장 : CSV -> DF"
   ]
  },
  {
   "cell_type": "code",
   "execution_count": 4,
   "id": "4342db77-f375-4592-85f7-60b8813a662e",
   "metadata": {},
   "outputs": [],
   "source": [
    "empDF = pd.read_csv(file)"
   ]
  },
  {
   "cell_type": "markdown",
   "id": "a5401902-b814-4e48-a1cb-8b9e973ea2b3",
   "metadata": {},
   "source": [
    "(4) 데이터 확인"
   ]
  },
  {
   "cell_type": "code",
   "execution_count": 5,
   "id": "be2f6c6d-7240-4bcf-ab83-020b9e480acb",
   "metadata": {},
   "outputs": [
    {
     "name": "stdout",
     "output_type": "stream",
     "text": [
      "<class 'pandas.core.frame.DataFrame'>\n",
      "RangeIndex: 1001 entries, 0 to 1000\n",
      "Data columns (total 6 columns):\n",
      " #   Column      Non-Null Count  Dtype  \n",
      "---  ------      --------------  -----  \n",
      " 0   First Name  933 non-null    object \n",
      " 1   Gender      854 non-null    object \n",
      " 2   Start Date  999 non-null    object \n",
      " 3   Salary      999 non-null    float64\n",
      " 4   Mgmt        933 non-null    object \n",
      " 5   Team        957 non-null    object \n",
      "dtypes: float64(1), object(5)\n",
      "memory usage: 47.0+ KB\n"
     ]
    }
   ],
   "source": [
    "empDF.info()"
   ]
  },
  {
   "cell_type": "markdown",
   "id": "a3c7f250-7b4c-4d84-af96-c1394efd8bd6",
   "metadata": {},
   "source": [
    "(5) 데이터 전처리 => 나. 중복 데이터 처리"
   ]
  },
  {
   "cell_type": "markdown",
   "id": "e7dc3ec7-82ce-4d16-ab5f-3f1c8a3863c0",
   "metadata": {},
   "source": [
    "- 중복 데이터 체크 => duplicated() : 중복이면 True\n",
    "- 중복 데이터 처리 => drop_duplicate() : 삭제"
   ]
  },
  {
   "cell_type": "code",
   "execution_count": 6,
   "id": "ee400a41-3c76-4f39-bba1-989e676d5ff3",
   "metadata": {},
   "outputs": [
    {
     "data": {
      "text/plain": [
       "0"
      ]
     },
     "execution_count": 6,
     "metadata": {},
     "output_type": "execute_result"
    }
   ],
   "source": [
    "# 행 단위로 완전히 똑같은 행 검사 : 0개\n",
    "empDF.duplicated().sum()"
   ]
  },
  {
   "cell_type": "code",
   "execution_count": 10,
   "id": "5c0044fd-da2f-4e93-9318-b894c9323ed8",
   "metadata": {},
   "outputs": [
    {
     "data": {
      "text/plain": [
       "(990, 10)"
      ]
     },
     "execution_count": 10,
     "metadata": {},
     "output_type": "execute_result"
    }
   ],
   "source": [
    "# True 컬럼\n",
    "empDF.Team.duplicated().sum(), empDF.Team.nunique()"
   ]
  },
  {
   "cell_type": "code",
   "execution_count": 9,
   "id": "088fba01-caff-4abd-8198-195a6ce436d4",
   "metadata": {},
   "outputs": [
    {
     "data": {
      "text/plain": [
       "0          Marketing\n",
       "1                NaN\n",
       "2            Finance\n",
       "3            Finance\n",
       "4                 IT\n",
       "            ...     \n",
       "996          Finance\n",
       "997          Product\n",
       "998     Business Dev\n",
       "999            Sales\n",
       "1000             NaN\n",
       "Name: Team, Length: 1001, dtype: object"
      ]
     },
     "execution_count": 9,
     "metadata": {},
     "output_type": "execute_result"
    }
   ],
   "source": [
    "empDF.Team"
   ]
  },
  {
   "cell_type": "code",
   "execution_count": 16,
   "id": "208b47ea-c673-45bd-babc-b06477e025ca",
   "metadata": {},
   "outputs": [
    {
     "data": {
      "text/plain": [
       "988               HR\n",
       "989            Legal\n",
       "990               IT\n",
       "993      Engineering\n",
       "994        Marketing\n",
       "995     Distribution\n",
       "996          Finance\n",
       "997          Product\n",
       "998     Business Dev\n",
       "999            Sales\n",
       "1000             NaN\n",
       "Name: Team, dtype: object"
      ]
     },
     "execution_count": 16,
     "metadata": {},
     "output_type": "execute_result"
    }
   ],
   "source": [
    "empDF.Team.drop_duplicates(keep=\"last\")"
   ]
  },
  {
   "cell_type": "markdown",
   "id": "af6122c6-3651-4c80-8059-93fa91ded20b",
   "metadata": {},
   "source": [
    "행 추가\n",
    "* 단일 인덱스 => loc[새로운 행레이블/이름] = 새로운값\n",
    "* 멀티 인덱스 => loc[새로운 행레이블/이름, 컬럼명] = 새로운값"
   ]
  },
  {
   "cell_type": "markdown",
   "id": "76a33d99-022c-4eab-b203-f656ed3470b0",
   "metadata": {},
   "source": [
    "새로운 값 추가할 때는 loc[] 를 잘 쓰면 된다. (연습 많이 해 볼 것)  \n",
    "+DataFrame의 xs() 메소드"
   ]
  },
  {
   "cell_type": "code",
   "execution_count": null,
   "id": "1bb9606d-09fd-44c8-845a-eb5e6c9f1639",
   "metadata": {},
   "outputs": [],
   "source": []
  }
 ],
 "metadata": {
  "kernelspec": {
   "display_name": "Python 3 (ipykernel)",
   "language": "python",
   "name": "python3"
  },
  "language_info": {
   "codemirror_mode": {
    "name": "ipython",
    "version": 3
   },
   "file_extension": ".py",
   "mimetype": "text/x-python",
   "name": "python",
   "nbconvert_exporter": "python",
   "pygments_lexer": "ipython3",
   "version": "3.8.18"
  }
 },
 "nbformat": 4,
 "nbformat_minor": 5
}
