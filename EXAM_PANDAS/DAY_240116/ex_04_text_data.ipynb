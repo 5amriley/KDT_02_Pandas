{
 "cells": [
  {
   "cell_type": "markdown",
   "id": "b8bf161e-3074-4c4b-999c-65fe88b3349a",
   "metadata": {},
   "source": [
    "## [ 텍스트 데이터 처리 ]\n",
    "- 다양한 형태의 텍스트 데이터를 정리하기 위한 방법들\n",
    "- Series에 str Accessor을 활용해서 str 전용 메서드 사용 가능\n",
    "- 사용방법 : Series객체.str.메서드()"
   ]
  },
  {
   "cell_type": "markdown",
   "id": "6a2de750-2670-4ddf-867a-2d6b4f643cf7",
   "metadata": {},
   "source": [
    "- 문자열 관련 메서드들 살펴보기 (1) 공백 제거 관련 메서드 => strip(), lstrip(), rstrip()"
   ]
  },
  {
   "cell_type": "code",
   "execution_count": 1,
   "id": "21a7fedf-43d8-4c95-9ab0-c82bc41f28f4",
   "metadata": {},
   "outputs": [],
   "source": [
    "msg = \"   Merry Christmas    \""
   ]
  },
  {
   "cell_type": "code",
   "execution_count": 2,
   "id": "62ada65b-ac98-45b9-8d8b-d59d01775a7b",
   "metadata": {},
   "outputs": [
    {
     "data": {
      "text/plain": [
       "22"
      ]
     },
     "execution_count": 2,
     "metadata": {},
     "output_type": "execute_result"
    }
   ],
   "source": [
    "len(msg)"
   ]
  },
  {
   "cell_type": "code",
   "execution_count": 3,
   "id": "660050e9-c42d-42f7-8ad0-90395c9ae683",
   "metadata": {},
   "outputs": [],
   "source": [
    "msg1, msg2, msg3 = msg.strip(), msg.lstrip(), msg.rstrip()"
   ]
  },
  {
   "cell_type": "code",
   "execution_count": 4,
   "id": "0eef922a-94b0-479b-9f3d-d4c678192b99",
   "metadata": {},
   "outputs": [
    {
     "data": {
      "text/plain": [
       "(15, 19, 18)"
      ]
     },
     "execution_count": 4,
     "metadata": {},
     "output_type": "execute_result"
    }
   ],
   "source": [
    "len(msg1), len(msg2), len(msg3)"
   ]
  },
  {
   "cell_type": "markdown",
   "id": "04e48fd4-19aa-405d-a6de-5b6e1335941e",
   "metadata": {},
   "source": [
    "(1) 모듈 로딩"
   ]
  },
  {
   "cell_type": "code",
   "execution_count": 5,
   "id": "52e7eb51-2411-4a33-9e98-dd98450437b5",
   "metadata": {},
   "outputs": [],
   "source": [
    "import pandas as pd"
   ]
  },
  {
   "cell_type": "markdown",
   "id": "7e30dda9-7d60-4cf1-a922-a09dd6f3df67",
   "metadata": {},
   "source": [
    "(2) 데이터 준비"
   ]
  },
  {
   "cell_type": "code",
   "execution_count": 6,
   "id": "b9c1d9b6-0247-41aa-9b30-276e4c0b2fab",
   "metadata": {},
   "outputs": [],
   "source": [
    "file = '../../DATA/chicago_food_inspections.csv'"
   ]
  },
  {
   "cell_type": "markdown",
   "id": "79c0f04b-932a-4380-b9dc-b3caa41e3a7a",
   "metadata": {},
   "source": [
    "(3) 데이터 저장"
   ]
  },
  {
   "cell_type": "code",
   "execution_count": 7,
   "id": "ab9515b3-a2dc-4cfe-8b6e-b08822196ceb",
   "metadata": {},
   "outputs": [],
   "source": [
    "chicagoDF = pd.read_csv(file)"
   ]
  },
  {
   "cell_type": "markdown",
   "id": "8badfa08-3558-44aa-b063-30bdc840756d",
   "metadata": {},
   "source": [
    "(4) 데이터 확인"
   ]
  },
  {
   "cell_type": "code",
   "execution_count": 8,
   "id": "15ab4f8b-354a-4b37-829a-484395e54da2",
   "metadata": {},
   "outputs": [
    {
     "name": "stdout",
     "output_type": "stream",
     "text": [
      "<class 'pandas.core.frame.DataFrame'>\n",
      "RangeIndex: 153810 entries, 0 to 153809\n",
      "Data columns (total 2 columns):\n",
      " #   Column  Non-Null Count   Dtype \n",
      "---  ------  --------------   ----- \n",
      " 0   Name    153810 non-null  object\n",
      " 1   Risk    153744 non-null  object\n",
      "dtypes: object(2)\n",
      "memory usage: 2.3+ MB\n"
     ]
    }
   ],
   "source": [
    "chicagoDF.info()"
   ]
  },
  {
   "cell_type": "code",
   "execution_count": 9,
   "id": "41c29bc2-f131-467e-aec5-aa2bb42f0ac2",
   "metadata": {},
   "outputs": [
    {
     "data": {
      "text/html": [
       "<div>\n",
       "<style scoped>\n",
       "    .dataframe tbody tr th:only-of-type {\n",
       "        vertical-align: middle;\n",
       "    }\n",
       "\n",
       "    .dataframe tbody tr th {\n",
       "        vertical-align: top;\n",
       "    }\n",
       "\n",
       "    .dataframe thead th {\n",
       "        text-align: right;\n",
       "    }\n",
       "</style>\n",
       "<table border=\"1\" class=\"dataframe\">\n",
       "  <thead>\n",
       "    <tr style=\"text-align: right;\">\n",
       "      <th></th>\n",
       "      <th>Name</th>\n",
       "      <th>Risk</th>\n",
       "    </tr>\n",
       "  </thead>\n",
       "  <tbody>\n",
       "    <tr>\n",
       "      <th>0</th>\n",
       "      <td>MARRIOT MARQUIS CHICAGO</td>\n",
       "      <td>Risk 1 (High)</td>\n",
       "    </tr>\n",
       "    <tr>\n",
       "      <th>1</th>\n",
       "      <td>JETS PIZZA</td>\n",
       "      <td>Risk 2 (Medium)</td>\n",
       "    </tr>\n",
       "    <tr>\n",
       "      <th>2</th>\n",
       "      <td>ROOM 1520</td>\n",
       "      <td>Risk 3 (Low)</td>\n",
       "    </tr>\n",
       "    <tr>\n",
       "      <th>3</th>\n",
       "      <td>MARRIOT MARQUIS CHICAGO</td>\n",
       "      <td>Risk 1 (High)</td>\n",
       "    </tr>\n",
       "    <tr>\n",
       "      <th>4</th>\n",
       "      <td>CHARTWELLS</td>\n",
       "      <td>Risk 1 (High)</td>\n",
       "    </tr>\n",
       "  </tbody>\n",
       "</table>\n",
       "</div>"
      ],
      "text/plain": [
       "                          Name             Risk\n",
       "0   MARRIOT MARQUIS CHICAGO       Risk 1 (High)\n",
       "1                  JETS PIZZA   Risk 2 (Medium)\n",
       "2                   ROOM 1520      Risk 3 (Low)\n",
       "3    MARRIOT MARQUIS CHICAGO      Risk 1 (High)\n",
       "4                CHARTWELLS       Risk 1 (High)"
      ]
     },
     "execution_count": 9,
     "metadata": {},
     "output_type": "execute_result"
    }
   ],
   "source": [
    "chicagoDF.head()"
   ]
  },
  {
   "cell_type": "markdown",
   "id": "3c134ba7-3949-47a1-a715-01dda92191ff",
   "metadata": {},
   "source": [
    "- [문제] Name 컬럼에서 공백제거 처리"
   ]
  },
  {
   "cell_type": "code",
   "execution_count": 12,
   "id": "4c8edfe0-5047-41c3-b65c-153932f5c7b8",
   "metadata": {},
   "outputs": [
    {
     "data": {
      "text/plain": [
       "0              MARRIOT MARQUIS CHICAGO\n",
       "1                           JETS PIZZA\n",
       "2                            ROOM 1520\n",
       "3              MARRIOT MARQUIS CHICAGO\n",
       "4                           CHARTWELLS\n",
       "                      ...             \n",
       "153805                       WOLCOTT'S\n",
       "153806    DUNKIN DONUTS/BASKIN-ROBBINS\n",
       "153807                        Cafe 608\n",
       "153808                     mr.daniel's\n",
       "153809                      TEMPO CAFE\n",
       "Name: Name, Length: 153810, dtype: object"
      ]
     },
     "execution_count": 12,
     "metadata": {},
     "output_type": "execute_result"
    }
   ],
   "source": [
    "chicagoDF['Name'].str.strip()"
   ]
  },
  {
   "cell_type": "code",
   "execution_count": 13,
   "id": "9949cdf1-7679-42cf-afd2-d01f47b61bbd",
   "metadata": {},
   "outputs": [
    {
     "data": {
      "text/plain": [
       "0                 MARRIOT MARQUIS CHICAGO   \n",
       "1                                JETS PIZZA \n",
       "2                                 ROOM 1520 \n",
       "3                  MARRIOT MARQUIS CHICAGO  \n",
       "4                              CHARTWELLS   \n",
       "                         ...                \n",
       "153805                           WOLCOTT'S  \n",
       "153806       DUNKIN DONUTS/BASKIN-ROBBINS   \n",
       "153807                             Cafe 608 \n",
       "153808                          mr.daniel's \n",
       "153809                           TEMPO CAFE \n",
       "Name: Name, Length: 153810, dtype: object"
      ]
     },
     "execution_count": 13,
     "metadata": {},
     "output_type": "execute_result"
    }
   ],
   "source": [
    "chicagoDF['Name']"
   ]
  },
  {
   "cell_type": "code",
   "execution_count": 14,
   "id": "811e7fef-a9b3-48ef-a8a1-24afe906c67d",
   "metadata": {},
   "outputs": [
    {
     "data": {
      "text/plain": [
       "0              MARRIOT MARQUIS CHICAGO\n",
       "1                           JETS PIZZA\n",
       "2                            ROOM 1520\n",
       "3              MARRIOT MARQUIS CHICAGO\n",
       "4                           CHARTWELLS\n",
       "                      ...             \n",
       "153805                       WOLCOTT'S\n",
       "153806    DUNKIN DONUTS/BASKIN-ROBBINS\n",
       "153807                        Cafe 608\n",
       "153808                     mr.daniel's\n",
       "153809                      TEMPO CAFE\n",
       "Name: Name, Length: 153810, dtype: object"
      ]
     },
     "execution_count": 14,
     "metadata": {},
     "output_type": "execute_result"
    }
   ],
   "source": [
    "chicagoDF['Name'] = chicagoDF['Name'].str.strip()\n",
    "chicagoDF['Name']"
   ]
  },
  {
   "cell_type": "markdown",
   "id": "f3c404f0-f178-453f-9d56-de9fa7608fab",
   "metadata": {},
   "source": [
    "- [문제] Risk 컬럼에서 문자열 나누기 => Risk 숫자 => Risk와 숫자 분리"
   ]
  },
  {
   "cell_type": "code",
   "execution_count": 15,
   "id": "f5811e47-311e-422d-bba0-f5612254f93c",
   "metadata": {},
   "outputs": [
    {
     "data": {
      "text/plain": [
       "(4,\n",
       " array(['Risk 1 (High)', 'Risk 2 (Medium)', 'Risk 3 (Low)', 'All', nan],\n",
       "       dtype=object))"
      ]
     },
     "execution_count": 15,
     "metadata": {},
     "output_type": "execute_result"
    }
   ],
   "source": [
    "chicagoDF['Risk'].nunique(), chicagoDF['Risk'].unique()"
   ]
  },
  {
   "cell_type": "code",
   "execution_count": 16,
   "id": "919da9be-1c41-4840-8059-c850d318a77e",
   "metadata": {},
   "outputs": [
    {
     "data": {
      "text/plain": [
       "(66,\n",
       " Name     0\n",
       " Risk    66\n",
       " dtype: int64)"
      ]
     },
     "execution_count": 16,
     "metadata": {},
     "output_type": "execute_result"
    }
   ],
   "source": [
    "chicagoDF['Risk'].isna().sum(), chicagoDF.isna().sum()"
   ]
  },
  {
   "cell_type": "code",
   "execution_count": 18,
   "id": "7ed0a43f-643b-40f2-85ea-d7e819bb41fa",
   "metadata": {},
   "outputs": [
    {
     "data": {
      "text/plain": [
       "(153744, 2)"
      ]
     },
     "execution_count": 18,
     "metadata": {},
     "output_type": "execute_result"
    }
   ],
   "source": [
    "# [기본] 행 방향, 행 내에 한 개라도 NaN이 있으면 삭제\n",
    "chicagoDF.dropna().shape"
   ]
  },
  {
   "cell_type": "code",
   "execution_count": 19,
   "id": "ae01a9d4-1b61-4410-b8fc-2380a54d8e92",
   "metadata": {},
   "outputs": [
    {
     "data": {
      "text/plain": [
       "(153744, 2)"
      ]
     },
     "execution_count": 19,
     "metadata": {},
     "output_type": "execute_result"
    }
   ],
   "source": [
    "# Risk 컬럼이 NaN인 행 삭제 => subset 파라미터 적용\n",
    "chicagoDF.dropna(subset=['Risk']).shape"
   ]
  },
  {
   "cell_type": "code",
   "execution_count": 20,
   "id": "50130486-7697-4794-9c65-2287ffed75be",
   "metadata": {},
   "outputs": [
    {
     "data": {
      "text/plain": [
       "0           Risk 1 (High)\n",
       "1         Risk 2 (Medium)\n",
       "2            Risk 3 (Low)\n",
       "3           Risk 1 (High)\n",
       "4           Risk 1 (High)\n",
       "               ...       \n",
       "153805      Risk 1 (High)\n",
       "153806    Risk 2 (Medium)\n",
       "153807      Risk 1 (High)\n",
       "153808      Risk 1 (High)\n",
       "153809      Risk 1 (High)\n",
       "Name: Risk, Length: 153810, dtype: object"
      ]
     },
     "execution_count": 20,
     "metadata": {},
     "output_type": "execute_result"
    }
   ],
   "source": [
    "# 원소의 데이터 값이 'all' => \"Risk 4 (Extreme)\" 변경\n",
    "chicagoDF['Risk'].replace('all', 'Risk 4 (Extreme)')"
   ]
  },
  {
   "cell_type": "code",
   "execution_count": 21,
   "id": "e23e31df-7ac6-4c89-b176-e51ab5d313e7",
   "metadata": {},
   "outputs": [
    {
     "data": {
      "text/plain": [
       "0         1\n",
       "1         2\n",
       "2         3\n",
       "3         1\n",
       "4         1\n",
       "         ..\n",
       "153805    1\n",
       "153806    2\n",
       "153807    1\n",
       "153808    1\n",
       "153809    1\n",
       "Name: Risk, Length: 153810, dtype: object"
      ]
     },
     "execution_count": 21,
     "metadata": {},
     "output_type": "execute_result"
    }
   ],
   "source": [
    "chicagoDF['Risk'].str.slice(5, 6)"
   ]
  },
  {
   "cell_type": "code",
   "execution_count": 22,
   "id": "d096516d-ef04-4295-9f72-7f5fc8a31eee",
   "metadata": {},
   "outputs": [
    {
     "data": {
      "text/plain": [
       "0           High)\n",
       "1         Medium)\n",
       "2            Low)\n",
       "3           High)\n",
       "4           High)\n",
       "           ...   \n",
       "153805      High)\n",
       "153806    Medium)\n",
       "153807      High)\n",
       "153808      High)\n",
       "153809      High)\n",
       "Name: Risk, Length: 153810, dtype: object"
      ]
     },
     "execution_count": 22,
     "metadata": {},
     "output_type": "execute_result"
    }
   ],
   "source": [
    "chicagoDF['Risk'].str.slice(8)"
   ]
  },
  {
   "cell_type": "code",
   "execution_count": 23,
   "id": "8d7a1a9c-fbbd-4cb3-b134-9533f28cbbfd",
   "metadata": {},
   "outputs": [
    {
     "data": {
      "text/plain": [
       "0           High\n",
       "1         Medium\n",
       "2            Low\n",
       "3           High\n",
       "4           High\n",
       "           ...  \n",
       "153805      High\n",
       "153806    Medium\n",
       "153807      High\n",
       "153808      High\n",
       "153809      High\n",
       "Name: Risk, Length: 153810, dtype: object"
      ]
     },
     "execution_count": 23,
     "metadata": {},
     "output_type": "execute_result"
    }
   ],
   "source": [
    "chicagoDF['Risk'].str.slice(8, -1)"
   ]
  },
  {
   "cell_type": "code",
   "execution_count": null,
   "id": "b619ce6d-d7c9-4327-8af4-dc856837d557",
   "metadata": {},
   "outputs": [],
   "source": []
  }
 ],
 "metadata": {
  "kernelspec": {
   "display_name": "Python 3 (ipykernel)",
   "language": "python",
   "name": "python3"
  },
  "language_info": {
   "codemirror_mode": {
    "name": "ipython",
    "version": 3
   },
   "file_extension": ".py",
   "mimetype": "text/x-python",
   "name": "python",
   "nbconvert_exporter": "python",
   "pygments_lexer": "ipython3",
   "version": "3.8.18"
  }
 },
 "nbformat": 4,
 "nbformat_minor": 5
}
