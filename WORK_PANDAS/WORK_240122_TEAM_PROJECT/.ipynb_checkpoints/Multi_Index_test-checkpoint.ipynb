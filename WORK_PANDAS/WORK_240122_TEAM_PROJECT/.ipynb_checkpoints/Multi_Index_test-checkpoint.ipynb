{
 "cells": [
  {
   "cell_type": "code",
   "execution_count": 2,
   "id": "3475c4de-b980-4989-bf6b-66efe3807ab7",
   "metadata": {},
   "outputs": [],
   "source": [
    "import pandas as pd\n",
    "import numpy as np"
   ]
  },
  {
   "cell_type": "code",
   "execution_count": 3,
   "id": "d71714af-be52-4ab6-9bd9-37ba50f2c9bd",
   "metadata": {},
   "outputs": [],
   "source": [
    "score = pd.Series({\n",
    "    ('James', 'English'):100,\n",
    "    ('James', 'Math'):40,\n",
    "    ('Ted', 'English'):78,\n",
    "    ('Ted', 'Math'):39,\n",
    "    ('Adam', 'English'):88,\n",
    "    ('Adam', 'Math'):98,\n",
    "})"
   ]
  },
  {
   "cell_type": "code",
   "execution_count": 4,
   "id": "dc80bb59-3ec6-4f9f-adf5-483a6c73cd1b",
   "metadata": {},
   "outputs": [
    {
     "data": {
      "text/plain": [
       "James  English    100\n",
       "       Math        40\n",
       "Ted    English     78\n",
       "       Math        39\n",
       "Adam   English     88\n",
       "       Math        98\n",
       "dtype: int64"
      ]
     },
     "execution_count": 4,
     "metadata": {},
     "output_type": "execute_result"
    }
   ],
   "source": [
    "score"
   ]
  },
  {
   "cell_type": "code",
   "execution_count": 5,
   "id": "de60ac09-db5a-4cfc-a724-6881f7376b4a",
   "metadata": {},
   "outputs": [
    {
     "data": {
      "text/plain": [
       "pandas.core.indexes.multi.MultiIndex"
      ]
     },
     "execution_count": 5,
     "metadata": {},
     "output_type": "execute_result"
    }
   ],
   "source": [
    "type(score.index)"
   ]
  },
  {
   "cell_type": "code",
   "execution_count": 6,
   "id": "02d18b0f-92ed-492d-8984-5be5cc9613bf",
   "metadata": {},
   "outputs": [
    {
     "data": {
      "text/html": [
       "<div>\n",
       "<style scoped>\n",
       "    .dataframe tbody tr th:only-of-type {\n",
       "        vertical-align: middle;\n",
       "    }\n",
       "\n",
       "    .dataframe tbody tr th {\n",
       "        vertical-align: top;\n",
       "    }\n",
       "\n",
       "    .dataframe thead th {\n",
       "        text-align: right;\n",
       "    }\n",
       "</style>\n",
       "<table border=\"1\" class=\"dataframe\">\n",
       "  <thead>\n",
       "    <tr style=\"text-align: right;\">\n",
       "      <th></th>\n",
       "      <th>English</th>\n",
       "      <th>Math</th>\n",
       "    </tr>\n",
       "  </thead>\n",
       "  <tbody>\n",
       "    <tr>\n",
       "      <th>Adam</th>\n",
       "      <td>88</td>\n",
       "      <td>98</td>\n",
       "    </tr>\n",
       "    <tr>\n",
       "      <th>James</th>\n",
       "      <td>100</td>\n",
       "      <td>40</td>\n",
       "    </tr>\n",
       "    <tr>\n",
       "      <th>Ted</th>\n",
       "      <td>78</td>\n",
       "      <td>39</td>\n",
       "    </tr>\n",
       "  </tbody>\n",
       "</table>\n",
       "</div>"
      ],
      "text/plain": [
       "       English  Math\n",
       "Adam        88    98\n",
       "James      100    40\n",
       "Ted         78    39"
      ]
     },
     "execution_count": 6,
     "metadata": {},
     "output_type": "execute_result"
    }
   ],
   "source": [
    "score_df = score.unstack()\n",
    "score_df"
   ]
  },
  {
   "cell_type": "code",
   "execution_count": 7,
   "id": "f367a439-b897-4f37-950c-12aef996239d",
   "metadata": {},
   "outputs": [
    {
     "data": {
      "text/plain": [
       "Adam   English     88\n",
       "       Math        98\n",
       "James  English    100\n",
       "       Math        40\n",
       "Ted    English     78\n",
       "       Math        39\n",
       "dtype: int64"
      ]
     },
     "execution_count": 7,
     "metadata": {},
     "output_type": "execute_result"
    }
   ],
   "source": [
    "score_sr = score_df.stack()\n",
    "score_sr"
   ]
  },
  {
   "cell_type": "code",
   "execution_count": 8,
   "id": "ec642f55-ef21-4b64-9fdf-08117dc37b1b",
   "metadata": {},
   "outputs": [
    {
     "data": {
      "text/plain": [
       "98"
      ]
     },
     "execution_count": 8,
     "metadata": {},
     "output_type": "execute_result"
    }
   ],
   "source": [
    "score_sr['Adam', 'Math']"
   ]
  },
  {
   "cell_type": "code",
   "execution_count": null,
   "id": "2f0f6dbf-4fc1-4146-8d49-12e6ab2649e3",
   "metadata": {},
   "outputs": [],
   "source": []
  }
 ],
 "metadata": {
  "kernelspec": {
   "display_name": "Python 3 (ipykernel)",
   "language": "python",
   "name": "python3"
  },
  "language_info": {
   "codemirror_mode": {
    "name": "ipython",
    "version": 3
   },
   "file_extension": ".py",
   "mimetype": "text/x-python",
   "name": "python",
   "nbconvert_exporter": "python",
   "pygments_lexer": "ipython3",
   "version": "3.8.18"
  }
 },
 "nbformat": 4,
 "nbformat_minor": 5
}
