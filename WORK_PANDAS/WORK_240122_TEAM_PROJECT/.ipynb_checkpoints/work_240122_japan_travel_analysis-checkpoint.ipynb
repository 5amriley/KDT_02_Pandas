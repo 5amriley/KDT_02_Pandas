{
 "cells": [
  {
   "cell_type": "markdown",
   "id": "13518e00-97f7-47d0-a05c-9429f4fea99b",
   "metadata": {},
   "source": [
    "# 한국인 일본여행 통계 (2004~2023)"
   ]
  },
  {
   "cell_type": "code",
   "execution_count": 1,
   "id": "a86aff16-4a3b-4dde-b33e-7d307859b468",
   "metadata": {},
   "outputs": [],
   "source": [
    "import pandas as pd"
   ]
  },
  {
   "cell_type": "code",
   "execution_count": 2,
   "id": "0b6e2c5c-03ac-4c25-ae75-6c6cbbf55e62",
   "metadata": {},
   "outputs": [],
   "source": [
    "travel_file = './국민 해외관광객 주요 목적지별 통계(202311).xlsx'"
   ]
  },
  {
   "cell_type": "code",
   "execution_count": 35,
   "id": "a52f24ae-896f-4271-88f3-3fb5ea6ddb08",
   "metadata": {},
   "outputs": [
    {
     "data": {
      "text/html": [
       "<div>\n",
       "<style scoped>\n",
       "    .dataframe tbody tr th:only-of-type {\n",
       "        vertical-align: middle;\n",
       "    }\n",
       "\n",
       "    .dataframe tbody tr th {\n",
       "        vertical-align: top;\n",
       "    }\n",
       "\n",
       "    .dataframe thead tr th {\n",
       "        text-align: left;\n",
       "    }\n",
       "</style>\n",
       "<table border=\"1\" class=\"dataframe\">\n",
       "  <thead>\n",
       "    <tr>\n",
       "      <th></th>\n",
       "      <th></th>\n",
       "      <th>일본</th>\n",
       "      <th>Japan</th>\n",
       "    </tr>\n",
       "    <tr>\n",
       "      <th></th>\n",
       "      <th></th>\n",
       "      <th>명수</th>\n",
       "      <th>전년대비</th>\n",
       "    </tr>\n",
       "  </thead>\n",
       "  <tbody>\n",
       "    <tr>\n",
       "      <th rowspan=\"5\" valign=\"top\">2004년</th>\n",
       "      <th>1월</th>\n",
       "      <td>164785.0</td>\n",
       "      <td>NaN</td>\n",
       "    </tr>\n",
       "    <tr>\n",
       "      <th>2월</th>\n",
       "      <td>142718.0</td>\n",
       "      <td>NaN</td>\n",
       "    </tr>\n",
       "    <tr>\n",
       "      <th>3월</th>\n",
       "      <td>112516.0</td>\n",
       "      <td>NaN</td>\n",
       "    </tr>\n",
       "    <tr>\n",
       "      <th>4월</th>\n",
       "      <td>120427.0</td>\n",
       "      <td>NaN</td>\n",
       "    </tr>\n",
       "    <tr>\n",
       "      <th>5월</th>\n",
       "      <td>115659.0</td>\n",
       "      <td>NaN</td>\n",
       "    </tr>\n",
       "    <tr>\n",
       "      <th>...</th>\n",
       "      <th>...</th>\n",
       "      <td>...</td>\n",
       "      <td>...</td>\n",
       "    </tr>\n",
       "    <tr>\n",
       "      <th>2020년</th>\n",
       "      <th>누계</th>\n",
       "      <td>487939.0</td>\n",
       "      <td>-0.912628</td>\n",
       "    </tr>\n",
       "    <tr>\n",
       "      <th>2021년</th>\n",
       "      <th>누계</th>\n",
       "      <td>18947.0</td>\n",
       "      <td>-0.961169</td>\n",
       "    </tr>\n",
       "    <tr>\n",
       "      <th>2022년</th>\n",
       "      <th>누계</th>\n",
       "      <td>1012751.0</td>\n",
       "      <td>52.451787</td>\n",
       "    </tr>\n",
       "    <tr>\n",
       "      <th rowspan=\"2\" valign=\"top\">2023년</th>\n",
       "      <th>누계</th>\n",
       "      <td>6175767.0</td>\n",
       "      <td>10.095800</td>\n",
       "    </tr>\n",
       "    <tr>\n",
       "      <th>누계</th>\n",
       "      <td>NaN</td>\n",
       "      <td>NaN</td>\n",
       "    </tr>\n",
       "  </tbody>\n",
       "</table>\n",
       "<p>265 rows × 2 columns</p>\n",
       "</div>"
      ],
      "text/plain": [
       "                 일본      Japan\n",
       "                 명수       전년대비\n",
       "2004년 1월   164785.0        NaN\n",
       "      2월   142718.0        NaN\n",
       "      3월   112516.0        NaN\n",
       "      4월   120427.0        NaN\n",
       "      5월   115659.0        NaN\n",
       "...             ...        ...\n",
       "2020년 누계   487939.0  -0.912628\n",
       "2021년 누계    18947.0  -0.961169\n",
       "2022년 누계  1012751.0  52.451787\n",
       "2023년 누계  6175767.0  10.095800\n",
       "      누계        NaN        NaN\n",
       "\n",
       "[265 rows x 2 columns]"
      ]
     },
     "execution_count": 35,
     "metadata": {},
     "output_type": "execute_result"
    }
   ],
   "source": [
    "travelDF = pd.read_excel(travel_file, sheet_name='Asia', index_col=[0, 1], header=[1, 2])\n",
    "travelDF[[('일본','명수'), ('Japan', '전년대비')]]"
   ]
  },
  {
   "cell_type": "code",
   "execution_count": null,
   "id": "8a73bff1-40c0-4574-85e8-7b2b9c97dac5",
   "metadata": {},
   "outputs": [],
   "source": []
  }
 ],
 "metadata": {
  "kernelspec": {
   "display_name": "Python 3 (ipykernel)",
   "language": "python",
   "name": "python3"
  },
  "language_info": {
   "codemirror_mode": {
    "name": "ipython",
    "version": 3
   },
   "file_extension": ".py",
   "mimetype": "text/x-python",
   "name": "python",
   "nbconvert_exporter": "python",
   "pygments_lexer": "ipython3",
   "version": "3.8.18"
  }
 },
 "nbformat": 4,
 "nbformat_minor": 5
}
