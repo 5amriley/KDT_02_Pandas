{
 "cells": [
  {
   "cell_type": "markdown",
   "id": "1b98711c-e88e-40b6-8b4c-bc875e63f205",
   "metadata": {},
   "source": [
    "## 12.1 JSON 파일 읽고 쓰기"
   ]
  },
  {
   "cell_type": "code",
   "execution_count": 1,
   "id": "76511dcd-16a9-42bf-8bf1-8a051ad38cb3",
   "metadata": {},
   "outputs": [],
   "source": [
    "import pandas as pd"
   ]
  },
  {
   "cell_type": "code",
   "execution_count": 2,
   "id": "7d97c519-2308-403f-b087-ca60eb0bb89b",
   "metadata": {},
   "outputs": [
    {
     "data": {
      "text/html": [
       "<div>\n",
       "<style scoped>\n",
       "    .dataframe tbody tr th:only-of-type {\n",
       "        vertical-align: middle;\n",
       "    }\n",
       "\n",
       "    .dataframe tbody tr th {\n",
       "        vertical-align: top;\n",
       "    }\n",
       "\n",
       "    .dataframe thead th {\n",
       "        text-align: right;\n",
       "    }\n",
       "</style>\n",
       "<table border=\"1\" class=\"dataframe\">\n",
       "  <thead>\n",
       "    <tr style=\"text-align: right;\">\n",
       "      <th></th>\n",
       "      <th>prizes</th>\n",
       "    </tr>\n",
       "  </thead>\n",
       "  <tbody>\n",
       "    <tr>\n",
       "      <th>0</th>\n",
       "      <td>{'year': '2019', 'category': 'chemistry', 'lau...</td>\n",
       "    </tr>\n",
       "    <tr>\n",
       "      <th>1</th>\n",
       "      <td>{'year': '2019', 'category': 'economics', 'lau...</td>\n",
       "    </tr>\n",
       "    <tr>\n",
       "      <th>2</th>\n",
       "      <td>{'year': '2019', 'category': 'literature', 'la...</td>\n",
       "    </tr>\n",
       "    <tr>\n",
       "      <th>3</th>\n",
       "      <td>{'year': '2019', 'category': 'peace', 'laureat...</td>\n",
       "    </tr>\n",
       "    <tr>\n",
       "      <th>4</th>\n",
       "      <td>{'year': '2019', 'category': 'physics', 'overa...</td>\n",
       "    </tr>\n",
       "  </tbody>\n",
       "</table>\n",
       "</div>"
      ],
      "text/plain": [
       "                                              prizes\n",
       "0  {'year': '2019', 'category': 'chemistry', 'lau...\n",
       "1  {'year': '2019', 'category': 'economics', 'lau...\n",
       "2  {'year': '2019', 'category': 'literature', 'la...\n",
       "3  {'year': '2019', 'category': 'peace', 'laureat...\n",
       "4  {'year': '2019', 'category': 'physics', 'overa..."
      ]
     },
     "execution_count": 2,
     "metadata": {},
     "output_type": "execute_result"
    }
   ],
   "source": [
    "nobel = pd.read_json(\"../../DATA/nobel.json\")\n",
    "nobel.head()"
   ]
  },
  {
   "cell_type": "code",
   "execution_count": 3,
   "id": "0d176c39-1e65-45a8-9c7b-1177e4b51165",
   "metadata": {},
   "outputs": [
    {
     "data": {
      "text/plain": [
       "dict"
      ]
     },
     "execution_count": 3,
     "metadata": {},
     "output_type": "execute_result"
    }
   ],
   "source": [
    "type(nobel.loc[2, 'prizes'])"
   ]
  },
  {
   "cell_type": "code",
   "execution_count": 4,
   "id": "6da972a6-0424-4d73-bb9d-6b50d3e77ba5",
   "metadata": {},
   "outputs": [
    {
     "data": {
      "text/plain": [
       "{'year': '2019',\n",
       " 'category': 'chemistry',\n",
       " 'laureates': [{'id': '976',\n",
       "   'firstname': 'John',\n",
       "   'surname': 'Goodenough',\n",
       "   'motivation': '\"for the development of lithium-ion batteries\"',\n",
       "   'share': '3'},\n",
       "  {'id': '977',\n",
       "   'firstname': 'M. Stanley',\n",
       "   'surname': 'Whittingham',\n",
       "   'motivation': '\"for the development of lithium-ion batteries\"',\n",
       "   'share': '3'},\n",
       "  {'id': '978',\n",
       "   'firstname': 'Akira',\n",
       "   'surname': 'Yoshino',\n",
       "   'motivation': '\"for the development of lithium-ion batteries\"',\n",
       "   'share': '3'}]}"
      ]
     },
     "execution_count": 4,
     "metadata": {},
     "output_type": "execute_result"
    }
   ],
   "source": [
    "chemistry_2019 = nobel.loc[0, \"prizes\"]\n",
    "chemistry_2019"
   ]
  },
  {
   "cell_type": "code",
   "execution_count": 5,
   "id": "83a627ff-25a6-43f3-878f-096970644237",
   "metadata": {},
   "outputs": [
    {
     "data": {
      "text/plain": [
       "dict"
      ]
     },
     "execution_count": 5,
     "metadata": {},
     "output_type": "execute_result"
    }
   ],
   "source": [
    "type(chemistry_2019)"
   ]
  },
  {
   "cell_type": "code",
   "execution_count": 6,
   "id": "62e36219-4489-4305-a699-d9a493a09500",
   "metadata": {},
   "outputs": [
    {
     "data": {
      "text/html": [
       "<div>\n",
       "<style scoped>\n",
       "    .dataframe tbody tr th:only-of-type {\n",
       "        vertical-align: middle;\n",
       "    }\n",
       "\n",
       "    .dataframe tbody tr th {\n",
       "        vertical-align: top;\n",
       "    }\n",
       "\n",
       "    .dataframe thead th {\n",
       "        text-align: right;\n",
       "    }\n",
       "</style>\n",
       "<table border=\"1\" class=\"dataframe\">\n",
       "  <thead>\n",
       "    <tr style=\"text-align: right;\">\n",
       "      <th></th>\n",
       "      <th>year</th>\n",
       "      <th>category</th>\n",
       "      <th>laureates</th>\n",
       "    </tr>\n",
       "  </thead>\n",
       "  <tbody>\n",
       "    <tr>\n",
       "      <th>0</th>\n",
       "      <td>2019</td>\n",
       "      <td>chemistry</td>\n",
       "      <td>[{'id': '976', 'firstname': 'John', 'surname':...</td>\n",
       "    </tr>\n",
       "  </tbody>\n",
       "</table>\n",
       "</div>"
      ],
      "text/plain": [
       "   year   category                                          laureates\n",
       "0  2019  chemistry  [{'id': '976', 'firstname': 'John', 'surname':..."
      ]
     },
     "execution_count": 6,
     "metadata": {},
     "output_type": "execute_result"
    }
   ],
   "source": [
    "pd.json_normalize(data=chemistry_2019)"
   ]
  },
  {
   "cell_type": "code",
   "execution_count": 7,
   "id": "71a1985e-aa7a-4db0-bf0d-59a6909bf7d6",
   "metadata": {},
   "outputs": [
    {
     "data": {
      "text/html": [
       "<div>\n",
       "<style scoped>\n",
       "    .dataframe tbody tr th:only-of-type {\n",
       "        vertical-align: middle;\n",
       "    }\n",
       "\n",
       "    .dataframe tbody tr th {\n",
       "        vertical-align: top;\n",
       "    }\n",
       "\n",
       "    .dataframe thead th {\n",
       "        text-align: right;\n",
       "    }\n",
       "</style>\n",
       "<table border=\"1\" class=\"dataframe\">\n",
       "  <thead>\n",
       "    <tr style=\"text-align: right;\">\n",
       "      <th></th>\n",
       "      <th>id</th>\n",
       "      <th>firstname</th>\n",
       "      <th>surname</th>\n",
       "      <th>motivation</th>\n",
       "      <th>share</th>\n",
       "    </tr>\n",
       "  </thead>\n",
       "  <tbody>\n",
       "    <tr>\n",
       "      <th>0</th>\n",
       "      <td>976</td>\n",
       "      <td>John</td>\n",
       "      <td>Goodenough</td>\n",
       "      <td>\"for the development of lithium-ion batteries\"</td>\n",
       "      <td>3</td>\n",
       "    </tr>\n",
       "    <tr>\n",
       "      <th>1</th>\n",
       "      <td>977</td>\n",
       "      <td>M. Stanley</td>\n",
       "      <td>Whittingham</td>\n",
       "      <td>\"for the development of lithium-ion batteries\"</td>\n",
       "      <td>3</td>\n",
       "    </tr>\n",
       "    <tr>\n",
       "      <th>2</th>\n",
       "      <td>978</td>\n",
       "      <td>Akira</td>\n",
       "      <td>Yoshino</td>\n",
       "      <td>\"for the development of lithium-ion batteries\"</td>\n",
       "      <td>3</td>\n",
       "    </tr>\n",
       "  </tbody>\n",
       "</table>\n",
       "</div>"
      ],
      "text/plain": [
       "    id   firstname      surname  \\\n",
       "0  976        John   Goodenough   \n",
       "1  977  M. Stanley  Whittingham   \n",
       "2  978       Akira      Yoshino   \n",
       "\n",
       "                                       motivation share  \n",
       "0  \"for the development of lithium-ion batteries\"     3  \n",
       "1  \"for the development of lithium-ion batteries\"     3  \n",
       "2  \"for the development of lithium-ion batteries\"     3  "
      ]
     },
     "execution_count": 7,
     "metadata": {},
     "output_type": "execute_result"
    }
   ],
   "source": [
    "pd.json_normalize(chemistry_2019, record_path=\"laureates\")"
   ]
  },
  {
   "cell_type": "code",
   "execution_count": 8,
   "id": "b1440f03-1aed-4ac9-8073-3281beff22af",
   "metadata": {},
   "outputs": [
    {
     "data": {
      "text/html": [
       "<div>\n",
       "<style scoped>\n",
       "    .dataframe tbody tr th:only-of-type {\n",
       "        vertical-align: middle;\n",
       "    }\n",
       "\n",
       "    .dataframe tbody tr th {\n",
       "        vertical-align: top;\n",
       "    }\n",
       "\n",
       "    .dataframe thead th {\n",
       "        text-align: right;\n",
       "    }\n",
       "</style>\n",
       "<table border=\"1\" class=\"dataframe\">\n",
       "  <thead>\n",
       "    <tr style=\"text-align: right;\">\n",
       "      <th></th>\n",
       "      <th>id</th>\n",
       "      <th>firstname</th>\n",
       "      <th>surname</th>\n",
       "      <th>motivation</th>\n",
       "      <th>share</th>\n",
       "      <th>year</th>\n",
       "      <th>category</th>\n",
       "    </tr>\n",
       "  </thead>\n",
       "  <tbody>\n",
       "    <tr>\n",
       "      <th>0</th>\n",
       "      <td>976</td>\n",
       "      <td>John</td>\n",
       "      <td>Goodenough</td>\n",
       "      <td>\"for the development of lithium-ion batteries\"</td>\n",
       "      <td>3</td>\n",
       "      <td>2019</td>\n",
       "      <td>chemistry</td>\n",
       "    </tr>\n",
       "    <tr>\n",
       "      <th>1</th>\n",
       "      <td>977</td>\n",
       "      <td>M. Stanley</td>\n",
       "      <td>Whittingham</td>\n",
       "      <td>\"for the development of lithium-ion batteries\"</td>\n",
       "      <td>3</td>\n",
       "      <td>2019</td>\n",
       "      <td>chemistry</td>\n",
       "    </tr>\n",
       "    <tr>\n",
       "      <th>2</th>\n",
       "      <td>978</td>\n",
       "      <td>Akira</td>\n",
       "      <td>Yoshino</td>\n",
       "      <td>\"for the development of lithium-ion batteries\"</td>\n",
       "      <td>3</td>\n",
       "      <td>2019</td>\n",
       "      <td>chemistry</td>\n",
       "    </tr>\n",
       "  </tbody>\n",
       "</table>\n",
       "</div>"
      ],
      "text/plain": [
       "    id   firstname      surname  \\\n",
       "0  976        John   Goodenough   \n",
       "1  977  M. Stanley  Whittingham   \n",
       "2  978       Akira      Yoshino   \n",
       "\n",
       "                                       motivation share  year   category  \n",
       "0  \"for the development of lithium-ion batteries\"     3  2019  chemistry  \n",
       "1  \"for the development of lithium-ion batteries\"     3  2019  chemistry  \n",
       "2  \"for the development of lithium-ion batteries\"     3  2019  chemistry  "
      ]
     },
     "execution_count": 8,
     "metadata": {},
     "output_type": "execute_result"
    }
   ],
   "source": [
    "pd.json_normalize(chemistry_2019, record_path=\"laureates\", meta=[\"year\", \"category\"])"
   ]
  },
  {
   "cell_type": "code",
   "execution_count": 9,
   "id": "b5dc053e-03dd-4f07-b34b-e9974c5b5662",
   "metadata": {},
   "outputs": [],
   "source": [
    "# KeyError: \"Key 'laureates' not found. If specifying a record_path, all elements of data should have the path.\"\n",
    "# pd.json_normalize(\n",
    "#     data = nobel[\"prizes\"],\n",
    "#     record_path = \"laureates\",\n",
    "#     meta = [\"year\", \"category\"]\n",
    "# )"
   ]
  },
  {
   "cell_type": "markdown",
   "id": "f9a6c3b5-c1ee-4048-a8c6-a2a8942d6d9c",
   "metadata": {},
   "source": [
    "* 딕셔너리 setdefault() 메서드"
   ]
  },
  {
   "cell_type": "code",
   "execution_count": 10,
   "id": "0fbce089-4fba-4779-99f7-3fac00807709",
   "metadata": {},
   "outputs": [],
   "source": [
    "cheese_consumption = {\n",
    "    \"France\": 57.9,\n",
    "    \"Germany\": 53.2,\n",
    "    \"Luxembourg\": 53.2\n",
    "}"
   ]
  },
  {
   "cell_type": "code",
   "execution_count": 11,
   "id": "b5fbc20a-013a-4b32-97c8-504ada011fc9",
   "metadata": {},
   "outputs": [
    {
     "data": {
      "text/plain": [
       "57.9"
      ]
     },
     "execution_count": 11,
     "metadata": {},
     "output_type": "execute_result"
    }
   ],
   "source": [
    "cheese_consumption.setdefault(\"France\", 100)"
   ]
  },
  {
   "cell_type": "code",
   "execution_count": 12,
   "id": "b6ed64f5-658c-403e-8850-a4dfaa40b8a0",
   "metadata": {},
   "outputs": [
    {
     "data": {
      "text/plain": [
       "48"
      ]
     },
     "execution_count": 12,
     "metadata": {},
     "output_type": "execute_result"
    }
   ],
   "source": [
    "cheese_consumption.setdefault(\"Italy\", 48)"
   ]
  },
  {
   "cell_type": "code",
   "execution_count": 13,
   "id": "236cb5dd-da2c-4b01-bf7c-e95b29def8e5",
   "metadata": {},
   "outputs": [
    {
     "data": {
      "text/plain": [
       "{'France': 57.9, 'Germany': 53.2, 'Luxembourg': 53.2, 'Italy': 48}"
      ]
     },
     "execution_count": 13,
     "metadata": {},
     "output_type": "execute_result"
    }
   ],
   "source": [
    "cheese_consumption"
   ]
  },
  {
   "cell_type": "markdown",
   "id": "607da304-76a4-4fe7-814c-50c862fb0efe",
   "metadata": {},
   "source": [
    "* prizes Series에서 laureates 키가 없는 행에 laureates 추가"
   ]
  },
  {
   "cell_type": "code",
   "execution_count": 14,
   "id": "c829b969-4b2a-40ad-b7d4-2d89fe02bae6",
   "metadata": {},
   "outputs": [
    {
     "data": {
      "text/plain": [
       "0      None\n",
       "1      None\n",
       "2      None\n",
       "3      None\n",
       "4      None\n",
       "       ... \n",
       "641    None\n",
       "642    None\n",
       "643    None\n",
       "644    None\n",
       "645    None\n",
       "Name: prizes, Length: 646, dtype: object"
      ]
     },
     "execution_count": 14,
     "metadata": {},
     "output_type": "execute_result"
    }
   ],
   "source": [
    "def add_laureates_key(entry):\n",
    "    entry.setdefault(\"laureates\", [])\n",
    "\n",
    "nobel[\"prizes\"].apply(add_laureates_key)"
   ]
  },
  {
   "cell_type": "code",
   "execution_count": 15,
   "id": "4f1dbf21-5eec-4322-94ef-b359339e1e7b",
   "metadata": {},
   "outputs": [
    {
     "data": {
      "text/html": [
       "<div>\n",
       "<style scoped>\n",
       "    .dataframe tbody tr th:only-of-type {\n",
       "        vertical-align: middle;\n",
       "    }\n",
       "\n",
       "    .dataframe tbody tr th {\n",
       "        vertical-align: top;\n",
       "    }\n",
       "\n",
       "    .dataframe thead th {\n",
       "        text-align: right;\n",
       "    }\n",
       "</style>\n",
       "<table border=\"1\" class=\"dataframe\">\n",
       "  <thead>\n",
       "    <tr style=\"text-align: right;\">\n",
       "      <th></th>\n",
       "      <th>id</th>\n",
       "      <th>firstname</th>\n",
       "      <th>surname</th>\n",
       "      <th>motivation</th>\n",
       "      <th>share</th>\n",
       "      <th>year</th>\n",
       "      <th>category</th>\n",
       "    </tr>\n",
       "  </thead>\n",
       "  <tbody>\n",
       "    <tr>\n",
       "      <th>0</th>\n",
       "      <td>976</td>\n",
       "      <td>John</td>\n",
       "      <td>Goodenough</td>\n",
       "      <td>\"for the development of lithium-ion batteries\"</td>\n",
       "      <td>3</td>\n",
       "      <td>2019</td>\n",
       "      <td>chemistry</td>\n",
       "    </tr>\n",
       "    <tr>\n",
       "      <th>1</th>\n",
       "      <td>977</td>\n",
       "      <td>M. Stanley</td>\n",
       "      <td>Whittingham</td>\n",
       "      <td>\"for the development of lithium-ion batteries\"</td>\n",
       "      <td>3</td>\n",
       "      <td>2019</td>\n",
       "      <td>chemistry</td>\n",
       "    </tr>\n",
       "    <tr>\n",
       "      <th>2</th>\n",
       "      <td>978</td>\n",
       "      <td>Akira</td>\n",
       "      <td>Yoshino</td>\n",
       "      <td>\"for the development of lithium-ion batteries\"</td>\n",
       "      <td>3</td>\n",
       "      <td>2019</td>\n",
       "      <td>chemistry</td>\n",
       "    </tr>\n",
       "    <tr>\n",
       "      <th>3</th>\n",
       "      <td>982</td>\n",
       "      <td>Abhijit</td>\n",
       "      <td>Banerjee</td>\n",
       "      <td>\"for their experimental approach to alleviatin...</td>\n",
       "      <td>3</td>\n",
       "      <td>2019</td>\n",
       "      <td>economics</td>\n",
       "    </tr>\n",
       "    <tr>\n",
       "      <th>4</th>\n",
       "      <td>983</td>\n",
       "      <td>Esther</td>\n",
       "      <td>Duflo</td>\n",
       "      <td>\"for their experimental approach to alleviatin...</td>\n",
       "      <td>3</td>\n",
       "      <td>2019</td>\n",
       "      <td>economics</td>\n",
       "    </tr>\n",
       "    <tr>\n",
       "      <th>...</th>\n",
       "      <td>...</td>\n",
       "      <td>...</td>\n",
       "      <td>...</td>\n",
       "      <td>...</td>\n",
       "      <td>...</td>\n",
       "      <td>...</td>\n",
       "      <td>...</td>\n",
       "    </tr>\n",
       "    <tr>\n",
       "      <th>945</th>\n",
       "      <td>569</td>\n",
       "      <td>Sully</td>\n",
       "      <td>Prudhomme</td>\n",
       "      <td>\"in special recognition of his poetic composit...</td>\n",
       "      <td>1</td>\n",
       "      <td>1901</td>\n",
       "      <td>literature</td>\n",
       "    </tr>\n",
       "    <tr>\n",
       "      <th>946</th>\n",
       "      <td>462</td>\n",
       "      <td>Henry</td>\n",
       "      <td>Dunant</td>\n",
       "      <td>\"for his humanitarian efforts to help wounded ...</td>\n",
       "      <td>2</td>\n",
       "      <td>1901</td>\n",
       "      <td>peace</td>\n",
       "    </tr>\n",
       "    <tr>\n",
       "      <th>947</th>\n",
       "      <td>463</td>\n",
       "      <td>Frédéric</td>\n",
       "      <td>Passy</td>\n",
       "      <td>\"for his lifelong work for international peace...</td>\n",
       "      <td>2</td>\n",
       "      <td>1901</td>\n",
       "      <td>peace</td>\n",
       "    </tr>\n",
       "    <tr>\n",
       "      <th>948</th>\n",
       "      <td>1</td>\n",
       "      <td>Wilhelm Conrad</td>\n",
       "      <td>Röntgen</td>\n",
       "      <td>\"in recognition of the extraordinary services ...</td>\n",
       "      <td>1</td>\n",
       "      <td>1901</td>\n",
       "      <td>physics</td>\n",
       "    </tr>\n",
       "    <tr>\n",
       "      <th>949</th>\n",
       "      <td>293</td>\n",
       "      <td>Emil</td>\n",
       "      <td>von Behring</td>\n",
       "      <td>\"for his work on serum therapy, especially its...</td>\n",
       "      <td>1</td>\n",
       "      <td>1901</td>\n",
       "      <td>medicine</td>\n",
       "    </tr>\n",
       "  </tbody>\n",
       "</table>\n",
       "<p>950 rows × 7 columns</p>\n",
       "</div>"
      ],
      "text/plain": [
       "      id       firstname      surname  \\\n",
       "0    976            John   Goodenough   \n",
       "1    977      M. Stanley  Whittingham   \n",
       "2    978           Akira      Yoshino   \n",
       "3    982         Abhijit     Banerjee   \n",
       "4    983          Esther        Duflo   \n",
       "..   ...             ...          ...   \n",
       "945  569           Sully    Prudhomme   \n",
       "946  462           Henry       Dunant   \n",
       "947  463        Frédéric        Passy   \n",
       "948    1  Wilhelm Conrad      Röntgen   \n",
       "949  293            Emil  von Behring   \n",
       "\n",
       "                                            motivation share  year    category  \n",
       "0       \"for the development of lithium-ion batteries\"     3  2019   chemistry  \n",
       "1       \"for the development of lithium-ion batteries\"     3  2019   chemistry  \n",
       "2       \"for the development of lithium-ion batteries\"     3  2019   chemistry  \n",
       "3    \"for their experimental approach to alleviatin...     3  2019   economics  \n",
       "4    \"for their experimental approach to alleviatin...     3  2019   economics  \n",
       "..                                                 ...   ...   ...         ...  \n",
       "945  \"in special recognition of his poetic composit...     1  1901  literature  \n",
       "946  \"for his humanitarian efforts to help wounded ...     2  1901       peace  \n",
       "947  \"for his lifelong work for international peace...     2  1901       peace  \n",
       "948  \"in recognition of the extraordinary services ...     1  1901     physics  \n",
       "949  \"for his work on serum therapy, especially its...     1  1901    medicine  \n",
       "\n",
       "[950 rows x 7 columns]"
      ]
     },
     "execution_count": 15,
     "metadata": {},
     "output_type": "execute_result"
    }
   ],
   "source": [
    "winners = pd.json_normalize(\n",
    "    data = nobel[\"prizes\"],\n",
    "    record_path = \"laureates\",\n",
    "    meta = [\"year\", \"category\"]\n",
    ")\n",
    "winners"
   ]
  },
  {
   "cell_type": "markdown",
   "id": "a729d280-d1d7-4aab-8951-8b4f1cad5ef9",
   "metadata": {},
   "source": [
    "#### 12.1.2 DataFrame을 JSON 파일로 내보내기"
   ]
  },
  {
   "cell_type": "code",
   "execution_count": 16,
   "id": "2b150d7d-421a-43e9-8978-78a66f7aee76",
   "metadata": {},
   "outputs": [
    {
     "data": {
      "text/html": [
       "<div>\n",
       "<style scoped>\n",
       "    .dataframe tbody tr th:only-of-type {\n",
       "        vertical-align: middle;\n",
       "    }\n",
       "\n",
       "    .dataframe tbody tr th {\n",
       "        vertical-align: top;\n",
       "    }\n",
       "\n",
       "    .dataframe thead th {\n",
       "        text-align: right;\n",
       "    }\n",
       "</style>\n",
       "<table border=\"1\" class=\"dataframe\">\n",
       "  <thead>\n",
       "    <tr style=\"text-align: right;\">\n",
       "      <th></th>\n",
       "      <th>id</th>\n",
       "      <th>firstname</th>\n",
       "      <th>surname</th>\n",
       "      <th>motivation</th>\n",
       "      <th>share</th>\n",
       "      <th>year</th>\n",
       "      <th>category</th>\n",
       "    </tr>\n",
       "  </thead>\n",
       "  <tbody>\n",
       "    <tr>\n",
       "      <th>0</th>\n",
       "      <td>976</td>\n",
       "      <td>John</td>\n",
       "      <td>Goodenough</td>\n",
       "      <td>\"for the development of lithium-ion batteries\"</td>\n",
       "      <td>3</td>\n",
       "      <td>2019</td>\n",
       "      <td>chemistry</td>\n",
       "    </tr>\n",
       "    <tr>\n",
       "      <th>1</th>\n",
       "      <td>977</td>\n",
       "      <td>M. Stanley</td>\n",
       "      <td>Whittingham</td>\n",
       "      <td>\"for the development of lithium-ion batteries\"</td>\n",
       "      <td>3</td>\n",
       "      <td>2019</td>\n",
       "      <td>chemistry</td>\n",
       "    </tr>\n",
       "  </tbody>\n",
       "</table>\n",
       "</div>"
      ],
      "text/plain": [
       "    id   firstname      surname  \\\n",
       "0  976        John   Goodenough   \n",
       "1  977  M. Stanley  Whittingham   \n",
       "\n",
       "                                       motivation share  year   category  \n",
       "0  \"for the development of lithium-ion batteries\"     3  2019  chemistry  \n",
       "1  \"for the development of lithium-ion batteries\"     3  2019  chemistry  "
      ]
     },
     "execution_count": 16,
     "metadata": {},
     "output_type": "execute_result"
    }
   ],
   "source": [
    "winners.head(2)"
   ]
  },
  {
   "cell_type": "code",
   "execution_count": 17,
   "id": "752049b6-2153-4235-aa37-cfac5f0ea114",
   "metadata": {},
   "outputs": [
    {
     "data": {
      "text/plain": [
       "'[{\"id\":\"976\",\"firstname\":\"John\",\"surname\":\"Goodenough\",\"motivation\":\"\\\\\"for the development of lithium-ion batteries\\\\\"\",\"share\":\"3\",\"year\":\"2019\",\"category\":\"chemistry\"},{\"id\":\"977\",\"firstname\":\"M. Stanley\",\"surname\":\"Whittingham\",\"motivation\":\"\\\\\"for the development of lithium-ion batteries\\\\\"\",\"share\":\"3\",\"year\":\"2019\",\"category\":\"chemistry\"}]'"
      ]
     },
     "execution_count": 17,
     "metadata": {},
     "output_type": "execute_result"
    }
   ],
   "source": [
    "# 파일 생성 전 미리 출력 확인\n",
    "winners.head(2).to_json(orient=\"records\")"
   ]
  },
  {
   "cell_type": "code",
   "execution_count": 18,
   "id": "d596a977-0475-411e-b3b2-c9521b30232d",
   "metadata": {},
   "outputs": [],
   "source": [
    "winners.to_json(\"winners.json\", orient=\"records\")"
   ]
  },
  {
   "cell_type": "markdown",
   "id": "9a6f8ac5-f5d0-48f5-90ea-d5c69d702a64",
   "metadata": {},
   "source": [
    "## 12.2 CSV 파일 읽고 쓰기"
   ]
  },
  {
   "cell_type": "code",
   "execution_count": 19,
   "id": "8010d429-8bc6-431c-a880-075a52d61fed",
   "metadata": {},
   "outputs": [
    {
     "data": {
      "text/html": [
       "<div>\n",
       "<style scoped>\n",
       "    .dataframe tbody tr th:only-of-type {\n",
       "        vertical-align: middle;\n",
       "    }\n",
       "\n",
       "    .dataframe tbody tr th {\n",
       "        vertical-align: top;\n",
       "    }\n",
       "\n",
       "    .dataframe thead th {\n",
       "        text-align: right;\n",
       "    }\n",
       "</style>\n",
       "<table border=\"1\" class=\"dataframe\">\n",
       "  <thead>\n",
       "    <tr style=\"text-align: right;\">\n",
       "      <th></th>\n",
       "      <th>Year of Birth</th>\n",
       "      <th>Gender</th>\n",
       "      <th>Ethnicity</th>\n",
       "      <th>Child's First Name</th>\n",
       "      <th>Count</th>\n",
       "      <th>Rank</th>\n",
       "    </tr>\n",
       "  </thead>\n",
       "  <tbody>\n",
       "    <tr>\n",
       "      <th>0</th>\n",
       "      <td>2011</td>\n",
       "      <td>FEMALE</td>\n",
       "      <td>HISPANIC</td>\n",
       "      <td>GERALDINE</td>\n",
       "      <td>13</td>\n",
       "      <td>75</td>\n",
       "    </tr>\n",
       "    <tr>\n",
       "      <th>1</th>\n",
       "      <td>2011</td>\n",
       "      <td>FEMALE</td>\n",
       "      <td>HISPANIC</td>\n",
       "      <td>GIA</td>\n",
       "      <td>21</td>\n",
       "      <td>67</td>\n",
       "    </tr>\n",
       "    <tr>\n",
       "      <th>2</th>\n",
       "      <td>2011</td>\n",
       "      <td>FEMALE</td>\n",
       "      <td>HISPANIC</td>\n",
       "      <td>GIANNA</td>\n",
       "      <td>49</td>\n",
       "      <td>42</td>\n",
       "    </tr>\n",
       "    <tr>\n",
       "      <th>3</th>\n",
       "      <td>2011</td>\n",
       "      <td>FEMALE</td>\n",
       "      <td>HISPANIC</td>\n",
       "      <td>GISELLE</td>\n",
       "      <td>38</td>\n",
       "      <td>51</td>\n",
       "    </tr>\n",
       "    <tr>\n",
       "      <th>4</th>\n",
       "      <td>2011</td>\n",
       "      <td>FEMALE</td>\n",
       "      <td>HISPANIC</td>\n",
       "      <td>GRACE</td>\n",
       "      <td>36</td>\n",
       "      <td>53</td>\n",
       "    </tr>\n",
       "  </tbody>\n",
       "</table>\n",
       "</div>"
      ],
      "text/plain": [
       "   Year of Birth  Gender Ethnicity Child's First Name  Count  Rank\n",
       "0           2011  FEMALE  HISPANIC          GERALDINE     13    75\n",
       "1           2011  FEMALE  HISPANIC                GIA     21    67\n",
       "2           2011  FEMALE  HISPANIC             GIANNA     49    42\n",
       "3           2011  FEMALE  HISPANIC            GISELLE     38    51\n",
       "4           2011  FEMALE  HISPANIC              GRACE     36    53"
      ]
     },
     "execution_count": 19,
     "metadata": {},
     "output_type": "execute_result"
    }
   ],
   "source": [
    "url = \"https://data.cityofnewyork.us/api/views/25th-nujf/rows.csv\"\n",
    "baby_names = pd.read_csv(url)\n",
    "baby_names.head()"
   ]
  },
  {
   "cell_type": "code",
   "execution_count": 20,
   "id": "1d31987d-bbb5-44c5-bc67-ef6eff64e397",
   "metadata": {},
   "outputs": [
    {
     "data": {
      "text/plain": [
       "\",Year of Birth,Gender,Ethnicity,Child's First Name,Count,Rank\\r\\n0,2011,FEMALE,HISPANIC,GERALDINE,13,75\\r\\n1,2011,FEMALE,HISPANIC,GIA,21,67\\r\\n2,2011,FEMALE,HISPANIC,GIANNA,49,42\\r\\n3,2011,FEMALE,HISPANIC,GISELLE,38,51\\r\\n4,2011,FEMALE,HISPANIC,GRACE,36,53\\r\\n5,2011,FEMALE,HISPANIC,GUADALUPE,26,62\\r\\n6,2011,FEMALE,HISPANIC,HAILEY,126,8\\r\\n7,2011,FEMALE,HISPANIC,HALEY,14,74\\r\\n8,2011,FEMALE,HISPANIC,HANNAH,17,71\\r\\n9,2011,FEMALE,HISPANIC,HAYLEE,17,71\\r\\n\""
      ]
     },
     "execution_count": 20,
     "metadata": {},
     "output_type": "execute_result"
    }
   ],
   "source": [
    "# 파일 생성 전 미리 출력 확인\n",
    "baby_names.head(10).to_csv()"
   ]
  },
  {
   "cell_type": "code",
   "execution_count": 21,
   "id": "2aa1fd01-18c1-4cc2-89e9-bda4618bfe9e",
   "metadata": {},
   "outputs": [
    {
     "data": {
      "text/plain": [
       "\"Year of Birth,Gender,Ethnicity,Child's First Name,Count,Rank\\r\\n2011,FEMALE,HISPANIC,GERALDINE,13,75\\r\\n2011,FEMALE,HISPANIC,GIA,21,67\\r\\n2011,FEMALE,HISPANIC,GIANNA,49,42\\r\\n2011,FEMALE,HISPANIC,GISELLE,38,51\\r\\n2011,FEMALE,HISPANIC,GRACE,36,53\\r\\n2011,FEMALE,HISPANIC,GUADALUPE,26,62\\r\\n2011,FEMALE,HISPANIC,HAILEY,126,8\\r\\n2011,FEMALE,HISPANIC,HALEY,14,74\\r\\n2011,FEMALE,HISPANIC,HANNAH,17,71\\r\\n2011,FEMALE,HISPANIC,HAYLEE,17,71\\r\\n\""
      ]
     },
     "execution_count": 21,
     "metadata": {},
     "output_type": "execute_result"
    }
   ],
   "source": [
    "# 출력값에서 인덱스 제외\n",
    "baby_names.head(10).to_csv(index=False)"
   ]
  },
  {
   "cell_type": "code",
   "execution_count": 22,
   "id": "f9e3eed0-b69e-4ac7-87c5-17f7bb9114f5",
   "metadata": {},
   "outputs": [],
   "source": [
    "baby_names.to_csv(\"NYC_Baby_Names.csv\", index = False)"
   ]
  },
  {
   "cell_type": "code",
   "execution_count": 23,
   "id": "0f81e389-e46e-4dcc-bfed-5caf0dd656f1",
   "metadata": {},
   "outputs": [],
   "source": [
    "baby_names.to_csv(\"NYC_Baby_Names_.csv\", index = False, columns = [\"Gender\", \"Child's First Name\", \"Count\"])"
   ]
  },
  {
   "cell_type": "markdown",
   "id": "c6c60bbc-df11-42c6-a788-21d22f67b230",
   "metadata": {},
   "source": [
    "## 12.3 엑셀 통합문서에 읽고 쓰기"
   ]
  },
  {
   "cell_type": "code",
   "execution_count": 24,
   "id": "d7a64c3a-3df4-4acf-9bd9-2de0353a30a5",
   "metadata": {},
   "outputs": [
    {
     "data": {
      "text/html": [
       "<div>\n",
       "<style scoped>\n",
       "    .dataframe tbody tr th:only-of-type {\n",
       "        vertical-align: middle;\n",
       "    }\n",
       "\n",
       "    .dataframe tbody tr th {\n",
       "        vertical-align: top;\n",
       "    }\n",
       "\n",
       "    .dataframe thead th {\n",
       "        text-align: right;\n",
       "    }\n",
       "</style>\n",
       "<table border=\"1\" class=\"dataframe\">\n",
       "  <thead>\n",
       "    <tr style=\"text-align: right;\">\n",
       "      <th></th>\n",
       "      <th>First Name</th>\n",
       "      <th>Last Name</th>\n",
       "      <th>City</th>\n",
       "      <th>Gender</th>\n",
       "    </tr>\n",
       "  </thead>\n",
       "  <tbody>\n",
       "    <tr>\n",
       "      <th>0</th>\n",
       "      <td>Brandon</td>\n",
       "      <td>James</td>\n",
       "      <td>Miami</td>\n",
       "      <td>M</td>\n",
       "    </tr>\n",
       "    <tr>\n",
       "      <th>1</th>\n",
       "      <td>Sean</td>\n",
       "      <td>Hawkins</td>\n",
       "      <td>Denver</td>\n",
       "      <td>M</td>\n",
       "    </tr>\n",
       "    <tr>\n",
       "      <th>2</th>\n",
       "      <td>Judy</td>\n",
       "      <td>Day</td>\n",
       "      <td>Los Angeles</td>\n",
       "      <td>F</td>\n",
       "    </tr>\n",
       "    <tr>\n",
       "      <th>3</th>\n",
       "      <td>Ashley</td>\n",
       "      <td>Ruiz</td>\n",
       "      <td>San Francisco</td>\n",
       "      <td>F</td>\n",
       "    </tr>\n",
       "    <tr>\n",
       "      <th>4</th>\n",
       "      <td>Stephanie</td>\n",
       "      <td>Gomez</td>\n",
       "      <td>Portland</td>\n",
       "      <td>F</td>\n",
       "    </tr>\n",
       "  </tbody>\n",
       "</table>\n",
       "</div>"
      ],
      "text/plain": [
       "  First Name Last Name           City Gender\n",
       "0    Brandon     James          Miami      M\n",
       "1       Sean   Hawkins         Denver      M\n",
       "2       Judy       Day    Los Angeles      F\n",
       "3     Ashley      Ruiz  San Francisco      F\n",
       "4  Stephanie     Gomez       Portland      F"
      ]
     },
     "execution_count": 24,
     "metadata": {},
     "output_type": "execute_result"
    }
   ],
   "source": [
    "pd.read_excel(\"../../DATA/Single Worksheet.xlsx\")"
   ]
  },
  {
   "cell_type": "code",
   "execution_count": 25,
   "id": "ffcf2aeb-d292-487c-9075-d02c4babb5d0",
   "metadata": {},
   "outputs": [
    {
     "data": {
      "text/html": [
       "<div>\n",
       "<style scoped>\n",
       "    .dataframe tbody tr th:only-of-type {\n",
       "        vertical-align: middle;\n",
       "    }\n",
       "\n",
       "    .dataframe tbody tr th {\n",
       "        vertical-align: top;\n",
       "    }\n",
       "\n",
       "    .dataframe thead th {\n",
       "        text-align: right;\n",
       "    }\n",
       "</style>\n",
       "<table border=\"1\" class=\"dataframe\">\n",
       "  <thead>\n",
       "    <tr style=\"text-align: right;\">\n",
       "      <th></th>\n",
       "      <th>First Name</th>\n",
       "      <th>Last Name</th>\n",
       "    </tr>\n",
       "    <tr>\n",
       "      <th>City</th>\n",
       "      <th></th>\n",
       "      <th></th>\n",
       "    </tr>\n",
       "  </thead>\n",
       "  <tbody>\n",
       "    <tr>\n",
       "      <th>Miami</th>\n",
       "      <td>Brandon</td>\n",
       "      <td>James</td>\n",
       "    </tr>\n",
       "    <tr>\n",
       "      <th>Denver</th>\n",
       "      <td>Sean</td>\n",
       "      <td>Hawkins</td>\n",
       "    </tr>\n",
       "    <tr>\n",
       "      <th>Los Angeles</th>\n",
       "      <td>Judy</td>\n",
       "      <td>Day</td>\n",
       "    </tr>\n",
       "    <tr>\n",
       "      <th>San Francisco</th>\n",
       "      <td>Ashley</td>\n",
       "      <td>Ruiz</td>\n",
       "    </tr>\n",
       "    <tr>\n",
       "      <th>Portland</th>\n",
       "      <td>Stephanie</td>\n",
       "      <td>Gomez</td>\n",
       "    </tr>\n",
       "  </tbody>\n",
       "</table>\n",
       "</div>"
      ],
      "text/plain": [
       "              First Name Last Name\n",
       "City                              \n",
       "Miami            Brandon     James\n",
       "Denver              Sean   Hawkins\n",
       "Los Angeles         Judy       Day\n",
       "San Francisco     Ashley      Ruiz\n",
       "Portland       Stephanie     Gomez"
      ]
     },
     "execution_count": 25,
     "metadata": {},
     "output_type": "execute_result"
    }
   ],
   "source": [
    "pd.read_excel(io=\"../../DATA/Single Worksheet.xlsx\",\n",
    "             usecols=[\"City\", \"First Name\", \"Last Name\"],\n",
    "             index_col=\"City\")"
   ]
  },
  {
   "cell_type": "code",
   "execution_count": 26,
   "id": "a7163839-866e-48bd-ad6b-84a44cc7a7bf",
   "metadata": {},
   "outputs": [
    {
     "data": {
      "text/html": [
       "<div>\n",
       "<style scoped>\n",
       "    .dataframe tbody tr th:only-of-type {\n",
       "        vertical-align: middle;\n",
       "    }\n",
       "\n",
       "    .dataframe tbody tr th {\n",
       "        vertical-align: top;\n",
       "    }\n",
       "\n",
       "    .dataframe thead th {\n",
       "        text-align: right;\n",
       "    }\n",
       "</style>\n",
       "<table border=\"1\" class=\"dataframe\">\n",
       "  <thead>\n",
       "    <tr style=\"text-align: right;\">\n",
       "      <th></th>\n",
       "      <th>First Name</th>\n",
       "      <th>Last Name</th>\n",
       "      <th>City</th>\n",
       "      <th>Gender</th>\n",
       "    </tr>\n",
       "  </thead>\n",
       "  <tbody>\n",
       "    <tr>\n",
       "      <th>0</th>\n",
       "      <td>Brandon</td>\n",
       "      <td>James</td>\n",
       "      <td>Miami</td>\n",
       "      <td>M</td>\n",
       "    </tr>\n",
       "    <tr>\n",
       "      <th>1</th>\n",
       "      <td>Sean</td>\n",
       "      <td>Hawkins</td>\n",
       "      <td>Denver</td>\n",
       "      <td>M</td>\n",
       "    </tr>\n",
       "    <tr>\n",
       "      <th>2</th>\n",
       "      <td>Judy</td>\n",
       "      <td>Day</td>\n",
       "      <td>Los Angeles</td>\n",
       "      <td>F</td>\n",
       "    </tr>\n",
       "    <tr>\n",
       "      <th>3</th>\n",
       "      <td>Ashley</td>\n",
       "      <td>Ruiz</td>\n",
       "      <td>San Francisco</td>\n",
       "      <td>F</td>\n",
       "    </tr>\n",
       "    <tr>\n",
       "      <th>4</th>\n",
       "      <td>Stephanie</td>\n",
       "      <td>Gomez</td>\n",
       "      <td>Portland</td>\n",
       "      <td>F</td>\n",
       "    </tr>\n",
       "  </tbody>\n",
       "</table>\n",
       "</div>"
      ],
      "text/plain": [
       "  First Name Last Name           City Gender\n",
       "0    Brandon     James          Miami      M\n",
       "1       Sean   Hawkins         Denver      M\n",
       "2       Judy       Day    Los Angeles      F\n",
       "3     Ashley      Ruiz  San Francisco      F\n",
       "4  Stephanie     Gomez       Portland      F"
      ]
     },
     "execution_count": 26,
     "metadata": {},
     "output_type": "execute_result"
    }
   ],
   "source": [
    "pd.read_excel(\"../../DATA/Multiple Worksheets.xlsx\",)"
   ]
  },
  {
   "cell_type": "code",
   "execution_count": 27,
   "id": "89132c9a-a802-47b8-9c40-bfbee928862c",
   "metadata": {},
   "outputs": [
    {
     "data": {
      "text/plain": [
       "{'Data 1':   First Name Last Name           City Gender\n",
       " 0    Brandon     James          Miami      M\n",
       " 1       Sean   Hawkins         Denver      M\n",
       " 2       Judy       Day    Los Angeles      F\n",
       " 3     Ashley      Ruiz  San Francisco      F\n",
       " 4  Stephanie     Gomez       Portland      F,\n",
       " 'Data 2':   First Name Last Name           City Gender\n",
       " 0     Parker     Power        Raleigh      F\n",
       " 1    Preston  Prescott   Philadelphia      F\n",
       " 2    Ronaldo   Donaldo         Bangor      M\n",
       " 3      Megan   Stiller  San Francisco      M\n",
       " 4     Bustin    Jieber         Austin      F,\n",
       " 'Data 3':   First Name  Last Name     City Gender\n",
       " 0     Robert     Miller  Seattle      M\n",
       " 1       Tara     Garcia  Phoenix      F\n",
       " 2    Raphael  Rodriguez  Orlando      M}"
      ]
     },
     "execution_count": 27,
     "metadata": {},
     "output_type": "execute_result"
    }
   ],
   "source": [
    "# 모든 워크시트 가져오기 - None (결과 : dict)\n",
    "workbook = pd.read_excel(\"../../DATA/Multiple Worksheets.xlsx\", sheet_name=None)\n",
    "workbook"
   ]
  },
  {
   "cell_type": "code",
   "execution_count": 28,
   "id": "19b0019e-0ab8-4757-838e-8ab7e8d25b1f",
   "metadata": {},
   "outputs": [
    {
     "data": {
      "text/plain": [
       "dict"
      ]
     },
     "execution_count": 28,
     "metadata": {},
     "output_type": "execute_result"
    }
   ],
   "source": [
    "type(workbook)"
   ]
  },
  {
   "cell_type": "code",
   "execution_count": 29,
   "id": "204d8d09-a481-422d-a8d4-9f8a01387ac6",
   "metadata": {},
   "outputs": [
    {
     "data": {
      "text/html": [
       "<div>\n",
       "<style scoped>\n",
       "    .dataframe tbody tr th:only-of-type {\n",
       "        vertical-align: middle;\n",
       "    }\n",
       "\n",
       "    .dataframe tbody tr th {\n",
       "        vertical-align: top;\n",
       "    }\n",
       "\n",
       "    .dataframe thead th {\n",
       "        text-align: right;\n",
       "    }\n",
       "</style>\n",
       "<table border=\"1\" class=\"dataframe\">\n",
       "  <thead>\n",
       "    <tr style=\"text-align: right;\">\n",
       "      <th></th>\n",
       "      <th>First Name</th>\n",
       "      <th>Last Name</th>\n",
       "      <th>City</th>\n",
       "      <th>Gender</th>\n",
       "    </tr>\n",
       "  </thead>\n",
       "  <tbody>\n",
       "    <tr>\n",
       "      <th>0</th>\n",
       "      <td>Robert</td>\n",
       "      <td>Miller</td>\n",
       "      <td>Seattle</td>\n",
       "      <td>M</td>\n",
       "    </tr>\n",
       "    <tr>\n",
       "      <th>1</th>\n",
       "      <td>Tara</td>\n",
       "      <td>Garcia</td>\n",
       "      <td>Phoenix</td>\n",
       "      <td>F</td>\n",
       "    </tr>\n",
       "    <tr>\n",
       "      <th>2</th>\n",
       "      <td>Raphael</td>\n",
       "      <td>Rodriguez</td>\n",
       "      <td>Orlando</td>\n",
       "      <td>M</td>\n",
       "    </tr>\n",
       "  </tbody>\n",
       "</table>\n",
       "</div>"
      ],
      "text/plain": [
       "  First Name  Last Name     City Gender\n",
       "0     Robert     Miller  Seattle      M\n",
       "1       Tara     Garcia  Phoenix      F\n",
       "2    Raphael  Rodriguez  Orlando      M"
      ]
     },
     "execution_count": 29,
     "metadata": {},
     "output_type": "execute_result"
    }
   ],
   "source": [
    "workbook['Data 3']"
   ]
  },
  {
   "cell_type": "code",
   "execution_count": 30,
   "id": "df98b00a-af91-4af4-a4ef-4f566d529af6",
   "metadata": {},
   "outputs": [
    {
     "data": {
      "text/plain": [
       "{'Data 1':   First Name Last Name           City Gender\n",
       " 0    Brandon     James          Miami      M\n",
       " 1       Sean   Hawkins         Denver      M\n",
       " 2       Judy       Day    Los Angeles      F\n",
       " 3     Ashley      Ruiz  San Francisco      F\n",
       " 4  Stephanie     Gomez       Portland      F,\n",
       " 'Data 3':   First Name  Last Name     City Gender\n",
       " 0     Robert     Miller  Seattle      M\n",
       " 1       Tara     Garcia  Phoenix      F\n",
       " 2    Raphael  Rodriguez  Orlando      M}"
      ]
     },
     "execution_count": 30,
     "metadata": {},
     "output_type": "execute_result"
    }
   ],
   "source": [
    "# 'Data 1', 'Data 3' 워크시트 가져오기 - 라벨로 (결과 : dict)\n",
    "pd.read_excel(\"../../DATA/Multiple Worksheets.xlsx\", sheet_name=['Data 1', 'Data 3'])"
   ]
  },
  {
   "cell_type": "code",
   "execution_count": 31,
   "id": "dec72f97-6816-4ea2-a2fb-3c2bfdd2b4a0",
   "metadata": {},
   "outputs": [
    {
     "data": {
      "text/plain": [
       "{0:   First Name Last Name           City Gender\n",
       " 0    Brandon     James          Miami      M\n",
       " 1       Sean   Hawkins         Denver      M\n",
       " 2       Judy       Day    Los Angeles      F\n",
       " 3     Ashley      Ruiz  San Francisco      F\n",
       " 4  Stephanie     Gomez       Portland      F,\n",
       " 2:   First Name  Last Name     City Gender\n",
       " 0     Robert     Miller  Seattle      M\n",
       " 1       Tara     Garcia  Phoenix      F\n",
       " 2    Raphael  Rodriguez  Orlando      M}"
      ]
     },
     "execution_count": 31,
     "metadata": {},
     "output_type": "execute_result"
    }
   ],
   "source": [
    "# 'Data 1', 'Data 3' 워크시트 가져오기 - 인덱스로 (결과 : dict)\n",
    "pd.read_excel(\"../../DATA/Multiple Worksheets.xlsx\", sheet_name=[0, 2])"
   ]
  },
  {
   "cell_type": "markdown",
   "id": "2742860e-f5c8-4a7c-a2b7-cadb2a27bff3",
   "metadata": {},
   "source": [
    "## 12.3.3 엑셀 통합문서 내보내기"
   ]
  },
  {
   "cell_type": "code",
   "execution_count": 32,
   "id": "6519433e-3286-46cf-bc73-daa8314807cf",
   "metadata": {},
   "outputs": [
    {
     "data": {
      "text/html": [
       "<div>\n",
       "<style scoped>\n",
       "    .dataframe tbody tr th:only-of-type {\n",
       "        vertical-align: middle;\n",
       "    }\n",
       "\n",
       "    .dataframe tbody tr th {\n",
       "        vertical-align: top;\n",
       "    }\n",
       "\n",
       "    .dataframe thead th {\n",
       "        text-align: right;\n",
       "    }\n",
       "</style>\n",
       "<table border=\"1\" class=\"dataframe\">\n",
       "  <thead>\n",
       "    <tr style=\"text-align: right;\">\n",
       "      <th></th>\n",
       "      <th>Year of Birth</th>\n",
       "      <th>Gender</th>\n",
       "      <th>Ethnicity</th>\n",
       "      <th>Child's First Name</th>\n",
       "      <th>Count</th>\n",
       "      <th>Rank</th>\n",
       "    </tr>\n",
       "  </thead>\n",
       "  <tbody>\n",
       "    <tr>\n",
       "      <th>0</th>\n",
       "      <td>2011</td>\n",
       "      <td>FEMALE</td>\n",
       "      <td>HISPANIC</td>\n",
       "      <td>GERALDINE</td>\n",
       "      <td>13</td>\n",
       "      <td>75</td>\n",
       "    </tr>\n",
       "    <tr>\n",
       "      <th>1</th>\n",
       "      <td>2011</td>\n",
       "      <td>FEMALE</td>\n",
       "      <td>HISPANIC</td>\n",
       "      <td>GIA</td>\n",
       "      <td>21</td>\n",
       "      <td>67</td>\n",
       "    </tr>\n",
       "    <tr>\n",
       "      <th>2</th>\n",
       "      <td>2011</td>\n",
       "      <td>FEMALE</td>\n",
       "      <td>HISPANIC</td>\n",
       "      <td>GIANNA</td>\n",
       "      <td>49</td>\n",
       "      <td>42</td>\n",
       "    </tr>\n",
       "    <tr>\n",
       "      <th>3</th>\n",
       "      <td>2011</td>\n",
       "      <td>FEMALE</td>\n",
       "      <td>HISPANIC</td>\n",
       "      <td>GISELLE</td>\n",
       "      <td>38</td>\n",
       "      <td>51</td>\n",
       "    </tr>\n",
       "    <tr>\n",
       "      <th>4</th>\n",
       "      <td>2011</td>\n",
       "      <td>FEMALE</td>\n",
       "      <td>HISPANIC</td>\n",
       "      <td>GRACE</td>\n",
       "      <td>36</td>\n",
       "      <td>53</td>\n",
       "    </tr>\n",
       "  </tbody>\n",
       "</table>\n",
       "</div>"
      ],
      "text/plain": [
       "   Year of Birth  Gender Ethnicity Child's First Name  Count  Rank\n",
       "0           2011  FEMALE  HISPANIC          GERALDINE     13    75\n",
       "1           2011  FEMALE  HISPANIC                GIA     21    67\n",
       "2           2011  FEMALE  HISPANIC             GIANNA     49    42\n",
       "3           2011  FEMALE  HISPANIC            GISELLE     38    51\n",
       "4           2011  FEMALE  HISPANIC              GRACE     36    53"
      ]
     },
     "execution_count": 32,
     "metadata": {},
     "output_type": "execute_result"
    }
   ],
   "source": [
    "baby_names.head()"
   ]
  },
  {
   "cell_type": "code",
   "execution_count": 33,
   "id": "b7c33a80-56a2-40ae-939c-e707ce50298d",
   "metadata": {},
   "outputs": [],
   "source": [
    "girls = baby_names[baby_names[\"Gender\"] == \"FEMALE\"]\n",
    "boys = baby_names[baby_names[\"Gender\"] == \"MALE\"]"
   ]
  },
  {
   "cell_type": "markdown",
   "id": "7f2c6a2c-7315-46e1-88ff-b4ca82be462b",
   "metadata": {},
   "source": [
    "- ExcelWriter 객체 생성, 저장"
   ]
  },
  {
   "cell_type": "code",
   "execution_count": 34,
   "id": "78e559db-05e5-41cc-85c5-159ecfe34abf",
   "metadata": {},
   "outputs": [
    {
     "data": {
      "text/plain": [
       "<pandas.io.excel._openpyxl.OpenpyxlWriter at 0x185c0fff910>"
      ]
     },
     "execution_count": 34,
     "metadata": {},
     "output_type": "execute_result"
    }
   ],
   "source": [
    "excel_file = pd.ExcelWriter(\"Baby_Names.xlsx\")\n",
    "excel_file"
   ]
  },
  {
   "cell_type": "markdown",
   "id": "33413433-b648-42cf-9048-cfb363108884",
   "metadata": {},
   "source": [
    "- DF.to_excel() 메서드에 ExcelWriter 객체 넘기기 (DataFrame에 ExcelWriter 연결하기)"
   ]
  },
  {
   "cell_type": "code",
   "execution_count": 35,
   "id": "56728015-94f8-43df-8bc8-889ddd524326",
   "metadata": {},
   "outputs": [],
   "source": [
    "# ExcelWriter 객체를 girls DataFrame 에 연결한 것\n",
    "girls.to_excel(excel_writer=excel_file, sheet_name=\"Girls\", index=False)"
   ]
  },
  {
   "cell_type": "markdown",
   "id": "55b7a4f5-810c-4856-a5b9-3fbd74a7c60e",
   "metadata": {},
   "source": [
    "- ExcelWriter 객체 종료 (동시에 저장)"
   ]
  },
  {
   "cell_type": "code",
   "execution_count": 36,
   "id": "e7cde284-e5ce-4b6e-8de2-bd46e1b7a4e3",
   "metadata": {},
   "outputs": [],
   "source": [
    "# save() 메서드는 deprecated. \n",
    "# 대신, close() 메서드를 쓰면 된다.\n",
    "excel_file.close()"
   ]
  },
  {
   "cell_type": "markdown",
   "id": "60528ddf-c9f6-45d0-8b95-0d18b40b13ef",
   "metadata": {},
   "source": [
    "## 12.4 코딩 챌린지"
   ]
  },
  {
   "cell_type": "code",
   "execution_count": 37,
   "id": "e538d29f-fdf4-4fac-a1d3-6970841d7d70",
   "metadata": {},
   "outputs": [],
   "source": [
    "tv_shows_file = \"../../DATA/tv_shows.json\""
   ]
  },
  {
   "cell_type": "code",
   "execution_count": 38,
   "id": "5fd8756e-396d-4b29-a502-2b5e4ce5db06",
   "metadata": {},
   "outputs": [
    {
     "data": {
      "text/html": [
       "<div>\n",
       "<style scoped>\n",
       "    .dataframe tbody tr th:only-of-type {\n",
       "        vertical-align: middle;\n",
       "    }\n",
       "\n",
       "    .dataframe tbody tr th {\n",
       "        vertical-align: top;\n",
       "    }\n",
       "\n",
       "    .dataframe thead th {\n",
       "        text-align: right;\n",
       "    }\n",
       "</style>\n",
       "<table border=\"1\" class=\"dataframe\">\n",
       "  <thead>\n",
       "    <tr style=\"text-align: right;\">\n",
       "      <th></th>\n",
       "      <th>shows</th>\n",
       "    </tr>\n",
       "  </thead>\n",
       "  <tbody>\n",
       "    <tr>\n",
       "      <th>0</th>\n",
       "      <td>{'show': 'The X-Files', 'runtime': 60, 'networ...</td>\n",
       "    </tr>\n",
       "    <tr>\n",
       "      <th>1</th>\n",
       "      <td>{'show': 'Lost', 'runtime': 60, 'network': 'AB...</td>\n",
       "    </tr>\n",
       "    <tr>\n",
       "      <th>2</th>\n",
       "      <td>{'show': 'Buffy the Vampire Slayer', 'runtime'...</td>\n",
       "    </tr>\n",
       "  </tbody>\n",
       "</table>\n",
       "</div>"
      ],
      "text/plain": [
       "                                               shows\n",
       "0  {'show': 'The X-Files', 'runtime': 60, 'networ...\n",
       "1  {'show': 'Lost', 'runtime': 60, 'network': 'AB...\n",
       "2  {'show': 'Buffy the Vampire Slayer', 'runtime'..."
      ]
     },
     "execution_count": 38,
     "metadata": {},
     "output_type": "execute_result"
    }
   ],
   "source": [
    "tv_shows_json = pd.read_json(tv_shows_file)\n",
    "tv_shows_json"
   ]
  },
  {
   "cell_type": "markdown",
   "id": "46055b40-c7b8-4363-8f84-1a63fc896ab4",
   "metadata": {},
   "source": [
    "1. shows 열의 각 딕셔너리에 중첩된 에피소드 데이터를 정규화하세요. 각 에피소드를 별도의 행으로 나타내는 DataFrame을 생성하세요. 각 행에는 에피소드와 관련된 메타데이터(season, episode, name, air_date)와 최상위 정보(show, runtime, network)가 포함되어야 합니다."
   ]
  },
  {
   "cell_type": "code",
   "execution_count": 43,
   "id": "840ea8b6-af4e-4645-99fc-cde934eb5119",
   "metadata": {},
   "outputs": [
    {
     "data": {
      "text/html": [
       "<div>\n",
       "<style scoped>\n",
       "    .dataframe tbody tr th:only-of-type {\n",
       "        vertical-align: middle;\n",
       "    }\n",
       "\n",
       "    .dataframe tbody tr th {\n",
       "        vertical-align: top;\n",
       "    }\n",
       "\n",
       "    .dataframe thead th {\n",
       "        text-align: right;\n",
       "    }\n",
       "</style>\n",
       "<table border=\"1\" class=\"dataframe\">\n",
       "  <thead>\n",
       "    <tr style=\"text-align: right;\">\n",
       "      <th></th>\n",
       "      <th>season</th>\n",
       "      <th>episode</th>\n",
       "      <th>name</th>\n",
       "      <th>air_date</th>\n",
       "      <th>show</th>\n",
       "      <th>runtime</th>\n",
       "      <th>network</th>\n",
       "    </tr>\n",
       "  </thead>\n",
       "  <tbody>\n",
       "    <tr>\n",
       "      <th>0</th>\n",
       "      <td>1</td>\n",
       "      <td>1</td>\n",
       "      <td>Pilot</td>\n",
       "      <td>1993-09-11 01:00:00</td>\n",
       "      <td>The X-Files</td>\n",
       "      <td>60</td>\n",
       "      <td>FOX</td>\n",
       "    </tr>\n",
       "    <tr>\n",
       "      <th>1</th>\n",
       "      <td>1</td>\n",
       "      <td>2</td>\n",
       "      <td>Deep Throat</td>\n",
       "      <td>1993-09-18 01:00:00</td>\n",
       "      <td>The X-Files</td>\n",
       "      <td>60</td>\n",
       "      <td>FOX</td>\n",
       "    </tr>\n",
       "    <tr>\n",
       "      <th>2</th>\n",
       "      <td>1</td>\n",
       "      <td>3</td>\n",
       "      <td>Squeeze</td>\n",
       "      <td>1993-09-25 01:00:00</td>\n",
       "      <td>The X-Files</td>\n",
       "      <td>60</td>\n",
       "      <td>FOX</td>\n",
       "    </tr>\n",
       "    <tr>\n",
       "      <th>3</th>\n",
       "      <td>1</td>\n",
       "      <td>4</td>\n",
       "      <td>Conduit</td>\n",
       "      <td>1993-10-02 01:00:00</td>\n",
       "      <td>The X-Files</td>\n",
       "      <td>60</td>\n",
       "      <td>FOX</td>\n",
       "    </tr>\n",
       "    <tr>\n",
       "      <th>4</th>\n",
       "      <td>1</td>\n",
       "      <td>5</td>\n",
       "      <td>The Jersey Devil</td>\n",
       "      <td>1993-10-09 01:00:00</td>\n",
       "      <td>The X-Files</td>\n",
       "      <td>60</td>\n",
       "      <td>FOX</td>\n",
       "    </tr>\n",
       "    <tr>\n",
       "      <th>...</th>\n",
       "      <td>...</td>\n",
       "      <td>...</td>\n",
       "      <td>...</td>\n",
       "      <td>...</td>\n",
       "      <td>...</td>\n",
       "      <td>...</td>\n",
       "      <td>...</td>\n",
       "    </tr>\n",
       "    <tr>\n",
       "      <th>477</th>\n",
       "      <td>7</td>\n",
       "      <td>18</td>\n",
       "      <td>Dirty Girls</td>\n",
       "      <td>2003-04-16 00:00:00</td>\n",
       "      <td>Buffy the Vampire Slayer</td>\n",
       "      <td>60</td>\n",
       "      <td>UPN</td>\n",
       "    </tr>\n",
       "    <tr>\n",
       "      <th>478</th>\n",
       "      <td>7</td>\n",
       "      <td>19</td>\n",
       "      <td>Empty Places</td>\n",
       "      <td>2003-04-30 00:00:00</td>\n",
       "      <td>Buffy the Vampire Slayer</td>\n",
       "      <td>60</td>\n",
       "      <td>UPN</td>\n",
       "    </tr>\n",
       "    <tr>\n",
       "      <th>479</th>\n",
       "      <td>7</td>\n",
       "      <td>20</td>\n",
       "      <td>Touched</td>\n",
       "      <td>2003-05-07 00:00:00</td>\n",
       "      <td>Buffy the Vampire Slayer</td>\n",
       "      <td>60</td>\n",
       "      <td>UPN</td>\n",
       "    </tr>\n",
       "    <tr>\n",
       "      <th>480</th>\n",
       "      <td>7</td>\n",
       "      <td>21</td>\n",
       "      <td>End of Days</td>\n",
       "      <td>2003-05-14 00:00:00</td>\n",
       "      <td>Buffy the Vampire Slayer</td>\n",
       "      <td>60</td>\n",
       "      <td>UPN</td>\n",
       "    </tr>\n",
       "    <tr>\n",
       "      <th>481</th>\n",
       "      <td>7</td>\n",
       "      <td>22</td>\n",
       "      <td>Chosen</td>\n",
       "      <td>2003-05-21 00:00:00</td>\n",
       "      <td>Buffy the Vampire Slayer</td>\n",
       "      <td>60</td>\n",
       "      <td>UPN</td>\n",
       "    </tr>\n",
       "  </tbody>\n",
       "</table>\n",
       "<p>482 rows × 7 columns</p>\n",
       "</div>"
      ],
      "text/plain": [
       "     season  episode              name             air_date  \\\n",
       "0         1        1             Pilot  1993-09-11 01:00:00   \n",
       "1         1        2       Deep Throat  1993-09-18 01:00:00   \n",
       "2         1        3           Squeeze  1993-09-25 01:00:00   \n",
       "3         1        4           Conduit  1993-10-02 01:00:00   \n",
       "4         1        5  The Jersey Devil  1993-10-09 01:00:00   \n",
       "..      ...      ...               ...                  ...   \n",
       "477       7       18       Dirty Girls  2003-04-16 00:00:00   \n",
       "478       7       19      Empty Places  2003-04-30 00:00:00   \n",
       "479       7       20           Touched  2003-05-07 00:00:00   \n",
       "480       7       21       End of Days  2003-05-14 00:00:00   \n",
       "481       7       22            Chosen  2003-05-21 00:00:00   \n",
       "\n",
       "                         show runtime network  \n",
       "0                 The X-Files      60     FOX  \n",
       "1                 The X-Files      60     FOX  \n",
       "2                 The X-Files      60     FOX  \n",
       "3                 The X-Files      60     FOX  \n",
       "4                 The X-Files      60     FOX  \n",
       "..                        ...     ...     ...  \n",
       "477  Buffy the Vampire Slayer      60     UPN  \n",
       "478  Buffy the Vampire Slayer      60     UPN  \n",
       "479  Buffy the Vampire Slayer      60     UPN  \n",
       "480  Buffy the Vampire Slayer      60     UPN  \n",
       "481  Buffy the Vampire Slayer      60     UPN  \n",
       "\n",
       "[482 rows x 7 columns]"
      ]
     },
     "execution_count": 43,
     "metadata": {},
     "output_type": "execute_result"
    }
   ],
   "source": [
    "tv_shows = pd.json_normalize(tv_shows_json[\"shows\"], record_path=\"episodes\", meta=[\"show\", \"runtime\", \"network\"])\n",
    "tv_shows"
   ]
  },
  {
   "cell_type": "markdown",
   "id": "8e7979a9-7d88-42f9-a666-57e1acb472b9",
   "metadata": {},
   "source": [
    "2. 정규화된 데이터셋을 각 프로그램('The X-Files', 'Lost', 'Buffy the Vampire Slayer')별로 하나씩 총 3개의 개별 DataFrame으로 필터링하세요."
   ]
  },
  {
   "cell_type": "code",
   "execution_count": 45,
   "id": "79aa3b3b-0c36-4a2b-b394-06e78a5e6e9e",
   "metadata": {},
   "outputs": [
    {
     "data": {
      "text/plain": [
       "array(['The X-Files', 'Lost', 'Buffy the Vampire Slayer'], dtype=object)"
      ]
     },
     "execution_count": 45,
     "metadata": {},
     "output_type": "execute_result"
    }
   ],
   "source": [
    "tv_shows.show.unique()"
   ]
  },
  {
   "cell_type": "code",
   "execution_count": 44,
   "id": "f76b1fc2-fd58-4e30-a100-9b4e427a3fbf",
   "metadata": {},
   "outputs": [
    {
     "data": {
      "text/html": [
       "<div>\n",
       "<style scoped>\n",
       "    .dataframe tbody tr th:only-of-type {\n",
       "        vertical-align: middle;\n",
       "    }\n",
       "\n",
       "    .dataframe tbody tr th {\n",
       "        vertical-align: top;\n",
       "    }\n",
       "\n",
       "    .dataframe thead th {\n",
       "        text-align: right;\n",
       "    }\n",
       "</style>\n",
       "<table border=\"1\" class=\"dataframe\">\n",
       "  <thead>\n",
       "    <tr style=\"text-align: right;\">\n",
       "      <th></th>\n",
       "      <th>season</th>\n",
       "      <th>episode</th>\n",
       "      <th>name</th>\n",
       "      <th>air_date</th>\n",
       "      <th>show</th>\n",
       "      <th>runtime</th>\n",
       "      <th>network</th>\n",
       "    </tr>\n",
       "  </thead>\n",
       "  <tbody>\n",
       "    <tr>\n",
       "      <th>0</th>\n",
       "      <td>1</td>\n",
       "      <td>1</td>\n",
       "      <td>Pilot</td>\n",
       "      <td>1993-09-11 01:00:00</td>\n",
       "      <td>The X-Files</td>\n",
       "      <td>60</td>\n",
       "      <td>FOX</td>\n",
       "    </tr>\n",
       "    <tr>\n",
       "      <th>1</th>\n",
       "      <td>1</td>\n",
       "      <td>2</td>\n",
       "      <td>Deep Throat</td>\n",
       "      <td>1993-09-18 01:00:00</td>\n",
       "      <td>The X-Files</td>\n",
       "      <td>60</td>\n",
       "      <td>FOX</td>\n",
       "    </tr>\n",
       "    <tr>\n",
       "      <th>2</th>\n",
       "      <td>1</td>\n",
       "      <td>3</td>\n",
       "      <td>Squeeze</td>\n",
       "      <td>1993-09-25 01:00:00</td>\n",
       "      <td>The X-Files</td>\n",
       "      <td>60</td>\n",
       "      <td>FOX</td>\n",
       "    </tr>\n",
       "    <tr>\n",
       "      <th>3</th>\n",
       "      <td>1</td>\n",
       "      <td>4</td>\n",
       "      <td>Conduit</td>\n",
       "      <td>1993-10-02 01:00:00</td>\n",
       "      <td>The X-Files</td>\n",
       "      <td>60</td>\n",
       "      <td>FOX</td>\n",
       "    </tr>\n",
       "    <tr>\n",
       "      <th>4</th>\n",
       "      <td>1</td>\n",
       "      <td>5</td>\n",
       "      <td>The Jersey Devil</td>\n",
       "      <td>1993-10-09 01:00:00</td>\n",
       "      <td>The X-Files</td>\n",
       "      <td>60</td>\n",
       "      <td>FOX</td>\n",
       "    </tr>\n",
       "    <tr>\n",
       "      <th>...</th>\n",
       "      <td>...</td>\n",
       "      <td>...</td>\n",
       "      <td>...</td>\n",
       "      <td>...</td>\n",
       "      <td>...</td>\n",
       "      <td>...</td>\n",
       "      <td>...</td>\n",
       "    </tr>\n",
       "    <tr>\n",
       "      <th>213</th>\n",
       "      <td>11</td>\n",
       "      <td>6</td>\n",
       "      <td>Kitten</td>\n",
       "      <td>2018-02-08 01:00:00</td>\n",
       "      <td>The X-Files</td>\n",
       "      <td>60</td>\n",
       "      <td>FOX</td>\n",
       "    </tr>\n",
       "    <tr>\n",
       "      <th>214</th>\n",
       "      <td>11</td>\n",
       "      <td>7</td>\n",
       "      <td>Rm9sbG93ZXJz</td>\n",
       "      <td>2018-03-01 01:00:00</td>\n",
       "      <td>The X-Files</td>\n",
       "      <td>60</td>\n",
       "      <td>FOX</td>\n",
       "    </tr>\n",
       "    <tr>\n",
       "      <th>215</th>\n",
       "      <td>11</td>\n",
       "      <td>8</td>\n",
       "      <td>Familiar</td>\n",
       "      <td>2018-03-08 01:00:00</td>\n",
       "      <td>The X-Files</td>\n",
       "      <td>60</td>\n",
       "      <td>FOX</td>\n",
       "    </tr>\n",
       "    <tr>\n",
       "      <th>216</th>\n",
       "      <td>11</td>\n",
       "      <td>9</td>\n",
       "      <td>Nothing Lasts Forever</td>\n",
       "      <td>2018-03-15 00:00:00</td>\n",
       "      <td>The X-Files</td>\n",
       "      <td>60</td>\n",
       "      <td>FOX</td>\n",
       "    </tr>\n",
       "    <tr>\n",
       "      <th>217</th>\n",
       "      <td>11</td>\n",
       "      <td>10</td>\n",
       "      <td>My Struggle IV</td>\n",
       "      <td>2018-03-22 00:00:00</td>\n",
       "      <td>The X-Files</td>\n",
       "      <td>60</td>\n",
       "      <td>FOX</td>\n",
       "    </tr>\n",
       "  </tbody>\n",
       "</table>\n",
       "<p>218 rows × 7 columns</p>\n",
       "</div>"
      ],
      "text/plain": [
       "     season  episode                   name             air_date         show  \\\n",
       "0         1        1                  Pilot  1993-09-11 01:00:00  The X-Files   \n",
       "1         1        2            Deep Throat  1993-09-18 01:00:00  The X-Files   \n",
       "2         1        3                Squeeze  1993-09-25 01:00:00  The X-Files   \n",
       "3         1        4                Conduit  1993-10-02 01:00:00  The X-Files   \n",
       "4         1        5       The Jersey Devil  1993-10-09 01:00:00  The X-Files   \n",
       "..      ...      ...                    ...                  ...          ...   \n",
       "213      11        6                 Kitten  2018-02-08 01:00:00  The X-Files   \n",
       "214      11        7           Rm9sbG93ZXJz  2018-03-01 01:00:00  The X-Files   \n",
       "215      11        8               Familiar  2018-03-08 01:00:00  The X-Files   \n",
       "216      11        9  Nothing Lasts Forever  2018-03-15 00:00:00  The X-Files   \n",
       "217      11       10         My Struggle IV  2018-03-22 00:00:00  The X-Files   \n",
       "\n",
       "    runtime network  \n",
       "0        60     FOX  \n",
       "1        60     FOX  \n",
       "2        60     FOX  \n",
       "3        60     FOX  \n",
       "4        60     FOX  \n",
       "..      ...     ...  \n",
       "213      60     FOX  \n",
       "214      60     FOX  \n",
       "215      60     FOX  \n",
       "216      60     FOX  \n",
       "217      60     FOX  \n",
       "\n",
       "[218 rows x 7 columns]"
      ]
     },
     "execution_count": 44,
     "metadata": {},
     "output_type": "execute_result"
    }
   ],
   "source": [
    "xFiles = tv_shows[tv_shows[\"show\"] == \"The X-Files\"]\n",
    "xFiles"
   ]
  },
  {
   "cell_type": "code",
   "execution_count": 46,
   "id": "3076f3c0-c2fa-4357-b397-0dcebeaca147",
   "metadata": {},
   "outputs": [
    {
     "data": {
      "text/html": [
       "<div>\n",
       "<style scoped>\n",
       "    .dataframe tbody tr th:only-of-type {\n",
       "        vertical-align: middle;\n",
       "    }\n",
       "\n",
       "    .dataframe tbody tr th {\n",
       "        vertical-align: top;\n",
       "    }\n",
       "\n",
       "    .dataframe thead th {\n",
       "        text-align: right;\n",
       "    }\n",
       "</style>\n",
       "<table border=\"1\" class=\"dataframe\">\n",
       "  <thead>\n",
       "    <tr style=\"text-align: right;\">\n",
       "      <th></th>\n",
       "      <th>season</th>\n",
       "      <th>episode</th>\n",
       "      <th>name</th>\n",
       "      <th>air_date</th>\n",
       "      <th>show</th>\n",
       "      <th>runtime</th>\n",
       "      <th>network</th>\n",
       "    </tr>\n",
       "  </thead>\n",
       "  <tbody>\n",
       "    <tr>\n",
       "      <th>218</th>\n",
       "      <td>1</td>\n",
       "      <td>1</td>\n",
       "      <td>Pilot (1)</td>\n",
       "      <td>2004-09-23 00:00:00</td>\n",
       "      <td>Lost</td>\n",
       "      <td>60</td>\n",
       "      <td>ABC</td>\n",
       "    </tr>\n",
       "    <tr>\n",
       "      <th>219</th>\n",
       "      <td>1</td>\n",
       "      <td>2</td>\n",
       "      <td>Pilot (2)</td>\n",
       "      <td>2004-09-30 00:00:00</td>\n",
       "      <td>Lost</td>\n",
       "      <td>60</td>\n",
       "      <td>ABC</td>\n",
       "    </tr>\n",
       "    <tr>\n",
       "      <th>220</th>\n",
       "      <td>1</td>\n",
       "      <td>3</td>\n",
       "      <td>Tabula Rasa</td>\n",
       "      <td>2004-10-07 00:00:00</td>\n",
       "      <td>Lost</td>\n",
       "      <td>60</td>\n",
       "      <td>ABC</td>\n",
       "    </tr>\n",
       "    <tr>\n",
       "      <th>221</th>\n",
       "      <td>1</td>\n",
       "      <td>4</td>\n",
       "      <td>Walkabout</td>\n",
       "      <td>2004-10-14 00:00:00</td>\n",
       "      <td>Lost</td>\n",
       "      <td>60</td>\n",
       "      <td>ABC</td>\n",
       "    </tr>\n",
       "    <tr>\n",
       "      <th>222</th>\n",
       "      <td>1</td>\n",
       "      <td>5</td>\n",
       "      <td>White Rabbit</td>\n",
       "      <td>2004-10-21 00:00:00</td>\n",
       "      <td>Lost</td>\n",
       "      <td>60</td>\n",
       "      <td>ABC</td>\n",
       "    </tr>\n",
       "    <tr>\n",
       "      <th>...</th>\n",
       "      <td>...</td>\n",
       "      <td>...</td>\n",
       "      <td>...</td>\n",
       "      <td>...</td>\n",
       "      <td>...</td>\n",
       "      <td>...</td>\n",
       "      <td>...</td>\n",
       "    </tr>\n",
       "    <tr>\n",
       "      <th>334</th>\n",
       "      <td>6</td>\n",
       "      <td>14</td>\n",
       "      <td>The Candidate</td>\n",
       "      <td>2010-05-05 01:00:00</td>\n",
       "      <td>Lost</td>\n",
       "      <td>60</td>\n",
       "      <td>ABC</td>\n",
       "    </tr>\n",
       "    <tr>\n",
       "      <th>335</th>\n",
       "      <td>6</td>\n",
       "      <td>15</td>\n",
       "      <td>Across the Sea</td>\n",
       "      <td>2010-05-12 01:00:00</td>\n",
       "      <td>Lost</td>\n",
       "      <td>60</td>\n",
       "      <td>ABC</td>\n",
       "    </tr>\n",
       "    <tr>\n",
       "      <th>336</th>\n",
       "      <td>6</td>\n",
       "      <td>16</td>\n",
       "      <td>What They Died For</td>\n",
       "      <td>2010-05-19 01:00:00</td>\n",
       "      <td>Lost</td>\n",
       "      <td>60</td>\n",
       "      <td>ABC</td>\n",
       "    </tr>\n",
       "    <tr>\n",
       "      <th>337</th>\n",
       "      <td>6</td>\n",
       "      <td>17</td>\n",
       "      <td>The End (1)</td>\n",
       "      <td>2010-05-24 01:00:00</td>\n",
       "      <td>Lost</td>\n",
       "      <td>60</td>\n",
       "      <td>ABC</td>\n",
       "    </tr>\n",
       "    <tr>\n",
       "      <th>338</th>\n",
       "      <td>6</td>\n",
       "      <td>18</td>\n",
       "      <td>The End (2)</td>\n",
       "      <td>2010-05-24 01:00:00</td>\n",
       "      <td>Lost</td>\n",
       "      <td>60</td>\n",
       "      <td>ABC</td>\n",
       "    </tr>\n",
       "  </tbody>\n",
       "</table>\n",
       "<p>121 rows × 7 columns</p>\n",
       "</div>"
      ],
      "text/plain": [
       "     season  episode                name             air_date  show runtime  \\\n",
       "218       1        1           Pilot (1)  2004-09-23 00:00:00  Lost      60   \n",
       "219       1        2           Pilot (2)  2004-09-30 00:00:00  Lost      60   \n",
       "220       1        3         Tabula Rasa  2004-10-07 00:00:00  Lost      60   \n",
       "221       1        4           Walkabout  2004-10-14 00:00:00  Lost      60   \n",
       "222       1        5        White Rabbit  2004-10-21 00:00:00  Lost      60   \n",
       "..      ...      ...                 ...                  ...   ...     ...   \n",
       "334       6       14       The Candidate  2010-05-05 01:00:00  Lost      60   \n",
       "335       6       15      Across the Sea  2010-05-12 01:00:00  Lost      60   \n",
       "336       6       16  What They Died For  2010-05-19 01:00:00  Lost      60   \n",
       "337       6       17         The End (1)  2010-05-24 01:00:00  Lost      60   \n",
       "338       6       18         The End (2)  2010-05-24 01:00:00  Lost      60   \n",
       "\n",
       "    network  \n",
       "218     ABC  \n",
       "219     ABC  \n",
       "220     ABC  \n",
       "221     ABC  \n",
       "222     ABC  \n",
       "..      ...  \n",
       "334     ABC  \n",
       "335     ABC  \n",
       "336     ABC  \n",
       "337     ABC  \n",
       "338     ABC  \n",
       "\n",
       "[121 rows x 7 columns]"
      ]
     },
     "execution_count": 46,
     "metadata": {},
     "output_type": "execute_result"
    }
   ],
   "source": [
    "lost = tv_shows[tv_shows[\"show\"] == \"Lost\"]\n",
    "lost"
   ]
  },
  {
   "cell_type": "code",
   "execution_count": 47,
   "id": "35180904-efdd-4c88-82de-d2f9df2491f1",
   "metadata": {},
   "outputs": [
    {
     "data": {
      "text/html": [
       "<div>\n",
       "<style scoped>\n",
       "    .dataframe tbody tr th:only-of-type {\n",
       "        vertical-align: middle;\n",
       "    }\n",
       "\n",
       "    .dataframe tbody tr th {\n",
       "        vertical-align: top;\n",
       "    }\n",
       "\n",
       "    .dataframe thead th {\n",
       "        text-align: right;\n",
       "    }\n",
       "</style>\n",
       "<table border=\"1\" class=\"dataframe\">\n",
       "  <thead>\n",
       "    <tr style=\"text-align: right;\">\n",
       "      <th></th>\n",
       "      <th>season</th>\n",
       "      <th>episode</th>\n",
       "      <th>name</th>\n",
       "      <th>air_date</th>\n",
       "      <th>show</th>\n",
       "      <th>runtime</th>\n",
       "      <th>network</th>\n",
       "    </tr>\n",
       "  </thead>\n",
       "  <tbody>\n",
       "    <tr>\n",
       "      <th>339</th>\n",
       "      <td>1</td>\n",
       "      <td>1</td>\n",
       "      <td>Welcome to the Hellmouth</td>\n",
       "      <td>1997-03-11 01:00:00</td>\n",
       "      <td>Buffy the Vampire Slayer</td>\n",
       "      <td>60</td>\n",
       "      <td>UPN</td>\n",
       "    </tr>\n",
       "    <tr>\n",
       "      <th>340</th>\n",
       "      <td>1</td>\n",
       "      <td>2</td>\n",
       "      <td>The Harvest</td>\n",
       "      <td>1997-03-11 01:00:00</td>\n",
       "      <td>Buffy the Vampire Slayer</td>\n",
       "      <td>60</td>\n",
       "      <td>UPN</td>\n",
       "    </tr>\n",
       "    <tr>\n",
       "      <th>341</th>\n",
       "      <td>1</td>\n",
       "      <td>3</td>\n",
       "      <td>Witch</td>\n",
       "      <td>1997-03-18 01:00:00</td>\n",
       "      <td>Buffy the Vampire Slayer</td>\n",
       "      <td>60</td>\n",
       "      <td>UPN</td>\n",
       "    </tr>\n",
       "    <tr>\n",
       "      <th>342</th>\n",
       "      <td>1</td>\n",
       "      <td>4</td>\n",
       "      <td>Teacher's Pet</td>\n",
       "      <td>1997-03-26 01:00:00</td>\n",
       "      <td>Buffy the Vampire Slayer</td>\n",
       "      <td>60</td>\n",
       "      <td>UPN</td>\n",
       "    </tr>\n",
       "    <tr>\n",
       "      <th>343</th>\n",
       "      <td>1</td>\n",
       "      <td>5</td>\n",
       "      <td>Never Kill a Boy on the First Date</td>\n",
       "      <td>1997-04-01 01:00:00</td>\n",
       "      <td>Buffy the Vampire Slayer</td>\n",
       "      <td>60</td>\n",
       "      <td>UPN</td>\n",
       "    </tr>\n",
       "    <tr>\n",
       "      <th>...</th>\n",
       "      <td>...</td>\n",
       "      <td>...</td>\n",
       "      <td>...</td>\n",
       "      <td>...</td>\n",
       "      <td>...</td>\n",
       "      <td>...</td>\n",
       "      <td>...</td>\n",
       "    </tr>\n",
       "    <tr>\n",
       "      <th>477</th>\n",
       "      <td>7</td>\n",
       "      <td>18</td>\n",
       "      <td>Dirty Girls</td>\n",
       "      <td>2003-04-16 00:00:00</td>\n",
       "      <td>Buffy the Vampire Slayer</td>\n",
       "      <td>60</td>\n",
       "      <td>UPN</td>\n",
       "    </tr>\n",
       "    <tr>\n",
       "      <th>478</th>\n",
       "      <td>7</td>\n",
       "      <td>19</td>\n",
       "      <td>Empty Places</td>\n",
       "      <td>2003-04-30 00:00:00</td>\n",
       "      <td>Buffy the Vampire Slayer</td>\n",
       "      <td>60</td>\n",
       "      <td>UPN</td>\n",
       "    </tr>\n",
       "    <tr>\n",
       "      <th>479</th>\n",
       "      <td>7</td>\n",
       "      <td>20</td>\n",
       "      <td>Touched</td>\n",
       "      <td>2003-05-07 00:00:00</td>\n",
       "      <td>Buffy the Vampire Slayer</td>\n",
       "      <td>60</td>\n",
       "      <td>UPN</td>\n",
       "    </tr>\n",
       "    <tr>\n",
       "      <th>480</th>\n",
       "      <td>7</td>\n",
       "      <td>21</td>\n",
       "      <td>End of Days</td>\n",
       "      <td>2003-05-14 00:00:00</td>\n",
       "      <td>Buffy the Vampire Slayer</td>\n",
       "      <td>60</td>\n",
       "      <td>UPN</td>\n",
       "    </tr>\n",
       "    <tr>\n",
       "      <th>481</th>\n",
       "      <td>7</td>\n",
       "      <td>22</td>\n",
       "      <td>Chosen</td>\n",
       "      <td>2003-05-21 00:00:00</td>\n",
       "      <td>Buffy the Vampire Slayer</td>\n",
       "      <td>60</td>\n",
       "      <td>UPN</td>\n",
       "    </tr>\n",
       "  </tbody>\n",
       "</table>\n",
       "<p>143 rows × 7 columns</p>\n",
       "</div>"
      ],
      "text/plain": [
       "     season  episode                                name             air_date  \\\n",
       "339       1        1            Welcome to the Hellmouth  1997-03-11 01:00:00   \n",
       "340       1        2                         The Harvest  1997-03-11 01:00:00   \n",
       "341       1        3                               Witch  1997-03-18 01:00:00   \n",
       "342       1        4                       Teacher's Pet  1997-03-26 01:00:00   \n",
       "343       1        5  Never Kill a Boy on the First Date  1997-04-01 01:00:00   \n",
       "..      ...      ...                                 ...                  ...   \n",
       "477       7       18                         Dirty Girls  2003-04-16 00:00:00   \n",
       "478       7       19                        Empty Places  2003-04-30 00:00:00   \n",
       "479       7       20                             Touched  2003-05-07 00:00:00   \n",
       "480       7       21                         End of Days  2003-05-14 00:00:00   \n",
       "481       7       22                              Chosen  2003-05-21 00:00:00   \n",
       "\n",
       "                         show runtime network  \n",
       "339  Buffy the Vampire Slayer      60     UPN  \n",
       "340  Buffy the Vampire Slayer      60     UPN  \n",
       "341  Buffy the Vampire Slayer      60     UPN  \n",
       "342  Buffy the Vampire Slayer      60     UPN  \n",
       "343  Buffy the Vampire Slayer      60     UPN  \n",
       "..                        ...     ...     ...  \n",
       "477  Buffy the Vampire Slayer      60     UPN  \n",
       "478  Buffy the Vampire Slayer      60     UPN  \n",
       "479  Buffy the Vampire Slayer      60     UPN  \n",
       "480  Buffy the Vampire Slayer      60     UPN  \n",
       "481  Buffy the Vampire Slayer      60     UPN  \n",
       "\n",
       "[143 rows x 7 columns]"
      ]
     },
     "execution_count": 47,
     "metadata": {},
     "output_type": "execute_result"
    }
   ],
   "source": [
    "buffy = tv_shows[tv_shows[\"show\"] == \"Buffy the Vampire Slayer\"]\n",
    "buffy"
   ]
  },
  {
   "cell_type": "code",
   "execution_count": 48,
   "id": "3d450954-201d-41af-915e-2a5623cbdc34",
   "metadata": {},
   "outputs": [
    {
     "data": {
      "text/plain": [
       "pandas.core.frame.DataFrame"
      ]
     },
     "execution_count": 48,
     "metadata": {},
     "output_type": "execute_result"
    }
   ],
   "source": [
    "type(buffy)"
   ]
  },
  {
   "cell_type": "markdown",
   "id": "078228c1-961f-4ac1-ba5d-8d795837549f",
   "metadata": {},
   "source": [
    "3. 3개의 DataFrame을 episode.xlsx 엑셀 통합문서로 작성하고 각 TV 프로그램의 에피소드 데이터를 별도의 워크시트에 저장하세요.  \n",
    "   이때 워크시트의 이름은 자유롭게 설정하세요."
   ]
  },
  {
   "cell_type": "code",
   "execution_count": null,
   "id": "25bb6b72-483e-429f-ad9e-1e113bde956f",
   "metadata": {},
   "outputs": [],
   "source": []
  }
 ],
 "metadata": {
  "kernelspec": {
   "display_name": "Python 3 (ipykernel)",
   "language": "python",
   "name": "python3"
  },
  "language_info": {
   "codemirror_mode": {
    "name": "ipython",
    "version": 3
   },
   "file_extension": ".py",
   "mimetype": "text/x-python",
   "name": "python",
   "nbconvert_exporter": "python",
   "pygments_lexer": "ipython3",
   "version": "3.8.18"
  }
 },
 "nbformat": 4,
 "nbformat_minor": 5
}
